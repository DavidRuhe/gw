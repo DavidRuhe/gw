{
 "cells": [
  {
   "cell_type": "code",
   "execution_count": 48,
   "id": "785dcea0",
   "metadata": {},
   "outputs": [],
   "source": [
    "import numpy as np\n",
    "\n",
    "x = np.linspace(-32, 32)\n",
    "\n",
    "w_q = np.cos(x) + 1\n",
    "\n",
    "w_p = np.sin(x) + 1\n",
    "\n",
    "f = x ** 2\n",
    "\n",
    "w_q /= w_q.sum()\n",
    "w_p /= (w_p.sum())"
   ]
  },
  {
   "cell_type": "code",
   "execution_count": 53,
   "id": "5cfc46e7",
   "metadata": {},
   "outputs": [
    {
     "data": {
      "text/plain": [
       "377.23515741808586"
      ]
     },
     "execution_count": 53,
     "metadata": {},
     "output_type": "execute_result"
    }
   ],
   "source": [
    "np.sum(f * w_q)"
   ]
  },
  {
   "cell_type": "code",
   "execution_count": null,
   "id": "abec10fd",
   "metadata": {},
   "outputs": [],
   "source": []
  },
  {
   "cell_type": "code",
   "execution_count": 54,
   "id": "f3ff0946",
   "metadata": {},
   "outputs": [
    {
     "data": {
      "text/plain": [
       "355.26530612244886"
      ]
     },
     "execution_count": 54,
     "metadata": {},
     "output_type": "execute_result"
    }
   ],
   "source": [
    "np.sum(f * w_p)"
   ]
  },
  {
   "cell_type": "code",
   "execution_count": 7,
   "id": "d2563f35",
   "metadata": {},
   "outputs": [],
   "source": []
  },
  {
   "cell_type": "code",
   "execution_count": 5,
   "id": "1292f936",
   "metadata": {},
   "outputs": [
    {
     "ename": "NameError",
     "evalue": "name 'dist' is not defined",
     "output_type": "error",
     "traceback": [
      "\u001b[0;31m---------------------------------------------------------------------------\u001b[0m",
      "\u001b[0;31mNameError\u001b[0m                                 Traceback (most recent call last)",
      "Input \u001b[0;32mIn [5]\u001b[0m, in \u001b[0;36m<cell line: 1>\u001b[0;34m()\u001b[0m\n\u001b[0;32m----> 1\u001b[0m base_dist \u001b[38;5;241m=\u001b[39m \u001b[43mdist\u001b[49m\u001b[38;5;241m.\u001b[39mNormal(torch\u001b[38;5;241m.\u001b[39mzeros(\u001b[38;5;241m2\u001b[39m), torch\u001b[38;5;241m.\u001b[39mones(\u001b[38;5;241m2\u001b[39m))\n\u001b[1;32m      2\u001b[0m spline_transform \u001b[38;5;241m=\u001b[39m T\u001b[38;5;241m.\u001b[39mspline_coupling(\u001b[38;5;241m2\u001b[39m, count_bins\u001b[38;5;241m=\u001b[39m\u001b[38;5;241m16\u001b[39m)\n\u001b[1;32m      3\u001b[0m flow_dist \u001b[38;5;241m=\u001b[39m dist\u001b[38;5;241m.\u001b[39mTransformedDistribution(base_dist, [spline_transform])\n",
      "\u001b[0;31mNameError\u001b[0m: name 'dist' is not defined"
     ]
    }
   ],
   "source": [
    "base_dist = dist.Normal(torch.zeros(2), torch.ones(2))\n",
    "# spline_transform = T.spline_coupling(2, count_bins=16)\n",
    "spline_transform = T.Spline()\n",
    "flow_dist = dist.TransformedDistribution(base_dist, [spline_transform])\n"
   ]
  },
  {
   "cell_type": "code",
   "execution_count": 6,
   "id": "8ca59f3d",
   "metadata": {},
   "outputs": [
    {
     "ename": "NameError",
     "evalue": "name 'smoke_test' is not defined",
     "output_type": "error",
     "traceback": [
      "\u001b[0;31m---------------------------------------------------------------------------\u001b[0m",
      "\u001b[0;31mNameError\u001b[0m                                 Traceback (most recent call last)",
      "Input \u001b[0;32mIn [6]\u001b[0m, in \u001b[0;36m<cell line: 1>\u001b[0;34m()\u001b[0m\n\u001b[0;32m----> 1\u001b[0m steps \u001b[38;5;241m=\u001b[39m \u001b[38;5;241m1\u001b[39m \u001b[38;5;28;01mif\u001b[39;00m \u001b[43msmoke_test\u001b[49m \u001b[38;5;28;01melse\u001b[39;00m \u001b[38;5;241m5001\u001b[39m\n\u001b[1;32m      2\u001b[0m dataset \u001b[38;5;241m=\u001b[39m torch\u001b[38;5;241m.\u001b[39mtensor(X, dtype\u001b[38;5;241m=\u001b[39mtorch\u001b[38;5;241m.\u001b[39mfloat)\n\u001b[1;32m      3\u001b[0m optimizer \u001b[38;5;241m=\u001b[39m torch\u001b[38;5;241m.\u001b[39moptim\u001b[38;5;241m.\u001b[39mAdam(spline_transform\u001b[38;5;241m.\u001b[39mparameters(), lr\u001b[38;5;241m=\u001b[39m\u001b[38;5;241m5e-3\u001b[39m)\n",
      "\u001b[0;31mNameError\u001b[0m: name 'smoke_test' is not defined"
     ]
    }
   ],
   "source": [
    "steps = 1 if smoke_test else 5001\n",
    "dataset = torch.tensor(X, dtype=torch.float)\n",
    "optimizer = torch.optim.Adam(spline_transform.parameters(), lr=5e-3)\n",
    "for step in range(steps+1):\n",
    "    optimizer.zero_grad()\n",
    "    loss = -flow_dist.log_prob(dataset).mean()\n",
    "    loss.backward()\n",
    "    optimizer.step()\n",
    "    flow_dist.clear_cache()\n",
    "\n",
    "    if step % 500 == 0:\n",
    "        print('step: {}, loss: {}'.format(step, loss.item()))\n"
   ]
  },
  {
   "cell_type": "code",
   "execution_count": null,
   "id": "e40629d5",
   "metadata": {},
   "outputs": [],
   "source": []
  }
 ],
 "metadata": {
  "kernelspec": {
   "display_name": "Python 3 (ipykernel)",
   "language": "python",
   "name": "python3"
  },
  "language_info": {
   "codemirror_mode": {
    "name": "ipython",
    "version": 3
   },
   "file_extension": ".py",
   "mimetype": "text/x-python",
   "name": "python",
   "nbconvert_exporter": "python",
   "pygments_lexer": "ipython3",
   "version": "3.9.13"
  }
 },
 "nbformat": 4,
 "nbformat_minor": 5
}
