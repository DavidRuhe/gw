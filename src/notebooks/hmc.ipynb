{
 "cells": [
  {
   "cell_type": "code",
   "execution_count": 4,
   "id": "9f613e05",
   "metadata": {},
   "outputs": [
    {
     "name": "stdout",
     "output_type": "stream",
     "text": [
      "The autoreload extension is already loaded. To reload it, use:\n",
      "  %reload_ext autoreload\n"
     ]
    }
   ],
   "source": [
    "%load_ext autoreload\n",
    "%autoreload 2"
   ]
  },
  {
   "cell_type": "code",
   "execution_count": 6,
   "id": "faa32b5d",
   "metadata": {},
   "outputs": [],
   "source": [
    "import wandb\n",
    "import tempfile\n",
    "import os\n",
    "from models.normalizing_flow import HierarchicalNormalizingFlowSB\n",
    "import numpy as np\n",
    "import torch\n",
    "import matplotlib.pyplot as plt\n",
    "from torch import nn\n"
   ]
  },
  {
   "cell_type": "code",
   "execution_count": 7,
   "id": "c6fd31fd",
   "metadata": {},
   "outputs": [],
   "source": [
    "from train_flow_sb import unflatten, object_from_config"
   ]
  },
  {
   "cell_type": "code",
   "execution_count": 8,
   "id": "442ebcdb",
   "metadata": {},
   "outputs": [],
   "source": [
    "api = wandb.Api()"
   ]
  },
  {
   "cell_type": "code",
   "execution_count": 9,
   "id": "b5421c39",
   "metadata": {},
   "outputs": [],
   "source": [
    "run = api.run('druhe/gw-src/16pgb80c')"
   ]
  },
  {
   "cell_type": "code",
   "execution_count": 10,
   "id": "57cfc620",
   "metadata": {},
   "outputs": [],
   "source": [
    "config = unflatten(run.config)"
   ]
  },
  {
   "cell_type": "code",
   "execution_count": 11,
   "id": "b81b5eab",
   "metadata": {},
   "outputs": [],
   "source": [
    "dataset = object_from_config(config, key='dataset')(**config['dataset'])"
   ]
  },
  {
   "cell_type": "code",
   "execution_count": 12,
   "id": "44842d3a",
   "metadata": {},
   "outputs": [],
   "source": [
    "sb_weight = config['model']['sb_weight']"
   ]
  },
  {
   "cell_type": "code",
   "execution_count": 13,
   "id": "302b7395",
   "metadata": {},
   "outputs": [],
   "source": [
    "flows = object_from_config(config, key='flow')(**config['flow'])"
   ]
  },
  {
   "cell_type": "code",
   "execution_count": 14,
   "id": "292ddfda",
   "metadata": {},
   "outputs": [],
   "source": [
    "checkpoints = [f for f in run.files() if f.name.endswith('.ckpt')]"
   ]
  },
  {
   "cell_type": "code",
   "execution_count": 15,
   "id": "5334d261",
   "metadata": {},
   "outputs": [],
   "source": [
    "tempdir = tempfile.TemporaryDirectory()"
   ]
  },
  {
   "cell_type": "code",
   "execution_count": 16,
   "id": "475358c2",
   "metadata": {},
   "outputs": [],
   "source": [
    "ckpt = checkpoints[0]"
   ]
  },
  {
   "cell_type": "code",
   "execution_count": 17,
   "id": "2e70c7b5",
   "metadata": {},
   "outputs": [],
   "source": [
    "ckpt_path = ckpt.download(root=tempdir.name, replace=True)"
   ]
  },
  {
   "cell_type": "code",
   "execution_count": 18,
   "id": "d839593e",
   "metadata": {},
   "outputs": [
    {
     "name": "stderr",
     "output_type": "stream",
     "text": [
      "INFO:torch.distributed.nn.jit.instantiator:Created a temporary directory at /var/folders/d3/x840qlg17x1f92cnsrkq62fw0000gn/T/tmpyjjfl7ap\n",
      "INFO:torch.distributed.nn.jit.instantiator:Writing /var/folders/d3/x840qlg17x1f92cnsrkq62fw0000gn/T/tmpyjjfl7ap/_remote_module_non_sriptable.py\n"
     ]
    }
   ],
   "source": [
    "model = HierarchicalNormalizingFlowSB.load_from_checkpoint(ckpt_path.name, dataset=dataset, sb_weight=sb_weight, flows=flows)"
   ]
  },
  {
   "cell_type": "code",
   "execution_count": 21,
   "id": "1e1537b1",
   "metadata": {
    "scrolled": false
   },
   "outputs": [
    {
     "data": {
      "image/png": "[encoded data removed]",
      "text/plain": [
       "<Figure size 1152x1152 with 1 Axes>"
      ]
     },
     "metadata": {},
     "output_type": "display_data"
    }
   ],
   "source": [
    "with torch.no_grad():\n",
    "    axes_names = []\n",
    "    axes = []\n",
    "\n",
    "    for n, ax in dataset.grid.items():\n",
    "        axes_names.append(n)\n",
    "        axes.append(ax)\n",
    "\n",
    "    m1, m2, z = np.stack(np.meshgrid(*axes, indexing=\"xy\")).reshape(3, -1)\n",
    "\n",
    "    if dataset.has_normalization:\n",
    "        raise NotImplementedError\n",
    "        x, y = dataset.normalize_forward(x, y)\n",
    "\n",
    "    resolutions = [len(ax) for ax in axes]\n",
    "\n",
    "    input = np.stack([m1, m2, z], axis=-1)\n",
    "    input = torch.from_numpy(input).float()\n",
    "    prob = model.log_prob(input).exp().view(*resolutions)\n",
    "\n",
    "    pm1m2 = prob.sum(-1)\n",
    "\n",
    "    fig = plt.figure(figsize=(16, 16), facecolor=\"white\")\n",
    "    plt.imshow(\n",
    "        pm1m2,\n",
    "        cmap=\"jet\",\n",
    "        origin=\"lower\",\n",
    "        extent=(\n",
    "            axes[0][0],\n",
    "            axes[0][-1],\n",
    "            axes[1][0],\n",
    "            axes[1][-1],\n",
    "        ),  # origin='lower' changes the order\n",
    "        aspect=\"auto\",\n",
    "    )\n",
    "\n",
    "    plt.xlabel(axes_names[0])  # origin='lower' changes the order\n",
    "    plt.ylabel(axes_names[1])\n",
    "    plt.tight_layout()\n",
    "\n"
   ]
  },
  {
   "cell_type": "code",
   "execution_count": 22,
   "id": "6b72d03d",
   "metadata": {},
   "outputs": [
    {
     "name": "stdout",
     "output_type": "stream",
     "text": [
      "Sampling (Sampler.HMC; Integrator.IMPLICIT)\n",
      "Time spent  | Time remain.| Progress             | Samples   | Samples/sec\n",
      "Final Adapted Step Size:  0.6456695795059204---- |  464/2548 | 184.05       \n",
      "0d:00:00:14 | 0d:00:00:00 | #################### | 2548/2548 | 180.91       \n",
      "Acceptance Rate 0.86\n"
     ]
    }
   ],
   "source": [
    "import hamiltorch\n",
    "def log_prob(omega):\n",
    "    mean = torch.tensor([0.,0.,0.])\n",
    "    stddev = torch.tensor([.5,1.,2.]) \n",
    "    return torch.distributions.MultivariateNormal(mean, torch.diag(stddev**2)).log_prob(omega).sum()\n",
    "\n",
    "L = 5\n",
    "step_size = .3\n",
    "N = 2048\n",
    "\n",
    "hamiltorch.set_random_seed(123)\n",
    "params_init = torch.zeros(3) + 5\n",
    "burn=500\n",
    "N_nuts = burn + N\n",
    "params_hmc_nuts = hamiltorch.sample(log_prob_func=log_prob, params_init=params_init,\n",
    "                                                  num_samples=N_nuts,step_size=step_size,num_steps_per_sample=L,\n",
    "                                                  sampler=hamiltorch.Sampler.HMC_NUTS, burn=burn,\n",
    "                                                  desired_accept_rate=0.8)\n"
   ]
  },
  {
   "cell_type": "code",
   "execution_count": 36,
   "id": "bb4e89d7",
   "metadata": {},
   "outputs": [],
   "source": [
    "def log_prob(x):\n",
    "    x = x[None]\n",
    "    return model.log_prob(x).sum()"
   ]
  },
  {
   "cell_type": "code",
   "execution_count": 37,
   "id": "e908e008",
   "metadata": {},
   "outputs": [],
   "source": [
    "v, _ = input.median(dim=0)"
   ]
  },
  {
   "cell_type": "code",
   "execution_count": 38,
   "id": "0a4ffef1",
   "metadata": {},
   "outputs": [
    {
     "data": {
      "text/plain": [
       "tensor(-12.8418, dtype=torch.float64, grad_fn=<SumBackward0>)"
      ]
     },
     "execution_count": 38,
     "metadata": {},
     "output_type": "execute_result"
    }
   ],
   "source": [
    "log_prob(v)"
   ]
  },
  {
   "cell_type": "code",
   "execution_count": 39,
   "id": "0acdc3ec",
   "metadata": {
    "scrolled": false
   },
   "outputs": [
    {
     "name": "stdout",
     "output_type": "stream",
     "text": [
      "Sampling (Sampler.HMC; Integrator.IMPLICIT)\n",
      "Time spent  | Time remain.| Progress             | Samples   | Samples/sec\n",
      "Invalid log_prob: nan, params: tensor([24.7223, 31.5556, 61.0290], requires_grad=True)\n",
      "Invalid log_prob: nan, params: tensor([-2.3052e+05,  3.0446e+05,  1.2409e+02], requires_grad=True)\n",
      "Invalid log_prob: nan, params: tensor([55.0121, 18.4777, 71.2042], requires_grad=True)\n",
      "Invalid log_prob: nan, params: tensor([40.8461, 38.2147, 48.6447], requires_grad=True)\n",
      "Invalid log_prob: nan, params: tensor([61.6124, 39.8568,     nan], requires_grad=True)\n",
      "Invalid log_prob: nan, params: tensor([ 121843.6250, -129401.3047,          nan], requires_grad=True)\n",
      "Invalid log_prob: nan, params: tensor([59.6905, 46.1356, -0.2148], requires_grad=True)\n",
      "Invalid log_prob: nan, params: tensor([  32.0512,   25.7173, 1185.4979], requires_grad=True)\n",
      "Invalid log_prob: nan, params: tensor([ 37.2402,  34.3677, 102.9826], requires_grad=True)\n",
      "Invalid log_prob: nan, params: tensor([43.4949, 37.1488, 55.0826], requires_grad=True)\n",
      "Invalid log_prob: nan, params: tensor([ 48.4650,  40.8678, 241.9235], requires_grad=True)\n",
      "Invalid log_prob: nan, params: tensor([ 57.6726,  37.0663, 541.5151], requires_grad=True)\n",
      "Invalid log_prob: nan, params: tensor([ 26.8012,  25.9209, 763.2341], requires_grad=True)\n",
      "Invalid log_prob: nan, params: tensor([ 45.3035,  37.2736, 254.0032], requires_grad=True)\n",
      "Invalid log_prob: nan, params: tensor([12.7437,  6.7184, 32.9575], requires_grad=True)\n",
      "Invalid log_prob: nan, params: tensor([31.9206, 26.1103, -3.2454], requires_grad=True)\n",
      "Invalid log_prob: nan, params: tensor([11.0686, 22.7648,     nan], requires_grad=True)\n",
      "Invalid log_prob: nan, params: tensor([42.7026, 41.5038, 68.9254], requires_grad=True)\n",
      "Invalid log_prob: nan, params: tensor([18.6296, 12.7718, -4.9669], requires_grad=True)\n",
      "Invalid log_prob: nan, params: tensor([120.5828, -82.3136,  56.2488], requires_grad=True)\n",
      "Invalid log_prob: nan, params: tensor([40.8440, 33.3683, 67.8215], requires_grad=True)\n",
      "Invalid log_prob: nan, params: tensor([35.0153, 33.0589, 61.0700], requires_grad=True)\n",
      "Invalid log_prob: nan, params: tensor([40.4604, 38.3891, 31.7110], requires_grad=True)\n",
      "Final Adapted Step Size:  1.8185529708862305\n",
      "Invalid log_prob: nan, params: tensor([11.6360,  8.6321, 55.5587], requires_grad=True)\n",
      "Invalid log_prob: nan, params: tensor([15.7991, 12.2899, 76.0415], requires_grad=True)\n",
      "Invalid log_prob: nan, params: tensor([57.6061, 40.0979,     nan], requires_grad=True)\n",
      "Invalid log_prob: nan, params: tensor([ 29.7768,  26.7280, 453.1313], requires_grad=True)\n",
      "Invalid log_prob: nan, params: tensor([62.1527, 45.5848, 42.2318], requires_grad=True)\n",
      "Invalid log_prob: nan, params: tensor([  47.1336,   28.2232, 1122.5197], requires_grad=True)\n",
      "Invalid log_prob: nan, params: tensor([ 17.9042,  12.1087, 228.0589], requires_grad=True)\n",
      "Invalid log_prob: nan, params: tensor([38.0174, 32.8301, 21.1280], requires_grad=True)\n",
      "Invalid log_prob: nan, params: tensor([40.2492, 39.0698,     nan], requires_grad=True)\n",
      "Invalid log_prob: nan, params: tensor([47.6746, 36.5745, 50.3887], requires_grad=True)\n",
      "Invalid log_prob: nan, params: tensor([ 18.3047,  13.3726, 119.5078], requires_grad=True)\n",
      "Invalid log_prob: nan, params: tensor([47.1701, 41.1810, 56.3651], requires_grad=True)\n",
      "Invalid log_prob: nan, params: tensor([28.9978, 26.9349, 21.5241], requires_grad=True)\n",
      "Invalid log_prob: nan, params: tensor([50.2638, 46.8324, -3.9035], requires_grad=True)\n",
      "Invalid log_prob: nan, params: tensor([ 44.7175,  40.5357, 646.4337], requires_grad=True)\n",
      "Invalid log_prob: nan, params: tensor([ 29.4082,  25.5230, 273.7707], requires_grad=True)\n",
      "Invalid log_prob: nan, params: tensor([23.8861, 14.3332, 70.8951], requires_grad=True)\n",
      "Invalid log_prob: nan, params: tensor([25.2192, 16.1767, 37.3609], requires_grad=True)\n",
      "Invalid log_prob: nan, params: tensor([5.9410, 3.2823,    nan], requires_grad=True)\n",
      "Invalid log_prob: nan, params: tensor([ 11.4344,   8.1501, 210.3122], requires_grad=True)\n",
      "Invalid log_prob: nan, params: tensor([ 9.3308,  9.2779, 24.6281], requires_grad=True)\n",
      "Invalid log_prob: nan, params: tensor([41.3155, 36.6783, 61.7196], requires_grad=True)\n",
      "Invalid log_prob: nan, params: tensor([ 0.9189,  0.5664, 47.4717], requires_grad=True)\n",
      "Invalid log_prob: nan, params: tensor([10.7706, 12.0887, 39.6225], requires_grad=True)\n",
      "Invalid log_prob: nan, params: tensor([ 36.9980,  32.1025, 126.7683], requires_grad=True)\n",
      "Invalid log_prob: nan, params: tensor([ 7.4603,  5.1689, 74.5177], requires_grad=True)\n",
      "Invalid log_prob: nan, params: tensor([ 42.6583,  41.3555, 213.6305], requires_grad=True)\n",
      "Invalid log_prob: nan, params: tensor([39.4044, 31.7789, 36.1052], requires_grad=True)\n",
      "Invalid log_prob: nan, params: tensor([36.4170, 33.4258, 20.9811], requires_grad=True)\n",
      "Invalid log_prob: nan, params: tensor([18.5093, 15.8589, -1.4684], requires_grad=True)\n",
      "Invalid log_prob: nan, params: tensor([11.5402,  7.0256, 51.3451], requires_grad=True)\n",
      "Invalid log_prob: nan, params: tensor([39.2075, 31.4497, 59.9841], requires_grad=True)\n",
      "Invalid log_prob: nan, params: tensor([ 44.1238,  44.5269, 125.1275], requires_grad=True)\n",
      "Invalid log_prob: nan, params: tensor([37.8933, 36.4808, 48.8702], requires_grad=True)\n",
      "Invalid log_prob: nan, params: tensor([37.0378, 35.2886, 53.3312], requires_grad=True)\n",
      "Invalid log_prob: nan, params: tensor([ 5.9168,  3.6001, 29.7619], requires_grad=True)\n",
      "Invalid log_prob: nan, params: tensor([27.4407, 27.5900, 21.5535], requires_grad=True)\n",
      "Invalid log_prob: nan, params: tensor([49.0013, 43.6699, 56.2744], requires_grad=True)\n",
      "Invalid log_prob: nan, params: tensor([49.6772, 33.9165, 43.6860], requires_grad=True)\n",
      "Invalid log_prob: nan, params: tensor([51.1865, 33.0045, 31.2542], requires_grad=True)\n",
      "Invalid log_prob: nan, params: tensor([75.4613, 55.2058, 60.9772], requires_grad=True)\n",
      "Invalid log_prob: nan, params: tensor([ 49.7971,  35.8819, -86.8349], requires_grad=True)\n",
      "Invalid log_prob: nan, params: tensor([67.0666, 51.6659, 78.4880], requires_grad=True)\n",
      "Invalid log_prob: nan, params: tensor([38.4829, 34.2158, 21.2178], requires_grad=True)\n",
      "Invalid log_prob: nan, params: tensor([16.5592, 11.2316, 32.1273], requires_grad=True)\n",
      "Invalid log_prob: nan, params: tensor([11.1677,  8.3791,     nan], requires_grad=True)\n",
      "Invalid log_prob: nan, params: tensor([ 3.2725,  1.9695, 43.5957], requires_grad=True)\n",
      "Invalid log_prob: nan, params: tensor([  65.7572,   49.7425, 3696.4336], requires_grad=True)\n",
      "Invalid log_prob: nan, params: tensor([40.3309, 33.4317,     nan], requires_grad=True)\n",
      "Invalid log_prob: nan, params: tensor([15.0356,  9.6747, -5.0732], requires_grad=True)\n",
      "Invalid log_prob: nan, params: tensor([-0.8735, -0.9391, 65.3719], requires_grad=True)\n",
      "Invalid log_prob: nan, params: tensor([8.8309, 6.8040,    nan], requires_grad=True)\n",
      "Invalid log_prob: nan, params: tensor([10.0636,  8.3217, 49.4158], requires_grad=True)\n",
      "Invalid log_prob: nan, params: tensor([37.9440, 24.2897,     nan], requires_grad=True)\n",
      "Invalid log_prob: nan, params: tensor([ 33.5112,  31.9493, 103.8778], requires_grad=True)\n",
      "Invalid log_prob: nan, params: tensor([65.5723, 48.3241,     nan], requires_grad=True)\n",
      "Invalid log_prob: nan, params: tensor([49.9946, 35.1016, 29.4474], requires_grad=True)\n",
      "Invalid log_prob: nan, params: tensor([14.7631, 15.2945, 49.5583], requires_grad=True)\n",
      "Invalid log_prob: nan, params: tensor([42.1268, 30.8457, -1.0738], requires_grad=True)\n",
      "Invalid log_prob: nan, params: tensor([ 4.6332,  1.1349, 51.6419], requires_grad=True)\n",
      "Invalid log_prob: nan, params: tensor([17.3544, 13.4631, -1.6857], requires_grad=True)\n",
      "Invalid log_prob: nan, params: tensor([ 6.3943,  4.6672, 45.3129], requires_grad=True)\n",
      "Invalid log_prob: nan, params: tensor([13.7053, 11.7128, 21.2860], requires_grad=True)\n",
      "Invalid log_prob: nan, params: tensor([5.6749, 9.7011,    nan], requires_grad=True)\n",
      "Invalid log_prob: nan, params: tensor([ 9.3545,  9.7278, -1.3538], requires_grad=True)\n",
      "Invalid log_prob: nan, params: tensor([40.5840, 34.5487, 27.4310], requires_grad=True)\n",
      "Invalid log_prob: nan, params: tensor([ 26.0795,  23.2668, 175.3926], requires_grad=True)\n",
      "Invalid log_prob: nan, params: tensor([ 7.6852,  3.4001, 41.9016], requires_grad=True)\n"
     ]
    },
    {
     "name": "stdout",
     "output_type": "stream",
     "text": [
      "Invalid log_prob: nan, params: tensor([10.4357, 12.9609, -4.3817], requires_grad=True)\n",
      "Invalid log_prob: nan, params: tensor([32.4401, 14.5323,     nan], requires_grad=True)\n",
      "Invalid log_prob: nan, params: tensor([37.5595, 28.7802, 67.1770], requires_grad=True)\n",
      "Invalid log_prob: nan, params: tensor([34.2641, 32.3486,     nan], requires_grad=True)\n",
      "Invalid log_prob: nan, params: tensor([15.8850, 10.3021, 29.0323], requires_grad=True)\n",
      "Invalid log_prob: nan, params: tensor([11.5039, 10.5667, 83.3677], requires_grad=True)\n",
      "Invalid log_prob: nan, params: tensor([13.7132, 15.7561, -0.2110], requires_grad=True)\n",
      "Invalid log_prob: nan, params: tensor([ 5.1600,  3.6334, 21.1965], requires_grad=True)\n",
      "Invalid log_prob: nan, params: tensor([18.8961, 13.4816,     nan], requires_grad=True)\n",
      "Invalid log_prob: nan, params: tensor([12.5565, 12.2235, 29.6070], requires_grad=True)\n",
      "Invalid log_prob: nan, params: tensor([5.5440, 0.1395,    nan], requires_grad=True)\n",
      "Invalid log_prob: nan, params: tensor([10.6995, 11.2927, 35.3528], requires_grad=True)\n",
      "Invalid log_prob: nan, params: tensor([39.2645, 35.6054, 38.4155], requires_grad=True)\n",
      "Invalid log_prob: nan, params: tensor([11.2621, 11.5394, 21.3237], requires_grad=True)\n",
      "Invalid log_prob: nan, params: tensor([44.3096, 37.4886,     nan], requires_grad=True)\n",
      "Invalid log_prob: nan, params: tensor([43.6197, 41.0728,     nan], requires_grad=True)\n",
      "0d:00:01:31 | 0d:00:00:00 | #################### | 2548/2548 | 27.72       \n",
      "Acceptance Rate 0.85\n"
     ]
    }
   ],
   "source": [
    "L = 5\n",
    "step_size = .3\n",
    "N = 2048\n",
    "\n",
    "hamiltorch.set_random_seed(123)\n",
    "params_init = v\n",
    "burn=500\n",
    "N_nuts = burn + N\n",
    "params_hmc_nuts = hamiltorch.sample(log_prob_func=log_prob, params_init=params_init,\n",
    "                                                  num_samples=N_nuts,step_size=step_size,num_steps_per_sample=L,\n",
    "                                                  sampler=hamiltorch.Sampler.HMC_NUTS, burn=burn,\n",
    "                                                  desired_accept_rate=0.8)\n"
   ]
  },
  {
   "cell_type": "code",
   "execution_count": 45,
   "id": "a8021b7d",
   "metadata": {},
   "outputs": [],
   "source": [
    "import seaborn as sns"
   ]
  },
  {
   "cell_type": "code",
   "execution_count": 42,
   "id": "412bebd2",
   "metadata": {},
   "outputs": [],
   "source": [
    "samples = torch.stack(params_hmc_nuts)"
   ]
  },
  {
   "cell_type": "code",
   "execution_count": null,
   "id": "1757bada",
   "metadata": {},
   "outputs": [],
   "source": []
  }
 ],
 "metadata": {
  "kernelspec": {
   "display_name": "Python 3 (ipykernel)",
   "language": "python",
   "name": "python3"
  },
  "language_info": {
   "codemirror_mode": {
    "name": "ipython",
    "version": 3
   },
   "file_extension": ".py",
   "mimetype": "text/x-python",
   "name": "python",
   "nbconvert_exporter": "python",
   "pygments_lexer": "ipython3",
   "version": "3.9.13"
  }
 },
 "nbformat": 4,
 "nbformat_minor": 5
}
