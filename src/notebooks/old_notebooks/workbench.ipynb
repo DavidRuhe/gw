{
 "cells": [
  {
   "cell_type": "code",
   "execution_count": 119,
   "id": "4d3d51b7",
   "metadata": {},
   "outputs": [],
   "source": [
    "import torch\n",
    "from torch import nn\n",
    "import seaborn as sns\n",
    "import matplotlib.pyplot as plt\n",
    "import pyro.distributions as dist\n",
    "import pyro.distributions.transforms as T"
   ]
  },
  {
   "cell_type": "code",
   "execution_count": 120,
   "id": "293d47d2",
   "metadata": {},
   "outputs": [],
   "source": [
    "d = 1\n",
    "\n",
    "dataset = torch.cat([torch.randn(64, d) - 3, torch.randn(64, d) + 3])"
   ]
  },
  {
   "cell_type": "code",
   "execution_count": 121,
   "id": "72f70203",
   "metadata": {},
   "outputs": [],
   "source": [
    "# # Copyright (c) 2017-2019 Uber Technologies, Inc.\n",
    "# # SPDX-License-Identifier: Apache-2.0\n",
    "\n",
    "import math\n",
    "from functools import partial\n",
    "\n",
    "import torch\n",
    "import torch.nn as nn\n",
    "from torch.distributions import Transform, constraints\n",
    "\n",
    "from pyro.nn import DenseNN\n",
    "\n",
    "from pyro.distributions.conditional import ConditionalTransformModule\n",
    "from pyro.distributions.torch_transform import TransformModule\n",
    "\n",
    "\n",
    "# class ConditionedMatrixExponential(Transform):\n",
    "#     domain = constraints.real_vector\n",
    "#     codomain = constraints.real_vector\n",
    "#     bijective = True\n",
    "\n",
    "#     def __init__(self, weights=None, iterations=8, normalization=\"none\", bound=None):\n",
    "#         super().__init__(cache_size=1)\n",
    "#         assert iterations > 0\n",
    "#         self.weights = weights\n",
    "#         self.iterations = iterations\n",
    "#         self.normalization = normalization\n",
    "#         self.bound = bound\n",
    "\n",
    "#         # Currently, weight and spectral normalization are unimplemented. This doesn't effect the validity of the\n",
    "#         # bijection, although applying these norms should improve the numerical conditioning of the approximation.\n",
    "#         if normalization == \"weight\" or normalization == \"spectral\":\n",
    "#             raise NotImplementedError(\"Normalization is currently not implemented.\")\n",
    "#         elif normalization != \"none\":\n",
    "#             raise ValueError(\"Unknown normalization method: {}\".format(normalization))\n",
    "\n",
    "#     def _exp(self, x, M):\n",
    "#         \"\"\"\n",
    "#         Performs power series approximation to the vector product of x with the\n",
    "#         matrix exponential of M.\n",
    "#         \"\"\"\n",
    "#         power_term = x.unsqueeze(-1)\n",
    "#         y = x.unsqueeze(-1)\n",
    "#         for idx in range(self.iterations):\n",
    "#             power_term = torch.matmul(M, power_term) / (idx + 1)\n",
    "#             y = y + power_term\n",
    "\n",
    "#         return y.squeeze(-1)\n",
    "\n",
    "#     def _trace(self, M):\n",
    "#         \"\"\"\n",
    "#         Calculates the trace of a matrix and is able to do broadcasting over batch\n",
    "#         dimensions, unlike `torch.trace`.\n",
    "\n",
    "#         Broadcasting is necessary for the conditional version of the transform,\n",
    "#         where `self.weights` may have batch dimensions corresponding the batch\n",
    "#         dimensions of the context variable that was conditioned upon.\n",
    "#         \"\"\"\n",
    "#         return M.diagonal(dim1=-2, dim2=-1).sum(-1)\n",
    "\n",
    "#     def _call(self, x):\n",
    "#         \"\"\"\n",
    "#         :param x: the input into the bijection\n",
    "#         :type x: torch.Tensor\n",
    "#         Invokes the bijection x => y; in the prototypical context of a\n",
    "#         :class:`~pyro.distributions.TransformedDistribution` `x` is a sample from\n",
    "#         the base distribution (or the output of a previous transform)\n",
    "#         \"\"\"\n",
    "\n",
    "#         M = self.weights() if callable(self.weights) else self.weights\n",
    "#         b = self.bias() if callable(self.bias) else self.bias\n",
    "#         return self._exp(x, M) + b\n",
    "\n",
    "#     def _inverse(self, y):\n",
    "#         \"\"\"\n",
    "#         :param y: the output of the bijection\n",
    "#         :type y: torch.Tensor\n",
    "#         Inverts y => x.\n",
    "#         \"\"\"\n",
    "\n",
    "#         M = self.weights() if callable(self.weights) else self.weights\n",
    "#         b = self.bias() if callable(self.bias) else self.bias\n",
    "#         return self._exp(y - b, -M)\n",
    "\n",
    "#     def log_abs_det_jacobian(self, x, y):\n",
    "#         \"\"\"\n",
    "#         Calculates the element-wise determinant of the log Jacobian\n",
    "#         \"\"\"\n",
    "\n",
    "#         M = self.weights() if callable(self.weights) else self.weights\n",
    "#         return self._trace(M)\n",
    "\n",
    "# class MatrixExponential(ConditionedMatrixExponential, TransformModule):\n",
    "\n",
    "#     domain = constraints.real_vector\n",
    "#     codomain = constraints.real_vector\n",
    "#     bijective = True\n",
    "\n",
    "#     def __init__(self, input_dim, iterations=8, normalization=\"none\", bound=None):\n",
    "#         super().__init__(\n",
    "#             iterations=iterations, normalization=normalization, bound=bound\n",
    "#         )\n",
    "\n",
    "#         self.weights = nn.Parameter(torch.Tensor(input_dim, input_dim))\n",
    "#         self.bias = nn.Parameter(torch.zeros(input_dim))\n",
    "#         self.reset_parameters()\n",
    "\n",
    "#     def reset_parameters(self):\n",
    "#             stdv = 1.0 / math.sqrt(self.weights.size(0))\n",
    "#             self.weights.data.normal_(stdv)\n"
   ]
  },
  {
   "cell_type": "code",
   "execution_count": 4,
   "id": "b540b2f9",
   "metadata": {},
   "outputs": [],
   "source": [
    "class ShiftScale(Transform):\n",
    "    domain = constraints.real_vector\n",
    "    codomain = constraints.real_vector\n",
    "    bijective = True\n",
    "\n",
    "    def __init__(self, weights=None, biases=None, bound=None):\n",
    "        super().__init__(cache_size=1)\n",
    "        self.weights = weights\n",
    "        self.biases = biases\n",
    "        self.bound = bound\n",
    "\n",
    "    def _call(self, x):\n",
    "        a = self.weights() if callable(self.weights) else self.weights\n",
    "        b = self.biases() if callable(self.biases) else self.biases\n",
    "        return a * x + b\n",
    "\n",
    "    def _inverse(self, y):\n",
    "\n",
    "        a = self.weights() if callable(self.weights) else self.weights\n",
    "        b = self.biases() if callable(self.biases) else self.biases\n",
    "\n",
    "        return (y - b) / a\n",
    "\n",
    "    def log_abs_det_jacobian(self, x, y):\n",
    "        a = self.weights() if callable(self.weights) else self.weights\n",
    "        ladj = a.abs().log()\n",
    "        return ladj\n",
    "\n",
    "\n",
    "class ShiftScaleTransform(ShiftScale, TransformModule):\n",
    "\n",
    "    domain = constraints.real_vector\n",
    "    codomain = constraints.real_vector\n",
    "    bijective = True\n",
    "\n",
    "    def __init__(self, input_dim, bound=None):\n",
    "        super().__init__(bound=bound)\n",
    "\n",
    "        self.weights = nn.Parameter(torch.ones(input_dim, input_dim))\n",
    "        self.biases = nn.Parameter(torch.zeros(input_dim))\n",
    "#         self.reset_parameters()\n",
    "\n",
    "    def reset_parameters(self):\n",
    "            stdv = 1.0 / math.sqrt(self.weights.size(0))\n",
    "            self.weights.data.uniform_(1-stdv, 1+stdv)\n",
    "\n"
   ]
  },
  {
   "cell_type": "code",
   "execution_count": 5,
   "id": "e568f9f5",
   "metadata": {},
   "outputs": [],
   "source": [
    "x = torch.linspace(-32, 32, 128)"
   ]
  },
  {
   "cell_type": "code",
   "execution_count": 6,
   "id": "3acc9099",
   "metadata": {},
   "outputs": [],
   "source": [
    "import torch.nn.functional as F"
   ]
  },
  {
   "cell_type": "code",
   "execution_count": 7,
   "id": "088fcd6c",
   "metadata": {},
   "outputs": [],
   "source": [
    "# class LeakyReLU(Transform):\n",
    "#     domain = constraints.real_vector\n",
    "#     codomain = constraints.real_vector\n",
    "#     bijective = True\n",
    "\n",
    "#     def __init__(self, a=None, bound=None):\n",
    "#         super().__init__(cache_size=1)\n",
    "#         self.a = a\n",
    "#         self.bound = bound\n",
    "\n",
    "#     def _call(self, x):\n",
    "#         a = self.a() if callable(self.a) else self.a\n",
    "#         return torch.maximum(a.exp() * x, x)\n",
    "\n",
    "#     def _inverse(self, y):\n",
    "#         a = self.a() if callable(self.a) else self.a\n",
    "#         return torch.maximum(1 / a.exp() * y, y)\n",
    "\n",
    "#     def log_abs_det_jacobian(self, x, y):\n",
    "#         a = self.a() if callable(self.a) else self.a\n",
    "#         return torch.where(\n",
    "#             x >= 0.0, torch.zeros_like(x), torch.ones_like(x) * a\n",
    "#         )\n",
    "\n",
    "\n",
    "\n",
    "\n",
    "# class LeakyReLUTransform(LeakyReLU, TransformModule):\n",
    "\n",
    "#     domain = constraints.real_vector\n",
    "#     codomain = constraints.real_vector\n",
    "#     bijective = True\n",
    "\n",
    "#     def __init__(self, input_dim, bound=None):\n",
    "#         super().__init__(bound=bound)\n",
    "\n",
    "#         self.a = nn.Parameter(torch.zeros(1))\n"
   ]
  },
  {
   "cell_type": "code",
   "execution_count": 185,
   "id": "3710e821",
   "metadata": {},
   "outputs": [],
   "source": [
    "def leaky_relu(x, alpha):\n",
    "    return torch.maximum(torch.tensor(0.), x) + alpha * torch.minimum(torch.tensor(0.), x)\n",
    "\n",
    "\n",
    "# class LeakyReLUTransform(Transform):\n",
    "#     r\"\"\"\n",
    "#     Bijective transform via the mapping :math:`y = \\text{LeakyReLU}(x)`.\n",
    "#     \"\"\"\n",
    "#     domain = constraints.real\n",
    "#     codomain = constraints.positive\n",
    "#     bijective = True\n",
    "#     sign = +1\n",
    "#     def __init__(self, bound=None, alpha=torch.tensor(0.)):\n",
    "#         super().__init__()\n",
    "#         self.alpha = alpha\n",
    "#         self.bound = bound\n",
    "    \n",
    "#     def __eq__(self, other):\n",
    "#         return isinstance(other, LeakyReLUTransform)\n",
    "\n",
    "#     def _call(self, x):\n",
    "#         return leaky_relu(x, self.alpha.exp())\n",
    "\n",
    "#     def _inverse(self, y):\n",
    "#         return leaky_relu(y, 1 / self.alpha.exp())\n",
    "\n",
    "#     def log_abs_det_jacobian(self, x, y):\n",
    "#         return torch.where(\n",
    "#             x >= 0.0, torch.zeros_like(x), torch.ones_like(x) * self.alpha\n",
    "#         )\n",
    "\n",
    "# class LeakyReLUTransformModule(LeakyReLUTransform, TransformModule):\n",
    "\n",
    "#     domain = constraints.real_vector\n",
    "#     codomain = constraints.real_vector\n",
    "#     bijective = True\n",
    "\n",
    "#     def __init__(self, bound=None):\n",
    "#         super().__init__(bound)\n",
    "\n",
    "#         self.a = nn.Parameter(torch.zeros(1))\n",
    "\n"
   ]
  },
  {
   "cell_type": "code",
   "execution_count": 186,
   "id": "980a93e5",
   "metadata": {},
   "outputs": [],
   "source": [
    "def hinge(x):\n",
    "    return 1 / 1.872675895690918 * (x + x.sgn() * x.abs().sqrt())"
   ]
  },
  {
   "cell_type": "code",
   "execution_count": 187,
   "id": "2b60b0b1",
   "metadata": {},
   "outputs": [],
   "source": [
    "z = torch.randn(32768)"
   ]
  },
  {
   "cell_type": "code",
   "execution_count": 188,
   "id": "27d94bad",
   "metadata": {},
   "outputs": [
    {
     "data": {
      "text/plain": [
       "0.9976516962051392"
      ]
     },
     "execution_count": 188,
     "metadata": {},
     "output_type": "execute_result"
    }
   ],
   "source": [
    "hinge(z).std().item()"
   ]
  },
  {
   "cell_type": "code",
   "execution_count": 189,
   "id": "0ca19078",
   "metadata": {},
   "outputs": [
    {
     "data": {
      "text/plain": [
       "<AxesSubplot:ylabel='Density'>"
      ]
     },
     "execution_count": 189,
     "metadata": {},
     "output_type": "execute_result"
    },
    {
     "data": {
      "image/png": "[encoded data removed]",
      "text/plain": [
       "<Figure size 432x288 with 1 Axes>"
      ]
     },
     "metadata": {
      "needs_background": "light"
     },
     "output_type": "display_data"
    }
   ],
   "source": [
    "sns.kdeplot(hinge(z))"
   ]
  },
  {
   "cell_type": "code",
   "execution_count": 116,
   "id": "174c4a59",
   "metadata": {},
   "outputs": [],
   "source": [
    "def inv_hinge(y):\n",
    "    y = y.clone()\n",
    "    y[y > 0] = y[y > 0] ** 2\n",
    "    y[y < 0] = -y[y < 0] ** 2\n",
    "    return y"
   ]
  },
  {
   "cell_type": "code",
   "execution_count": 117,
   "id": "69ebe32c",
   "metadata": {},
   "outputs": [
    {
     "data": {
      "text/plain": [
       "<AxesSubplot:ylabel='Density'>"
      ]
     },
     "execution_count": 117,
     "metadata": {},
     "output_type": "execute_result"
    },
    {
     "data": {
      "image/png": "[encoded data removed]",
      "text/plain": [
       "<Figure size 432x288 with 1 Axes>"
      ]
     },
     "metadata": {
      "needs_background": "light"
     },
     "output_type": "display_data"
    }
   ],
   "source": [
    "z_ = hinge(z)\n",
    "sns.kdeplot(hinge(z))\n",
    "# sns.kdeplot(z_)"
   ]
  },
  {
   "cell_type": "code",
   "execution_count": 118,
   "id": "d3a67aaf",
   "metadata": {},
   "outputs": [
    {
     "data": {
      "text/plain": [
       "<AxesSubplot:ylabel='Density'>"
      ]
     },
     "execution_count": 118,
     "metadata": {},
     "output_type": "execute_result"
    },
    {
     "data": {
      "image/png": "[encoded data removed]",
      "text/plain": [
       "<Figure size 432x288 with 1 Axes>"
      ]
     },
     "metadata": {
      "needs_background": "light"
     },
     "output_type": "display_data"
    }
   ],
   "source": [
    "sns.kdeplot(inv_hinge(hinge(z)))"
   ]
  },
  {
   "cell_type": "code",
   "execution_count": 88,
   "id": "82e189bd",
   "metadata": {},
   "outputs": [
    {
     "ename": "TypeError",
     "evalue": "hinge() takes 1 positional argument but 2 were given",
     "output_type": "error",
     "traceback": [
      "\u001b[0;31m---------------------------------------------------------------------------\u001b[0m",
      "\u001b[0;31mTypeError\u001b[0m                                 Traceback (most recent call last)",
      "Input \u001b[0;32mIn [88]\u001b[0m, in \u001b[0;36m<cell line: 1>\u001b[0;34m()\u001b[0m\n\u001b[0;32m----> 1\u001b[0m z__ \u001b[38;5;241m=\u001b[39m \u001b[43mhinge\u001b[49m\u001b[43m(\u001b[49m\u001b[38;5;241;43m-\u001b[39;49m\u001b[43mz_\u001b[49m\u001b[43m,\u001b[49m\u001b[43m \u001b[49m\u001b[38;5;241;43m4\u001b[39;49m\u001b[43m)\u001b[49m\n",
      "\u001b[0;31mTypeError\u001b[0m: hinge() takes 1 positional argument but 2 were given"
     ]
    }
   ],
   "source": [
    "z__ = hinge(-z_, 4)"
   ]
  },
  {
   "cell_type": "code",
   "execution_count": 53,
   "id": "9c0c81ca",
   "metadata": {},
   "outputs": [
    {
     "data": {
      "text/plain": [
       "<AxesSubplot:ylabel='Density'>"
      ]
     },
     "execution_count": 53,
     "metadata": {},
     "output_type": "execute_result"
    },
    {
     "data": {
      "image/png": "[encoded data removed]",
      "text/plain": [
       "<Figure size 432x288 with 1 Axes>"
      ]
     },
     "metadata": {
      "needs_background": "light"
     },
     "output_type": "display_data"
    }
   ],
   "source": [
    "sns.kdeplot(z__)"
   ]
  },
  {
   "cell_type": "code",
   "execution_count": 9,
   "id": "04d64062",
   "metadata": {},
   "outputs": [],
   "source": [
    "class LeakyReLUTransform(Transform):\n",
    "    domain = constraints.real_vector\n",
    "    codomain = constraints.real_vector\n",
    "    bijective = True\n",
    "\n",
    "    def __init__(self, alpha=None, bound=None):\n",
    "        super().__init__(cache_size=1)\n",
    "        self.alpha = alpha\n",
    "        self.bound = bound\n",
    "\n",
    "    def _call(self, x):\n",
    "        return leaky_relu(x, self.alpha.exp())\n",
    "\n",
    "    def _inverse(self, y):\n",
    "        return leaky_relu(y, 1 / self.alpha.exp())\n",
    "\n",
    "    def log_abs_det_jacobian(self, x, y):\n",
    "        return torch.where(\n",
    "            x >= 0.0, torch.zeros_like(x), torch.ones_like(x) * self.alpha\n",
    "        )\n",
    "\n",
    "\n",
    "\n",
    "class LeakyReLUTransformModule(LeakyReLUTransform, TransformModule):\n",
    "\n",
    "    domain = constraints.real_vector\n",
    "    codomain = constraints.real_vector\n",
    "    bijective = True\n",
    "\n",
    "    def __init__(self, bound=None):\n",
    "        super().__init__(bound=bound)\n",
    "\n",
    "        self.alpha = nn.Parameter(torch.FloatTensor((.9,)))\n"
   ]
  },
  {
   "cell_type": "code",
   "execution_count": 10,
   "id": "65a89508",
   "metadata": {},
   "outputs": [],
   "source": [
    "    base_dist = dist.Normal(torch.zeros(d), torch.ones(d))\n",
    "num_layers = 32\n",
    "transform = []\n",
    "for l in range(num_layers - 1):\n",
    "    transform.append(ShiftScaleTransform(d))\n",
    "#     transform.append(MatrixExponential(d))\n",
    "#     transform.append(T.SoftplusTransform())\n",
    "    transform.append(LeakyReLUTransformModule())\n",
    "#     transform.append(T.ELUTransform())\n",
    "transform.append(ShiftScaleTransform(d))\n",
    "# transform.append(MatrixExponential(d))\n",
    "\n",
    "\n",
    "transform_modules = nn.ModuleList([m for m in transform if isinstance(m, nn.Module)])\n",
    "flow_dist = dist.TransformedDistribution(base_dist, transform)\n"
   ]
  },
  {
   "cell_type": "code",
   "execution_count": 11,
   "id": "698337fd",
   "metadata": {},
   "outputs": [],
   "source": [
    "def count_parameters(model):\n",
    "    return sum(p.numel() for p in model.parameters() if p.requires_grad)\n"
   ]
  },
  {
   "cell_type": "code",
   "execution_count": 12,
   "id": "5ba546f4",
   "metadata": {},
   "outputs": [],
   "source": [
    "# matexp = MatrixExponential(d)"
   ]
  },
  {
   "cell_type": "code",
   "execution_count": 13,
   "id": "50fc8e77",
   "metadata": {},
   "outputs": [
    {
     "name": "stdout",
     "output_type": "stream",
     "text": [
      "ShiftScaleTransform() tensor(0.0840, grad_fn=<MeanBackward0>)\n",
      "LeakyReLUTransformModule() tensor(0.9663, grad_fn=<MeanBackward0>)\n",
      "ShiftScaleTransform() tensor(0.9663, grad_fn=<MeanBackward0>)\n",
      "LeakyReLUTransformModule() tensor(1.3250, grad_fn=<MeanBackward0>)\n",
      "ShiftScaleTransform() tensor(1.3250, grad_fn=<MeanBackward0>)\n",
      "LeakyReLUTransformModule() tensor(1.4709, grad_fn=<MeanBackward0>)\n",
      "ShiftScaleTransform() tensor(1.4709, grad_fn=<MeanBackward0>)\n",
      "LeakyReLUTransformModule() tensor(1.5302, grad_fn=<MeanBackward0>)\n",
      "ShiftScaleTransform() tensor(1.5302, grad_fn=<MeanBackward0>)\n",
      "LeakyReLUTransformModule() tensor(1.5543, grad_fn=<MeanBackward0>)\n",
      "ShiftScaleTransform() tensor(1.5543, grad_fn=<MeanBackward0>)\n",
      "LeakyReLUTransformModule() tensor(1.5641, grad_fn=<MeanBackward0>)\n",
      "ShiftScaleTransform() tensor(1.5641, grad_fn=<MeanBackward0>)\n",
      "LeakyReLUTransformModule() tensor(1.5681, grad_fn=<MeanBackward0>)\n",
      "ShiftScaleTransform() tensor(1.5681, grad_fn=<MeanBackward0>)\n",
      "LeakyReLUTransformModule() tensor(1.5697, grad_fn=<MeanBackward0>)\n",
      "ShiftScaleTransform() tensor(1.5697, grad_fn=<MeanBackward0>)\n",
      "LeakyReLUTransformModule() tensor(1.5703, grad_fn=<MeanBackward0>)\n",
      "ShiftScaleTransform() tensor(1.5703, grad_fn=<MeanBackward0>)\n",
      "LeakyReLUTransformModule() tensor(1.5706, grad_fn=<MeanBackward0>)\n",
      "ShiftScaleTransform() tensor(1.5706, grad_fn=<MeanBackward0>)\n",
      "LeakyReLUTransformModule() tensor(1.5707, grad_fn=<MeanBackward0>)\n",
      "ShiftScaleTransform() tensor(1.5707, grad_fn=<MeanBackward0>)\n",
      "LeakyReLUTransformModule() tensor(1.5708, grad_fn=<MeanBackward0>)\n",
      "ShiftScaleTransform() tensor(1.5708, grad_fn=<MeanBackward0>)\n",
      "LeakyReLUTransformModule() tensor(1.5708, grad_fn=<MeanBackward0>)\n",
      "ShiftScaleTransform() tensor(1.5708, grad_fn=<MeanBackward0>)\n",
      "LeakyReLUTransformModule() tensor(1.5708, grad_fn=<MeanBackward0>)\n",
      "ShiftScaleTransform() tensor(1.5708, grad_fn=<MeanBackward0>)\n",
      "LeakyReLUTransformModule() tensor(1.5708, grad_fn=<MeanBackward0>)\n",
      "ShiftScaleTransform() tensor(1.5708, grad_fn=<MeanBackward0>)\n",
      "LeakyReLUTransformModule() tensor(1.5708, grad_fn=<MeanBackward0>)\n",
      "ShiftScaleTransform() tensor(1.5708, grad_fn=<MeanBackward0>)\n",
      "LeakyReLUTransformModule() tensor(1.5708, grad_fn=<MeanBackward0>)\n",
      "ShiftScaleTransform() tensor(1.5708, grad_fn=<MeanBackward0>)\n",
      "LeakyReLUTransformModule() tensor(1.5708, grad_fn=<MeanBackward0>)\n",
      "ShiftScaleTransform() tensor(1.5708, grad_fn=<MeanBackward0>)\n",
      "LeakyReLUTransformModule() tensor(1.5708, grad_fn=<MeanBackward0>)\n",
      "ShiftScaleTransform() tensor(1.5708, grad_fn=<MeanBackward0>)\n",
      "LeakyReLUTransformModule() tensor(1.5708, grad_fn=<MeanBackward0>)\n",
      "ShiftScaleTransform() tensor(1.5708, grad_fn=<MeanBackward0>)\n",
      "LeakyReLUTransformModule() tensor(1.5708, grad_fn=<MeanBackward0>)\n",
      "ShiftScaleTransform() tensor(1.5708, grad_fn=<MeanBackward0>)\n",
      "LeakyReLUTransformModule() tensor(1.5708, grad_fn=<MeanBackward0>)\n",
      "ShiftScaleTransform() tensor(1.5708, grad_fn=<MeanBackward0>)\n",
      "LeakyReLUTransformModule() tensor(1.5708, grad_fn=<MeanBackward0>)\n",
      "ShiftScaleTransform() tensor(1.5708, grad_fn=<MeanBackward0>)\n",
      "LeakyReLUTransformModule() tensor(1.5708, grad_fn=<MeanBackward0>)\n",
      "ShiftScaleTransform() tensor(1.5708, grad_fn=<MeanBackward0>)\n",
      "LeakyReLUTransformModule() tensor(1.5708, grad_fn=<MeanBackward0>)\n",
      "ShiftScaleTransform() tensor(1.5708, grad_fn=<MeanBackward0>)\n",
      "LeakyReLUTransformModule() tensor(1.5708, grad_fn=<MeanBackward0>)\n",
      "ShiftScaleTransform() tensor(1.5708, grad_fn=<MeanBackward0>)\n",
      "LeakyReLUTransformModule() tensor(1.5708, grad_fn=<MeanBackward0>)\n",
      "ShiftScaleTransform() tensor(1.5708, grad_fn=<MeanBackward0>)\n",
      "LeakyReLUTransformModule() tensor(1.5708, grad_fn=<MeanBackward0>)\n",
      "ShiftScaleTransform() tensor(1.5708, grad_fn=<MeanBackward0>)\n",
      "LeakyReLUTransformModule() tensor(1.5708, grad_fn=<MeanBackward0>)\n",
      "ShiftScaleTransform() tensor(1.5708, grad_fn=<MeanBackward0>)\n",
      "LeakyReLUTransformModule() tensor(1.5708, grad_fn=<MeanBackward0>)\n",
      "ShiftScaleTransform() tensor(1.5708, grad_fn=<MeanBackward0>)\n",
      "LeakyReLUTransformModule() tensor(1.5708, grad_fn=<MeanBackward0>)\n",
      "ShiftScaleTransform() tensor(1.5708, grad_fn=<MeanBackward0>)\n"
     ]
    },
    {
     "data": {
      "text/plain": [
       "tensor([[-28.8189, -28.8189, -28.8189,  ..., -37.5170, -38.0142, -34.3305],\n",
       "        [-28.8189, -28.8189, -28.8189,  ..., -37.5170, -38.0142, -34.3305],\n",
       "        [-28.8189, -28.8189, -28.8189,  ..., -37.5170, -38.0142, -34.3305],\n",
       "        ...,\n",
       "        [ -0.9189,  -0.9189,  -0.9189,  ...,  -9.6170, -10.1142,  -6.4305],\n",
       "        [ -0.9189,  -0.9189,  -0.9189,  ...,  -9.6170, -10.1142,  -6.4305],\n",
       "        [ -0.9189,  -0.9189,  -0.9189,  ...,  -9.6170, -10.1142,  -6.4305]],\n",
       "       grad_fn=<AddBackward0>)"
      ]
     },
     "execution_count": 13,
     "metadata": {},
     "output_type": "execute_result"
    }
   ],
   "source": [
    "from torch.distributions.utils import _sum_rightmost\n",
    "\n",
    "\n",
    "def log_prob(transformed_dist, value):\n",
    "        \"\"\"\n",
    "        Scores the sample by inverting the transform(s) and computing the score\n",
    "        using the score of the base distribution and the log abs det jacobian.\n",
    "        \"\"\"\n",
    "        if transformed_dist._validate_args:\n",
    "            transformed_dist._validate_sample(value)\n",
    "        event_dim = len(transformed_dist.event_shape)\n",
    "        log_prob = 0.0\n",
    "        y = value\n",
    "        for transform in reversed(transformed_dist.transforms):\n",
    "            x = transform.inv(y)\n",
    "            assert torch.allclose(transform(x), y),  transform\n",
    "            print(transform, x.mean())\n",
    "            event_dim += transform.domain.event_dim - transform.codomain.event_dim\n",
    "            log_prob = log_prob - _sum_rightmost(transform.log_abs_det_jacobian(x, y),\n",
    "                                                 event_dim - transform.domain.event_dim)\n",
    "            y = x\n",
    "\n",
    "        log_prob = log_prob + _sum_rightmost(transformed_dist.base_dist.log_prob(y),\n",
    "                                             event_dim - len(transformed_dist.base_dist.event_shape))\n",
    "        return log_prob\n",
    "    \n",
    "log_prob(flow_dist, dataset)"
   ]
  },
  {
   "cell_type": "code",
   "execution_count": 14,
   "id": "3eac5b7e",
   "metadata": {},
   "outputs": [],
   "source": [
    "# print(count_parameters(transform_modules))"
   ]
  },
  {
   "cell_type": "code",
   "execution_count": 15,
   "id": "0a729690",
   "metadata": {},
   "outputs": [],
   "source": [
    "def log_prob(transformed_dist, value):\n",
    "        \"\"\"\n",
    "        Scores the sample by inverting the transform(s) and computing the score\n",
    "        using the score of the base distribution and the log abs det jacobian.\n",
    "        \"\"\"\n",
    "        if transformed_dist._validate_args:\n",
    "            transformed_dist._validate_sample(value)\n",
    "        event_dim = len(transformed_dist.event_shape)\n",
    "        log_prob = 0.0\n",
    "        y = value\n",
    "        for transform in reversed(transformed_dist.transforms):\n",
    "            x = transform.inv(y)\n",
    "            print(transform, x.mean())\n",
    "            event_dim += transform.domain.event_dim - transform.codomain.event_dim\n",
    "            log_prob = log_prob - _sum_rightmost(transform.log_abs_det_jacobian(x, y),\n",
    "                                                 event_dim - transform.domain.event_dim)\n",
    "            y = x\n",
    "\n",
    "        log_prob = log_prob + _sum_rightmost(transformed_dist.base_dist.log_prob(y),\n",
    "                                             event_dim - len(transformed_dist.base_dist.event_shape))\n",
    "        return log_prob\n"
   ]
  },
  {
   "cell_type": "code",
   "execution_count": 16,
   "id": "9f1b7404",
   "metadata": {},
   "outputs": [
    {
     "name": "stdout",
     "output_type": "stream",
     "text": [
      "step: 0, loss: 17.63787841796875\n",
      "step: 500, loss: 2.5036184787750244\n",
      "step: 1000, loss: 2.5170822143554688\n",
      "step: 1500, loss: 2.5526392459869385\n",
      "step: 2000, loss: 2.5951578617095947\n",
      "step: 2500, loss: 2.5973448753356934\n",
      "step: 3000, loss: 2.606534242630005\n",
      "step: 3500, loss: 2.595998525619507\n",
      "step: 4000, loss: 2.595198392868042\n",
      "step: 4500, loss: 2.595172882080078\n",
      "step: 5000, loss: 2.5952255725860596\n",
      "step: 5500, loss: 2.5951578617095947\n",
      "step: 6000, loss: 2.5951597690582275\n",
      "step: 6500, loss: 2.595170021057129\n",
      "step: 7000, loss: 2.5951569080352783\n",
      "step: 7500, loss: 2.595158100128174\n",
      "step: 8000, loss: 2.6187729835510254\n",
      "step: 8500, loss: 2.595158100128174\n",
      "step: 9000, loss: 2.5951590538024902\n",
      "step: 9500, loss: 2.595160961151123\n",
      "step: 10000, loss: 2.5980594158172607\n",
      "step: 10500, loss: 2.600238800048828\n"
     ]
    },
    {
     "ename": "KeyboardInterrupt",
     "evalue": "",
     "output_type": "error",
     "traceback": [
      "\u001b[0;31m---------------------------------------------------------------------------\u001b[0m",
      "\u001b[0;31mKeyboardInterrupt\u001b[0m                         Traceback (most recent call last)",
      "Input \u001b[0;32mIn [16]\u001b[0m, in \u001b[0;36m<cell line: 3>\u001b[0;34m()\u001b[0m\n\u001b[1;32m      3\u001b[0m \u001b[38;5;28;01mfor\u001b[39;00m step \u001b[38;5;129;01min\u001b[39;00m \u001b[38;5;28mrange\u001b[39m(steps\u001b[38;5;241m+\u001b[39m\u001b[38;5;241m1\u001b[39m):\n\u001b[1;32m      4\u001b[0m     optimizer\u001b[38;5;241m.\u001b[39mzero_grad()\n\u001b[0;32m----> 5\u001b[0m     loss \u001b[38;5;241m=\u001b[39m \u001b[38;5;241m-\u001b[39m\u001b[43mflow_dist\u001b[49m\u001b[38;5;241;43m.\u001b[39;49m\u001b[43mlog_prob\u001b[49m\u001b[43m(\u001b[49m\u001b[43mdataset\u001b[49m\u001b[43m)\u001b[49m\u001b[38;5;241m.\u001b[39mmean()\n\u001b[1;32m      6\u001b[0m \u001b[38;5;66;03m#     loss = -log_prob(flow_dist, dataset).mean()\u001b[39;00m\n\u001b[1;32m      7\u001b[0m     loss\u001b[38;5;241m.\u001b[39mbackward()\n",
      "File \u001b[0;32m~/Projects/gw/.venv/lib/python3.9/site-packages/torch/distributions/transformed_distribution.py:143\u001b[0m, in \u001b[0;36mTransformedDistribution.log_prob\u001b[0;34m(self, value)\u001b[0m\n\u001b[1;32m    141\u001b[0m y \u001b[38;5;241m=\u001b[39m value\n\u001b[1;32m    142\u001b[0m \u001b[38;5;28;01mfor\u001b[39;00m transform \u001b[38;5;129;01min\u001b[39;00m \u001b[38;5;28mreversed\u001b[39m(\u001b[38;5;28mself\u001b[39m\u001b[38;5;241m.\u001b[39mtransforms):\n\u001b[0;32m--> 143\u001b[0m     x \u001b[38;5;241m=\u001b[39m \u001b[43mtransform\u001b[49m\u001b[38;5;241;43m.\u001b[39;49m\u001b[43minv\u001b[49m\u001b[43m(\u001b[49m\u001b[43my\u001b[49m\u001b[43m)\u001b[49m\n\u001b[1;32m    144\u001b[0m     event_dim \u001b[38;5;241m+\u001b[39m\u001b[38;5;241m=\u001b[39m transform\u001b[38;5;241m.\u001b[39mdomain\u001b[38;5;241m.\u001b[39mevent_dim \u001b[38;5;241m-\u001b[39m transform\u001b[38;5;241m.\u001b[39mcodomain\u001b[38;5;241m.\u001b[39mevent_dim\n\u001b[1;32m    145\u001b[0m     log_prob \u001b[38;5;241m=\u001b[39m log_prob \u001b[38;5;241m-\u001b[39m _sum_rightmost(transform\u001b[38;5;241m.\u001b[39mlog_abs_det_jacobian(x, y),\n\u001b[1;32m    146\u001b[0m                                          event_dim \u001b[38;5;241m-\u001b[39m transform\u001b[38;5;241m.\u001b[39mdomain\u001b[38;5;241m.\u001b[39mevent_dim)\n",
      "File \u001b[0;32m~/Projects/gw/.venv/lib/python3.9/site-packages/torch/distributions/transforms.py:249\u001b[0m, in \u001b[0;36m_InverseTransform.__call__\u001b[0;34m(self, x)\u001b[0m\n\u001b[1;32m    247\u001b[0m \u001b[38;5;28;01mdef\u001b[39;00m \u001b[38;5;21m__call__\u001b[39m(\u001b[38;5;28mself\u001b[39m, x):\n\u001b[1;32m    248\u001b[0m     \u001b[38;5;28;01massert\u001b[39;00m \u001b[38;5;28mself\u001b[39m\u001b[38;5;241m.\u001b[39m_inv \u001b[38;5;129;01mis\u001b[39;00m \u001b[38;5;129;01mnot\u001b[39;00m \u001b[38;5;28;01mNone\u001b[39;00m\n\u001b[0;32m--> 249\u001b[0m     \u001b[38;5;28;01mreturn\u001b[39;00m \u001b[38;5;28;43mself\u001b[39;49m\u001b[38;5;241;43m.\u001b[39;49m\u001b[43m_inv\u001b[49m\u001b[38;5;241;43m.\u001b[39;49m\u001b[43m_inv_call\u001b[49m\u001b[43m(\u001b[49m\u001b[43mx\u001b[49m\u001b[43m)\u001b[49m\n",
      "File \u001b[0;32m~/Projects/gw/.venv/lib/python3.9/site-packages/torch/distributions/transforms.py:161\u001b[0m, in \u001b[0;36mTransform._inv_call\u001b[0;34m(self, y)\u001b[0m\n\u001b[1;32m    159\u001b[0m \u001b[38;5;28;01mif\u001b[39;00m y \u001b[38;5;129;01mis\u001b[39;00m y_old:\n\u001b[1;32m    160\u001b[0m     \u001b[38;5;28;01mreturn\u001b[39;00m x_old\n\u001b[0;32m--> 161\u001b[0m x \u001b[38;5;241m=\u001b[39m \u001b[38;5;28;43mself\u001b[39;49m\u001b[38;5;241;43m.\u001b[39;49m\u001b[43m_inverse\u001b[49m\u001b[43m(\u001b[49m\u001b[43my\u001b[49m\u001b[43m)\u001b[49m\n\u001b[1;32m    162\u001b[0m \u001b[38;5;28mself\u001b[39m\u001b[38;5;241m.\u001b[39m_cached_x_y \u001b[38;5;241m=\u001b[39m x, y\n\u001b[1;32m    163\u001b[0m \u001b[38;5;28;01mreturn\u001b[39;00m x\n",
      "Input \u001b[0;32mIn [9]\u001b[0m, in \u001b[0;36mLeakyReLUTransform._inverse\u001b[0;34m(self, y)\u001b[0m\n\u001b[1;32m     14\u001b[0m \u001b[38;5;28;01mdef\u001b[39;00m \u001b[38;5;21m_inverse\u001b[39m(\u001b[38;5;28mself\u001b[39m, y):\n\u001b[0;32m---> 15\u001b[0m     \u001b[38;5;28;01mreturn\u001b[39;00m leaky_relu(y, \u001b[38;5;241;43m1\u001b[39;49m\u001b[43m \u001b[49m\u001b[38;5;241;43m/\u001b[39;49m\u001b[43m \u001b[49m\u001b[38;5;28;43mself\u001b[39;49m\u001b[38;5;241;43m.\u001b[39;49m\u001b[43malpha\u001b[49m\u001b[38;5;241;43m.\u001b[39;49m\u001b[43mexp\u001b[49m\u001b[43m(\u001b[49m\u001b[43m)\u001b[49m)\n",
      "File \u001b[0;32m~/Projects/gw/.venv/lib/python3.9/site-packages/torch/_tensor.py:31\u001b[0m, in \u001b[0;36m_wrap_type_error_to_not_implemented.<locals>.wrapped\u001b[0;34m(*args, **kwargs)\u001b[0m\n\u001b[1;32m     29\u001b[0m     \u001b[38;5;28;01mreturn\u001b[39;00m handle_torch_function(wrapped, args, \u001b[38;5;241m*\u001b[39margs, \u001b[38;5;241m*\u001b[39m\u001b[38;5;241m*\u001b[39mkwargs)\n\u001b[1;32m     30\u001b[0m \u001b[38;5;28;01mtry\u001b[39;00m:\n\u001b[0;32m---> 31\u001b[0m     \u001b[38;5;28;01mreturn\u001b[39;00m \u001b[43mf\u001b[49m\u001b[43m(\u001b[49m\u001b[38;5;241;43m*\u001b[39;49m\u001b[43margs\u001b[49m\u001b[43m,\u001b[49m\u001b[43m \u001b[49m\u001b[38;5;241;43m*\u001b[39;49m\u001b[38;5;241;43m*\u001b[39;49m\u001b[43mkwargs\u001b[49m\u001b[43m)\u001b[49m\n\u001b[1;32m     32\u001b[0m \u001b[38;5;28;01mexcept\u001b[39;00m \u001b[38;5;167;01mTypeError\u001b[39;00m:\n\u001b[1;32m     33\u001b[0m     \u001b[38;5;28;01mreturn\u001b[39;00m \u001b[38;5;28mNotImplemented\u001b[39m\n",
      "File \u001b[0;32m~/Projects/gw/.venv/lib/python3.9/site-packages/torch/_tensor.py:610\u001b[0m, in \u001b[0;36mTensor.__rdiv__\u001b[0;34m(self, other)\u001b[0m\n\u001b[1;32m    608\u001b[0m \u001b[38;5;28;01mif\u001b[39;00m has_torch_function_variadic(\u001b[38;5;28mself\u001b[39m, other):\n\u001b[1;32m    609\u001b[0m     \u001b[38;5;28;01mreturn\u001b[39;00m handle_torch_function(Tensor\u001b[38;5;241m.\u001b[39m__rdiv__, (\u001b[38;5;28mself\u001b[39m, other), \u001b[38;5;28mself\u001b[39m, other)\n\u001b[0;32m--> 610\u001b[0m \u001b[38;5;28;01mreturn\u001b[39;00m \u001b[38;5;28;43mself\u001b[39;49m\u001b[38;5;241;43m.\u001b[39;49m\u001b[43mreciprocal\u001b[49m\u001b[43m(\u001b[49m\u001b[43m)\u001b[49m \u001b[38;5;241m*\u001b[39m other\n",
      "\u001b[0;31mKeyboardInterrupt\u001b[0m: "
     ]
    }
   ],
   "source": [
    "steps = 16384\n",
    "optimizer = torch.optim.Adam(transform_modules.parameters(), lr=1e-2)\n",
    "for step in range(steps+1):\n",
    "    optimizer.zero_grad()\n",
    "    loss = -flow_dist.log_prob(dataset).mean()\n",
    "#     loss = -log_prob(flow_dist, dataset).mean()\n",
    "    loss.backward()\n",
    "    optimizer.step()\n",
    "    flow_dist.clear_cache()\n",
    "    \n",
    "    if step % 500 == 0:\n",
    "        print('step: {}, loss: {}'.format(step, loss.item()))\n"
   ]
  },
  {
   "cell_type": "code",
   "execution_count": 17,
   "id": "db1950aa",
   "metadata": {},
   "outputs": [
    {
     "data": {
      "image/png": "[encoded data removed]",
      "text/plain": [
       "<Figure size 432x288 with 1 Axes>"
      ]
     },
     "metadata": {
      "needs_background": "light"
     },
     "output_type": "display_data"
    }
   ],
   "source": [
    "with torch.no_grad():\n",
    "    sample = flow_dist.sample((1000,)).squeeze().numpy()\n",
    "    sns.kdeplot(sample)\n",
    "    plt.title(f\"Mean: {sample.mean()}, STD: {sample.std()}\")"
   ]
  },
  {
   "cell_type": "code",
   "execution_count": 18,
   "id": "32cd495c",
   "metadata": {},
   "outputs": [
    {
     "data": {
      "text/plain": [
       "<AxesSubplot:ylabel='Density'>"
      ]
     },
     "execution_count": 18,
     "metadata": {},
     "output_type": "execute_result"
    },
    {
     "data": {
      "image/png": "[encoded data removed]",
      "text/plain": [
       "<Figure size 432x288 with 1 Axes>"
      ]
     },
     "metadata": {
      "needs_background": "light"
     },
     "output_type": "display_data"
    }
   ],
   "source": [
    "sns.kdeplot(dataset.squeeze())"
   ]
  },
  {
   "cell_type": "code",
   "execution_count": null,
   "id": "7ff2f4a9",
   "metadata": {},
   "outputs": [],
   "source": []
  }
 ],
 "metadata": {
  "kernelspec": {
   "display_name": "Python 3 (ipykernel)",
   "language": "python",
   "name": "python3"
  },
  "language_info": {
   "codemirror_mode": {
    "name": "ipython",
    "version": 3
   },
   "file_extension": ".py",
   "mimetype": "text/x-python",
   "name": "python",
   "nbconvert_exporter": "python",
   "pygments_lexer": "ipython3",
   "version": "3.9.13"
  }
 },
 "nbformat": 4,
 "nbformat_minor": 5
}
