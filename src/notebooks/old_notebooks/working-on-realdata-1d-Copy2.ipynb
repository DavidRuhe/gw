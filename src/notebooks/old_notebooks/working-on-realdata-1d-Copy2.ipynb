{
 "cells": [
  {
   "cell_type": "code",
   "execution_count": 1,
   "id": "4d3d51b7",
   "metadata": {},
   "outputs": [],
   "source": [
    "import torch\n",
    "from torch import nn\n",
    "import seaborn as sns\n",
    "import matplotlib.pyplot as plt\n",
    "import pyro.distributions as dist\n",
    "import pyro.distributions.transforms as T\n",
    "import numpy as np\n",
    "import torch.nn.functional as F\n",
    "\n",
    "d=1\n",
    "data = np.load('../../datasets/Combined_GWTC_m1m2chieffz.npz')\n",
    "# m1 = torch.from_numpy(data[\"m1\"]).float()[:, :1]\n",
    "\n",
    "m1 = torch.from_numpy(data['m1'][:, :1])\n",
    "\n",
    "def softplus_inv(y):\n",
    "    return y + y.neg().expm1().neg().log()\n",
    "\n",
    "\n",
    "\n",
    "dataset = m1.float()\n",
    "\n",
    "# dataset = m1.log()\n",
    "# dataset = m1\n",
    "\n",
    "# dataset = softplus_inv(m1)\n",
    "\n",
    "# dataset = (m1 - np.mean(m1)) / m1.std()\n",
    "\n",
    "# d = 1\n",
    "\n",
    "# dataset = torch.cat([torch.randn(64, d), torch.randn(8, d) + 8]).numpy()\n",
    "\n",
    "# dataset = torch.from_numpy(dataset).float()\n",
    "\n",
    "# dataset = torch.cat([5 + torch.randn(64, d).exp(), 80 + torch.randn(8, d)])\n",
    "\n",
    "import numpy as np\n",
    "\n",
    "# dataset = dataset.numpy()\n",
    "# # dataset = (dataset - np.median(dataset)) / dataset.std()\n",
    "# dataset = (dataset - dataset.mean()) / dataset.std()\n",
    "\n",
    "# loc = softplus_inv(dataset).mean()\n",
    "# scale = softplus_inv(dataset).std()\n",
    "\n",
    "loc = dataset.mean()\n",
    "scale = dataset.std()\n",
    "\n",
    "dataset = (dataset - loc) / scale\n",
    "\n",
    "sns.kdeplot(dataset.squeeze())\n",
    "\n",
    "transforms = nn.ModuleList([T.planar(d) for _ in range(4)])\n",
    "base_dist = dist.Normal(0, 1)\n",
    "\n",
    "def log_prob(x, transforms, base_dist):\n",
    "    J = 0\n",
    "    for t in transforms:\n",
    "        y = t(x)\n",
    "        J += t.log_abs_det_jacobian(x, y)\n",
    "        x = y\n",
    "    log_prob = base_dist.log_prob(x).squeeze() + J\n",
    "    return log_prob\n",
    "\n",
    "steps = 32768\n",
    "optimizer = torch.optim.Adam(transforms.parameters(), lr=1e-2)\n",
    "# optimizer = torch.optim.RMSprop(transform_modules.parameters(), lr=5e-3, momentum=0.1)\n",
    "for step in range(steps+1):\n",
    "    optimizer.zero_grad()\n",
    "    loss = -log_prob(dataset.clone(), transforms, base_dist).mean()\n",
    "#     loss = -log_prob(flow_dist, dataset).mean()\n",
    "    loss.backward()\n",
    "    optimizer.step()\n",
    "    \n",
    "    \n",
    "    \n",
    "    if step % 500 == 0:\n",
    "        print('step: {}, loss: {}'.format(step, loss.item()))\n",
    "\n",
    "#         sample = flow_dist.sample((1000,)).squeeze().numpy()\n",
    "#         sns.kdeplot(sample)\n",
    "#         plt.title(f\"Mean: {sample.mean()}, STD: {sample.std()}\")\n",
    "#         plt.show()\n",
    "        \n",
    "#         x = torch.linspace(-5, 5,128)\n",
    "#         plt.plot(x, flow_dist.log_prob(x[:, None]).exp().detach().numpy().squeeze())\n",
    "#         plt.show()\n",
    "\n",
    "with torch.no_grad():\n",
    "    x = dataset.clone()\n",
    "    for t in transforms:\n",
    "        x = t(x)\n",
    "\n",
    "    sns.kdeplot(x.squeeze())\n",
    "\n",
    "with torch.no_grad():\n",
    "    x = torch.linspace(-5, 2, 128)[:, None]\n",
    "    p = log_prob(x, transforms, base_dist).exp()\n",
    "    \n",
    "    plt.plot(x.squeeze().exp(), p.squeeze())"
   ]
  },
  {
   "cell_type": "code",
   "execution_count": null,
   "id": "b0719cb3",
   "metadata": {},
   "outputs": [],
   "source": [
    "sns.kdeplot(dataset.exp().squeeze())"
   ]
  },
  {
   "cell_type": "code",
   "execution_count": null,
   "id": "4fd6c12f",
   "metadata": {},
   "outputs": [],
   "source": [
    "with torch.no_grad():\n",
    "    sample = flow_dist.sample((1000,)).squeeze()\n",
    "    sns.kdeplot(sample)\n",
    "    plt.title(f\"Mean: {sample.mean()}, STD: {sample.std()}\")"
   ]
  },
  {
   "cell_type": "code",
   "execution_count": null,
   "id": "2dc2ab7a",
   "metadata": {},
   "outputs": [],
   "source": [
    "sns.kdeplot(sample.exp())"
   ]
  },
  {
   "cell_type": "code",
   "execution_count": null,
   "id": "2ce555b6",
   "metadata": {},
   "outputs": [],
   "source": [
    "x = torch.linspace(1, 120,128)\n",
    "\n",
    "plt.plot(x, flow_dist.log_prob(x[:, None]).exp().detach().numpy().squeeze())"
   ]
  },
  {
   "cell_type": "code",
   "execution_count": null,
   "id": "bcf2ca01",
   "metadata": {},
   "outputs": [],
   "source": [
    "sns.kdeplot(torch.exp(sample * dataset.std() + dataset.mean()))"
   ]
  },
  {
   "cell_type": "code",
   "execution_count": null,
   "id": "e449d749",
   "metadata": {},
   "outputs": [],
   "source": [
    "x = torch.linspace(-3, 2.5, 1024)"
   ]
  },
  {
   "cell_type": "code",
   "execution_count": null,
   "id": "5b398ca4",
   "metadata": {},
   "outputs": [],
   "source": [
    "plt.figure(figsize=(16, 16))\n",
    "\n",
    "\n",
    "plt.plot(torch.exp(x * dataset.std() + dataset.mean()), flow_dist.log_prob(x[:, None]).exp().detach().numpy().squeeze())"
   ]
  },
  {
   "cell_type": "code",
   "execution_count": null,
   "id": "d313b72a",
   "metadata": {},
   "outputs": [],
   "source": []
  }
 ],
 "metadata": {
  "kernelspec": {
   "display_name": "Python 3 (ipykernel)",
   "language": "python",
   "name": "python3"
  },
  "language_info": {
   "codemirror_mode": {
    "name": "ipython",
    "version": 3
   },
   "file_extension": ".py",
   "mimetype": "text/x-python",
   "name": "python",
   "nbconvert_exporter": "python",
   "pygments_lexer": "ipython3",
   "version": "3.9.13"
  }
 },
 "nbformat": 4,
 "nbformat_minor": 5
}
