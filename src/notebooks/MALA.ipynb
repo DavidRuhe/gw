{
 "cells": [
  {
   "cell_type": "code",
   "execution_count": 1,
   "id": "9f613e05",
   "metadata": {},
   "outputs": [],
   "source": [
    "%load_ext autoreload\n",
    "%autoreload 2"
   ]
  },
  {
   "cell_type": "code",
   "execution_count": 2,
   "id": "faa32b5d",
   "metadata": {},
   "outputs": [],
   "source": [
    "import wandb\n",
    "import tempfile\n",
    "import os\n",
    "from models.normalizing_flow import HierarchicalNormalizingFlowSB\n",
    "import numpy as np\n",
    "import torch\n",
    "import matplotlib.pyplot as plt\n",
    "from torch import nn\n"
   ]
  },
  {
   "cell_type": "code",
   "execution_count": 3,
   "id": "c6fd31fd",
   "metadata": {},
   "outputs": [],
   "source": [
    "from train_flow_sb import unflatten, object_from_config"
   ]
  },
  {
   "cell_type": "code",
   "execution_count": 4,
   "id": "442ebcdb",
   "metadata": {},
   "outputs": [],
   "source": [
    "api = wandb.Api()"
   ]
  },
  {
   "cell_type": "code",
   "execution_count": 5,
   "id": "b5421c39",
   "metadata": {},
   "outputs": [],
   "source": [
    "# run = api.run('druhe/gw-src/ntnb1v04')\n",
    "run = api.run('druhe/gw-src/1l9zbsnf')\n",
    "\n"
   ]
  },
  {
   "cell_type": "code",
   "execution_count": 6,
   "id": "57cfc620",
   "metadata": {},
   "outputs": [],
   "source": [
    "config = unflatten(run.config)"
   ]
  },
  {
   "cell_type": "code",
   "execution_count": 7,
   "id": "dafb2f6b",
   "metadata": {},
   "outputs": [
    {
     "data": {
      "text/plain": [
       "1"
      ]
     },
     "execution_count": 7,
     "metadata": {},
     "output_type": "execute_result"
    }
   ],
   "source": [
    "config['model']['sb_weight']\n",
    "config['model']['prior_weight']"
   ]
  },
  {
   "cell_type": "code",
   "execution_count": 8,
   "id": "b81b5eab",
   "metadata": {},
   "outputs": [],
   "source": [
    "dataset = object_from_config(config, key='dataset')\n",
    "dataset = dataset(**config['dataset'])"
   ]
  },
  {
   "cell_type": "code",
   "execution_count": 9,
   "id": "302b7395",
   "metadata": {},
   "outputs": [],
   "source": [
    "flows = object_from_config(config, key='flow')(**config['flow'])"
   ]
  },
  {
   "cell_type": "code",
   "execution_count": 10,
   "id": "c716c277",
   "metadata": {},
   "outputs": [],
   "source": [
    "tempdir = tempfile.TemporaryDirectory()"
   ]
  },
  {
   "cell_type": "code",
   "execution_count": 11,
   "id": "292ddfda",
   "metadata": {},
   "outputs": [
    {
     "data": {
      "text/plain": [
       "<_io.TextIOWrapper name='/tmp/tmpg6mt2c5a/epoch_500_step_513525_val_loss=8.3308.pt' mode='r' encoding='UTF-8'>"
      ]
     },
     "execution_count": 11,
     "metadata": {},
     "output_type": "execute_result"
    }
   ],
   "source": [
    "checkpoints = [f for f in run.files() if f.name.endswith('.pt')]\n",
    "\n",
    "ckpt = checkpoints[-1]\n",
    "\n",
    "ckpt_path = ckpt.download(root=tempdir.name, replace=True)\n",
    "\n",
    "ckpt_path"
   ]
  },
  {
   "cell_type": "code",
   "execution_count": 12,
   "id": "5120b9de",
   "metadata": {},
   "outputs": [],
   "source": [
    "model = object_from_config(config, key='model')(flows=flows, dataset=dataset, prior_weight=1, sb_weight=0)"
   ]
  },
  {
   "cell_type": "code",
   "execution_count": 13,
   "id": "9aea3621",
   "metadata": {},
   "outputs": [
    {
     "data": {
      "text/plain": [
       "HierarchicalNormalizingFlowSB(\n",
       "  (trainable_flows): ModuleList(\n",
       "    (0): Planar()\n",
       "    (1): Planar()\n",
       "    (2): Planar()\n",
       "    (3): Planar()\n",
       "    (4): Planar()\n",
       "    (5): Planar()\n",
       "    (6): Planar()\n",
       "    (7): Planar()\n",
       "    (8): Planar()\n",
       "    (9): Planar()\n",
       "  )\n",
       ")"
      ]
     },
     "execution_count": 13,
     "metadata": {},
     "output_type": "execute_result"
    }
   ],
   "source": [
    "model.load_state_dict(torch.load(ckpt_path.name), strict=False)\n",
    "\n",
    "model.eval()"
   ]
  },
  {
   "cell_type": "code",
   "execution_count": 14,
   "id": "1e91d253",
   "metadata": {},
   "outputs": [
    {
     "data": {
      "text/plain": [
       "HierarchicalNormalizingFlowSB(\n",
       "  (trainable_flows): ModuleList(\n",
       "    (0): Planar()\n",
       "    (1): Planar()\n",
       "    (2): Planar()\n",
       "    (3): Planar()\n",
       "    (4): Planar()\n",
       "    (5): Planar()\n",
       "    (6): Planar()\n",
       "    (7): Planar()\n",
       "    (8): Planar()\n",
       "    (9): Planar()\n",
       "  )\n",
       ")"
      ]
     },
     "execution_count": 14,
     "metadata": {},
     "output_type": "execute_result"
    }
   ],
   "source": [
    "model.to('cuda')"
   ]
  },
  {
   "cell_type": "code",
   "execution_count": 15,
   "id": "63b5c243",
   "metadata": {},
   "outputs": [],
   "source": [
    "from torch.nn.utils import _stateless\n",
    "\n",
    "def flatten_params(parameters):\n",
    "    \"\"\"\n",
    "    flattens all parameters into a single column vector. Returns the dictionary to recover them\n",
    "    :param: parameters: a generator or list of all the parameters\n",
    "    :return: a dictionary: {\"params\": [#params, 1],\n",
    "    \"indices\": [(start index, end index) for each param] **Note end index in uninclusive**\n",
    "\n",
    "    \"\"\"\n",
    "    l = [torch.flatten(p) for p in parameters]\n",
    "    indices = []\n",
    "    s = 0\n",
    "    for p in l:\n",
    "        size = p.shape[0]\n",
    "        indices.append((s, s+size))\n",
    "        s += size\n",
    "    flat = torch.cat(l).view(-1, 1)\n",
    "    return flat, indices\n",
    "\n",
    "\n",
    "def unflatten_params(flat_params, indices, model):\n",
    "    \"\"\"\n",
    "    Gives a list of recovered parameters from their flattened form\n",
    "    :param flat_params: [#params, 1]\n",
    "    :param indices: a list detaling the start and end index of each param [(start, end) for param]\n",
    "    :param model: the model that gives the params with correct shapes\n",
    "    :return: the params, reshaped to the ones in the model, with the same order as those in the model\n",
    "    \"\"\"\n",
    "    l = [flat_params[s:e] for (s, e) in indices]\n",
    "    for i, p in enumerate(model.parameters()):\n",
    "        l[i] = l[i].view(*p.shape)\n",
    "    return tuple(nn.Parameter(p) for p in l)\n"
   ]
  },
  {
   "cell_type": "code",
   "execution_count": 16,
   "id": "99a59acc",
   "metadata": {},
   "outputs": [],
   "source": [
    "params_flat, indices = flatten_params(model.parameters())\n",
    "names = list(n for n, _ in model.named_parameters())\n"
   ]
  },
  {
   "cell_type": "code",
   "execution_count": 17,
   "id": "dd27d7b9",
   "metadata": {},
   "outputs": [],
   "source": [
    "loader = dataset.val_dataloader()"
   ]
  },
  {
   "cell_type": "code",
   "execution_count": 18,
   "id": "74b5ca5c",
   "metadata": {},
   "outputs": [],
   "source": [
    "iterable = iter(loader)"
   ]
  },
  {
   "cell_type": "code",
   "execution_count": 19,
   "id": "f13626c0",
   "metadata": {},
   "outputs": [],
   "source": [
    "def metropolis_adjusted_langevin_algorithm(potential, n_samples=100000, step=0.1):\n",
    "    burn_in = 10000\n",
    "    Z0 = torch.randn(1, 2)\n",
    "    Zi = Z0\n",
    "    samples = []\n",
    "    pbar = tqdm(range(n_samples + burn_in))\n",
    "    for i in pbar:\n",
    "        Zi.requires_grad_()\n",
    "        u = potential(Zi).mean()\n",
    "        grad = torch.autograd.grad(u, Zi)[0]\n",
    "        prop_Zi = Zi.detach() - step * grad + np.sqrt(2 * step) * torch.randn(1, 2)\n",
    "        log_ratio = -potential(prop_Zi).mean() + potential(Zi).mean() +\\\n",
    "                    log_Q(potential, Zi, prop_Zi, step) - log_Q(potential, prop_Zi, Zi, step)\n",
    "        if torch.rand(1) < torch.exp(log_ratio):\n",
    "            Zi = prop_Zi\n",
    "        samples.append(Zi.detach().numpy())\n",
    "    return np.concatenate(samples, 0)[burn_in:]\n"
   ]
  },
  {
   "cell_type": "code",
   "execution_count": 21,
   "id": "09107c75",
   "metadata": {},
   "outputs": [],
   "source": [
    "# likelihoods = []\n",
    "# priors = []\n",
    "# total = []\n",
    "# i = 0\n",
    "# def log_prob(params, y=None):\n",
    "#     global iterable\n",
    "#     global likelihoods\n",
    "#     global priors\n",
    "#     global total\n",
    "#     global i \n",
    "#     try:\n",
    "#         batch = next(iterable)\n",
    "#     except StopIteration:\n",
    "#         iterable = iter(loader)\n",
    "#         batch = next(iterable)\n",
    "    \n",
    "#     gw_batch = batch[0].double().to(model.device)\n",
    "    \n",
    "#     params = params.to(model.device)\n",
    "        \n",
    "#     prior = torch.distributions.Normal(params_init.to(model.device), 32).log_prob(params)\n",
    "\n",
    "#     params = unflatten_params(params, indices, model)\n",
    "#     out: torch.Tensor = _stateless.functional_call(model, {n: p for n, p in zip(names, params)}, gw_batch)    \n",
    "#     ll = prior.sum() / len(out) + out.mean()\n",
    "    \n",
    "#     if i % 20 == 0:\n",
    "#         likelihoods.append(out.mean().item())\n",
    "#         priors.append(prior.sum().item() / len(out))\n",
    "#         total.append(likelihoods[-1] + priors[-1])\n",
    "#     i += 1\n",
    "#     return ll\n",
    "\n",
    "\n"
   ]
  },
  {
   "cell_type": "code",
   "execution_count": 22,
   "id": "3c415211",
   "metadata": {
    "scrolled": true
   },
   "outputs": [
    {
     "name": "stdout",
     "output_type": "stream",
     "text": [
      "Sampling (Sampler.HMC; Integrator.IMPLICIT)\n",
      "Time spent  | Time remain.| Progress             | Samples   | Samples/sec\n",
      "Step: 0, Current Hamiltoninian: 52.32586891358615, Proposed Hamiltoninian: 60.680056426830255\n",
      "REJECT\n",
      "Step: 1, Current Hamiltoninian: 51.97452226405413, Proposed Hamiltoninian: 65.4718310714247\n",
      "REJECT\n",
      "Step: 2, Current Hamiltoninian: 51.44921515284768, Proposed Hamiltoninian: 51.74048493560318\n",
      "Accept rho: -0.2912697827554993\n",
      "Step: 3, Current Hamiltoninian: 52.264639677637916, Proposed Hamiltoninian: 52.110496987633326\n",
      "Accept rho: 0.0\n",
      "Step: 4, Current Hamiltoninian: 56.72688523859719, Proposed Hamiltoninian: 56.77178856786239\n",
      "Accept rho: -0.044903329265196135\n",
      "Step: 5, Current Hamiltoninian: 61.26272029134287, Proposed Hamiltoninian: 60.98534612196846\n",
      "Accept rho: 0.0\n",
      "Step: 6, Current Hamiltoninian: 66.43795123881975, Proposed Hamiltoninian: 69.47891443140094\n",
      "REJECT\n",
      "Step: 7, Current Hamiltoninian: 62.21851494896005, Proposed Hamiltoninian: 62.214772792742124\n",
      "Accept rho: 0.0\n",
      "Step: 8, Current Hamiltoninian: 56.34630295166167, Proposed Hamiltoninian: 56.54015512516327\n",
      "Accept rho: -0.19385217350159678\n",
      "Step: 9, Current Hamiltoninian: 45.09435126400825, Proposed Hamiltoninian: 45.556122744937916\n",
      "REJECT\n",
      "Step: 10, Current Hamiltoninian: 59.34217187130865, Proposed Hamiltoninian: 59.49482001384398\n",
      "Accept rho: -0.15264814253532677\n",
      "Step: 11, Current Hamiltoninian: 55.775015577278914, Proposed Hamiltoninian: 56.03583356019224\n",
      "Accept rho: -0.2608179829133235\n",
      "Step: 12, Current Hamiltoninian: 60.115838059542526, Proposed Hamiltoninian: 60.11681320031941\n",
      "Accept rho: -0.0009751407768874287\n",
      "Step: 13, Current Hamiltoninian: 51.7980947191825, Proposed Hamiltoninian: 52.80598481024066\n",
      "REJECT\n",
      "Step: 14, Current Hamiltoninian: 60.25947405266451, Proposed Hamiltoninian: 60.31920239091655\n",
      "Accept rho: -0.059728338252043045\n",
      "Step: 15, Current Hamiltoninian: 65.19317223495835, Proposed Hamiltoninian: 64.94225608376877\n",
      "Accept rho: 0.0\n",
      "Step: 16, Current Hamiltoninian: 61.71942166740117, Proposed Hamiltoninian: 61.662442416244204\n",
      "Accept rho: 0.0\n",
      "Step: 17, Current Hamiltoninian: 60.794007799312155, Proposed Hamiltoninian: 60.59211030841639\n",
      "Accept rho: 0.0\n",
      "Step: 18, Current Hamiltoninian: 63.9105369572046, Proposed Hamiltoninian: 63.65683023344026\n",
      "Accept rho: 0.0\n",
      "Step: 19, Current Hamiltoninian: 50.263915515813224, Proposed Hamiltoninian: 51.27187806057343\n",
      "REJECT\n",
      "Step: 20, Current Hamiltoninian: 69.12567344802707, Proposed Hamiltoninian: 69.33060498687864\n",
      "Accept rho: -0.204931538851568\n",
      "Step: 21, Current Hamiltoninian: 52.18538222757102, Proposed Hamiltoninian: 52.753088394131254\n",
      "REJECT\n",
      "Step: 22, Current Hamiltoninian: 53.12406210184504, Proposed Hamiltoninian: 52.92744973544918\n",
      "Accept rho: 0.0\n",
      "Step: 23, Current Hamiltoninian: 62.37643186582904, Proposed Hamiltoninian: 62.534480953458086\n",
      "Accept rho: -0.15804908762904546\n",
      "Step: 24, Current Hamiltoninian: 62.97056606483494, Proposed Hamiltoninian: 62.9682653060301\n",
      "Accept rho: 0.0\n",
      "Step: 25, Current Hamiltoninian: 58.542938809744015, Proposed Hamiltoninian: 60.20071720712291\n",
      "REJECT\n",
      "Step: 26, Current Hamiltoninian: 43.08677328965554, Proposed Hamiltoninian: 42.84303478832281\n",
      "Accept rho: 0.0\n",
      "Step: 27, Current Hamiltoninian: 51.70132828450663, Proposed Hamiltoninian: 52.393158333830584\n",
      "Accept rho: -0.6918300493239542\n",
      "Step: 28, Current Hamiltoninian: 58.15766534027237, Proposed Hamiltoninian: 57.914292464471195\n",
      "Accept rho: 0.0\n",
      "Step: 29, Current Hamiltoninian: 65.4648258451049, Proposed Hamiltoninian: 65.91197858232867\n",
      "Accept rho: -0.44715273722377447\n",
      "Step: 30, Current Hamiltoninian: 61.37687082613356, Proposed Hamiltoninian: 61.12768013158688\n",
      "Accept rho: 0.0\n",
      "Step: 31, Current Hamiltoninian: 74.47693319184839, Proposed Hamiltoninian: 73.957653752183\n",
      "Accept rho: 0.0\n",
      "Step: 32, Current Hamiltoninian: 51.83677957785978, Proposed Hamiltoninian: 52.07944385709223\n",
      "Accept rho: -0.24266427923245004\n",
      "Step: 33, Current Hamiltoninian: 59.27444034770842, Proposed Hamiltoninian: 60.097245629886544\n",
      "REJECT\n",
      "Step: 34, Current Hamiltoninian: 65.07931986883953, Proposed Hamiltoninian: 64.67278982996808\n",
      "Accept rho: 0.0\n",
      "Step: 35, Current Hamiltoninian: 66.17837998146851, Proposed Hamiltoninian: 66.4727069626026\n",
      "REJECT\n",
      "Step: 36, Current Hamiltoninian: 50.15684550792904, Proposed Hamiltoninian: 50.28830610889602\n",
      "Accept rho: -0.13146060096698164\n",
      "Step: 37, Current Hamiltoninian: 61.496708878305796, Proposed Hamiltoninian: 61.77623022584633\n",
      "Accept rho: -0.2795213475405305\n",
      "Step: 38, Current Hamiltoninian: 49.476799902901504, Proposed Hamiltoninian: 48.99299296131057\n",
      "Accept rho: 0.0\n",
      "Step: 39, Current Hamiltoninian: 53.98542115760279, Proposed Hamiltoninian: 54.56476002199081\n",
      "Accept rho: -0.5793388643880206\n",
      "Step: 40, Current Hamiltoninian: 64.3409514492778, Proposed Hamiltoninian: 64.94879670938529\n",
      "Accept rho: -0.6078452601074957\n",
      "Step: 41, Current Hamiltoninian: 70.35154066878538, Proposed Hamiltoninian: 70.76461757343995\n",
      "REJECT\n",
      "Step: 42, Current Hamiltoninian: 73.16475686244368, Proposed Hamiltoninian: 73.00399930776624\n",
      "Accept rho: 0.0\n",
      "Step: 43, Current Hamiltoninian: 53.363435188843674, Proposed Hamiltoninian: 53.548741222440285\n",
      "REJECT\n",
      "Step: 44, Current Hamiltoninian: 49.297010750380274, Proposed Hamiltoninian: 49.3474608616945\n",
      "Accept rho: -0.05045011131422683\n",
      "Step: 45, Current Hamiltoninian: 57.09730751526169, Proposed Hamiltoninian: 56.93300696654616\n",
      "Accept rho: 0.0\n",
      "Step: 46, Current Hamiltoninian: 61.912737979817024, Proposed Hamiltoninian: 62.23188777824237\n",
      "REJECT\n",
      "Step: 47, Current Hamiltoninian: 55.06353435553463, Proposed Hamiltoninian: 56.94437524681942\n",
      "REJECT\n",
      "Step: 48, Current Hamiltoninian: 64.36556002405442, Proposed Hamiltoninian: 64.52410231166641\n",
      "Accept rho: -0.15854228761199352\n",
      "Step: 49, Current Hamiltoninian: 75.34256973826848, Proposed Hamiltoninian: 75.86484466575854\n",
      "Accept rho: -0.5222749274900593\n",
      "Step: 50, Current Hamiltoninian: 69.66246288338439, Proposed Hamiltoninian: 69.76604508974066\n",
      "Accept rho: -0.1035822063562648\n",
      "Step: 51, Current Hamiltoninian: 65.52696733738848, Proposed Hamiltoninian: 65.56559235773967\n",
      "Accept rho: -0.03862502035119064\n",
      "Step: 52, Current Hamiltoninian: 46.99812761634826, Proposed Hamiltoninian: 46.76912007793973\n",
      "Accept rho: 0.0\n",
      "Step: 53, Current Hamiltoninian: 75.76335852272814, Proposed Hamiltoninian: 76.12296950564811\n",
      "Accept rho: -0.35961098291997473\n",
      "Step: 54, Current Hamiltoninian: 49.308924758903075, Proposed Hamiltoninian: 48.626223639075825\n",
      "Accept rho: 0.0\n",
      "Step: 55, Current Hamiltoninian: 55.74384002866932, Proposed Hamiltoninian: 56.10822185167741\n",
      "Accept rho: -0.3643818230080953\n",
      "Step: 56, Current Hamiltoninian: 58.98687935784242, Proposed Hamiltoninian: 59.451411465118355\n",
      "REJECT\n",
      "Step: 57, Current Hamiltoninian: 49.08087174302156, Proposed Hamiltoninian: 49.991629921384614\n",
      "REJECT\n",
      "Step: 58, Current Hamiltoninian: 57.97697180694648, Proposed Hamiltoninian: 57.84898611812942\n",
      "Accept rho: 0.0\n",
      "Step: 59, Current Hamiltoninian: 67.16294692218878, Proposed Hamiltoninian: 67.02505962873677\n",
      "Accept rho: 0.0\n",
      "Step: 60, Current Hamiltoninian: 54.09980080425173, Proposed Hamiltoninian: 55.01532660518404\n",
      "REJECT\n",
      "Step: 61, Current Hamiltoninian: 54.63237324270588, Proposed Hamiltoninian: 54.577580755862634\n",
      "Accept rho: 0.0\n",
      "Step: 62, Current Hamiltoninian: 57.877810854234575, Proposed Hamiltoninian: 57.41822597066424\n",
      "Accept rho: 0.0\n",
      "Step: 63, Current Hamiltoninian: 56.761951389657916, Proposed Hamiltoninian: 56.97167573439919\n",
      "Accept rho: -0.2097243447412751\n",
      "Step: 64, Current Hamiltoninian: 60.4288991265644, Proposed Hamiltoninian: 60.49173977529894\n",
      "Accept rho: -0.06284064873453588\n",
      "Step: 65, Current Hamiltoninian: 55.581311604975554, Proposed Hamiltoninian: 56.6598952754808\n",
      "Accept rho: -1.078583670505246\n",
      "Step: 66, Current Hamiltoninian: 59.26367551770399, Proposed Hamiltoninian: 58.54252948840768\n",
      "Accept rho: 0.0\n",
      "Step: 67, Current Hamiltoninian: 68.83957737538364, Proposed Hamiltoninian: 68.58625242726696\n",
      "Accept rho: 0.0\n",
      "Step: 68, Current Hamiltoninian: 62.699795916173066, Proposed Hamiltoninian: 63.09068598301865\n",
      "REJECT\n",
      "Step: 69, Current Hamiltoninian: 71.41937407819242, Proposed Hamiltoninian: 71.96307561267028\n",
      "Accept rho: -0.5437015344778615\n",
      "Step: 70, Current Hamiltoninian: 63.7573435701983, Proposed Hamiltoninian: 62.996838026330444\n",
      "Accept rho: 0.0\n"
     ]
    },
    {
     "name": "stdout",
     "output_type": "stream",
     "text": [
      "Step: 71, Current Hamiltoninian: 52.35044270436087, Proposed Hamiltoninian: 52.52254795161632\n",
      "REJECT\n",
      "Step: 72, Current Hamiltoninian: 66.1386414183363, Proposed Hamiltoninian: 65.97166045131168\n",
      "Accept rho: 0.0\n",
      "Step: 73, Current Hamiltoninian: 76.82121891935421, Proposed Hamiltoninian: 76.76334014945112\n",
      "Accept rho: 0.0\n",
      "Step: 74, Current Hamiltoninian: 58.614582664659366, Proposed Hamiltoninian: 58.43852019195292\n",
      "Accept rho: 0.0\n",
      "Step: 75, Current Hamiltoninian: 60.20503237415672, Proposed Hamiltoninian: 58.75366182498378\n",
      "Accept rho: 0.0\n",
      "Step: 76, Current Hamiltoninian: 72.41655557069039, Proposed Hamiltoninian: 75.25046058904647\n",
      "REJECT\n",
      "Step: 77, Current Hamiltoninian: 54.388582218731884, Proposed Hamiltoninian: 54.901681723085645\n",
      "Accept rho: -0.513099504353761\n",
      "Step: 78, Current Hamiltoninian: 63.69852197327577, Proposed Hamiltoninian: 64.27127854518733\n",
      "REJECT\n",
      "Step: 79, Current Hamiltoninian: 69.37890003193147, Proposed Hamiltoninian: 70.48354889353944\n",
      "REJECT\n",
      "Step: 80, Current Hamiltoninian: 61.77627470307554, Proposed Hamiltoninian: 62.16751155080242\n",
      "Accept rho: -0.39123684772687994\n",
      "Step: 81, Current Hamiltoninian: 58.79961037235803, Proposed Hamiltoninian: 59.062640362138175\n",
      "Accept rho: -0.2630299897801436\n",
      "Step: 82, Current Hamiltoninian: 61.39787898028274, Proposed Hamiltoninian: 61.27582914462317\n",
      "Accept rho: 0.0\n",
      "Step: 83, Current Hamiltoninian: 55.002555051490305, Proposed Hamiltoninian: 55.29285156076763\n",
      "Accept rho: -0.29029650927732575\n",
      "Step: 84, Current Hamiltoninian: 62.63051014385837, Proposed Hamiltoninian: 62.64286003557468\n",
      "Accept rho: -0.01234989171630474\n",
      "Step: 85, Current Hamiltoninian: 64.25469260548954, Proposed Hamiltoninian: 64.0939524382696\n",
      "Accept rho: 0.0\n",
      "Step: 86, Current Hamiltoninian: 53.443822303854006, Proposed Hamiltoninian: 53.503851693502476\n",
      "Accept rho: -0.060029389648470044\n",
      "Step: 87, Current Hamiltoninian: 48.79082982348167, Proposed Hamiltoninian: 50.51201239995774\n",
      "Accept rho: -1.7211825764760675\n",
      "Step: 88, Current Hamiltoninian: 65.75792769402094, Proposed Hamiltoninian: 65.64559486889401\n",
      "Accept rho: 0.0\n",
      "Step: 89, Current Hamiltoninian: 51.84145627610033, Proposed Hamiltoninian: 52.43129031017166\n",
      "REJECT\n",
      "Step: 90, Current Hamiltoninian: 65.57049658672625, Proposed Hamiltoninian: 66.29615102710946\n",
      "Accept rho: -0.7256544403832095\n",
      "Step: 91, Current Hamiltoninian: 59.635603549788286, Proposed Hamiltoninian: 59.745789839658016\n",
      "Accept rho: -0.11018628986973056\n",
      "Step: 92, Current Hamiltoninian: 55.70361060821118, Proposed Hamiltoninian: 52.61739708494413\n",
      "Accept rho: 0.0\n",
      "Step: 93, Current Hamiltoninian: 68.69908314263455, Proposed Hamiltoninian: 69.31114464962288\n",
      "REJECT\n",
      "Step: 94, Current Hamiltoninian: 55.36136074490765, Proposed Hamiltoninian: 55.3288037852567\n",
      "Accept rho: 0.0\n",
      "Step: 95, Current Hamiltoninian: 57.2299729778826, Proposed Hamiltoninian: 57.46105820842112\n",
      "REJECT\n",
      "Step: 96, Current Hamiltoninian: 63.42601112642916, Proposed Hamiltoninian: 63.870712739886926\n",
      "Accept rho: -0.4447016134577666\n",
      "Step: 97, Current Hamiltoninian: 51.63537946652359, Proposed Hamiltoninian: 52.04408194102646\n",
      "Accept rho: -0.4087024745028742\n",
      "Step: 98, Current Hamiltoninian: 60.63110107996303, Proposed Hamiltoninian: 60.829091098953384\n",
      "Accept rho: -0.19799001899035318\n",
      "Step: 99, Current Hamiltoninian: 57.99193376603361, Proposed Hamiltoninian: 57.55554834638167\n",
      "Accept rho: 0.0\n",
      "Step: 100, Current Hamiltoninian: 63.67196800441154, Proposed Hamiltoninian: 63.719397569427805\n",
      "Accept rho: -0.04742956501626594\n",
      "Step: 101, Current Hamiltoninian: 55.4716521851305, Proposed Hamiltoninian: 55.24216803740029\n",
      "Accept rho: 0.0\n",
      "Step: 102, Current Hamiltoninian: 58.58368724971392, Proposed Hamiltoninian: 58.772727357368424\n",
      "Accept rho: -0.18904010765450607\n",
      "Step: 103, Current Hamiltoninian: 50.95370825807827, Proposed Hamiltoninian: 51.84886345219385\n",
      "REJECT\n",
      "Step: 104, Current Hamiltoninian: 61.10463611895545, Proposed Hamiltoninian: 61.49407245759549\n",
      "REJECT\n",
      "Step: 105, Current Hamiltoninian: 59.75319324509197, Proposed Hamiltoninian: 59.847545994849035\n",
      "Accept rho: -0.0943527497570642\n",
      "Step: 106, Current Hamiltoninian: 62.19653792319537, Proposed Hamiltoninian: 61.723133681671186\n",
      "Accept rho: 0.0\n",
      "Step: 107, Current Hamiltoninian: 68.19523869568872, Proposed Hamiltoninian: 69.00885427799265\n",
      "REJECT\n",
      "Step: 108, Current Hamiltoninian: 53.677084516687174, Proposed Hamiltoninian: 54.39603008032117\n",
      "REJECT\n",
      "Step: 109, Current Hamiltoninian: 51.422892354572625, Proposed Hamiltoninian: 51.90395479512097\n",
      "Accept rho: -0.48106244054834235\n",
      "Step: 110, Current Hamiltoninian: 58.23008459008581, Proposed Hamiltoninian: 58.64719483458604\n",
      "REJECT\n",
      "Step: 111, Current Hamiltoninian: 52.62980971343376, Proposed Hamiltoninian: 52.79997799554277\n",
      "Accept rho: -0.17016828210901025\n",
      "Step: 112, Current Hamiltoninian: 64.93692949310638, Proposed Hamiltoninian: 64.7982702214715\n",
      "Accept rho: 0.0\n",
      "Step: 113, Current Hamiltoninian: 64.90847366889145, Proposed Hamiltoninian: 64.80234901058245\n",
      "Accept rho: 0.0\n",
      "Step: 114, Current Hamiltoninian: 66.65609324014368, Proposed Hamiltoninian: 66.35401521817286\n",
      "Accept rho: 0.0\n",
      "Step: 115, Current Hamiltoninian: 60.716421551689045, Proposed Hamiltoninian: 60.816404236381196\n",
      "Accept rho: -0.09998268469215077\n",
      "Step: 116, Current Hamiltoninian: 60.98765962868705, Proposed Hamiltoninian: 61.70995904330886\n",
      "Accept rho: -0.7222994146218085\n",
      "Step: 117, Current Hamiltoninian: 55.23807492744143, Proposed Hamiltoninian: 56.19367783519267\n",
      "Accept rho: -0.955602907751242\n",
      "Step: 118, Current Hamiltoninian: 63.93270112081507, Proposed Hamiltoninian: 64.17311394645861\n",
      "Accept rho: -0.2404128256435456\n",
      "Step: 119, Current Hamiltoninian: 55.40425447106993, Proposed Hamiltoninian: 55.454409745903625\n",
      "Accept rho: -0.050155274833691976\n",
      "Step: 120, Current Hamiltoninian: 52.59917550898598, Proposed Hamiltoninian: 52.611068779099405\n",
      "Accept rho: -0.011893270113425558\n",
      "Step: 121, Current Hamiltoninian: 52.611400526342, Proposed Hamiltoninian: 52.29840416593873\n",
      "Accept rho: 0.0\n",
      "Step: 122, Current Hamiltoninian: 57.51017063010139, Proposed Hamiltoninian: 56.86868466935768\n",
      "Accept rho: 0.0\n",
      "Step: 123, Current Hamiltoninian: 60.98907582251378, Proposed Hamiltoninian: 61.36037305753979\n",
      "REJECT\n",
      "Step: 124, Current Hamiltoninian: 65.24561771633353, Proposed Hamiltoninian: 64.99503421619683\n",
      "Accept rho: 0.0\n",
      "Step: 125, Current Hamiltoninian: 62.38620807288146, Proposed Hamiltoninian: 62.48879316830407\n",
      "Accept rho: -0.10258509542261152\n",
      "Step: 126, Current Hamiltoninian: 58.07869528917381, Proposed Hamiltoninian: 56.701217844995305\n",
      "Accept rho: 0.0\n",
      "Step: 127, Current Hamiltoninian: 57.70180990180343, Proposed Hamiltoninian: 57.69966344697531\n",
      "Accept rho: 0.0\n",
      "Step: 128, Current Hamiltoninian: 67.25624619045865, Proposed Hamiltoninian: 67.08770274988782\n",
      "Accept rho: 0.0\n",
      "Step: 129, Current Hamiltoninian: 59.98583136032923, Proposed Hamiltoninian: 58.89637012583435\n",
      "Accept rho: 0.0\n",
      "Step: 130, Current Hamiltoninian: 59.745175733355964, Proposed Hamiltoninian: 59.79845798684764\n",
      "Accept rho: -0.05328225349167326\n",
      "Step: 131, Current Hamiltoninian: 64.27341390106524, Proposed Hamiltoninian: 66.39291759592902\n",
      "REJECT\n",
      "Step: 132, Current Hamiltoninian: 63.13834381628362, Proposed Hamiltoninian: 63.59037425215759\n",
      "Accept rho: -0.4520304358739651\n",
      "Step: 133, Current Hamiltoninian: 58.83443163004378, Proposed Hamiltoninian: 58.558494560667896\n",
      "Accept rho: 0.0\n",
      "Step: 134, Current Hamiltoninian: 64.99566505027096, Proposed Hamiltoninian: 65.61678943983297\n",
      "Accept rho: -0.6211243895620129\n",
      "Step: 135, Current Hamiltoninian: 71.60399423091064, Proposed Hamiltoninian: 71.9769574938924\n",
      "Accept rho: -0.37296326298175586\n",
      "Step: 136, Current Hamiltoninian: 66.00235570117138, Proposed Hamiltoninian: 66.18831719383698\n",
      "REJECT\n",
      "Step: 137, Current Hamiltoninian: 68.43226470692642, Proposed Hamiltoninian: 68.57365678249974\n",
      "REJECT\n",
      "Step: 138, Current Hamiltoninian: 68.27171876367598, Proposed Hamiltoninian: 67.81442311763666\n",
      "Accept rho: 0.0\n",
      "Step: 139, Current Hamiltoninian: 66.70544197930687, Proposed Hamiltoninian: 67.50309533466775\n",
      "Accept rho: -0.7976533553608789\n",
      "Step: 140, Current Hamiltoninian: 65.71413490144872, Proposed Hamiltoninian: 65.17535763942433\n",
      "Accept rho: 0.0\n",
      "Step: 141, Current Hamiltoninian: 66.02196636184863, Proposed Hamiltoninian: 66.71128564306869\n",
      "REJECT\n",
      "Step: 142, Current Hamiltoninian: 66.47754904293222, Proposed Hamiltoninian: 66.37205456550632\n",
      "Accept rho: 0.0\n"
     ]
    },
    {
     "name": "stdout",
     "output_type": "stream",
     "text": [
      "Step: 143, Current Hamiltoninian: 59.55785814445909, Proposed Hamiltoninian: 59.381064462686524\n",
      "Accept rho: 0.0\n",
      "Step: 144, Current Hamiltoninian: 63.698963130572885, Proposed Hamiltoninian: 62.56662648067613\n",
      "Accept rho: 0.0\n",
      "Step: 145, Current Hamiltoninian: 60.958394253354, Proposed Hamiltoninian: 60.942966217677096\n",
      "Accept rho: 0.0\n",
      "Step: 146, Current Hamiltoninian: 72.99880792346403, Proposed Hamiltoninian: 73.50516628366319\n",
      "REJECT\n",
      "Step: 147, Current Hamiltoninian: 58.32469915333339, Proposed Hamiltoninian: 58.31942354504587\n",
      "Accept rho: 0.0\n",
      "Step: 148, Current Hamiltoninian: 70.83211165293103, Proposed Hamiltoninian: 71.19556596153492\n",
      "REJECT\n",
      "Step: 149, Current Hamiltoninian: 54.71770164267312, Proposed Hamiltoninian: 54.83667634340513\n",
      "Accept rho: -0.11897470073201077\n",
      "Step: 150, Current Hamiltoninian: 64.48147585221798, Proposed Hamiltoninian: 67.52266209860491\n",
      "REJECT\n",
      "Step: 151, Current Hamiltoninian: 51.826983320722064, Proposed Hamiltoninian: 51.8590884737021\n",
      "Accept rho: -0.03210515298003713\n",
      "Step: 152, Current Hamiltoninian: 56.37674614982905, Proposed Hamiltoninian: 56.79890399999809\n",
      "REJECT\n",
      "Step: 153, Current Hamiltoninian: 50.12636352445895, Proposed Hamiltoninian: 50.290994726708185\n",
      "Accept rho: -0.16463120224923244\n",
      "Step: 154, Current Hamiltoninian: 49.687388581373696, Proposed Hamiltoninian: 49.614081239446456\n",
      "Accept rho: 0.0\n",
      "Step: 155, Current Hamiltoninian: 50.06437673041931, Proposed Hamiltoninian: 50.10806951961915\n",
      "Accept rho: -0.04369278919983799\n",
      "Step: 156, Current Hamiltoninian: 55.39074656948797, Proposed Hamiltoninian: 55.848432614333554\n",
      "Accept rho: -0.4576860448455804\n",
      "Step: 157, Current Hamiltoninian: 53.604138661412264, Proposed Hamiltoninian: 53.8232034022014\n",
      "Accept rho: -0.21906474078913618\n",
      "Step: 158, Current Hamiltoninian: 63.47334050953954, Proposed Hamiltoninian: 62.93106172083872\n",
      "Accept rho: 0.0\n",
      "Step: 159, Current Hamiltoninian: 58.48691413557155, Proposed Hamiltoninian: 58.30651822434166\n",
      "Accept rho: 0.0\n",
      "Step: 160, Current Hamiltoninian: 67.61579323615359, Proposed Hamiltoninian: 67.94203986558702\n",
      "Accept rho: -0.3262466294334274\n",
      "Step: 161, Current Hamiltoninian: 67.60082706122569, Proposed Hamiltoninian: 67.05540410536872\n",
      "Accept rho: 0.0\n",
      "Step: 162, Current Hamiltoninian: 65.10828460619751, Proposed Hamiltoninian: 65.71460955198725\n",
      "REJECT\n",
      "Step: 163, Current Hamiltoninian: 69.09739486760165, Proposed Hamiltoninian: 69.21671935067872\n",
      "Accept rho: -0.11932448307706522\n",
      "Step: 164, Current Hamiltoninian: 71.78022175933427, Proposed Hamiltoninian: 71.76998796998008\n",
      "Accept rho: 0.0\n",
      "Step: 165, Current Hamiltoninian: 50.56834543182686, Proposed Hamiltoninian: 50.201994267880835\n",
      "Accept rho: 0.0\n",
      "Step: 166, Current Hamiltoninian: 58.44590635309787, Proposed Hamiltoninian: 60.666509594778525\n",
      "REJECT\n",
      "Step: 167, Current Hamiltoninian: 68.8286817433443, Proposed Hamiltoninian: 68.64365760552444\n",
      "Accept rho: 0.0\n",
      "Step: 168, Current Hamiltoninian: 70.34968984043834, Proposed Hamiltoninian: 70.32925014577917\n",
      "Accept rho: 0.0\n",
      "Step: 169, Current Hamiltoninian: 56.637049626893344, Proposed Hamiltoninian: 57.22481656263794\n",
      "Accept rho: -0.5877669357445967\n",
      "Step: 170, Current Hamiltoninian: 79.20947328764464, Proposed Hamiltoninian: 79.5236733239683\n",
      "REJECT\n",
      "Step: 171, Current Hamiltoninian: 58.5066655781689, Proposed Hamiltoninian: 58.037892334577364\n",
      "Accept rho: 0.0\n",
      "Step: 172, Current Hamiltoninian: 56.83053694227773, Proposed Hamiltoninian: 56.517921997654\n",
      "Accept rho: 0.0\n",
      "Step: 173, Current Hamiltoninian: 51.40060461256725, Proposed Hamiltoninian: 52.59340488827657\n",
      "REJECT\n",
      "Step: 174, Current Hamiltoninian: 53.49292272844579, Proposed Hamiltoninian: 53.885832556014385\n",
      "Accept rho: -0.3929098275685945\n",
      "Step: 175, Current Hamiltoninian: 52.32454969726704, Proposed Hamiltoninian: 51.686485482654334\n",
      "Accept rho: 0.0\n",
      "Step: 176, Current Hamiltoninian: 51.67693240231423, Proposed Hamiltoninian: 51.92773961109627\n",
      "Accept rho: -0.2508072087820423\n",
      "Step: 177, Current Hamiltoninian: 57.0167352464135, Proposed Hamiltoninian: 56.817753674506264\n",
      "Accept rho: 0.0\n",
      "Step: 178, Current Hamiltoninian: 55.306761727393294, Proposed Hamiltoninian: 55.71489838352534\n",
      "Accept rho: -0.40813665613204364\n",
      "Step: 179, Current Hamiltoninian: 56.95750482163513, Proposed Hamiltoninian: 56.71325035914457\n",
      "Accept rho: 0.0\n",
      "Step: 180, Current Hamiltoninian: 61.6405844661452, Proposed Hamiltoninian: 61.702346695176175\n",
      "Accept rho: -0.06176222903097539\n",
      "Step: 181, Current Hamiltoninian: 64.59654078301878, Proposed Hamiltoninian: 65.20455414982972\n",
      "REJECT\n",
      "Step: 182, Current Hamiltoninian: 66.1655998734093, Proposed Hamiltoninian: 65.51448804059994\n",
      "Accept rho: 0.0\n",
      "Step: 183, Current Hamiltoninian: 54.1580130631051, Proposed Hamiltoninian: 54.867335101246866\n",
      "REJECT\n",
      "Step: 184, Current Hamiltoninian: 54.943962117732426, Proposed Hamiltoninian: 54.46851585478936\n",
      "Accept rho: 0.0\n",
      "Step: 185, Current Hamiltoninian: 60.78089527887161, Proposed Hamiltoninian: 61.009240627294865\n",
      "Accept rho: -0.22834534842325382\n",
      "Step: 186, Current Hamiltoninian: 62.08001925258745, Proposed Hamiltoninian: 63.471501091310245\n",
      "REJECT\n",
      "Step: 187, Current Hamiltoninian: 50.35319686629177, Proposed Hamiltoninian: 50.434887790669656\n",
      "REJECT\n",
      "Step: 188, Current Hamiltoninian: 53.31696223925468, Proposed Hamiltoninian: 53.36252866780207\n",
      "Accept rho: -0.04556642854738868\n",
      "Step: 189, Current Hamiltoninian: 64.59595871420763, Proposed Hamiltoninian: 64.66512241943113\n",
      "REJECT\n",
      "Step: 190, Current Hamiltoninian: 49.32010990410152, Proposed Hamiltoninian: 49.67266182429391\n",
      "REJECT\n",
      "Step: 191, Current Hamiltoninian: 54.24381811451978, Proposed Hamiltoninian: 55.34647262270529\n",
      "REJECT\n",
      "Step: 192, Current Hamiltoninian: 60.00345996505754, Proposed Hamiltoninian: 60.02643327982336\n",
      "Accept rho: -0.022973314765820874\n",
      "Step: 193, Current Hamiltoninian: 58.18823054843365, Proposed Hamiltoninian: 57.8493440225146\n",
      "Accept rho: 0.0\n",
      "Step: 194, Current Hamiltoninian: 60.71188695999406, Proposed Hamiltoninian: 60.54761050583055\n",
      "Accept rho: 0.0\n",
      "Step: 195, Current Hamiltoninian: 57.593207754283426, Proposed Hamiltoninian: 57.786242771880964\n",
      "Accept rho: -0.19303501759753772\n",
      "Step: 196, Current Hamiltoninian: 68.94750556750492, Proposed Hamiltoninian: 69.39488902385537\n",
      "Accept rho: -0.44738345635045107\n",
      "Step: 197, Current Hamiltoninian: 70.76481226742675, Proposed Hamiltoninian: 70.80792612849991\n",
      "Accept rho: -0.043113861073166504\n",
      "Step: 198, Current Hamiltoninian: 59.548157403588675, Proposed Hamiltoninian: 62.58705460245159\n",
      "REJECT\n",
      "Step: 199, Current Hamiltoninian: 60.546248209328496, Proposed Hamiltoninian: 60.03255604817964\n",
      "Accept rho: 0.0\n",
      "Step: 200, Current Hamiltoninian: 66.7208630979965, Proposed Hamiltoninian: 66.5626755401879\n",
      "Accept rho: 0.0\n",
      "Step: 201, Current Hamiltoninian: 53.12146564760991, Proposed Hamiltoninian: 53.15867979182781\n",
      "Accept rho: -0.03721414421789859\n",
      "Step: 202, Current Hamiltoninian: 70.84827098747611, Proposed Hamiltoninian: 72.07725315116255\n",
      "Accept rho: -1.2289821636864389\n",
      "Step: 203, Current Hamiltoninian: 74.55340238924113, Proposed Hamiltoninian: 73.03039220147612\n",
      "Accept rho: 0.0\n",
      "Step: 204, Current Hamiltoninian: 76.56067608957314, Proposed Hamiltoninian: 75.56129325917937\n",
      "Accept rho: 0.0\n",
      "Step: 205, Current Hamiltoninian: 60.67871119359862, Proposed Hamiltoninian: 60.790377245872875\n",
      "REJECT\n",
      "Step: 206, Current Hamiltoninian: 61.155723793983725, Proposed Hamiltoninian: 62.52088327154979\n",
      "REJECT\n",
      "Step: 207, Current Hamiltoninian: 63.70686848296013, Proposed Hamiltoninian: 63.721026144700375\n",
      "Accept rho: -0.014157661740242133\n",
      "Step: 208, Current Hamiltoninian: 73.72775819626307, Proposed Hamiltoninian: 74.345917251569\n",
      "REJECT\n",
      "Step: 209, Current Hamiltoninian: 58.50479426237477, Proposed Hamiltoninian: 59.390728503383\n",
      "Accept rho: -0.8859342410082292\n",
      "Step: 210, Current Hamiltoninian: 58.763537418176554, Proposed Hamiltoninian: 58.26749511380105\n",
      "Accept rho: 0.0\n",
      "Step: 211, Current Hamiltoninian: 60.66086714526118, Proposed Hamiltoninian: 61.247866665899075\n",
      "REJECT\n",
      "Step: 212, Current Hamiltoninian: 64.8148022951497, Proposed Hamiltoninian: 65.43516059530833\n",
      "REJECT\n",
      "Step: 213, Current Hamiltoninian: 65.52462466852344, Proposed Hamiltoninian: 66.83929125746666\n",
      "Accept rho: -1.3146665889432114\n",
      "Step: 214, Current Hamiltoninian: 64.01177725302907, Proposed Hamiltoninian: 62.893012814646795\n",
      "Accept rho: 0.0\n"
     ]
    },
    {
     "name": "stdout",
     "output_type": "stream",
     "text": [
      "Step: 215, Current Hamiltoninian: 76.15050809354236, Proposed Hamiltoninian: 77.19428132102955\n",
      "Accept rho: -1.0437732274871934\n",
      "Step: 216, Current Hamiltoninian: 58.82667343874189, Proposed Hamiltoninian: 59.901930297736016\n",
      "Accept rho: -1.0752568589941234\n",
      "Step: 217, Current Hamiltoninian: 62.56347657662235, Proposed Hamiltoninian: 62.545137310025645\n",
      "Accept rho: 0.0\n",
      "Step: 218, Current Hamiltoninian: 61.85679904726527, Proposed Hamiltoninian: 61.77838081253897\n",
      "Accept rho: 0.0\n",
      "Step: 219, Current Hamiltoninian: 61.06136831480899, Proposed Hamiltoninian: 63.400054095853086\n",
      "REJECT\n",
      "Step: 220, Current Hamiltoninian: 60.23580410815215, Proposed Hamiltoninian: 60.506302853080214\n",
      "Accept rho: -0.27049874492806225\n",
      "Step: 221, Current Hamiltoninian: 68.09343007458496, Proposed Hamiltoninian: 68.27192729644216\n",
      "Accept rho: -0.1784972218571994\n",
      "Step: 222, Current Hamiltoninian: 65.2919384457345, Proposed Hamiltoninian: 65.94327261072857\n",
      "Accept rho: -0.6513341649940685\n",
      "Step: 223, Current Hamiltoninian: 59.93759899927399, Proposed Hamiltoninian: 58.65524540453906\n",
      "Accept rho: 0.0\n",
      "Step: 224, Current Hamiltoninian: 68.06706039809723, Proposed Hamiltoninian: 67.01533689665291\n",
      "Accept rho: 0.0\n",
      "Step: 225, Current Hamiltoninian: 58.87261022501269, Proposed Hamiltoninian: 58.5343792925477\n",
      "Accept rho: 0.0\n",
      "Step: 226, Current Hamiltoninian: 54.32179266541441, Proposed Hamiltoninian: 53.77190636909091\n",
      "Accept rho: 0.0\n",
      "Step: 227, Current Hamiltoninian: 61.58548233867065, Proposed Hamiltoninian: 61.04419624313493\n",
      "Accept rho: 0.0\n",
      "Step: 228, Current Hamiltoninian: 62.68215046056922, Proposed Hamiltoninian: 61.66887873942056\n",
      "Accept rho: 0.0\n",
      "Step: 229, Current Hamiltoninian: 66.98228010040802, Proposed Hamiltoninian: 66.01839438266086\n",
      "Accept rho: 0.0\n",
      "Step: 230, Current Hamiltoninian: 65.5177017336884, Proposed Hamiltoninian: 65.26648815277862\n",
      "Accept rho: 0.0\n",
      "Step: 231, Current Hamiltoninian: 57.36830042989804, Proposed Hamiltoninian: 56.864854662035405\n",
      "Accept rho: 0.0\n",
      "Step: 232, Current Hamiltoninian: 69.89124323394694, Proposed Hamiltoninian: 70.79758037561118\n",
      "REJECT\n",
      "Step: 233, Current Hamiltoninian: 64.26897263044667, Proposed Hamiltoninian: 64.07114147642507\n",
      "Accept rho: 0.0\n",
      "Step: 234, Current Hamiltoninian: 60.72786156169803, Proposed Hamiltoninian: 59.983512466990256\n",
      "Accept rho: 0.0\n",
      "Step: 235, Current Hamiltoninian: 72.35098510998952, Proposed Hamiltoninian: 72.68130989543648\n",
      "Accept rho: -0.33032478544696176\n",
      "Step: 236, Current Hamiltoninian: 67.96462909958792, Proposed Hamiltoninian: 68.33022141601438\n",
      "Accept rho: -0.36559231642645784\n",
      "Step: 237, Current Hamiltoninian: 51.46782822643564, Proposed Hamiltoninian: 50.629537538452844\n",
      "Accept rho: 0.0\n",
      "Step: 238, Current Hamiltoninian: 63.93369350950584, Proposed Hamiltoninian: 63.314291490149316\n",
      "Accept rho: 0.0\n",
      "Step: 239, Current Hamiltoninian: 70.37698847139633, Proposed Hamiltoninian: 69.94953411198222\n",
      "Accept rho: 0.0\n",
      "Step: 240, Current Hamiltoninian: 69.95852523013916, Proposed Hamiltoninian: 70.5138142629149\n",
      "Accept rho: -0.5552890327757467\n",
      "Step: 241, Current Hamiltoninian: 63.723551296199645, Proposed Hamiltoninian: 63.590557623936874\n",
      "Accept rho: 0.0\n",
      "Step: 242, Current Hamiltoninian: 66.00143548460318, Proposed Hamiltoninian: 67.27282425932245\n",
      "Accept rho: -1.27138877471927\n",
      "Step: 243, Current Hamiltoninian: 67.39723678891747, Proposed Hamiltoninian: 67.81242666429608\n",
      "REJECT\n",
      "Step: 244, Current Hamiltoninian: 55.448453751577695, Proposed Hamiltoninian: 55.007069955267575\n",
      "Accept rho: 0.0\n",
      "Step: 245, Current Hamiltoninian: 86.01432829400763, Proposed Hamiltoninian: 86.43816141768082\n",
      "Accept rho: -0.4238331236731909\n",
      "Step: 246, Current Hamiltoninian: 75.01822095416188, Proposed Hamiltoninian: 75.63098137302498\n",
      "REJECT\n",
      "Step: 247, Current Hamiltoninian: 65.55042633004534, Proposed Hamiltoninian: 64.99625481525665\n",
      "Accept rho: 0.0\n",
      "Step: 248, Current Hamiltoninian: 59.170105091568445, Proposed Hamiltoninian: 60.17153876835175\n",
      "Accept rho: -1.0014336767833072\n",
      "Step: 249, Current Hamiltoninian: 63.6248721672286, Proposed Hamiltoninian: 63.816098155998475\n",
      "Accept rho: -0.1912259887698724\n",
      "Step: 250, Current Hamiltoninian: 74.68677481287696, Proposed Hamiltoninian: 73.71090648552479\n",
      "Accept rho: 0.0\n",
      "Step: 251, Current Hamiltoninian: 60.32735659377711, Proposed Hamiltoninian: 61.09544359643003\n",
      "REJECT\n",
      "Step: 252, Current Hamiltoninian: 59.2594641336219, Proposed Hamiltoninian: 59.40924014827906\n",
      "Accept rho: -0.14977601465716361\n",
      "Step: 253, Current Hamiltoninian: 71.77458422623363, Proposed Hamiltoninian: 70.6497652687913\n",
      "Accept rho: 0.0\n",
      "Step: 254, Current Hamiltoninian: 65.61801770249255, Proposed Hamiltoninian: 65.20629730582863\n",
      "Accept rho: 0.0\n",
      "Step: 255, Current Hamiltoninian: 65.38052257889129, Proposed Hamiltoninian: 65.75640913385288\n",
      "REJECT\n",
      "Step: 256, Current Hamiltoninian: 63.67724658391016, Proposed Hamiltoninian: 64.18679788031439\n",
      "Accept rho: -0.5095512964042257\n",
      "Final Adapted Step Size:  4.3780099076684564e-05\n",
      "Step: 257, Current Hamiltoninian: 54.48420573854415, Proposed Hamiltoninian: 54.21252280685033\n",
      "Accept rho: 0.0\n",
      "Step: 258, Current Hamiltoninian: 58.30250891521814, Proposed Hamiltoninian: 57.12843716298384\n",
      "Accept rho: 0.0\n",
      "Step: 259, Current Hamiltoninian: 54.65688989384036, Proposed Hamiltoninian: 56.08911060228023\n",
      "REJECT\n",
      "Step: 260, Current Hamiltoninian: 68.6301940410054, Proposed Hamiltoninian: 68.45337398213466\n",
      "Accept rho: 0.0\n",
      "Step: 261, Current Hamiltoninian: 62.784614673621306, Proposed Hamiltoninian: 61.86221485510107\n",
      "Accept rho: 0.0\n",
      "Step: 262, Current Hamiltoninian: 56.60400486852456, Proposed Hamiltoninian: 56.85067946292948\n",
      "Accept rho: -0.24667459440491513\n",
      "Step: 263, Current Hamiltoninian: 66.40249728606105, Proposed Hamiltoninian: 67.38426385694756\n",
      "REJECT\n",
      "Step: 264, Current Hamiltoninian: 63.38081877845242, Proposed Hamiltoninian: 62.396644934364076\n",
      "Accept rho: 0.0\n",
      "Step: 265, Current Hamiltoninian: 67.55034951579555, Proposed Hamiltoninian: 67.713271654676\n",
      "Accept rho: -0.16292213888046092\n",
      "Step: 266, Current Hamiltoninian: 52.39101757382468, Proposed Hamiltoninian: 51.78239177925772\n",
      "Accept rho: 0.0\n",
      "Step: 267, Current Hamiltoninian: 90.71348154354715, Proposed Hamiltoninian: 90.0347173732388\n",
      "Accept rho: 0.0\n",
      "Step: 268, Current Hamiltoninian: 57.66960286390631, Proposed Hamiltoninian: 58.56113376209801\n",
      "REJECT\n",
      "Step: 269, Current Hamiltoninian: 60.92072407870003, Proposed Hamiltoninian: 59.736366746933584\n",
      "Accept rho: 0.0\n",
      "Step: 270, Current Hamiltoninian: 58.868136409468036, Proposed Hamiltoninian: 59.106161751639874\n",
      "REJECT\n",
      "Step: 271, Current Hamiltoninian: 51.522451686369116, Proposed Hamiltoninian: 51.61383462228039\n",
      "Accept rho: -0.09138293591127677\n",
      "Step: 272, Current Hamiltoninian: 59.07006612508679, Proposed Hamiltoninian: 60.40336074373391\n",
      "REJECT\n",
      "Step: 273, Current Hamiltoninian: 60.74565670225765, Proposed Hamiltoninian: 61.232303255223705\n",
      "REJECT\n",
      "Step: 274, Current Hamiltoninian: 68.34196844107983, Proposed Hamiltoninian: 67.9547605891749\n",
      "Accept rho: 0.0\n",
      "Step: 275, Current Hamiltoninian: 69.39101212991326, Proposed Hamiltoninian: 69.29550650442803\n",
      "Accept rho: 0.0\n",
      "Step: 276, Current Hamiltoninian: 70.4858258937617, Proposed Hamiltoninian: 69.97718329403158\n",
      "Accept rho: 0.0\n",
      "Step: 277, Current Hamiltoninian: 68.1600120420432, Proposed Hamiltoninian: 66.66283852163082\n",
      "Accept rho: 0.0\n",
      "Step: 278, Current Hamiltoninian: 67.32902855298845, Proposed Hamiltoninian: 67.6742816906366\n",
      "Accept rho: -0.34525313764815735\n",
      "Step: 279, Current Hamiltoninian: 58.891894556902756, Proposed Hamiltoninian: 58.84038058671208\n",
      "Accept rho: 0.0\n",
      "Step: 280, Current Hamiltoninian: 58.25672499690744, Proposed Hamiltoninian: 58.102696419983815\n",
      "Accept rho: 0.0\n",
      "Step: 281, Current Hamiltoninian: 64.01438229176856, Proposed Hamiltoninian: 63.976660690233416\n",
      "Accept rho: 0.0\n",
      "Step: 282, Current Hamiltoninian: 63.52716073058004, Proposed Hamiltoninian: 64.33769787508425\n",
      "Accept rho: -0.8105371445042024\n",
      "Step: 283, Current Hamiltoninian: 57.20180337116587, Proposed Hamiltoninian: 58.09783213279344\n",
      "Accept rho: -0.8960287616275693\n",
      "Step: 284, Current Hamiltoninian: 49.39570089025581, Proposed Hamiltoninian: 48.70708619670407\n",
      "Accept rho: 0.0\n",
      "Step: 285, Current Hamiltoninian: 59.992217565810904, Proposed Hamiltoninian: 60.14625775606071\n",
      "Accept rho: -0.15404019024980897\n",
      "Step: 286, Current Hamiltoninian: 54.3960512103451, Proposed Hamiltoninian: 54.24632672828403\n",
      "Accept rho: 0.0\n"
     ]
    },
    {
     "name": "stdout",
     "output_type": "stream",
     "text": [
      "Step: 287, Current Hamiltoninian: 47.284302121860996, Proposed Hamiltoninian: 46.369687387634414\n",
      "Accept rho: 0.0\n",
      "Step: 288, Current Hamiltoninian: 55.33249018895235, Proposed Hamiltoninian: 54.915649299273326\n",
      "Accept rho: 0.0\n",
      "Step: 289, Current Hamiltoninian: 64.14715269074264, Proposed Hamiltoninian: 63.070241625679714\n",
      "Accept rho: 0.0\n",
      "Step: 290, Current Hamiltoninian: 68.39397557433198, Proposed Hamiltoninian: 68.24475378662683\n",
      "Accept rho: 0.0\n",
      "Step: 291, Current Hamiltoninian: 69.15991008179765, Proposed Hamiltoninian: 69.88422783867685\n",
      "REJECT\n",
      "Step: 292, Current Hamiltoninian: 48.12309416944214, Proposed Hamiltoninian: 48.09927176073009\n",
      "Accept rho: 0.0\n",
      "Step: 293, Current Hamiltoninian: 66.14798859554062, Proposed Hamiltoninian: 66.54400840101576\n",
      "REJECT\n",
      "Step: 294, Current Hamiltoninian: 53.853938345820694, Proposed Hamiltoninian: 53.90856616834375\n",
      "Accept rho: -0.054627822523052316\n",
      "Step: 295, Current Hamiltoninian: 67.94039691147549, Proposed Hamiltoninian: 68.40168313997856\n",
      "Accept rho: -0.4612862285030701\n",
      "Step: 296, Current Hamiltoninian: 65.67001180842277, Proposed Hamiltoninian: 64.27155690384234\n",
      "Accept rho: 0.0\n",
      "Step: 297, Current Hamiltoninian: 61.71050605193388, Proposed Hamiltoninian: 61.950366552738\n",
      "REJECT\n",
      "Step: 298, Current Hamiltoninian: 64.81404961759954, Proposed Hamiltoninian: 64.93177371820326\n",
      "Accept rho: -0.11772410060372351\n",
      "Step: 299, Current Hamiltoninian: 67.80710295178207, Proposed Hamiltoninian: 68.21922130501477\n",
      "Accept rho: -0.4121183532326995\n",
      "Step: 300, Current Hamiltoninian: 52.69712448981906, Proposed Hamiltoninian: 51.217540810355885\n",
      "Accept rho: 0.0\n",
      "Step: 301, Current Hamiltoninian: 57.40912755065084, Proposed Hamiltoninian: 57.96537239671446\n",
      "REJECT\n",
      "Step: 302, Current Hamiltoninian: 56.69552703152944, Proposed Hamiltoninian: 56.34721414416979\n",
      "Accept rho: 0.0\n",
      "Step: 303, Current Hamiltoninian: 51.67357695383893, Proposed Hamiltoninian: 51.480061771150616\n",
      "Accept rho: 0.0\n",
      "Step: 304, Current Hamiltoninian: 86.88962253209488, Proposed Hamiltoninian: 86.58963025582798\n",
      "Accept rho: 0.0\n",
      "Step: 305, Current Hamiltoninian: 61.997001291588724, Proposed Hamiltoninian: 62.352947771061324\n",
      "Accept rho: -0.3559464794725997\n",
      "Step: 306, Current Hamiltoninian: 65.20212631037353, Proposed Hamiltoninian: 63.613377360538436\n",
      "Accept rho: 0.0\n",
      "Step: 307, Current Hamiltoninian: 57.67882935068248, Proposed Hamiltoninian: 58.256779918017074\n",
      "Accept rho: -0.5779505673345966\n",
      "Step: 308, Current Hamiltoninian: 65.57384528759036, Proposed Hamiltoninian: 65.01414044304174\n",
      "Accept rho: 0.0\n",
      "Step: 309, Current Hamiltoninian: 50.39592375318747, Proposed Hamiltoninian: 50.55081825702232\n",
      "Accept rho: -0.15489450383485348\n",
      "Step: 310, Current Hamiltoninian: 69.25079084448555, Proposed Hamiltoninian: 69.70320454085544\n",
      "REJECT\n",
      "Step: 311, Current Hamiltoninian: 70.71870887893104, Proposed Hamiltoninian: 70.95958469481175\n",
      "Accept rho: -0.24087581588071316\n",
      "Step: 312, Current Hamiltoninian: 64.22260066951607, Proposed Hamiltoninian: 63.16446537903246\n",
      "Accept rho: 0.0\n",
      "Step: 313, Current Hamiltoninian: 62.00933803559221, Proposed Hamiltoninian: 61.5403902075216\n",
      "Accept rho: 0.0\n",
      "Step: 314, Current Hamiltoninian: 80.64406322940236, Proposed Hamiltoninian: 80.8955795489223\n",
      "Accept rho: -0.25151631951993636\n",
      "Step: 315, Current Hamiltoninian: 56.27778679741126, Proposed Hamiltoninian: 56.73620692907936\n",
      "REJECT\n",
      "Step: 316, Current Hamiltoninian: 63.782414908790834, Proposed Hamiltoninian: 64.61688560975905\n",
      "Accept rho: -0.8344707009682182\n",
      "Step: 317, Current Hamiltoninian: 65.76831110325641, Proposed Hamiltoninian: 64.93462684709114\n",
      "Accept rho: 0.0\n",
      "Step: 318, Current Hamiltoninian: 62.32559128521913, Proposed Hamiltoninian: 63.89942652628446\n",
      "REJECT\n",
      "Step: 319, Current Hamiltoninian: 50.33670130476613, Proposed Hamiltoninian: 49.904241057350326\n",
      "Accept rho: 0.0\n",
      "Step: 320, Current Hamiltoninian: 75.62951800804814, Proposed Hamiltoninian: 75.14410417134482\n",
      "Accept rho: 0.0\n",
      "Step: 321, Current Hamiltoninian: 59.0533381081605, Proposed Hamiltoninian: 58.37035684850129\n",
      "Accept rho: 0.0\n",
      "Step: 322, Current Hamiltoninian: 59.61735444371181, Proposed Hamiltoninian: 58.49104434853335\n",
      "Accept rho: 0.0\n",
      "Step: 323, Current Hamiltoninian: 62.45393730512409, Proposed Hamiltoninian: 62.83835414629286\n",
      "REJECT\n",
      "Step: 324, Current Hamiltoninian: 49.61773498244067, Proposed Hamiltoninian: 49.42879065964821\n",
      "Accept rho: 0.0\n",
      "Step: 325, Current Hamiltoninian: 64.71745137435889, Proposed Hamiltoninian: 64.83576147701439\n",
      "Accept rho: -0.11831010265549935\n",
      "Step: 326, Current Hamiltoninian: 56.940943543350585, Proposed Hamiltoninian: 58.379323176281545\n",
      "Accept rho: -1.4383796329309604\n",
      "Step: 327, Current Hamiltoninian: 66.82951215245754, Proposed Hamiltoninian: 67.57160103920613\n",
      "Accept rho: -0.74208888674859\n",
      "Step: 328, Current Hamiltoninian: 73.35125504012387, Proposed Hamiltoninian: 72.32593593718983\n",
      "Accept rho: 0.0\n",
      "Step: 329, Current Hamiltoninian: 56.90914505390188, Proposed Hamiltoninian: 56.93982496616342\n",
      "Accept rho: -0.03067991226154021\n",
      "Step: 330, Current Hamiltoninian: 83.86977986237653, Proposed Hamiltoninian: 83.75950868229475\n",
      "Accept rho: 0.0\n",
      "Step: 331, Current Hamiltoninian: 66.31411185135028, Proposed Hamiltoninian: 66.34562316170468\n",
      "Accept rho: -0.03151131035440358\n",
      "Step: 332, Current Hamiltoninian: 49.38742386015447, Proposed Hamiltoninian: 48.43730344528872\n",
      "Accept rho: 0.0\n",
      "Step: 333, Current Hamiltoninian: 70.14184287342243, Proposed Hamiltoninian: 71.29172098088314\n",
      "REJECT\n",
      "Step: 334, Current Hamiltoninian: 66.86801797917038, Proposed Hamiltoninian: 66.07710923032698\n",
      "Accept rho: 0.0\n",
      "Step: 335, Current Hamiltoninian: 59.64415021910135, Proposed Hamiltoninian: 59.419291824900014\n",
      "Accept rho: 0.0\n",
      "Step: 336, Current Hamiltoninian: 52.25196434122202, Proposed Hamiltoninian: 51.52490762229688\n",
      "Accept rho: 0.0\n",
      "Step: 337, Current Hamiltoninian: 57.745114664131904, Proposed Hamiltoninian: 56.80762594622304\n",
      "Accept rho: 0.0\n",
      "Step: 338, Current Hamiltoninian: 77.08707911623746, Proposed Hamiltoninian: 76.87816204686078\n",
      "Accept rho: 0.0\n",
      "Step: 339, Current Hamiltoninian: 71.71573763621198, Proposed Hamiltoninian: 70.25295649642362\n",
      "Accept rho: 0.0\n",
      "Step: 340, Current Hamiltoninian: 64.78772444928, Proposed Hamiltoninian: 64.80896656616753\n",
      "Accept rho: -0.02124211688752098\n",
      "Step: 341, Current Hamiltoninian: 89.04145147015497, Proposed Hamiltoninian: 89.68664968561602\n",
      "REJECT\n",
      "Step: 342, Current Hamiltoninian: 72.78867739902005, Proposed Hamiltoninian: 72.46091002997042\n",
      "Accept rho: 0.0\n",
      "Step: 343, Current Hamiltoninian: 67.24655686789056, Proposed Hamiltoninian: 66.65925764794666\n",
      "Accept rho: 0.0\n",
      "Step: 344, Current Hamiltoninian: 72.5908361889766, Proposed Hamiltoninian: 72.69204809798845\n",
      "Accept rho: -0.10121190901185173\n",
      "Step: 345, Current Hamiltoninian: 69.25884844037219, Proposed Hamiltoninian: 69.49531883625157\n",
      "Accept rho: -0.23647039587937968\n",
      "Step: 346, Current Hamiltoninian: 60.36240160363954, Proposed Hamiltoninian: 60.621884542182926\n",
      "Accept rho: -0.25948293854338544\n",
      "Step: 347, Current Hamiltoninian: 49.61250096910881, Proposed Hamiltoninian: 49.94825731306347\n",
      "Accept rho: -0.3357563439546638\n",
      "Step: 348, Current Hamiltoninian: 46.28964557078169, Proposed Hamiltoninian: 47.02354298619906\n",
      "Accept rho: -0.7338974154173741\n",
      "Step: 349, Current Hamiltoninian: 76.99835568659427, Proposed Hamiltoninian: 76.0039710152941\n",
      "Accept rho: 0.0\n",
      "Step: 350, Current Hamiltoninian: 59.182241758709026, Proposed Hamiltoninian: 58.933419285855564\n",
      "Accept rho: 0.0\n",
      "Step: 351, Current Hamiltoninian: 75.29189611354647, Proposed Hamiltoninian: 74.82605460133618\n",
      "Accept rho: 0.0\n",
      "Step: 352, Current Hamiltoninian: 53.53543254990524, Proposed Hamiltoninian: 53.17497324498306\n",
      "Accept rho: 0.0\n",
      "Step: 353, Current Hamiltoninian: 55.03223354702324, Proposed Hamiltoninian: 56.48487053778477\n",
      "REJECT\n",
      "Step: 354, Current Hamiltoninian: 58.55655665076037, Proposed Hamiltoninian: 59.12227533739724\n",
      "Accept rho: -0.5657186866368704\n",
      "Step: 355, Current Hamiltoninian: 51.767318725392784, Proposed Hamiltoninian: 53.334899675021234\n",
      "REJECT\n",
      "Step: 356, Current Hamiltoninian: 70.15142804064638, Proposed Hamiltoninian: 70.49842977605321\n",
      "Accept rho: -0.34700173540683465\n",
      "Step: 357, Current Hamiltoninian: 61.52915011607738, Proposed Hamiltoninian: 62.0736330269551\n",
      "REJECT\n",
      "Step: 358, Current Hamiltoninian: 56.820469145624756, Proposed Hamiltoninian: 57.50273086579568\n",
      "REJECT\n"
     ]
    },
    {
     "name": "stdout",
     "output_type": "stream",
     "text": [
      "Step: 359, Current Hamiltoninian: 66.85237254191571, Proposed Hamiltoninian: 65.85038750498902\n",
      "Accept rho: 0.0\n",
      "Step: 360, Current Hamiltoninian: 75.08489432723309, Proposed Hamiltoninian: 74.80818951040465\n",
      "Accept rho: 0.0\n",
      "Step: 361, Current Hamiltoninian: 69.46945807820691, Proposed Hamiltoninian: 70.18080695793022\n",
      "Accept rho: -0.7113488797233032\n",
      "Step: 362, Current Hamiltoninian: 54.57165051952285, Proposed Hamiltoninian: 54.548612086434474\n",
      "Accept rho: 0.0\n",
      "Step: 363, Current Hamiltoninian: 52.5132610352185, Proposed Hamiltoninian: 52.05377940646504\n",
      "Accept rho: 0.0\n",
      "Step: 364, Current Hamiltoninian: 64.72202014149659, Proposed Hamiltoninian: 64.220479952578\n",
      "Accept rho: 0.0\n",
      "Step: 365, Current Hamiltoninian: 59.59206617927522, Proposed Hamiltoninian: 59.730733163379696\n",
      "Accept rho: -0.13866698410447498\n",
      "Step: 366, Current Hamiltoninian: 63.05789781192108, Proposed Hamiltoninian: 64.74202363517107\n",
      "REJECT\n",
      "Step: 367, Current Hamiltoninian: 71.67408488657344, Proposed Hamiltoninian: 72.76604797122495\n",
      "REJECT\n",
      "Step: 368, Current Hamiltoninian: 63.16643334170121, Proposed Hamiltoninian: 63.75328596560616\n",
      "REJECT\n",
      "Step: 369, Current Hamiltoninian: 60.372333779224235, Proposed Hamiltoninian: 59.30150518470585\n",
      "Accept rho: 0.0\n",
      "Step: 370, Current Hamiltoninian: 71.78054334719468, Proposed Hamiltoninian: 72.13898122171913\n",
      "REJECT\n",
      "Step: 371, Current Hamiltoninian: 66.717008837262, Proposed Hamiltoninian: 66.77956685111938\n",
      "Accept rho: -0.0625580138573838\n",
      "Step: 372, Current Hamiltoninian: 58.56131522601581, Proposed Hamiltoninian: 58.40508678586779\n",
      "Accept rho: 0.0\n",
      "Step: 373, Current Hamiltoninian: 54.55120366016237, Proposed Hamiltoninian: 54.67952611578811\n",
      "REJECT\n",
      "Step: 374, Current Hamiltoninian: 66.52942145114682, Proposed Hamiltoninian: 66.9207028674663\n",
      "REJECT\n",
      "Step: 375, Current Hamiltoninian: 67.95286016522482, Proposed Hamiltoninian: 66.83683535145062\n",
      "Accept rho: 0.0\n",
      "Step: 376, Current Hamiltoninian: 62.89920557880809, Proposed Hamiltoninian: 63.110120363490644\n",
      "Accept rho: -0.21091478468255076\n",
      "Step: 377, Current Hamiltoninian: 60.5303903493338, Proposed Hamiltoninian: 61.808300966819445\n",
      "Accept rho: -1.2779106174856452\n",
      "Step: 378, Current Hamiltoninian: 58.82462898566683, Proposed Hamiltoninian: 59.19964950880188\n",
      "Accept rho: -0.3750205231350563\n",
      "Step: 379, Current Hamiltoninian: 58.62944179062078, Proposed Hamiltoninian: 58.54540848527056\n",
      "Accept rho: 0.0\n",
      "Step: 380, Current Hamiltoninian: 78.03662988052088, Proposed Hamiltoninian: 77.41807759108995\n",
      "Accept rho: 0.0\n",
      "Step: 381, Current Hamiltoninian: 60.092120793220694, Proposed Hamiltoninian: 60.06331821234929\n",
      "Accept rho: 0.0\n",
      "Step: 382, Current Hamiltoninian: 57.16845552708157, Proposed Hamiltoninian: 56.97383779955943\n",
      "Accept rho: 0.0\n",
      "Step: 383, Current Hamiltoninian: 65.8198603076105, Proposed Hamiltoninian: 66.7535414652496\n",
      "REJECT\n",
      "Step: 384, Current Hamiltoninian: 65.09323911279944, Proposed Hamiltoninian: 65.3352650815517\n",
      "Accept rho: -0.2420259687522588\n",
      "Step: 385, Current Hamiltoninian: 60.73221155258707, Proposed Hamiltoninian: 60.43323715188414\n",
      "Accept rho: 0.0\n",
      "Step: 386, Current Hamiltoninian: 70.49520254281234, Proposed Hamiltoninian: 71.62517069978054\n",
      "REJECT\n",
      "Step: 387, Current Hamiltoninian: 60.208082229357146, Proposed Hamiltoninian: 61.34292568405683\n",
      "REJECT\n",
      "Step: 388, Current Hamiltoninian: 60.66230241310532, Proposed Hamiltoninian: 60.71157663739237\n",
      "Accept rho: -0.04927422428704631\n",
      "Step: 389, Current Hamiltoninian: 67.88496135092687, Proposed Hamiltoninian: 68.38153929376105\n",
      "Accept rho: -0.496577942834179\n",
      "Step: 390, Current Hamiltoninian: 68.46829192588986, Proposed Hamiltoninian: 69.79681331572051\n",
      "REJECT\n",
      "Step: 391, Current Hamiltoninian: 62.95765891544856, Proposed Hamiltoninian: 62.308149192071994\n",
      "Accept rho: 0.0\n",
      "Step: 392, Current Hamiltoninian: 58.52347130492169, Proposed Hamiltoninian: 58.23178050107199\n",
      "Accept rho: 0.0\n",
      "Step: 393, Current Hamiltoninian: 63.450369033999834, Proposed Hamiltoninian: 63.00826701149036\n",
      "Accept rho: 0.0\n",
      "Step: 394, Current Hamiltoninian: 54.514198083109804, Proposed Hamiltoninian: 54.84501996565072\n",
      "Accept rho: -0.33082188254091704\n",
      "Step: 395, Current Hamiltoninian: 56.0168858004052, Proposed Hamiltoninian: 56.94747212031129\n",
      "Accept rho: -0.9305863199060909\n",
      "Step: 396, Current Hamiltoninian: 56.81171803864271, Proposed Hamiltoninian: 57.13235142089914\n",
      "REJECT\n",
      "Step: 397, Current Hamiltoninian: 50.66030580746185, Proposed Hamiltoninian: 50.50591800241195\n",
      "Accept rho: 0.0\n",
      "Step: 398, Current Hamiltoninian: 70.69063094097291, Proposed Hamiltoninian: 72.44298093913977\n",
      "REJECT\n",
      "Step: 399, Current Hamiltoninian: 62.8935556665321, Proposed Hamiltoninian: 62.002715604837505\n",
      "Accept rho: 0.0\n",
      "Step: 400, Current Hamiltoninian: 50.41816949584964, Proposed Hamiltoninian: 50.52195668313993\n",
      "Accept rho: -0.10378718729029401\n",
      "Step: 401, Current Hamiltoninian: 57.5026415987941, Proposed Hamiltoninian: 56.92557002547242\n",
      "Accept rho: 0.0\n",
      "Step: 402, Current Hamiltoninian: 55.30741174889589, Proposed Hamiltoninian: 54.68515848999749\n",
      "Accept rho: 0.0\n",
      "Step: 403, Current Hamiltoninian: 59.64721578552552, Proposed Hamiltoninian: 59.48131108125455\n",
      "Accept rho: 0.0\n",
      "Step: 404, Current Hamiltoninian: 65.87348359583596, Proposed Hamiltoninian: 66.70965639980739\n",
      "Accept rho: -0.8361728039714222\n",
      "Step: 405, Current Hamiltoninian: 51.85230452862572, Proposed Hamiltoninian: 52.09206146306275\n",
      "Accept rho: -0.2397569344370254\n",
      "Step: 406, Current Hamiltoninian: 59.58105984161645, Proposed Hamiltoninian: 59.60961490528008\n",
      "Accept rho: -0.028555063663631586\n",
      "Step: 407, Current Hamiltoninian: 62.13054648397633, Proposed Hamiltoninian: 60.56403795870068\n",
      "Accept rho: 0.0\n",
      "Step: 408, Current Hamiltoninian: 76.28464701320738, Proposed Hamiltoninian: 76.60060599872304\n",
      "Accept rho: -0.3159589855156639\n",
      "Step: 409, Current Hamiltoninian: 58.7034872539969, Proposed Hamiltoninian: 58.119341898352104\n",
      "Accept rho: 0.0\n",
      "Step: 410, Current Hamiltoninian: 69.26964602797409, Proposed Hamiltoninian: 69.70495375320735\n",
      "Accept rho: -0.4353077252332582\n",
      "Step: 411, Current Hamiltoninian: 60.76698659380208, Proposed Hamiltoninian: 60.90952973911773\n",
      "Accept rho: -0.14254314531564916\n",
      "Step: 412, Current Hamiltoninian: 57.14561291864269, Proposed Hamiltoninian: 55.84226331254261\n",
      "Accept rho: 0.0\n",
      "Step: 413, Current Hamiltoninian: 60.4487856479295, Proposed Hamiltoninian: 60.9450619641152\n",
      "Accept rho: -0.4962763161856998\n",
      "Step: 414, Current Hamiltoninian: 53.63782911254229, Proposed Hamiltoninian: 53.130498488900315\n",
      "Accept rho: 0.0\n",
      "Step: 415, Current Hamiltoninian: 64.616998635156, Proposed Hamiltoninian: 65.34539437720278\n",
      "Accept rho: -0.7283957420467857\n",
      "Step: 416, Current Hamiltoninian: 61.52140884859281, Proposed Hamiltoninian: 62.864484637829435\n",
      "Accept rho: -1.3430757892366216\n",
      "Step: 417, Current Hamiltoninian: 65.09940765389459, Proposed Hamiltoninian: 64.11616698661246\n",
      "Accept rho: 0.0\n",
      "Step: 418, Current Hamiltoninian: 60.22494168516005, Proposed Hamiltoninian: 59.91203679117842\n",
      "Accept rho: 0.0\n",
      "Step: 419, Current Hamiltoninian: 65.52402908891074, Proposed Hamiltoninian: 63.4343133386832\n",
      "Accept rho: 0.0\n",
      "Step: 420, Current Hamiltoninian: 64.47221635056724, Proposed Hamiltoninian: 63.51693455308816\n",
      "Accept rho: 0.0\n",
      "Step: 421, Current Hamiltoninian: 70.30495633960209, Proposed Hamiltoninian: 70.30622263363718\n",
      "Accept rho: -0.0012662940350907093\n",
      "Step: 422, Current Hamiltoninian: 63.491465284960796, Proposed Hamiltoninian: 64.92223462304358\n",
      "Accept rho: -1.4307693380827828\n",
      "Step: 423, Current Hamiltoninian: 54.864545294368554, Proposed Hamiltoninian: 54.25942572470378\n",
      "Accept rho: 0.0\n",
      "Step: 424, Current Hamiltoninian: 64.29808537280721, Proposed Hamiltoninian: 64.83922499213234\n",
      "REJECT\n",
      "Step: 425, Current Hamiltoninian: 60.248695978613796, Proposed Hamiltoninian: 60.16870730413078\n",
      "Accept rho: 0.0\n",
      "Step: 426, Current Hamiltoninian: 59.56872506521225, Proposed Hamiltoninian: 60.46292809874252\n",
      "REJECT\n",
      "Step: 427, Current Hamiltoninian: 74.1602898799293, Proposed Hamiltoninian: 73.42411770010062\n",
      "Accept rho: 0.0\n",
      "Step: 428, Current Hamiltoninian: 72.25870897082487, Proposed Hamiltoninian: 71.74805422940017\n",
      "Accept rho: 0.0\n",
      "Step: 429, Current Hamiltoninian: 62.8809744061347, Proposed Hamiltoninian: 61.86134629408525\n",
      "Accept rho: 0.0\n",
      "Step: 430, Current Hamiltoninian: 64.55492583903504, Proposed Hamiltoninian: 65.11392646608981\n",
      "Accept rho: -0.5590006270547718\n",
      "Step: 431, Current Hamiltoninian: 69.92517771384848, Proposed Hamiltoninian: 70.43057911802582\n",
      "REJECT\n",
      "Step: 432, Current Hamiltoninian: 63.517239996198256, Proposed Hamiltoninian: 65.30982847662177\n",
      "REJECT\n",
      "Step: 433, Current Hamiltoninian: 58.939119277805304, Proposed Hamiltoninian: 59.73328088490357\n",
      "REJECT\n",
      "Step: 434, Current Hamiltoninian: 64.92381274448812, Proposed Hamiltoninian: 63.80962813888056\n",
      "Accept rho: 0.0\n",
      "Step: 435, Current Hamiltoninian: 71.88313171986506, Proposed Hamiltoninian: 71.87188246345349\n",
      "Accept rho: 0.0\n",
      "Step: 436, Current Hamiltoninian: 66.95799076180623, Proposed Hamiltoninian: 66.755861765818\n",
      "Accept rho: 0.0\n",
      "Step: 437, Current Hamiltoninian: 66.61901164861622, Proposed Hamiltoninian: 66.67443424834426\n",
      "Accept rho: -0.05542259972803265\n",
      "Step: 438, Current Hamiltoninian: 70.6491260444405, Proposed Hamiltoninian: 70.8300532528989\n",
      "Accept rho: -0.1809272084584137\n",
      "Step: 439, Current Hamiltoninian: 58.715387576118275, Proposed Hamiltoninian: 58.73449760802444\n",
      "Accept rho: -0.019110031906166114\n",
      "Step: 440, Current Hamiltoninian: 57.69365869608174, Proposed Hamiltoninian: 57.73001072048906\n",
      "Accept rho: -0.03635202440732144\n",
      "Step: 441, Current Hamiltoninian: 70.92038678037562, Proposed Hamiltoninian: 71.8846538340297\n",
      "Accept rho: -0.9642670536540834\n",
      "Step: 442, Current Hamiltoninian: 63.331818595177765, Proposed Hamiltoninian: 62.33933789565875\n",
      "Accept rho: 0.0\n",
      "Step: 443, Current Hamiltoninian: 60.40611253930013, Proposed Hamiltoninian: 61.23778895043114\n",
      "REJECT\n",
      "Step: 444, Current Hamiltoninian: 62.12905740442214, Proposed Hamiltoninian: 63.082033109376965\n",
      "REJECT\n",
      "Step: 445, Current Hamiltoninian: 58.355692532984406, Proposed Hamiltoninian: 57.97171225698607\n",
      "Accept rho: 0.0\n",
      "Step: 446, Current Hamiltoninian: 62.39321219986933, Proposed Hamiltoninian: 63.15069792077644\n",
      "Accept rho: -0.7574857209071055\n",
      "Step: 447, Current Hamiltoninian: 63.158967390057995, Proposed Hamiltoninian: 62.60774672300707\n",
      "Accept rho: 0.0\n",
      "Step: 448, Current Hamiltoninian: 60.21354036116221, Proposed Hamiltoninian: 59.24345445862597\n",
      "Accept rho: 0.0\n",
      "Step: 449, Current Hamiltoninian: 66.7760277894108, Proposed Hamiltoninian: 66.39160461028496\n",
      "Accept rho: 0.0\n",
      "Step: 450, Current Hamiltoninian: 64.55020458096698, Proposed Hamiltoninian: 64.26480259646618\n",
      "Accept rho: 0.0\n",
      "Step: 451, Current Hamiltoninian: 65.90563346378579, Proposed Hamiltoninian: 65.16551948694936\n",
      "Accept rho: 0.0\n",
      "Step: 452, Current Hamiltoninian: 54.95226879895657, Proposed Hamiltoninian: 54.95993950952917\n",
      "Accept rho: -0.007670710572604378\n",
      "Step: 453, Current Hamiltoninian: 68.33044753423184, Proposed Hamiltoninian: 67.230746308015\n",
      "Accept rho: 0.0\n",
      "Step: 454, Current Hamiltoninian: 57.93687064859722, Proposed Hamiltoninian: 58.16415100140418\n",
      "REJECT\n",
      "Step: 455, Current Hamiltoninian: 51.74027173498944, Proposed Hamiltoninian: 50.72791966978177\n",
      "Accept rho: 0.0\n",
      "Step: 456, Current Hamiltoninian: 71.80779672379484, Proposed Hamiltoninian: 72.3737347648379\n",
      "Accept rho: -0.5659380410430686\n",
      "Step: 457, Current Hamiltoninian: 67.33323349704344, Proposed Hamiltoninian: 67.20860527164047\n",
      "Accept rho: 0.0\n",
      "Step: 458, Current Hamiltoninian: 64.30311687708095, Proposed Hamiltoninian: 64.13696349353515\n",
      "Accept rho: 0.0\n",
      "Step: 459, Current Hamiltoninian: 52.927943310363766, Proposed Hamiltoninian: 52.663565470800876\n",
      "Accept rho: 0.0\n",
      "Step: 460, Current Hamiltoninian: 62.08739508513108, Proposed Hamiltoninian: 62.266587947949475\n",
      "Accept rho: -0.17919286281839675\n",
      "Step: 461, Current Hamiltoninian: 65.5587469796252, Proposed Hamiltoninian: 66.68570906445287\n",
      "Accept rho: -1.1269620848276674\n",
      "Step: 462, Current Hamiltoninian: 67.77525134912875, Proposed Hamiltoninian: 68.05093987151741\n",
      "REJECT\n",
      "Step: 463, Current Hamiltoninian: 74.2597498809242, Proposed Hamiltoninian: 73.71836511078615\n",
      "Accept rho: 0.0\n",
      "Step: 464, Current Hamiltoninian: 61.44333454383275, Proposed Hamiltoninian: 60.407883738928305\n",
      "Accept rho: 0.0\n",
      "Step: 465, Current Hamiltoninian: 72.23971478712615, Proposed Hamiltoninian: 72.79598353401332\n",
      "Accept rho: -0.5562687468871701\n",
      "Step: 466, Current Hamiltoninian: 68.40724493385429, Proposed Hamiltoninian: 68.02071665153568\n",
      "Accept rho: 0.0\n",
      "Step: 467, Current Hamiltoninian: 48.691050761720646, Proposed Hamiltoninian: 50.85351331077922\n",
      "REJECT\n",
      "Step: 468, Current Hamiltoninian: 58.25090681085485, Proposed Hamiltoninian: 58.647369610637455\n",
      "Accept rho: -0.39646279978260424\n",
      "Step: 469, Current Hamiltoninian: 53.31236056596333, Proposed Hamiltoninian: 52.4327839858388\n",
      "Accept rho: 0.0\n",
      "Step: 470, Current Hamiltoninian: 62.82372803008797, Proposed Hamiltoninian: 64.50715916966325\n",
      "REJECT\n",
      "Step: 471, Current Hamiltoninian: 61.008571176695455, Proposed Hamiltoninian: 60.82775356272534\n",
      "Accept rho: 0.0\n",
      "Step: 472, Current Hamiltoninian: 55.65879899999135, Proposed Hamiltoninian: 55.86718035973139\n",
      "Accept rho: -0.208381359740045\n",
      "Step: 473, Current Hamiltoninian: 56.98002842447873, Proposed Hamiltoninian: 57.78495430813605\n",
      "REJECT\n",
      "Step: 474, Current Hamiltoninian: 57.80798785998174, Proposed Hamiltoninian: 57.958616053894545\n",
      "Accept rho: -0.15062819391280158\n",
      "Step: 475, Current Hamiltoninian: 62.59271979038305, Proposed Hamiltoninian: 61.94781961194356\n",
      "Accept rho: 0.0\n",
      "Step: 476, Current Hamiltoninian: 56.89304784150923, Proposed Hamiltoninian: 56.83239881707629\n",
      "Accept rho: 0.0\n",
      "Step: 477, Current Hamiltoninian: 66.76547285704514, Proposed Hamiltoninian: 66.24883769883202\n",
      "Accept rho: 0.0\n",
      "Step: 478, Current Hamiltoninian: 57.20300378687574, Proposed Hamiltoninian: 57.74927340792642\n",
      "REJECT\n",
      "Step: 479, Current Hamiltoninian: 53.63154751883074, Proposed Hamiltoninian: 52.539360051611844\n",
      "Accept rho: 0.0\n",
      "Step: 480, Current Hamiltoninian: 66.40514081866104, Proposed Hamiltoninian: 66.38368534497839\n",
      "Accept rho: 0.0\n",
      "Step: 481, Current Hamiltoninian: 46.191540063361245, Proposed Hamiltoninian: 46.80894214625233\n",
      "REJECT\n",
      "Step: 482, Current Hamiltoninian: 62.925866363798306, Proposed Hamiltoninian: 62.87045895905992\n",
      "Accept rho: 0.0\n",
      "Step: 483, Current Hamiltoninian: 51.63052448739659, Proposed Hamiltoninian: 51.7705551150509\n",
      "Accept rho: -0.14003062765430485\n",
      "Step: 484, Current Hamiltoninian: 68.46246263118229, Proposed Hamiltoninian: 67.79776224675113\n",
      "Accept rho: 0.0\n",
      "Step: 485, Current Hamiltoninian: 72.1101542607728, Proposed Hamiltoninian: 71.82685841791155\n",
      "Accept rho: 0.0\n",
      "Step: 486, Current Hamiltoninian: 58.523370627001455, Proposed Hamiltoninian: 58.82582104613121\n",
      "REJECT\n",
      "Step: 487, Current Hamiltoninian: 62.26125143979347, Proposed Hamiltoninian: 62.87402556999079\n",
      "REJECT\n",
      "Step: 488, Current Hamiltoninian: 63.46432214412356, Proposed Hamiltoninian: 62.76391783401927\n",
      "Accept rho: 0.0\n",
      "Step: 489, Current Hamiltoninian: 57.48634861563305, Proposed Hamiltoninian: 58.53150535484903\n",
      "REJECT\n",
      "Step: 490, Current Hamiltoninian: 51.37518151317211, Proposed Hamiltoninian: 51.323771024065636\n",
      "Accept rho: 0.0\n",
      "Step: 491, Current Hamiltoninian: 60.5365431685414, Proposed Hamiltoninian: 59.859104247210816\n",
      "Accept rho: 0.0\n",
      "Step: 492, Current Hamiltoninian: 65.10930555037338, Proposed Hamiltoninian: 66.07818417713334\n",
      "REJECT\n",
      "Step: 493, Current Hamiltoninian: 68.17147807188573, Proposed Hamiltoninian: 67.24728999687703\n",
      "Accept rho: 0.0\n",
      "Step: 494, Current Hamiltoninian: 68.2025390380782, Proposed Hamiltoninian: 68.67785486408891\n",
      "Accept rho: -0.4753158260107142\n",
      "Step: 495, Current Hamiltoninian: 60.39554634147852, Proposed Hamiltoninian: 60.43541703317752\n",
      "Accept rho: -0.039870691699000815\n",
      "Step: 496, Current Hamiltoninian: 74.28243501982669, Proposed Hamiltoninian: 74.39933527540856\n",
      "Accept rho: -0.1169002555818679\n",
      "Step: 497, Current Hamiltoninian: 60.209444183834876, Proposed Hamiltoninian: 61.09592082151195\n",
      "REJECT\n",
      "Step: 498, Current Hamiltoninian: 52.56192703797471, Proposed Hamiltoninian: 53.49366181188582\n",
      "REJECT\n",
      "Step: 499, Current Hamiltoninian: 70.30617148479662, Proposed Hamiltoninian: 68.79424395761426\n",
      "Accept rho: 0.0\n",
      "Step: 500, Current Hamiltoninian: 56.496215092294946, Proposed Hamiltoninian: 55.48851466242999\n",
      "Accept rho: 0.0\n",
      "Step: 501, Current Hamiltoninian: 70.80702971048315, Proposed Hamiltoninian: 70.64408920545893\n",
      "Accept rho: 0.0\n"
     ]
    },
    {
     "name": "stdout",
     "output_type": "stream",
     "text": [
      "Step: 502, Current Hamiltoninian: 81.46874842682026, Proposed Hamiltoninian: 80.76846092816447\n",
      "Accept rho: 0.0\n",
      "Step: 503, Current Hamiltoninian: 65.87003081732396, Proposed Hamiltoninian: 64.47152988721555\n",
      "Accept rho: 0.0\n",
      "Step: 504, Current Hamiltoninian: 69.85262488356224, Proposed Hamiltoninian: 69.73029459960985\n",
      "Accept rho: 0.0\n",
      "Step: 505, Current Hamiltoninian: 71.01183191056367, Proposed Hamiltoninian: 72.15896072558292\n",
      "REJECT\n",
      "Step: 506, Current Hamiltoninian: 61.05504255908673, Proposed Hamiltoninian: 61.151142705269706\n",
      "Accept rho: -0.09610014618297669\n",
      "Step: 507, Current Hamiltoninian: 64.01328124047332, Proposed Hamiltoninian: 62.05817273669734\n",
      "Accept rho: 0.0\n",
      "Step: 508, Current Hamiltoninian: 61.03311315396281, Proposed Hamiltoninian: 61.46332779372231\n",
      "Accept rho: -0.43021463975949814\n",
      "Step: 509, Current Hamiltoninian: 67.70640852696549, Proposed Hamiltoninian: 66.86947023038674\n",
      "Accept rho: 0.0\n",
      "Step: 510, Current Hamiltoninian: 58.0456827184092, Proposed Hamiltoninian: 58.526609814624535\n",
      "REJECT\n",
      "Step: 511, Current Hamiltoninian: 51.97811369466254, Proposed Hamiltoninian: 52.20165454537373\n",
      "Accept rho: -0.22354085071118845\n",
      "Step: 512, Current Hamiltoninian: 62.90930754667272, Proposed Hamiltoninian: 61.780363599303136\n",
      "Accept rho: 0.0\n",
      "Step: 513, Current Hamiltoninian: 61.096618336852146, Proposed Hamiltoninian: 60.856912566573385\n",
      "Accept rho: 0.0\n",
      "Step: 514, Current Hamiltoninian: 65.24554095298339, Proposed Hamiltoninian: 65.33832784327778\n",
      "Accept rho: -0.09278689029439136\n",
      "Step: 515, Current Hamiltoninian: 50.006588745488976, Proposed Hamiltoninian: 50.05227680750336\n",
      "Accept rho: -0.04568806201438491\n",
      "Step: 516, Current Hamiltoninian: 59.61861933556759, Proposed Hamiltoninian: 59.23182233841783\n",
      "Accept rho: 0.0\n",
      "Step: 517, Current Hamiltoninian: 62.13352586085525, Proposed Hamiltoninian: 61.706357592241396\n",
      "Accept rho: 0.0\n",
      "Step: 518, Current Hamiltoninian: 59.87752112361176, Proposed Hamiltoninian: 61.48267488489688\n",
      "REJECT\n",
      "Step: 519, Current Hamiltoninian: 44.86728220409091, Proposed Hamiltoninian: 43.720745020874595\n",
      "Accept rho: 0.0\n",
      "Step: 520, Current Hamiltoninian: 59.26741503657844, Proposed Hamiltoninian: 58.67151188654071\n",
      "Accept rho: 0.0\n",
      "Step: 521, Current Hamiltoninian: 64.20082117023772, Proposed Hamiltoninian: 64.85653237220939\n",
      "Accept rho: -0.6557112019716698\n",
      "Step: 522, Current Hamiltoninian: 65.82688742698912, Proposed Hamiltoninian: 64.9717709415572\n",
      "Accept rho: 0.0\n",
      "Step: 523, Current Hamiltoninian: 64.62219733013531, Proposed Hamiltoninian: 65.3368333276405\n",
      "REJECT\n",
      "Step: 524, Current Hamiltoninian: 68.93649404305184, Proposed Hamiltoninian: 67.39841146859479\n",
      "Accept rho: 0.0\n",
      "Step: 525, Current Hamiltoninian: 76.38551113955619, Proposed Hamiltoninian: 75.59230841632618\n",
      "Accept rho: 0.0\n",
      "Step: 526, Current Hamiltoninian: 49.73198141842085, Proposed Hamiltoninian: 50.321026859582375\n",
      "REJECT\n",
      "Step: 527, Current Hamiltoninian: 72.30872210374955, Proposed Hamiltoninian: 72.56551106310769\n",
      "Accept rho: -0.25678895935814694\n",
      "Step: 528, Current Hamiltoninian: 60.40956929790918, Proposed Hamiltoninian: 59.006786508672974\n",
      "Accept rho: 0.0\n",
      "Step: 529, Current Hamiltoninian: 60.319057086155595, Proposed Hamiltoninian: 59.99980559780583\n",
      "Accept rho: 0.0\n",
      "Step: 530, Current Hamiltoninian: 62.464407761357954, Proposed Hamiltoninian: 61.621797243992056\n",
      "Accept rho: 0.0\n",
      "Step: 531, Current Hamiltoninian: 63.18925668353625, Proposed Hamiltoninian: 63.88019873620135\n",
      "Accept rho: -0.6909420526651004\n",
      "Step: 532, Current Hamiltoninian: 65.27723531765773, Proposed Hamiltoninian: 66.0426191724226\n",
      "REJECT\n",
      "Step: 533, Current Hamiltoninian: 52.55078716906351, Proposed Hamiltoninian: 52.82758241902504\n",
      "REJECT\n",
      "Step: 534, Current Hamiltoninian: 63.531099327506396, Proposed Hamiltoninian: 64.45763607592194\n",
      "REJECT\n",
      "Step: 535, Current Hamiltoninian: 66.58271683764285, Proposed Hamiltoninian: 66.85237439448929\n",
      "Accept rho: -0.26965755684643966\n",
      "Step: 536, Current Hamiltoninian: 52.63516733232599, Proposed Hamiltoninian: 52.15204195498032\n",
      "Accept rho: 0.0\n",
      "Step: 537, Current Hamiltoninian: 54.920255319188925, Proposed Hamiltoninian: 55.343854712481786\n",
      "REJECT\n",
      "Step: 538, Current Hamiltoninian: 53.19580718224005, Proposed Hamiltoninian: 54.25448830886204\n",
      "REJECT\n",
      "Step: 539, Current Hamiltoninian: 57.057858434684164, Proposed Hamiltoninian: 58.02363727190549\n",
      "REJECT\n",
      "Step: 540, Current Hamiltoninian: 56.96252169192844, Proposed Hamiltoninian: 57.81740209041228\n",
      "REJECT\n",
      "Step: 541, Current Hamiltoninian: 59.86856923006697, Proposed Hamiltoninian: 60.76396825056167\n",
      "REJECT\n",
      "Step: 542, Current Hamiltoninian: 69.82454708357773, Proposed Hamiltoninian: 69.66669162646258\n",
      "Accept rho: 0.0\n",
      "Step: 543, Current Hamiltoninian: 56.16435022134508, Proposed Hamiltoninian: 55.65450644031202\n",
      "Accept rho: 0.0\n",
      "Step: 544, Current Hamiltoninian: 59.91570152304479, Proposed Hamiltoninian: 58.82056197246674\n",
      "Accept rho: 0.0\n",
      "Step: 545, Current Hamiltoninian: 66.52141783385578, Proposed Hamiltoninian: 67.13147875953632\n",
      "Accept rho: -0.6100609256805427\n",
      "Step: 546, Current Hamiltoninian: 69.22062679931447, Proposed Hamiltoninian: 69.6044613250975\n",
      "Accept rho: -0.3838345257830298\n",
      "Step: 547, Current Hamiltoninian: 66.4295892231654, Proposed Hamiltoninian: 67.19406600790577\n",
      "REJECT\n",
      "Step: 548, Current Hamiltoninian: 71.69265593204855, Proposed Hamiltoninian: 71.83548692806225\n",
      "Accept rho: -0.14283099601369997\n",
      "Step: 549, Current Hamiltoninian: 62.508966352923906, Proposed Hamiltoninian: 61.97173189298595\n",
      "Accept rho: 0.0\n",
      "Step: 550, Current Hamiltoninian: 69.70501725131876, Proposed Hamiltoninian: 69.15645299248733\n",
      "Accept rho: 0.0\n",
      "Step: 551, Current Hamiltoninian: 64.97333507000592, Proposed Hamiltoninian: 63.34221006004577\n",
      "Accept rho: 0.0\n",
      "Step: 552, Current Hamiltoninian: 83.77900019110162, Proposed Hamiltoninian: 84.43382595090726\n",
      "Accept rho: -0.6548257598056466\n",
      "Step: 553, Current Hamiltoninian: 63.836412716013896, Proposed Hamiltoninian: 62.39415293848096\n",
      "Accept rho: 0.0\n",
      "Step: 554, Current Hamiltoninian: 57.709592332521545, Proposed Hamiltoninian: 57.84017721754381\n",
      "Accept rho: -0.13058488502226595\n",
      "Step: 555, Current Hamiltoninian: 58.685166607487155, Proposed Hamiltoninian: 57.86349196551441\n",
      "Accept rho: 0.0\n",
      "Step: 556, Current Hamiltoninian: 60.877318170463425, Proposed Hamiltoninian: 62.67763251863363\n",
      "REJECT\n",
      "Step: 557, Current Hamiltoninian: 57.224371551755375, Proposed Hamiltoninian: 58.083443231757585\n",
      "Accept rho: -0.8590716800022093\n",
      "Step: 558, Current Hamiltoninian: 62.021476258785476, Proposed Hamiltoninian: 60.40379990021083\n",
      "Accept rho: 0.0\n",
      "Step: 559, Current Hamiltoninian: 57.944106443715114, Proposed Hamiltoninian: 57.94251796705238\n",
      "Accept rho: 0.0\n",
      "Step: 560, Current Hamiltoninian: 54.83713067207509, Proposed Hamiltoninian: 55.99889802209229\n",
      "REJECT\n",
      "Step: 561, Current Hamiltoninian: 68.52425142613933, Proposed Hamiltoninian: 70.48443401610672\n",
      "REJECT\n",
      "Step: 562, Current Hamiltoninian: 61.69796440448194, Proposed Hamiltoninian: 61.7978008027072\n",
      "Accept rho: -0.09983639822526413\n",
      "Step: 563, Current Hamiltoninian: 61.84969773282407, Proposed Hamiltoninian: 62.85185984486618\n",
      "REJECT\n",
      "Step: 564, Current Hamiltoninian: 61.936013319526836, Proposed Hamiltoninian: 62.974086333295645\n",
      "Accept rho: -1.038073013768809\n",
      "Step: 565, Current Hamiltoninian: 67.48341975323933, Proposed Hamiltoninian: 67.27981134341795\n",
      "Accept rho: 0.0\n",
      "Step: 566, Current Hamiltoninian: 61.355225148314645, Proposed Hamiltoninian: 61.85450514993948\n",
      "REJECT\n",
      "Step: 567, Current Hamiltoninian: 66.99719669801223, Proposed Hamiltoninian: 66.51713306521812\n",
      "Accept rho: 0.0\n",
      "Step: 568, Current Hamiltoninian: 79.31146270133783, Proposed Hamiltoninian: 79.99697596216669\n",
      "REJECT\n",
      "Step: 569, Current Hamiltoninian: 56.044926144888194, Proposed Hamiltoninian: 57.27027717642068\n",
      "Accept rho: -1.2253510315324831\n",
      "Step: 570, Current Hamiltoninian: 60.95576923347402, Proposed Hamiltoninian: 61.06262692582714\n",
      "Accept rho: -0.10685769235311682\n",
      "Step: 571, Current Hamiltoninian: 60.86081620093153, Proposed Hamiltoninian: 61.18057430794178\n",
      "Accept rho: -0.31975810701025154\n",
      "Step: 572, Current Hamiltoninian: 68.52647984840536, Proposed Hamiltoninian: 68.31640432327909\n",
      "Accept rho: 0.0\n",
      "Step: 573, Current Hamiltoninian: 62.72617252996284, Proposed Hamiltoninian: 61.93182689546096\n",
      "Accept rho: 0.0\n",
      "Step: 574, Current Hamiltoninian: 61.98366439617334, Proposed Hamiltoninian: 63.3399615347138\n",
      "Accept rho: -1.3562971385404623\n",
      "Step: 575, Current Hamiltoninian: 72.31599371633394, Proposed Hamiltoninian: 72.2926823238803\n",
      "Accept rho: 0.0\n",
      "Step: 576, Current Hamiltoninian: 72.00042966625803, Proposed Hamiltoninian: 72.50950929536936\n",
      "REJECT\n",
      "Step: 577, Current Hamiltoninian: 64.53278238124763, Proposed Hamiltoninian: 64.81470374960635\n",
      "Accept rho: -0.2819213683587236\n",
      "Step: 578, Current Hamiltoninian: 48.16580577676342, Proposed Hamiltoninian: 48.210970623604446\n",
      "Accept rho: -0.04516484684102551\n",
      "Step: 579, Current Hamiltoninian: 64.52813953743413, Proposed Hamiltoninian: 64.80863730846409\n",
      "Accept rho: -0.28049777102995677\n",
      "Step: 580, Current Hamiltoninian: 65.9695088104429, Proposed Hamiltoninian: 65.02141988129371\n",
      "Accept rho: 0.0\n",
      "Step: 581, Current Hamiltoninian: 58.74648180355781, Proposed Hamiltoninian: 60.05994340392875\n",
      "REJECT\n",
      "Step: 582, Current Hamiltoninian: 64.07769131931539, Proposed Hamiltoninian: 62.45012136527724\n",
      "Accept rho: 0.0\n",
      "Step: 583, Current Hamiltoninian: 61.228912629795715, Proposed Hamiltoninian: 60.47531047720519\n",
      "Accept rho: 0.0\n",
      "Step: 584, Current Hamiltoninian: 62.449160087216896, Proposed Hamiltoninian: 62.087196319034945\n",
      "Accept rho: 0.0\n",
      "Step: 585, Current Hamiltoninian: 60.34916455060325, Proposed Hamiltoninian: 59.247336080494065\n",
      "Accept rho: 0.0\n",
      "Step: 586, Current Hamiltoninian: 73.86543300527352, Proposed Hamiltoninian: 72.97725318042995\n",
      "Accept rho: 0.0\n",
      "Step: 587, Current Hamiltoninian: 70.90446961007225, Proposed Hamiltoninian: 71.36029261462996\n",
      "Accept rho: -0.45582300455770053\n",
      "Step: 588, Current Hamiltoninian: 63.28179211874193, Proposed Hamiltoninian: 63.887783135653464\n",
      "Accept rho: -0.6059910169115312\n",
      "Step: 589, Current Hamiltoninian: 62.38734464091483, Proposed Hamiltoninian: 62.35074248086379\n",
      "Accept rho: 0.0\n",
      "Step: 590, Current Hamiltoninian: 49.57638025409554, Proposed Hamiltoninian: 49.318893371633585\n",
      "Accept rho: 0.0\n",
      "Step: 591, Current Hamiltoninian: 65.85254596702323, Proposed Hamiltoninian: 64.99073133267964\n",
      "Accept rho: 0.0\n",
      "Step: 592, Current Hamiltoninian: 52.79831879250144, Proposed Hamiltoninian: 51.9671634504822\n",
      "Accept rho: 0.0\n",
      "Step: 593, Current Hamiltoninian: 71.39336856406652, Proposed Hamiltoninian: 71.14044681577047\n",
      "Accept rho: 0.0\n",
      "Step: 594, Current Hamiltoninian: 61.94378720002808, Proposed Hamiltoninian: 62.41587518691103\n",
      "Accept rho: -0.47208798688294706\n",
      "Step: 595, Current Hamiltoninian: 61.05005483140084, Proposed Hamiltoninian: 61.86812043773414\n",
      "REJECT\n",
      "Step: 596, Current Hamiltoninian: 66.42210838751377, Proposed Hamiltoninian: 67.35073667864256\n",
      "REJECT\n",
      "Step: 597, Current Hamiltoninian: 61.58513536439422, Proposed Hamiltoninian: 60.36299021314458\n",
      "Accept rho: 0.0\n",
      "Step: 598, Current Hamiltoninian: 67.21253911681264, Proposed Hamiltoninian: 66.26115378967827\n",
      "Accept rho: 0.0\n",
      "Step: 599, Current Hamiltoninian: 67.4858091825177, Proposed Hamiltoninian: 68.19530176801203\n",
      "REJECT\n",
      "Step: 600, Current Hamiltoninian: 52.895645288834544, Proposed Hamiltoninian: 52.765218674734356\n",
      "Accept rho: 0.0\n",
      "Step: 601, Current Hamiltoninian: 60.47389187093077, Proposed Hamiltoninian: 61.13099542998543\n",
      "REJECT\n",
      "Step: 602, Current Hamiltoninian: 57.024237694189395, Proposed Hamiltoninian: 58.29259744297056\n",
      "REJECT\n",
      "Step: 603, Current Hamiltoninian: 57.29850257065152, Proposed Hamiltoninian: 58.1330983946132\n",
      "Accept rho: -0.8345958239616778\n",
      "Step: 604, Current Hamiltoninian: 64.61282490318034, Proposed Hamiltoninian: 63.316745996454344\n",
      "Accept rho: 0.0\n",
      "Step: 605, Current Hamiltoninian: 54.311791452948825, Proposed Hamiltoninian: 54.54636865189787\n",
      "Accept rho: -0.23457719894904727\n",
      "Step: 606, Current Hamiltoninian: 69.3628549710907, Proposed Hamiltoninian: 69.31147491053878\n",
      "Accept rho: 0.0\n",
      "Step: 607, Current Hamiltoninian: 60.767728732638936, Proposed Hamiltoninian: 60.4982315340094\n",
      "Accept rho: 0.0\n",
      "Step: 608, Current Hamiltoninian: 74.24419341440739, Proposed Hamiltoninian: 74.58059190497113\n",
      "Accept rho: -0.33639849056373805\n",
      "Step: 609, Current Hamiltoninian: 59.68090108583284, Proposed Hamiltoninian: 59.04714769056608\n",
      "Accept rho: 0.0\n",
      "Step: 610, Current Hamiltoninian: 62.9477250359257, Proposed Hamiltoninian: 63.17179510903407\n",
      "Accept rho: -0.22407007310837201\n",
      "Step: 611, Current Hamiltoninian: 55.611019565207854, Proposed Hamiltoninian: 56.19578364396878\n",
      "REJECT\n",
      "Step: 612, Current Hamiltoninian: 63.42372064211326, Proposed Hamiltoninian: 62.15352908186194\n",
      "Accept rho: 0.0\n",
      "Step: 613, Current Hamiltoninian: 67.91963190992418, Proposed Hamiltoninian: 67.0984059657061\n",
      "Accept rho: 0.0\n",
      "Step: 614, Current Hamiltoninian: 66.31985729848253, Proposed Hamiltoninian: 65.74859433781413\n",
      "Accept rho: 0.0\n",
      "Step: 615, Current Hamiltoninian: 62.57204345893561, Proposed Hamiltoninian: 63.0903416039331\n",
      "Accept rho: -0.5182981449974875\n",
      "Step: 616, Current Hamiltoninian: 60.64258561175918, Proposed Hamiltoninian: 58.50842456587145\n",
      "Accept rho: 0.0\n",
      "Step: 617, Current Hamiltoninian: 73.02255539018478, Proposed Hamiltoninian: 71.99108538505166\n",
      "Accept rho: 0.0\n",
      "Step: 618, Current Hamiltoninian: 74.28819521251872, Proposed Hamiltoninian: 75.82239714723424\n",
      "REJECT\n",
      "Step: 619, Current Hamiltoninian: 69.01274828929755, Proposed Hamiltoninian: 68.41140819034084\n",
      "Accept rho: 0.0\n",
      "Step: 620, Current Hamiltoninian: 63.02262294917739, Proposed Hamiltoninian: 63.1462220293467\n",
      "REJECT\n",
      "Step: 621, Current Hamiltoninian: 63.38696237728659, Proposed Hamiltoninian: 64.57153623179624\n",
      "REJECT\n",
      "Step: 622, Current Hamiltoninian: 61.53957679837218, Proposed Hamiltoninian: 61.84923778732893\n",
      "Accept rho: -0.3096609889567503\n",
      "Step: 623, Current Hamiltoninian: 65.6114284741152, Proposed Hamiltoninian: 65.32478268645039\n",
      "Accept rho: 0.0\n",
      "Step: 624, Current Hamiltoninian: 60.54992724890367, Proposed Hamiltoninian: 60.32418183053477\n",
      "Accept rho: 0.0\n",
      "Step: 625, Current Hamiltoninian: 59.60378869626292, Proposed Hamiltoninian: 59.847589771086334\n",
      "REJECT\n",
      "Step: 626, Current Hamiltoninian: 57.35175410131346, Proposed Hamiltoninian: 57.56392637197151\n",
      "Accept rho: -0.21217227065805133\n",
      "Step: 627, Current Hamiltoninian: 67.70315587435996, Proposed Hamiltoninian: 67.29889462024312\n",
      "Accept rho: 0.0\n",
      "Step: 628, Current Hamiltoninian: 58.47637855601869, Proposed Hamiltoninian: 58.17322734823311\n",
      "Accept rho: 0.0\n",
      "Step: 629, Current Hamiltoninian: 63.382343617718334, Proposed Hamiltoninian: 63.21584069997085\n",
      "Accept rho: 0.0\n",
      "Step: 630, Current Hamiltoninian: 71.0627251327439, Proposed Hamiltoninian: 70.66136747336762\n",
      "Accept rho: 0.0\n",
      "Step: 631, Current Hamiltoninian: 78.0889456691408, Proposed Hamiltoninian: 78.70257967637015\n",
      "Accept rho: -0.6136340072293507\n",
      "Step: 632, Current Hamiltoninian: 71.35081321363684, Proposed Hamiltoninian: 70.7532978768421\n",
      "Accept rho: 0.0\n",
      "Step: 633, Current Hamiltoninian: 69.00381263492551, Proposed Hamiltoninian: 69.94872606510745\n",
      "REJECT\n",
      "Step: 634, Current Hamiltoninian: 71.98503409689415, Proposed Hamiltoninian: 71.12592603026056\n",
      "Accept rho: 0.0\n",
      "Step: 635, Current Hamiltoninian: 62.51393812375767, Proposed Hamiltoninian: 63.62351508834918\n",
      "REJECT\n",
      "Step: 636, Current Hamiltoninian: 66.1554636881832, Proposed Hamiltoninian: 65.15661461454332\n",
      "Accept rho: 0.0\n",
      "Step: 637, Current Hamiltoninian: 54.61096825772479, Proposed Hamiltoninian: 55.00153884247253\n",
      "Accept rho: -0.390570584747735\n",
      "Step: 638, Current Hamiltoninian: 64.26400562682952, Proposed Hamiltoninian: 64.60812168570054\n",
      "Accept rho: -0.34411605887102326\n",
      "Step: 639, Current Hamiltoninian: 56.73916830210005, Proposed Hamiltoninian: 57.14219907709575\n",
      "Accept rho: -0.40303077499570605\n",
      "Step: 640, Current Hamiltoninian: 57.64499640054301, Proposed Hamiltoninian: 56.90639343210101\n",
      "Accept rho: 0.0\n",
      "Step: 641, Current Hamiltoninian: 58.071051046935835, Proposed Hamiltoninian: 57.85004103746719\n",
      "Accept rho: 0.0\n",
      "Step: 642, Current Hamiltoninian: 65.10114375930482, Proposed Hamiltoninian: 66.44140179066746\n",
      "REJECT\n",
      "Step: 643, Current Hamiltoninian: 64.79175002388749, Proposed Hamiltoninian: 63.92129740693108\n",
      "Accept rho: 0.0\n",
      "Step: 644, Current Hamiltoninian: 63.52878920371842, Proposed Hamiltoninian: 63.52567404255985\n",
      "Accept rho: 0.0\n",
      "Step: 645, Current Hamiltoninian: 56.754733786788734, Proposed Hamiltoninian: 56.331733767366885\n",
      "Accept rho: 0.0\n"
     ]
    },
    {
     "name": "stdout",
     "output_type": "stream",
     "text": [
      "Step: 646, Current Hamiltoninian: 59.28862167732237, Proposed Hamiltoninian: 59.20819469481616\n",
      "Accept rho: 0.0\n",
      "Step: 647, Current Hamiltoninian: 53.887521281838644, Proposed Hamiltoninian: 54.37095378389416\n",
      "REJECT\n",
      "Step: 648, Current Hamiltoninian: 64.71467434210788, Proposed Hamiltoninian: 63.835143821940925\n",
      "Accept rho: 0.0\n",
      "Step: 649, Current Hamiltoninian: 68.96866601919604, Proposed Hamiltoninian: 68.93270780456079\n",
      "Accept rho: 0.0\n",
      "Step: 650, Current Hamiltoninian: 68.02810478288632, Proposed Hamiltoninian: 68.29116947185504\n",
      "Accept rho: -0.2630646889687256\n",
      "Step: 651, Current Hamiltoninian: 64.86748936382891, Proposed Hamiltoninian: 65.96848153542352\n",
      "REJECT\n",
      "Step: 652, Current Hamiltoninian: 64.36004564403972, Proposed Hamiltoninian: 63.3831720016995\n",
      "Accept rho: 0.0\n",
      "Step: 653, Current Hamiltoninian: 68.3228362226639, Proposed Hamiltoninian: 69.2826160653557\n",
      "REJECT\n",
      "Step: 654, Current Hamiltoninian: 75.33743198385561, Proposed Hamiltoninian: 75.23664798692882\n",
      "Accept rho: 0.0\n",
      "Step: 655, Current Hamiltoninian: 66.45145411863855, Proposed Hamiltoninian: 67.41675749830077\n",
      "Accept rho: -0.9653033796622168\n",
      "Step: 656, Current Hamiltoninian: 63.92365093602062, Proposed Hamiltoninian: 63.14805591472842\n",
      "Accept rho: 0.0\n",
      "Step: 657, Current Hamiltoninian: 73.49671544835567, Proposed Hamiltoninian: 73.85776434342336\n",
      "Accept rho: -0.36104889506768245\n",
      "Step: 658, Current Hamiltoninian: 51.34433121048968, Proposed Hamiltoninian: 52.29226203779974\n",
      "Accept rho: -0.94793082731006\n",
      "Step: 659, Current Hamiltoninian: 57.74494869348807, Proposed Hamiltoninian: 57.41696788451238\n",
      "Accept rho: 0.0\n",
      "Step: 660, Current Hamiltoninian: 59.13566774501176, Proposed Hamiltoninian: 58.50481555325243\n",
      "Accept rho: 0.0\n",
      "Step: 661, Current Hamiltoninian: 51.25905455456527, Proposed Hamiltoninian: 51.64328578501008\n",
      "Accept rho: -0.38423123044481144\n",
      "Step: 662, Current Hamiltoninian: 68.79899493392857, Proposed Hamiltoninian: 68.32716692506779\n",
      "Accept rho: 0.0\n",
      "Step: 663, Current Hamiltoninian: 77.25553604483721, Proposed Hamiltoninian: 76.83643709780247\n",
      "Accept rho: 0.0\n",
      "Step: 664, Current Hamiltoninian: 67.98107489002324, Proposed Hamiltoninian: 68.61138899618322\n",
      "REJECT\n",
      "Step: 665, Current Hamiltoninian: 58.68441020865217, Proposed Hamiltoninian: 58.674671130884775\n",
      "Accept rho: 0.0\n",
      "Step: 666, Current Hamiltoninian: 70.50658725889811, Proposed Hamiltoninian: 70.10165119823606\n",
      "Accept rho: 0.0\n",
      "Step: 667, Current Hamiltoninian: 68.93080135644168, Proposed Hamiltoninian: 69.28396447723817\n",
      "Accept rho: -0.3531631207964949\n",
      "Step: 668, Current Hamiltoninian: 71.78723188099013, Proposed Hamiltoninian: 71.91341215810786\n",
      "Accept rho: -0.12618027711772584\n",
      "Step: 669, Current Hamiltoninian: 69.49567629214641, Proposed Hamiltoninian: 69.15653060508726\n",
      "Accept rho: 0.0\n",
      "Step: 670, Current Hamiltoninian: 58.05110856362351, Proposed Hamiltoninian: 56.47352363471376\n",
      "Accept rho: 0.0\n",
      "Step: 671, Current Hamiltoninian: 63.507362675334676, Proposed Hamiltoninian: 64.28147171754838\n",
      "REJECT\n",
      "Step: 672, Current Hamiltoninian: 57.69807479071773, Proposed Hamiltoninian: 57.62493208568576\n",
      "Accept rho: 0.0\n",
      "Step: 673, Current Hamiltoninian: 55.18966828770381, Proposed Hamiltoninian: 55.31848490394222\n",
      "Accept rho: -0.12881661623841012\n",
      "Step: 674, Current Hamiltoninian: 59.23010587034814, Proposed Hamiltoninian: 59.902929605541786\n",
      "Accept rho: -0.6728237351936457\n",
      "Step: 675, Current Hamiltoninian: 68.18851249301129, Proposed Hamiltoninian: 68.06242262866476\n",
      "Accept rho: 0.0\n",
      "Step: 676, Current Hamiltoninian: 76.5099647680377, Proposed Hamiltoninian: 77.4994643459664\n",
      "Accept rho: -0.9894995779286972\n",
      "Step: 677, Current Hamiltoninian: 61.005489822923124, Proposed Hamiltoninian: 61.699506950747576\n",
      "Accept rho: -0.694017127824452\n",
      "Step: 678, Current Hamiltoninian: 53.263065416789644, Proposed Hamiltoninian: 54.0902875236117\n",
      "REJECT\n",
      "Step: 679, Current Hamiltoninian: 54.31937864628698, Proposed Hamiltoninian: 54.963508539266414\n",
      "Accept rho: -0.6441298929794357\n",
      "Step: 680, Current Hamiltoninian: 64.70256646739048, Proposed Hamiltoninian: 64.43216857364453\n",
      "Accept rho: 0.0\n",
      "Step: 681, Current Hamiltoninian: 64.29001730599956, Proposed Hamiltoninian: 64.02223373159936\n",
      "Accept rho: 0.0\n",
      "Step: 682, Current Hamiltoninian: 83.98386483145751, Proposed Hamiltoninian: 84.23650679978272\n",
      "Accept rho: -0.25264196832520724\n",
      "Step: 683, Current Hamiltoninian: 58.6603725101695, Proposed Hamiltoninian: 59.64634751486577\n",
      "REJECT\n",
      "Step: 684, Current Hamiltoninian: 54.35683781274948, Proposed Hamiltoninian: 54.18417547360779\n",
      "Accept rho: 0.0\n",
      "Step: 685, Current Hamiltoninian: 67.0775101842367, Proposed Hamiltoninian: 65.75013796141555\n",
      "Accept rho: 0.0\n",
      "Step: 686, Current Hamiltoninian: 57.27851991888926, Proposed Hamiltoninian: 58.13977288958172\n",
      "REJECT\n",
      "Step: 687, Current Hamiltoninian: 62.614076493299436, Proposed Hamiltoninian: 62.46164414576277\n",
      "Accept rho: 0.0\n",
      "Step: 688, Current Hamiltoninian: 55.11189155076135, Proposed Hamiltoninian: 55.86393578700576\n",
      "REJECT\n",
      "Step: 689, Current Hamiltoninian: 62.87827499279827, Proposed Hamiltoninian: 62.17961316836862\n",
      "Accept rho: 0.0\n",
      "Step: 690, Current Hamiltoninian: 61.964357762683164, Proposed Hamiltoninian: 61.18458996988429\n",
      "Accept rho: 0.0\n",
      "Step: 691, Current Hamiltoninian: 66.58156547399861, Proposed Hamiltoninian: 66.64774543300317\n",
      "Accept rho: -0.06617995900455753\n",
      "Step: 692, Current Hamiltoninian: 58.96524889164897, Proposed Hamiltoninian: 58.76383312497799\n",
      "Accept rho: 0.0\n",
      "Step: 693, Current Hamiltoninian: 63.84277104934005, Proposed Hamiltoninian: 63.836129449349535\n",
      "Accept rho: 0.0\n",
      "Step: 694, Current Hamiltoninian: 68.8776408674064, Proposed Hamiltoninian: 68.81083517106794\n",
      "Accept rho: 0.0\n",
      "Step: 695, Current Hamiltoninian: 67.78453904373302, Proposed Hamiltoninian: 68.20660375649292\n",
      "Accept rho: -0.4220647127599051\n",
      "Step: 696, Current Hamiltoninian: 63.772027222953334, Proposed Hamiltoninian: 63.395205339827115\n",
      "Accept rho: 0.0\n",
      "Step: 697, Current Hamiltoninian: 64.23631895838722, Proposed Hamiltoninian: 64.4216469997273\n",
      "Accept rho: -0.1853280413400853\n",
      "Step: 698, Current Hamiltoninian: 70.11170386890126, Proposed Hamiltoninian: 70.41050504763524\n",
      "Accept rho: -0.2988011787339815\n",
      "Step: 699, Current Hamiltoninian: 62.66973374075796, Proposed Hamiltoninian: 62.10184215583021\n",
      "Accept rho: 0.0\n",
      "Step: 700, Current Hamiltoninian: 60.83044052733139, Proposed Hamiltoninian: 60.84102577615219\n",
      "Accept rho: -0.010585248820802917\n",
      "Step: 701, Current Hamiltoninian: 64.28042525114846, Proposed Hamiltoninian: 64.96145044425566\n",
      "Accept rho: -0.6810251931072031\n",
      "Step: 702, Current Hamiltoninian: 66.16303063516074, Proposed Hamiltoninian: 66.47900162794599\n",
      "REJECT\n",
      "Step: 703, Current Hamiltoninian: 49.971676228581146, Proposed Hamiltoninian: 49.86480463082722\n",
      "Accept rho: 0.0\n",
      "Step: 704, Current Hamiltoninian: 66.03765150319438, Proposed Hamiltoninian: 65.0680840031558\n",
      "Accept rho: 0.0\n",
      "Step: 705, Current Hamiltoninian: 71.20610197699797, Proposed Hamiltoninian: 70.88549140001047\n",
      "Accept rho: 0.0\n",
      "Step: 706, Current Hamiltoninian: 56.386018249158, Proposed Hamiltoninian: 56.82458413920227\n",
      "Accept rho: -0.4385658900442735\n",
      "Step: 707, Current Hamiltoninian: 63.6629322658981, Proposed Hamiltoninian: 64.072799811008\n",
      "Accept rho: -0.409867545109897\n",
      "Step: 708, Current Hamiltoninian: 57.48550393730082, Proposed Hamiltoninian: 58.24804749128829\n",
      "REJECT\n",
      "Step: 709, Current Hamiltoninian: 63.315203190461375, Proposed Hamiltoninian: 62.83107604248882\n",
      "Accept rho: 0.0\n",
      "Step: 710, Current Hamiltoninian: 57.37851251179076, Proposed Hamiltoninian: 57.012123189035044\n",
      "Accept rho: 0.0\n",
      "Step: 711, Current Hamiltoninian: 74.5702997440529, Proposed Hamiltoninian: 74.30358107563626\n",
      "Accept rho: 0.0\n",
      "Step: 712, Current Hamiltoninian: 54.650987235635135, Proposed Hamiltoninian: 53.77360388051049\n",
      "Accept rho: 0.0\n",
      "Step: 713, Current Hamiltoninian: 67.67687098786747, Proposed Hamiltoninian: 67.70396128974053\n",
      "Accept rho: -0.027090301873059275\n",
      "Step: 714, Current Hamiltoninian: 67.30729706407277, Proposed Hamiltoninian: 67.13737878763332\n",
      "Accept rho: 0.0\n",
      "Step: 715, Current Hamiltoninian: 70.92167381236948, Proposed Hamiltoninian: 70.06465927260996\n",
      "Accept rho: 0.0\n",
      "Step: 716, Current Hamiltoninian: 56.108337523874056, Proposed Hamiltoninian: 56.0413078057257\n",
      "Accept rho: 0.0\n",
      "Step: 717, Current Hamiltoninian: 54.46759180091734, Proposed Hamiltoninian: 55.07348583811878\n",
      "REJECT\n"
     ]
    },
    {
     "name": "stdout",
     "output_type": "stream",
     "text": [
      "Step: 718, Current Hamiltoninian: 53.209820003433734, Proposed Hamiltoninian: 53.62179936483201\n",
      "REJECT\n",
      "Step: 719, Current Hamiltoninian: 58.54300926456702, Proposed Hamiltoninian: 58.97952400173384\n",
      "REJECT\n",
      "Step: 720, Current Hamiltoninian: 81.58539285080522, Proposed Hamiltoninian: 81.35250272415308\n",
      "Accept rho: 0.0\n",
      "Step: 721, Current Hamiltoninian: 69.09073209297443, Proposed Hamiltoninian: 69.02271260511985\n",
      "Accept rho: 0.0\n",
      "Step: 722, Current Hamiltoninian: 65.53082041045126, Proposed Hamiltoninian: 64.41722522338574\n",
      "Accept rho: 0.0\n",
      "Step: 723, Current Hamiltoninian: 66.45219712119268, Proposed Hamiltoninian: 66.52450353532174\n",
      "Accept rho: -0.07230641412905925\n",
      "Step: 724, Current Hamiltoninian: 69.44119504203739, Proposed Hamiltoninian: 69.90824961630848\n",
      "Accept rho: -0.46705457427108854\n",
      "Step: 725, Current Hamiltoninian: 56.07718014305141, Proposed Hamiltoninian: 55.51301914124465\n",
      "Accept rho: 0.0\n",
      "Step: 726, Current Hamiltoninian: 64.47791575278877, Proposed Hamiltoninian: 65.24483753771112\n",
      "Accept rho: -0.7669217849223458\n",
      "Step: 727, Current Hamiltoninian: 64.62594634191386, Proposed Hamiltoninian: 62.93020872739015\n",
      "Accept rho: 0.0\n",
      "Step: 728, Current Hamiltoninian: 65.30408897791972, Proposed Hamiltoninian: 67.22928930476591\n",
      "REJECT\n",
      "Step: 729, Current Hamiltoninian: 58.39317281254137, Proposed Hamiltoninian: 58.375581530042616\n",
      "Accept rho: 0.0\n",
      "Step: 730, Current Hamiltoninian: 62.608703290113795, Proposed Hamiltoninian: 62.61352122578869\n",
      "Accept rho: -0.004817935674893192\n",
      "Step: 731, Current Hamiltoninian: 65.57271863155142, Proposed Hamiltoninian: 66.76829793663984\n",
      "REJECT\n",
      "Step: 732, Current Hamiltoninian: 76.33095641208828, Proposed Hamiltoninian: 77.35362613673739\n",
      "Accept rho: -1.0226697246491057\n",
      "Step: 733, Current Hamiltoninian: 69.11639208067324, Proposed Hamiltoninian: 66.86135637579359\n",
      "Accept rho: 0.0\n",
      "Step: 734, Current Hamiltoninian: 69.013635126944, Proposed Hamiltoninian: 70.22823664253238\n",
      "REJECT\n",
      "Step: 735, Current Hamiltoninian: 54.83240328433449, Proposed Hamiltoninian: 54.187189990792405\n",
      "Accept rho: 0.0\n",
      "Step: 736, Current Hamiltoninian: 53.772111886944046, Proposed Hamiltoninian: 53.15597156380676\n",
      "Accept rho: 0.0\n",
      "Step: 737, Current Hamiltoninian: 59.968644231898196, Proposed Hamiltoninian: 60.73684287055549\n",
      "Accept rho: -0.7681986386572959\n",
      "Step: 738, Current Hamiltoninian: 58.04733517942966, Proposed Hamiltoninian: 57.003178876812015\n",
      "Accept rho: 0.0\n",
      "Step: 739, Current Hamiltoninian: 55.677934101357344, Proposed Hamiltoninian: 56.159679866150846\n",
      "Accept rho: -0.4817457647935015\n",
      "Step: 740, Current Hamiltoninian: 69.06981124506265, Proposed Hamiltoninian: 69.84194040234573\n",
      "Accept rho: -0.7721291572830751\n",
      "Step: 741, Current Hamiltoninian: 56.537846621042604, Proposed Hamiltoninian: 57.32441743034477\n",
      "Accept rho: -0.7865708093021695\n",
      "Step: 742, Current Hamiltoninian: 65.6046224775188, Proposed Hamiltoninian: 65.17578643398537\n",
      "Accept rho: 0.0\n",
      "Step: 743, Current Hamiltoninian: 57.03524257099566, Proposed Hamiltoninian: 56.633358113917375\n",
      "Accept rho: 0.0\n",
      "Step: 744, Current Hamiltoninian: 59.02398200280734, Proposed Hamiltoninian: 57.01656075651867\n",
      "Accept rho: 0.0\n",
      "Step: 745, Current Hamiltoninian: 50.657664732709975, Proposed Hamiltoninian: 49.90700704925393\n",
      "Accept rho: 0.0\n",
      "Step: 746, Current Hamiltoninian: 62.491694690268034, Proposed Hamiltoninian: 64.8557321616392\n",
      "REJECT\n",
      "Step: 747, Current Hamiltoninian: 69.39437730486799, Proposed Hamiltoninian: 70.92004903097917\n",
      "REJECT\n",
      "Step: 748, Current Hamiltoninian: 78.03417128281247, Proposed Hamiltoninian: 78.73269820782122\n",
      "REJECT\n",
      "Step: 749, Current Hamiltoninian: 70.13257795053052, Proposed Hamiltoninian: 70.66909042955595\n",
      "REJECT\n",
      "Step: 750, Current Hamiltoninian: 64.56820958512313, Proposed Hamiltoninian: 62.784520294309296\n",
      "Accept rho: 0.0\n",
      "Step: 751, Current Hamiltoninian: 66.64417511200506, Proposed Hamiltoninian: 64.7716392542372\n",
      "Accept rho: 0.0\n",
      "Step: 752, Current Hamiltoninian: 49.762560203284224, Proposed Hamiltoninian: 50.856518075317254\n",
      "Accept rho: -1.0939578720330303\n",
      "Step: 753, Current Hamiltoninian: 61.95112609781262, Proposed Hamiltoninian: 60.50306730103943\n",
      "Accept rho: 0.0\n",
      "Step: 754, Current Hamiltoninian: 58.44531808278493, Proposed Hamiltoninian: 58.67090903474388\n",
      "Accept rho: -0.2255909519589494\n",
      "Step: 755, Current Hamiltoninian: 66.40467701336902, Proposed Hamiltoninian: 65.7133514256792\n",
      "Accept rho: 0.0\n",
      "Step: 756, Current Hamiltoninian: 62.07401790553651, Proposed Hamiltoninian: 61.716194673347005\n",
      "Accept rho: 0.0\n",
      "Step: 757, Current Hamiltoninian: 63.512738730471796, Proposed Hamiltoninian: 64.22512023044281\n",
      "Accept rho: -0.7123814999710163\n",
      "Step: 758, Current Hamiltoninian: 62.293895601852505, Proposed Hamiltoninian: 61.995211031776535\n",
      "Accept rho: 0.0\n",
      "Step: 759, Current Hamiltoninian: 67.48986907752321, Proposed Hamiltoninian: 68.4148692594153\n",
      "REJECT\n",
      "Step: 760, Current Hamiltoninian: 57.65563974057851, Proposed Hamiltoninian: 56.21583338570323\n",
      "Accept rho: 0.0\n",
      "Step: 761, Current Hamiltoninian: 51.738012722619324, Proposed Hamiltoninian: 50.32908511945665\n",
      "Accept rho: 0.0\n",
      "Step: 762, Current Hamiltoninian: 67.56736752747317, Proposed Hamiltoninian: 67.81934747080878\n",
      "Accept rho: -0.2519799433356127\n",
      "Step: 763, Current Hamiltoninian: 58.269231216418746, Proposed Hamiltoninian: 59.694665578877846\n",
      "REJECT\n",
      "Step: 764, Current Hamiltoninian: 67.85422943676058, Proposed Hamiltoninian: 68.53958360581063\n",
      "Accept rho: -0.6853541690500577\n",
      "Step: 765, Current Hamiltoninian: 56.10386620395268, Proposed Hamiltoninian: 57.01168175780541\n",
      "REJECT\n",
      "Step: 766, Current Hamiltoninian: 66.88135437765386, Proposed Hamiltoninian: 68.40711922611959\n",
      "REJECT\n",
      "Step: 767, Current Hamiltoninian: 68.30338525488821, Proposed Hamiltoninian: 68.01301130555059\n",
      "Accept rho: 0.0\n",
      "Step: 768, Current Hamiltoninian: 67.18005966027359, Proposed Hamiltoninian: 65.82827440199974\n",
      "Accept rho: 0.0\n",
      "Step: 769, Current Hamiltoninian: 81.01413082069894, Proposed Hamiltoninian: 79.87441224583549\n",
      "Accept rho: 0.0\n",
      "Step: 770, Current Hamiltoninian: 70.93910951928157, Proposed Hamiltoninian: 72.14676875878348\n",
      "Accept rho: -1.2076592395019077\n",
      "Step: 771, Current Hamiltoninian: 65.75897134140534, Proposed Hamiltoninian: 65.13005396688357\n",
      "Accept rho: 0.0\n",
      "Step: 772, Current Hamiltoninian: 66.68576103241368, Proposed Hamiltoninian: 67.91944926272073\n",
      "REJECT\n",
      "Step: 773, Current Hamiltoninian: 78.35510379491228, Proposed Hamiltoninian: 78.50007890460701\n",
      "Accept rho: -0.1449751096947267\n",
      "Step: 774, Current Hamiltoninian: 56.57872524477622, Proposed Hamiltoninian: 55.67252929151365\n",
      "Accept rho: 0.0\n",
      "Step: 775, Current Hamiltoninian: 64.52591066147613, Proposed Hamiltoninian: 64.86439445926487\n",
      "Accept rho: -0.33848379778874005\n",
      "Step: 776, Current Hamiltoninian: 74.45981411323756, Proposed Hamiltoninian: 72.64215977333564\n",
      "Accept rho: 0.0\n",
      "Step: 777, Current Hamiltoninian: 75.6608042868636, Proposed Hamiltoninian: 75.10453191398386\n",
      "Accept rho: 0.0\n",
      "Step: 778, Current Hamiltoninian: 64.75467104386237, Proposed Hamiltoninian: 64.12920383591762\n",
      "Accept rho: 0.0\n",
      "Step: 779, Current Hamiltoninian: 71.59122141418818, Proposed Hamiltoninian: 70.7920475892372\n",
      "Accept rho: 0.0\n",
      "Step: 780, Current Hamiltoninian: 59.42401588079175, Proposed Hamiltoninian: 60.18849322436154\n",
      "Accept rho: -0.7644773435697871\n",
      "Step: 781, Current Hamiltoninian: 81.22138384627124, Proposed Hamiltoninian: 81.68295026923725\n",
      "Accept rho: -0.46156642296601547\n",
      "Step: 782, Current Hamiltoninian: 66.89359774007204, Proposed Hamiltoninian: 66.13192466543042\n",
      "Accept rho: 0.0\n",
      "Step: 783, Current Hamiltoninian: 62.651400207912715, Proposed Hamiltoninian: 62.27376811707011\n",
      "Accept rho: 0.0\n",
      "Step: 784, Current Hamiltoninian: 64.5697824693479, Proposed Hamiltoninian: 64.16379032274766\n",
      "Accept rho: 0.0\n",
      "Step: 785, Current Hamiltoninian: 61.76293446646085, Proposed Hamiltoninian: 61.647835347943\n",
      "Accept rho: 0.0\n",
      "Step: 786, Current Hamiltoninian: 61.89921259677322, Proposed Hamiltoninian: 60.59859021998142\n",
      "Accept rho: 0.0\n",
      "Step: 787, Current Hamiltoninian: 60.329417744332346, Proposed Hamiltoninian: 60.09877653553789\n",
      "Accept rho: 0.0\n",
      "Step: 788, Current Hamiltoninian: 66.18803894515185, Proposed Hamiltoninian: 66.55450946874727\n",
      "REJECT\n",
      "Step: 789, Current Hamiltoninian: 65.68628639795133, Proposed Hamiltoninian: 66.41545499701463\n",
      "REJECT\n",
      "Step: 790, Current Hamiltoninian: 60.9653530541712, Proposed Hamiltoninian: 61.0640750293302\n",
      "Accept rho: -0.09872197515899472\n"
     ]
    },
    {
     "name": "stdout",
     "output_type": "stream",
     "text": [
      "Step: 791, Current Hamiltoninian: 68.14507151902431, Proposed Hamiltoninian: 69.8563635909455\n",
      "REJECT\n",
      "Step: 792, Current Hamiltoninian: 66.30017167879267, Proposed Hamiltoninian: 67.17252655217817\n",
      "Accept rho: -0.872354873385504\n",
      "Step: 793, Current Hamiltoninian: 62.213837023491436, Proposed Hamiltoninian: 62.56395493997682\n",
      "REJECT\n",
      "Step: 794, Current Hamiltoninian: 71.86356953252195, Proposed Hamiltoninian: 72.41000039219057\n",
      "Accept rho: -0.546430859668618\n",
      "Step: 795, Current Hamiltoninian: 68.10612061791679, Proposed Hamiltoninian: 67.60798292810524\n",
      "Accept rho: 0.0\n",
      "Step: 796, Current Hamiltoninian: 61.92673246674113, Proposed Hamiltoninian: 61.385776639149796\n",
      "Accept rho: 0.0\n",
      "Step: 797, Current Hamiltoninian: 61.890083288910134, Proposed Hamiltoninian: 61.86856337541923\n",
      "Accept rho: 0.0\n",
      "Step: 798, Current Hamiltoninian: 75.25874258249443, Proposed Hamiltoninian: 75.82000708737496\n",
      "Accept rho: -0.5612645048805263\n",
      "Step: 799, Current Hamiltoninian: 63.8841037399384, Proposed Hamiltoninian: 63.41311664023895\n",
      "Accept rho: 0.0\n",
      "Step: 800, Current Hamiltoninian: 57.44431636048108, Proposed Hamiltoninian: 57.94221531812131\n",
      "Accept rho: -0.4978989576402313\n",
      "Step: 801, Current Hamiltoninian: 55.913078383605665, Proposed Hamiltoninian: 56.36379250890648\n",
      "Accept rho: -0.4507141253008129\n",
      "Step: 802, Current Hamiltoninian: 57.78631035604409, Proposed Hamiltoninian: 57.15460468707461\n",
      "Accept rho: 0.0\n",
      "Step: 803, Current Hamiltoninian: 71.93450555399687, Proposed Hamiltoninian: 71.12812752233172\n",
      "Accept rho: 0.0\n",
      "Step: 804, Current Hamiltoninian: 56.679478555536704, Proposed Hamiltoninian: 56.63994959633453\n",
      "Accept rho: 0.0\n",
      "Step: 805, Current Hamiltoninian: 57.73733427971711, Proposed Hamiltoninian: 57.78319452434094\n",
      "Accept rho: -0.04586024462383165\n",
      "Step: 806, Current Hamiltoninian: 58.05048661688448, Proposed Hamiltoninian: 58.6476611320804\n",
      "REJECT\n",
      "Step: 807, Current Hamiltoninian: 66.17861300480686, Proposed Hamiltoninian: 65.53266491758474\n",
      "Accept rho: 0.0\n",
      "Step: 808, Current Hamiltoninian: 67.94054456285168, Proposed Hamiltoninian: 68.43839043342896\n",
      "Accept rho: -0.49784587057727947\n",
      "Step: 809, Current Hamiltoninian: 65.82280108245834, Proposed Hamiltoninian: 66.83832224673469\n",
      "Accept rho: -1.0155211642763504\n",
      "Step: 810, Current Hamiltoninian: 65.65630499056732, Proposed Hamiltoninian: 66.40840693692351\n",
      "REJECT\n",
      "Step: 811, Current Hamiltoninian: 54.3382333833156, Proposed Hamiltoninian: 55.14657346555332\n",
      "REJECT\n",
      "Step: 812, Current Hamiltoninian: 58.740788964977476, Proposed Hamiltoninian: 58.41998345630933\n",
      "Accept rho: 0.0\n",
      "Step: 813, Current Hamiltoninian: 67.02917111474994, Proposed Hamiltoninian: 67.7134148666675\n",
      "REJECT\n",
      "Step: 814, Current Hamiltoninian: 64.23128136357866, Proposed Hamiltoninian: 65.16932898068542\n",
      "Accept rho: -0.9380476171067613\n",
      "Step: 815, Current Hamiltoninian: 57.0155431951023, Proposed Hamiltoninian: 57.475653770586646\n",
      "REJECT\n",
      "Step: 816, Current Hamiltoninian: 56.352598991474565, Proposed Hamiltoninian: 56.44739911897716\n",
      "Accept rho: -0.09480012750259448\n",
      "Step: 817, Current Hamiltoninian: 63.48227733268578, Proposed Hamiltoninian: 63.511799239332014\n",
      "Accept rho: -0.02952190664623089\n",
      "Step: 818, Current Hamiltoninian: 63.55056303814139, Proposed Hamiltoninian: 63.512209360685176\n",
      "Accept rho: 0.0\n",
      "Step: 819, Current Hamiltoninian: 66.13519635396128, Proposed Hamiltoninian: 65.65370882104041\n",
      "Accept rho: 0.0\n",
      "Step: 820, Current Hamiltoninian: 59.61274436492613, Proposed Hamiltoninian: 59.64766802348984\n",
      "Accept rho: -0.034923658563712934\n",
      "Step: 821, Current Hamiltoninian: 63.44094228996845, Proposed Hamiltoninian: 63.90606007983244\n",
      "Accept rho: -0.46511778986399577\n",
      "Step: 822, Current Hamiltoninian: 63.01771284401978, Proposed Hamiltoninian: 62.26012375959755\n",
      "Accept rho: 0.0\n",
      "Step: 823, Current Hamiltoninian: 56.7617381134496, Proposed Hamiltoninian: 56.932929618284035\n",
      "Accept rho: -0.17119150483443235\n",
      "Step: 824, Current Hamiltoninian: 61.19751865735288, Proposed Hamiltoninian: 63.038357990290606\n",
      "REJECT\n",
      "Step: 825, Current Hamiltoninian: 63.85509757759806, Proposed Hamiltoninian: 64.53734113964862\n",
      "REJECT\n",
      "Step: 826, Current Hamiltoninian: 65.94244530874667, Proposed Hamiltoninian: 64.92340659114022\n",
      "Accept rho: 0.0\n",
      "Step: 827, Current Hamiltoninian: 58.44698349124297, Proposed Hamiltoninian: 58.98558552072389\n",
      "REJECT\n",
      "Step: 828, Current Hamiltoninian: 65.12257394296745, Proposed Hamiltoninian: 65.70301335875033\n",
      "REJECT\n",
      "Step: 829, Current Hamiltoninian: 58.2433818381551, Proposed Hamiltoninian: 58.107856925165095\n",
      "Accept rho: 0.0\n",
      "Step: 830, Current Hamiltoninian: 72.67431433269613, Proposed Hamiltoninian: 72.49718083413737\n",
      "Accept rho: 0.0\n",
      "Step: 831, Current Hamiltoninian: 63.52658497711017, Proposed Hamiltoninian: 64.64664213429542\n",
      "REJECT\n",
      "Step: 832, Current Hamiltoninian: 67.82107618634154, Proposed Hamiltoninian: 67.18652473060112\n",
      "Accept rho: 0.0\n",
      "Step: 833, Current Hamiltoninian: 56.752239267453476, Proposed Hamiltoninian: 56.692037911365524\n",
      "Accept rho: 0.0\n",
      "Step: 834, Current Hamiltoninian: 63.59301650798775, Proposed Hamiltoninian: 64.07932423805826\n",
      "Accept rho: -0.4863077300705143\n",
      "Step: 835, Current Hamiltoninian: 54.984992106410864, Proposed Hamiltoninian: 54.5826763466237\n",
      "Accept rho: 0.0\n",
      "Step: 836, Current Hamiltoninian: 71.80403389636014, Proposed Hamiltoninian: 71.89866575595593\n",
      "Accept rho: -0.09463185959579334\n",
      "Step: 837, Current Hamiltoninian: 65.433257385586, Proposed Hamiltoninian: 62.86609246792099\n",
      "Accept rho: 0.0\n",
      "Step: 838, Current Hamiltoninian: 64.78252266317006, Proposed Hamiltoninian: 65.34591953336607\n",
      "Accept rho: -0.5633968701960157\n",
      "Step: 839, Current Hamiltoninian: 56.56369034497292, Proposed Hamiltoninian: 56.29232827230439\n",
      "Accept rho: 0.0\n",
      "Step: 840, Current Hamiltoninian: 56.32405769155639, Proposed Hamiltoninian: 56.09807729013545\n",
      "Accept rho: 0.0\n",
      "Step: 841, Current Hamiltoninian: 62.74777618867619, Proposed Hamiltoninian: 61.081262335627336\n",
      "Accept rho: 0.0\n",
      "Step: 842, Current Hamiltoninian: 64.28791639839915, Proposed Hamiltoninian: 63.16655401495274\n",
      "Accept rho: 0.0\n",
      "Step: 843, Current Hamiltoninian: 58.288442062104025, Proposed Hamiltoninian: 57.661091053454456\n",
      "Accept rho: 0.0\n",
      "Step: 844, Current Hamiltoninian: 61.641470692560134, Proposed Hamiltoninian: 59.56296458625651\n",
      "Accept rho: 0.0\n",
      "Step: 845, Current Hamiltoninian: 75.95775572525369, Proposed Hamiltoninian: 76.6061107127328\n",
      "REJECT\n",
      "Step: 846, Current Hamiltoninian: 77.60526495346626, Proposed Hamiltoninian: 77.65825525471854\n",
      "Accept rho: -0.05299030125227944\n",
      "Step: 847, Current Hamiltoninian: 61.04329108794903, Proposed Hamiltoninian: 58.441202451659635\n",
      "Accept rho: 0.0\n",
      "Step: 848, Current Hamiltoninian: 67.89956397608157, Proposed Hamiltoninian: 66.84671796104037\n",
      "Accept rho: 0.0\n",
      "Step: 849, Current Hamiltoninian: 68.91211857765421, Proposed Hamiltoninian: 68.18644786868423\n",
      "Accept rho: 0.0\n",
      "Step: 850, Current Hamiltoninian: 62.97929745910019, Proposed Hamiltoninian: 62.49720669036505\n",
      "Accept rho: 0.0\n",
      "Step: 851, Current Hamiltoninian: 49.46702037504103, Proposed Hamiltoninian: 49.33760031007333\n",
      "Accept rho: 0.0\n",
      "Step: 852, Current Hamiltoninian: 79.34241745916584, Proposed Hamiltoninian: 80.1176748916138\n",
      "REJECT\n",
      "Step: 853, Current Hamiltoninian: 77.25929139914145, Proposed Hamiltoninian: 77.24202805130466\n",
      "Accept rho: 0.0\n",
      "Step: 854, Current Hamiltoninian: 74.95065128048861, Proposed Hamiltoninian: 75.0107980961641\n",
      "Accept rho: -0.060146815675480525\n",
      "Step: 855, Current Hamiltoninian: 63.62011278535543, Proposed Hamiltoninian: 62.8247207672929\n",
      "Accept rho: 0.0\n",
      "Step: 856, Current Hamiltoninian: 68.40443944207539, Proposed Hamiltoninian: 68.56273589044758\n",
      "Accept rho: -0.15829644837219803\n",
      "Step: 857, Current Hamiltoninian: 67.18065869633658, Proposed Hamiltoninian: 66.00064996043746\n",
      "Accept rho: 0.0\n",
      "Step: 858, Current Hamiltoninian: 65.41466750420649, Proposed Hamiltoninian: 65.86382307228368\n",
      "Accept rho: -0.44915556807718815\n",
      "Step: 859, Current Hamiltoninian: 57.72062149027485, Proposed Hamiltoninian: 58.1167880756563\n",
      "Accept rho: -0.3961665853814509\n",
      "Step: 860, Current Hamiltoninian: 58.77371715256564, Proposed Hamiltoninian: 59.84067822505661\n",
      "REJECT\n",
      "Step: 861, Current Hamiltoninian: 79.04069431131722, Proposed Hamiltoninian: 78.94328781525873\n",
      "Accept rho: 0.0\n",
      "Step: 862, Current Hamiltoninian: 46.374858720359526, Proposed Hamiltoninian: 46.01398520863046\n",
      "Accept rho: 0.0\n"
     ]
    },
    {
     "name": "stdout",
     "output_type": "stream",
     "text": [
      "Step: 863, Current Hamiltoninian: 60.411515204111915, Proposed Hamiltoninian: 60.041782877518074\n",
      "Accept rho: 0.0\n",
      "Step: 864, Current Hamiltoninian: 59.52212686420627, Proposed Hamiltoninian: 59.337274610311056\n",
      "Accept rho: 0.0\n",
      "Step: 865, Current Hamiltoninian: 60.88147089134894, Proposed Hamiltoninian: 59.921437390266874\n",
      "Accept rho: 0.0\n",
      "Step: 866, Current Hamiltoninian: 59.28154261239435, Proposed Hamiltoninian: 60.15743082019871\n",
      "REJECT\n",
      "Step: 867, Current Hamiltoninian: 56.53513480432561, Proposed Hamiltoninian: 55.72446830250378\n",
      "Accept rho: 0.0\n",
      "Step: 868, Current Hamiltoninian: 55.8423034622631, Proposed Hamiltoninian: 56.90417132843315\n",
      "Accept rho: -1.0618678661700542\n",
      "Step: 869, Current Hamiltoninian: 69.07732387329409, Proposed Hamiltoninian: 69.3908062300037\n",
      "Accept rho: -0.31348235670961344\n",
      "Step: 870, Current Hamiltoninian: 58.163362884555006, Proposed Hamiltoninian: 57.632653563953625\n",
      "Accept rho: 0.0\n",
      "Step: 871, Current Hamiltoninian: 65.58850646980213, Proposed Hamiltoninian: 65.36232598217052\n",
      "Accept rho: 0.0\n",
      "Step: 872, Current Hamiltoninian: 68.36955043575773, Proposed Hamiltoninian: 69.29836678208392\n",
      "REJECT\n",
      "Step: 873, Current Hamiltoninian: 67.78954721308833, Proposed Hamiltoninian: 68.08126033290087\n",
      "Accept rho: -0.2917131198125418\n",
      "Step: 874, Current Hamiltoninian: 58.587418831898255, Proposed Hamiltoninian: 57.96452866992996\n",
      "Accept rho: 0.0\n",
      "Step: 875, Current Hamiltoninian: 73.45573609640022, Proposed Hamiltoninian: 73.1859324949975\n",
      "Accept rho: 0.0\n",
      "Step: 876, Current Hamiltoninian: 57.23996462653046, Proposed Hamiltoninian: 57.50281606137924\n",
      "Accept rho: -0.26285143484878404\n",
      "Step: 877, Current Hamiltoninian: 64.93902976027078, Proposed Hamiltoninian: 64.80265631010911\n",
      "Accept rho: 0.0\n",
      "Step: 878, Current Hamiltoninian: 54.06585514146313, Proposed Hamiltoninian: 54.332864839220306\n",
      "Accept rho: -0.26700969775717454\n",
      "Step: 879, Current Hamiltoninian: 71.4758677057799, Proposed Hamiltoninian: 71.34568177284234\n",
      "Accept rho: 0.0\n",
      "Step: 880, Current Hamiltoninian: 67.69612265168412, Proposed Hamiltoninian: 67.81651300043437\n",
      "Accept rho: -0.12039034875024868\n",
      "Step: 881, Current Hamiltoninian: 57.8746569726551, Proposed Hamiltoninian: 57.65028832936504\n",
      "Accept rho: 0.0\n",
      "Step: 882, Current Hamiltoninian: 55.90259957115584, Proposed Hamiltoninian: 55.41192656821525\n",
      "Accept rho: 0.0\n",
      "Step: 883, Current Hamiltoninian: 54.27701902221993, Proposed Hamiltoninian: 54.61496259756328\n",
      "Accept rho: -0.3379435753433455\n",
      "Step: 884, Current Hamiltoninian: 71.49315558766108, Proposed Hamiltoninian: 71.94132698171174\n",
      "Accept rho: -0.44817139405066087\n",
      "Step: 885, Current Hamiltoninian: 55.968141429820705, Proposed Hamiltoninian: 57.79451704554597\n",
      "REJECT\n",
      "Step: 886, Current Hamiltoninian: 53.606998039138674, Proposed Hamiltoninian: 53.3709140511204\n",
      "Accept rho: 0.0\n",
      "Step: 887, Current Hamiltoninian: 58.22042252974899, Proposed Hamiltoninian: 57.58913881374021\n",
      "Accept rho: 0.0\n",
      "Step: 888, Current Hamiltoninian: 58.01101469585191, Proposed Hamiltoninian: 58.14909922846428\n",
      "Accept rho: -0.13808453261236764\n",
      "Step: 889, Current Hamiltoninian: 55.771233606541514, Proposed Hamiltoninian: 55.95638091841248\n",
      "Accept rho: -0.18514731187096345\n",
      "Step: 890, Current Hamiltoninian: 57.03550097187608, Proposed Hamiltoninian: 58.42664407679173\n",
      "REJECT\n",
      "Step: 891, Current Hamiltoninian: 58.027205435857304, Proposed Hamiltoninian: 57.440153514876236\n",
      "Accept rho: 0.0\n",
      "Step: 892, Current Hamiltoninian: 70.51178647851992, Proposed Hamiltoninian: 69.2228905593889\n",
      "Accept rho: 0.0\n",
      "Step: 893, Current Hamiltoninian: 73.07299804673228, Proposed Hamiltoninian: 72.45297423353352\n",
      "Accept rho: 0.0\n",
      "Step: 894, Current Hamiltoninian: 69.91708930146011, Proposed Hamiltoninian: 69.00485573593036\n",
      "Accept rho: 0.0\n",
      "Step: 895, Current Hamiltoninian: 75.99406906232593, Proposed Hamiltoninian: 77.09308144818016\n",
      "REJECT\n",
      "Step: 896, Current Hamiltoninian: 66.25452897904957, Proposed Hamiltoninian: 66.27093656171871\n",
      "Accept rho: -0.01640758266914588\n",
      "Step: 897, Current Hamiltoninian: 63.30001567422063, Proposed Hamiltoninian: 62.59059036635972\n",
      "Accept rho: 0.0\n",
      "Step: 898, Current Hamiltoninian: 69.89019550807392, Proposed Hamiltoninian: 69.5550370237606\n",
      "Accept rho: 0.0\n",
      "Step: 899, Current Hamiltoninian: 65.52853801091146, Proposed Hamiltoninian: 66.51998994257926\n",
      "REJECT\n",
      "Step: 900, Current Hamiltoninian: 53.11068113436408, Proposed Hamiltoninian: 52.36057660986141\n",
      "Accept rho: 0.0\n",
      "Step: 901, Current Hamiltoninian: 61.09009803056484, Proposed Hamiltoninian: 62.39599323752802\n",
      "REJECT\n",
      "Step: 902, Current Hamiltoninian: 59.08392561006758, Proposed Hamiltoninian: 58.95013893027824\n",
      "Accept rho: 0.0\n",
      "Step: 903, Current Hamiltoninian: 59.80682163696727, Proposed Hamiltoninian: 59.54277422671571\n",
      "Accept rho: 0.0\n",
      "Step: 904, Current Hamiltoninian: 61.00515937107855, Proposed Hamiltoninian: 61.23804886401429\n",
      "REJECT\n",
      "Step: 905, Current Hamiltoninian: 70.94946981541494, Proposed Hamiltoninian: 70.55579175888334\n",
      "Accept rho: 0.0\n",
      "Step: 906, Current Hamiltoninian: 78.555216788135, Proposed Hamiltoninian: 78.36819919903294\n",
      "Accept rho: 0.0\n",
      "Step: 907, Current Hamiltoninian: 54.49380654161022, Proposed Hamiltoninian: 54.735188807933625\n",
      "Accept rho: -0.24138226632340576\n",
      "Step: 908, Current Hamiltoninian: 61.51848494471023, Proposed Hamiltoninian: 61.53116106556287\n",
      "Accept rho: -0.012676120852638917\n",
      "Step: 909, Current Hamiltoninian: 61.524404824662355, Proposed Hamiltoninian: 61.404782204180144\n",
      "Accept rho: 0.0\n",
      "Step: 910, Current Hamiltoninian: 49.114111229634126, Proposed Hamiltoninian: 49.082342984617746\n",
      "Accept rho: 0.0\n",
      "Step: 911, Current Hamiltoninian: 82.12964339880358, Proposed Hamiltoninian: 82.1306994833034\n",
      "Accept rho: -0.0010560844998224184\n",
      "Step: 912, Current Hamiltoninian: 66.93653730788229, Proposed Hamiltoninian: 66.49937993483934\n",
      "Accept rho: 0.0\n",
      "Step: 913, Current Hamiltoninian: 64.40265508297765, Proposed Hamiltoninian: 64.00665189936257\n",
      "Accept rho: 0.0\n",
      "Step: 914, Current Hamiltoninian: 75.02305698847782, Proposed Hamiltoninian: 74.44043623180347\n",
      "Accept rho: 0.0\n",
      "Step: 915, Current Hamiltoninian: 67.57891344690316, Proposed Hamiltoninian: 67.27726979955216\n",
      "Accept rho: 0.0\n",
      "Step: 916, Current Hamiltoninian: 66.80815005285751, Proposed Hamiltoninian: 66.92776488609803\n",
      "REJECT\n",
      "Step: 917, Current Hamiltoninian: 63.92662470589191, Proposed Hamiltoninian: 64.11429545311036\n",
      "Accept rho: -0.1876707472184478\n",
      "Step: 918, Current Hamiltoninian: 63.937106669187536, Proposed Hamiltoninian: 64.3644064811781\n",
      "Accept rho: -0.427299811990558\n",
      "Step: 919, Current Hamiltoninian: 69.98315242511785, Proposed Hamiltoninian: 70.63828898548302\n",
      "REJECT\n",
      "Step: 920, Current Hamiltoninian: 71.02522248496413, Proposed Hamiltoninian: 70.33940425232856\n",
      "Accept rho: 0.0\n",
      "Step: 921, Current Hamiltoninian: 68.76668483172911, Proposed Hamiltoninian: 68.9242517430597\n",
      "Accept rho: -0.15756691133059064\n",
      "Step: 922, Current Hamiltoninian: 61.938782435849674, Proposed Hamiltoninian: 61.699337725001925\n",
      "Accept rho: 0.0\n",
      "Step: 923, Current Hamiltoninian: 58.244790092657865, Proposed Hamiltoninian: 58.031510819715194\n",
      "Accept rho: 0.0\n",
      "Step: 924, Current Hamiltoninian: 57.954420831229825, Proposed Hamiltoninian: 58.40543448454656\n",
      "Accept rho: -0.4510136533167355\n",
      "Step: 925, Current Hamiltoninian: 65.3962430443753, Proposed Hamiltoninian: 66.00970304269065\n",
      "REJECT\n",
      "Step: 926, Current Hamiltoninian: 67.20951913515836, Proposed Hamiltoninian: 67.3582968106691\n",
      "Accept rho: -0.14877767551074328\n",
      "Step: 927, Current Hamiltoninian: 59.609708241233804, Proposed Hamiltoninian: 59.216860412990435\n",
      "Accept rho: 0.0\n",
      "Step: 928, Current Hamiltoninian: 66.33589899798585, Proposed Hamiltoninian: 66.18734754958828\n",
      "Accept rho: 0.0\n",
      "Step: 929, Current Hamiltoninian: 66.09552255390976, Proposed Hamiltoninian: 66.06763924666978\n",
      "Accept rho: 0.0\n",
      "Step: 930, Current Hamiltoninian: 55.54654393482885, Proposed Hamiltoninian: 56.25622063833657\n",
      "Accept rho: -0.7096767035077249\n",
      "Step: 931, Current Hamiltoninian: 58.76716339882011, Proposed Hamiltoninian: 58.562106190378664\n",
      "Accept rho: 0.0\n",
      "Step: 932, Current Hamiltoninian: 59.79201789339194, Proposed Hamiltoninian: 60.3174080117289\n",
      "REJECT\n",
      "Step: 933, Current Hamiltoninian: 65.21384850502946, Proposed Hamiltoninian: 65.58843885449194\n",
      "Accept rho: -0.3745903494624798\n",
      "Step: 934, Current Hamiltoninian: 68.65217638408325, Proposed Hamiltoninian: 69.22678197908027\n",
      "Accept rho: -0.5746055949970241\n"
     ]
    },
    {
     "name": "stdout",
     "output_type": "stream",
     "text": [
      "Step: 935, Current Hamiltoninian: 71.2171201671015, Proposed Hamiltoninian: 71.70435306506903\n",
      "Accept rho: -0.4872328979675302\n",
      "Step: 936, Current Hamiltoninian: 79.13282661959013, Proposed Hamiltoninian: 79.88372254627832\n",
      "REJECT\n",
      "Step: 937, Current Hamiltoninian: 53.906616685760255, Proposed Hamiltoninian: 53.886125790900984\n",
      "Accept rho: 0.0\n",
      "Step: 938, Current Hamiltoninian: 56.26788539519392, Proposed Hamiltoninian: 56.28977857590824\n",
      "Accept rho: -0.021893180714315008\n",
      "Step: 939, Current Hamiltoninian: 64.37241866121539, Proposed Hamiltoninian: 64.07065385344536\n",
      "Accept rho: 0.0\n",
      "Step: 940, Current Hamiltoninian: 67.5778676850206, Proposed Hamiltoninian: 68.35275008343851\n",
      "REJECT\n",
      "Step: 941, Current Hamiltoninian: 68.75117751536834, Proposed Hamiltoninian: 68.99162111499383\n",
      "REJECT\n",
      "Step: 942, Current Hamiltoninian: 65.86004924553946, Proposed Hamiltoninian: 65.80027951950534\n",
      "Accept rho: 0.0\n",
      "Step: 943, Current Hamiltoninian: 71.0072983064282, Proposed Hamiltoninian: 71.39393711731866\n",
      "REJECT\n",
      "Step: 944, Current Hamiltoninian: 64.05312140853076, Proposed Hamiltoninian: 63.21741886352321\n",
      "Accept rho: 0.0\n",
      "Step: 945, Current Hamiltoninian: 63.52911120889823, Proposed Hamiltoninian: 63.29705272837538\n",
      "Accept rho: 0.0\n",
      "Step: 946, Current Hamiltoninian: 70.57605641357848, Proposed Hamiltoninian: 70.47403600918769\n",
      "Accept rho: 0.0\n",
      "Step: 947, Current Hamiltoninian: 51.49727623799248, Proposed Hamiltoninian: 51.87778989268775\n",
      "Accept rho: -0.380513654695271\n",
      "Step: 948, Current Hamiltoninian: 66.5327204729363, Proposed Hamiltoninian: 66.5715066627475\n",
      "Accept rho: -0.03878618981119075\n",
      "Step: 949, Current Hamiltoninian: 69.96212186300656, Proposed Hamiltoninian: 69.89260471583913\n",
      "Accept rho: 0.0\n",
      "Step: 950, Current Hamiltoninian: 73.14162419475375, Proposed Hamiltoninian: 72.93068093679577\n",
      "Accept rho: 0.0\n",
      "Step: 951, Current Hamiltoninian: 59.710223454192274, Proposed Hamiltoninian: 59.61514694603406\n",
      "Accept rho: 0.0\n",
      "Step: 952, Current Hamiltoninian: 54.31721733370705, Proposed Hamiltoninian: 54.58668089106167\n",
      "Accept rho: -0.26946355735461935\n",
      "Step: 953, Current Hamiltoninian: 56.56869643033528, Proposed Hamiltoninian: 57.23288019062345\n",
      "REJECT\n",
      "Step: 954, Current Hamiltoninian: 61.96733398748177, Proposed Hamiltoninian: 61.2144054456118\n",
      "Accept rho: 0.0\n",
      "Step: 955, Current Hamiltoninian: 67.73211816681909, Proposed Hamiltoninian: 68.23800745846727\n",
      "REJECT\n",
      "Step: 956, Current Hamiltoninian: 62.55208364274266, Proposed Hamiltoninian: 62.3394255679772\n",
      "Accept rho: 0.0\n",
      "Step: 957, Current Hamiltoninian: 53.17142504889263, Proposed Hamiltoninian: 53.35024716380631\n",
      "Accept rho: -0.17882211491367883\n",
      "Step: 958, Current Hamiltoninian: 56.25426776984165, Proposed Hamiltoninian: 56.77718044970527\n",
      "Accept rho: -0.522912679863623\n",
      "Step: 959, Current Hamiltoninian: 56.31090324354149, Proposed Hamiltoninian: 56.94861090760345\n",
      "Accept rho: -0.6377076640619634\n",
      "Step: 960, Current Hamiltoninian: 58.66486356131505, Proposed Hamiltoninian: 58.15413819891347\n",
      "Accept rho: 0.0\n",
      "Step: 961, Current Hamiltoninian: 62.869898968525646, Proposed Hamiltoninian: 63.014735937832114\n",
      "Accept rho: -0.14483696930646772\n",
      "Step: 962, Current Hamiltoninian: 63.40879696130188, Proposed Hamiltoninian: 63.56796930549243\n",
      "Accept rho: -0.15917234419055148\n",
      "Step: 963, Current Hamiltoninian: 63.27064139309656, Proposed Hamiltoninian: 64.01000121621863\n",
      "Accept rho: -0.739359823122065\n",
      "Step: 964, Current Hamiltoninian: 62.39278105254526, Proposed Hamiltoninian: 62.31458147187421\n",
      "Accept rho: 0.0\n",
      "Step: 965, Current Hamiltoninian: 65.78288015102515, Proposed Hamiltoninian: 64.98116921700266\n",
      "Accept rho: 0.0\n",
      "Step: 966, Current Hamiltoninian: 46.84417598688597, Proposed Hamiltoninian: 46.078313920733336\n",
      "Accept rho: 0.0\n",
      "Step: 967, Current Hamiltoninian: 60.320229384724854, Proposed Hamiltoninian: 60.602431820545036\n",
      "Accept rho: -0.28220243582018156\n",
      "Step: 968, Current Hamiltoninian: 68.06831817851904, Proposed Hamiltoninian: 68.52834536679728\n",
      "Accept rho: -0.4600271882782465\n",
      "Step: 969, Current Hamiltoninian: 65.977112755666, Proposed Hamiltoninian: 66.06570451444276\n",
      "Accept rho: -0.08859175877675796\n",
      "Step: 970, Current Hamiltoninian: 65.6703506612716, Proposed Hamiltoninian: 65.98983359311985\n",
      "REJECT\n",
      "Step: 971, Current Hamiltoninian: 52.89430900161728, Proposed Hamiltoninian: 53.12121176502936\n",
      "Accept rho: -0.2269027634120775\n",
      "Step: 972, Current Hamiltoninian: 62.94368680363783, Proposed Hamiltoninian: 63.01664143639756\n",
      "Accept rho: -0.07295463275973191\n",
      "Step: 973, Current Hamiltoninian: 59.433826396600125, Proposed Hamiltoninian: 59.014687191451635\n",
      "Accept rho: 0.0\n",
      "Step: 974, Current Hamiltoninian: 57.722198880495256, Proposed Hamiltoninian: 57.69542687586527\n",
      "Accept rho: 0.0\n",
      "Step: 975, Current Hamiltoninian: 60.65927254385451, Proposed Hamiltoninian: 60.63255262385765\n",
      "Accept rho: 0.0\n",
      "Step: 976, Current Hamiltoninian: 56.458268301701835, Proposed Hamiltoninian: 56.78071296445462\n",
      "REJECT\n",
      "Step: 977, Current Hamiltoninian: 66.47963855291239, Proposed Hamiltoninian: 66.60846743551012\n",
      "Accept rho: -0.1288288825977304\n",
      "Step: 978, Current Hamiltoninian: 64.13957528435151, Proposed Hamiltoninian: 64.04747945235471\n",
      "Accept rho: 0.0\n",
      "Step: 979, Current Hamiltoninian: 60.68297575991261, Proposed Hamiltoninian: 60.34608957489014\n",
      "Accept rho: 0.0\n",
      "Step: 980, Current Hamiltoninian: 68.92274720193906, Proposed Hamiltoninian: 68.7689279639565\n",
      "Accept rho: 0.0\n",
      "Step: 981, Current Hamiltoninian: 69.38816481519524, Proposed Hamiltoninian: 68.95291783370419\n",
      "Accept rho: 0.0\n",
      "Step: 982, Current Hamiltoninian: 61.199010196468, Proposed Hamiltoninian: 60.93292059718276\n",
      "Accept rho: 0.0\n",
      "Step: 983, Current Hamiltoninian: 71.00984406142362, Proposed Hamiltoninian: 70.76564366419598\n",
      "Accept rho: 0.0\n",
      "Step: 984, Current Hamiltoninian: 69.394320743338, Proposed Hamiltoninian: 68.88968922729971\n",
      "Accept rho: 0.0\n",
      "Step: 985, Current Hamiltoninian: 72.13782761846817, Proposed Hamiltoninian: 72.26128720500887\n",
      "Accept rho: -0.12345958654070444\n",
      "Step: 986, Current Hamiltoninian: 51.10570715751156, Proposed Hamiltoninian: 50.704975434877625\n",
      "Accept rho: 0.0\n",
      "Step: 987, Current Hamiltoninian: 63.294742530517446, Proposed Hamiltoninian: 63.5669135369973\n",
      "Accept rho: -0.2721710064798515\n",
      "Step: 988, Current Hamiltoninian: 58.984505602678404, Proposed Hamiltoninian: 58.912279507467275\n",
      "Accept rho: 0.0\n",
      "Step: 989, Current Hamiltoninian: 55.71152097729539, Proposed Hamiltoninian: 55.27719557752497\n",
      "Accept rho: 0.0\n",
      "Step: 990, Current Hamiltoninian: 62.53893216332102, Proposed Hamiltoninian: 62.2308356729127\n",
      "Accept rho: 0.0\n",
      "Step: 991, Current Hamiltoninian: 59.81537187678218, Proposed Hamiltoninian: 59.17343368643998\n",
      "Accept rho: 0.0\n",
      "Step: 992, Current Hamiltoninian: 72.86758061195412, Proposed Hamiltoninian: 72.97593560064706\n",
      "Accept rho: -0.10835498869293758\n",
      "Step: 993, Current Hamiltoninian: 59.48615247097586, Proposed Hamiltoninian: 59.35158701988456\n",
      "Accept rho: 0.0\n",
      "Step: 994, Current Hamiltoninian: 49.9992102743275, Proposed Hamiltoninian: 49.82428498285028\n",
      "Accept rho: 0.0\n",
      "Step: 995, Current Hamiltoninian: 65.93827603728845, Proposed Hamiltoninian: 66.29271880180386\n",
      "Accept rho: -0.35444276451541157\n",
      "Step: 996, Current Hamiltoninian: 53.627292698738344, Proposed Hamiltoninian: 53.43824234970258\n",
      "Accept rho: 0.0\n",
      "Step: 997, Current Hamiltoninian: 80.87582400644422, Proposed Hamiltoninian: 81.16940054106966\n",
      "REJECT\n",
      "Step: 998, Current Hamiltoninian: 59.48666057022392, Proposed Hamiltoninian: 59.63913084146197\n",
      "Accept rho: -0.15247027123805168\n",
      "Step: 999, Current Hamiltoninian: 68.72326248803408, Proposed Hamiltoninian: 68.2844767688946\n",
      "Accept rho: 0.0\n",
      "Step: 1000, Current Hamiltoninian: 58.29053584175963, Proposed Hamiltoninian: 58.26432624699957\n",
      "Accept rho: 0.0\n",
      "Step: 1001, Current Hamiltoninian: 71.49852693648361, Proposed Hamiltoninian: 71.68579226889497\n",
      "Accept rho: -0.18726533241135712\n",
      "Step: 1002, Current Hamiltoninian: 68.18880032382141, Proposed Hamiltoninian: 68.10408442977953\n",
      "Accept rho: 0.0\n",
      "Step: 1003, Current Hamiltoninian: 58.77633453013564, Proposed Hamiltoninian: 58.45654963806747\n",
      "Accept rho: 0.0\n",
      "Step: 1004, Current Hamiltoninian: 55.152536793998564, Proposed Hamiltoninian: 55.338753552707544\n",
      "Accept rho: -0.18621675870898002\n",
      "Step: 1005, Current Hamiltoninian: 61.86135263175257, Proposed Hamiltoninian: 61.85194385094512\n",
      "Accept rho: 0.0\n"
     ]
    },
    {
     "name": "stdout",
     "output_type": "stream",
     "text": [
      "Step: 1006, Current Hamiltoninian: 63.32287534534828, Proposed Hamiltoninian: 62.99542720362978\n",
      "Accept rho: 0.0\n",
      "Step: 1007, Current Hamiltoninian: 59.412070144602964, Proposed Hamiltoninian: 59.05450699634986\n",
      "Accept rho: 0.0\n",
      "Step: 1008, Current Hamiltoninian: 64.85157142613963, Proposed Hamiltoninian: 65.08539632833948\n",
      "Accept rho: -0.2338249021998564\n",
      "Step: 1009, Current Hamiltoninian: 54.346607708489344, Proposed Hamiltoninian: 54.75879962155033\n",
      "Accept rho: -0.4121919130609868\n",
      "Step: 1010, Current Hamiltoninian: 58.48557143708905, Proposed Hamiltoninian: 58.30546552492082\n",
      "Accept rho: 0.0\n",
      "Step: 1011, Current Hamiltoninian: 52.20597487899847, Proposed Hamiltoninian: 52.50968250422896\n",
      "Accept rho: -0.3037076252304942\n",
      "Step: 1012, Current Hamiltoninian: 64.75794676631304, Proposed Hamiltoninian: 65.5958147551836\n",
      "Accept rho: -0.8378679888705562\n",
      "Step: 1013, Current Hamiltoninian: 57.19942941292201, Proposed Hamiltoninian: 56.692623365768995\n",
      "Accept rho: 0.0\n",
      "Step: 1014, Current Hamiltoninian: 68.5193515962195, Proposed Hamiltoninian: 68.15834082667803\n",
      "Accept rho: 0.0\n",
      "Step: 1015, Current Hamiltoninian: 63.497469982646, Proposed Hamiltoninian: 63.21851405718334\n",
      "Accept rho: 0.0\n",
      "Step: 1016, Current Hamiltoninian: 59.94707698041307, Proposed Hamiltoninian: 60.34697742716262\n",
      "Accept rho: -0.39990044674954817\n",
      "Step: 1017, Current Hamiltoninian: 62.7228278262678, Proposed Hamiltoninian: 62.983056949159305\n",
      "Accept rho: -0.26022912289150213\n",
      "Step: 1018, Current Hamiltoninian: 52.46967814474549, Proposed Hamiltoninian: 52.9824795741416\n",
      "Accept rho: -0.512801429396113\n",
      "Step: 1019, Current Hamiltoninian: 65.77686911039835, Proposed Hamiltoninian: 65.26585350238267\n",
      "Accept rho: 0.0\n",
      "Step: 1020, Current Hamiltoninian: 57.01835414622545, Proposed Hamiltoninian: 56.964147474591925\n",
      "Accept rho: 0.0\n",
      "Step: 1021, Current Hamiltoninian: 60.97512746344403, Proposed Hamiltoninian: 60.64116760515582\n",
      "Accept rho: 0.0\n",
      "Step: 1022, Current Hamiltoninian: 59.0174742581044, Proposed Hamiltoninian: 59.01607836578642\n",
      "Accept rho: 0.0\n",
      "Step: 1023, Current Hamiltoninian: 56.85024046821124, Proposed Hamiltoninian: 56.62972533597119\n",
      "Accept rho: 0.0\n",
      "Step: 1024, Current Hamiltoninian: 64.9678076593865, Proposed Hamiltoninian: 64.66507379695503\n",
      "Accept rho: 0.0\n",
      "Step: 1025, Current Hamiltoninian: 63.83860227906689, Proposed Hamiltoninian: 64.02804429874413\n",
      "Accept rho: -0.1894420196772444\n",
      "Step: 1026, Current Hamiltoninian: 69.65588228671635, Proposed Hamiltoninian: 69.6886343019289\n",
      "Accept rho: -0.032752015212551555\n",
      "Step: 1027, Current Hamiltoninian: 70.5993263837277, Proposed Hamiltoninian: 71.5027567477932\n",
      "Accept rho: -0.9034303640654997\n",
      "Step: 1028, Current Hamiltoninian: 65.52838843064785, Proposed Hamiltoninian: 65.48784411264558\n",
      "Accept rho: 0.0\n",
      "Step: 1029, Current Hamiltoninian: 57.87831823538736, Proposed Hamiltoninian: 57.689608280176444\n",
      "Accept rho: 0.0\n",
      "Step: 1030, Current Hamiltoninian: 63.07468201100468, Proposed Hamiltoninian: 63.671464828823694\n",
      "Accept rho: -0.5967828178190118\n",
      "Step: 1031, Current Hamiltoninian: 58.92959041894876, Proposed Hamiltoninian: 58.98810934709985\n",
      "Accept rho: -0.058518928151087835\n",
      "Step: 1032, Current Hamiltoninian: 58.23699391633544, Proposed Hamiltoninian: 58.20315676941914\n",
      "Accept rho: 0.0\n",
      "Step: 1033, Current Hamiltoninian: 52.74381550671261, Proposed Hamiltoninian: 52.25036206609974\n",
      "Accept rho: 0.0\n",
      "Step: 1034, Current Hamiltoninian: 59.91507067920888, Proposed Hamiltoninian: 60.1197905092256\n",
      "Accept rho: -0.204719830016721\n",
      "Step: 1035, Current Hamiltoninian: 54.16159769030728, Proposed Hamiltoninian: 54.89942734744003\n",
      "Accept rho: -0.7378296571327496\n",
      "Step: 1036, Current Hamiltoninian: 70.1077640646703, Proposed Hamiltoninian: 69.76110224990597\n",
      "Accept rho: 0.0\n",
      "Step: 1037, Current Hamiltoninian: 52.49525296549186, Proposed Hamiltoninian: 52.33018032519989\n",
      "Accept rho: 0.0\n",
      "Step: 1038, Current Hamiltoninian: 53.627823104680765, Proposed Hamiltoninian: 53.50621191554867\n",
      "Accept rho: 0.0\n",
      "Step: 1039, Current Hamiltoninian: 61.225460218950374, Proposed Hamiltoninian: 61.47371676141259\n",
      "Accept rho: -0.24825654246221518\n",
      "Step: 1040, Current Hamiltoninian: 60.06595594886912, Proposed Hamiltoninian: 60.01174786813045\n",
      "Accept rho: 0.0\n",
      "Step: 1041, Current Hamiltoninian: 57.77671738881027, Proposed Hamiltoninian: 58.17849147589962\n",
      "Accept rho: -0.4017740870893505\n",
      "Step: 1042, Current Hamiltoninian: 61.83363874195759, Proposed Hamiltoninian: 61.902239735645125\n",
      "Accept rho: -0.06860099368753225\n",
      "Step: 1043, Current Hamiltoninian: 55.16960812508253, Proposed Hamiltoninian: 55.59223591854641\n",
      "Accept rho: -0.42262779346387447\n",
      "Step: 1044, Current Hamiltoninian: 58.718221248071764, Proposed Hamiltoninian: 59.27549063379741\n",
      "REJECT\n",
      "Step: 1045, Current Hamiltoninian: 73.16855283470062, Proposed Hamiltoninian: 72.5855105367099\n",
      "Accept rho: 0.0\n",
      "Step: 1046, Current Hamiltoninian: 53.0933308774409, Proposed Hamiltoninian: 52.71934038930537\n",
      "Accept rho: 0.0\n",
      "Step: 1047, Current Hamiltoninian: 53.81987606827461, Proposed Hamiltoninian: 54.159106884811735\n",
      "Accept rho: -0.3392308165371247\n",
      "Step: 1048, Current Hamiltoninian: 50.53333790022242, Proposed Hamiltoninian: 49.989267590021726\n",
      "Accept rho: 0.0\n",
      "Step: 1049, Current Hamiltoninian: 59.86873712169911, Proposed Hamiltoninian: 59.748543002508825\n",
      "Accept rho: 0.0\n",
      "Step: 1050, Current Hamiltoninian: 58.00469524554511, Proposed Hamiltoninian: 57.70595992699466\n",
      "Accept rho: 0.0\n",
      "Step: 1051, Current Hamiltoninian: 69.09174588202185, Proposed Hamiltoninian: 68.74152951717764\n",
      "Accept rho: 0.0\n",
      "Step: 1052, Current Hamiltoninian: 57.85682440014462, Proposed Hamiltoninian: 57.77686373998718\n",
      "Accept rho: 0.0\n",
      "Step: 1053, Current Hamiltoninian: 67.78792719653701, Proposed Hamiltoninian: 68.30313229682008\n",
      "Accept rho: -0.5152051002830689\n",
      "Step: 1054, Current Hamiltoninian: 57.08432516971378, Proposed Hamiltoninian: 57.38532191181152\n",
      "Accept rho: -0.30099674209774463\n",
      "Step: 1055, Current Hamiltoninian: 66.07490711191153, Proposed Hamiltoninian: 66.2594305626578\n",
      "REJECT\n",
      "Step: 1056, Current Hamiltoninian: 65.68820233562535, Proposed Hamiltoninian: 65.57372752961427\n",
      "Accept rho: 0.0\n",
      "Step: 1057, Current Hamiltoninian: 63.01320541416641, Proposed Hamiltoninian: 62.84002599894852\n",
      "Accept rho: 0.0\n",
      "Step: 1058, Current Hamiltoninian: 57.83922134844652, Proposed Hamiltoninian: 57.466649983179174\n",
      "Accept rho: 0.0\n",
      "Step: 1059, Current Hamiltoninian: 50.662167083072525, Proposed Hamiltoninian: 50.801022694144216\n",
      "Accept rho: -0.13885561107169053\n",
      "Step: 1060, Current Hamiltoninian: 68.56403407608165, Proposed Hamiltoninian: 68.99203560015519\n",
      "Accept rho: -0.42800152407353664\n",
      "Step: 1061, Current Hamiltoninian: 75.74140707898357, Proposed Hamiltoninian: 74.839260324485\n",
      "Accept rho: 0.0\n",
      "Step: 1062, Current Hamiltoninian: 62.66643884129334, Proposed Hamiltoninian: 62.25155402296251\n",
      "Accept rho: 0.0\n",
      "Step: 1063, Current Hamiltoninian: 53.56848984842857, Proposed Hamiltoninian: 54.40156459670852\n",
      "Accept rho: -0.8330747482799481\n",
      "Step: 1064, Current Hamiltoninian: 63.274415639739104, Proposed Hamiltoninian: 63.28098954475658\n",
      "Accept rho: -0.0065739050174755675\n",
      "Step: 1065, Current Hamiltoninian: 49.061543960412514, Proposed Hamiltoninian: 49.01119946935213\n",
      "Accept rho: 0.0\n",
      "Step: 1066, Current Hamiltoninian: 57.004681240310546, Proposed Hamiltoninian: 57.147982093559705\n",
      "Accept rho: -0.14330085324915842\n",
      "Step: 1067, Current Hamiltoninian: 54.16052137049506, Proposed Hamiltoninian: 54.04273501518112\n",
      "Accept rho: 0.0\n",
      "Step: 1068, Current Hamiltoninian: 57.06572159872017, Proposed Hamiltoninian: 56.6523524643318\n",
      "Accept rho: 0.0\n",
      "Step: 1069, Current Hamiltoninian: 60.12364260510949, Proposed Hamiltoninian: 60.26427467978371\n",
      "Accept rho: -0.14063207467422245\n",
      "Step: 1070, Current Hamiltoninian: 62.207725922606265, Proposed Hamiltoninian: 62.433183531797\n",
      "Accept rho: -0.22545760919073388\n",
      "Step: 1071, Current Hamiltoninian: 65.0002802252223, Proposed Hamiltoninian: 64.97917813856941\n",
      "Accept rho: 0.0\n",
      "Step: 1072, Current Hamiltoninian: 59.628110045766334, Proposed Hamiltoninian: 59.207927635890876\n",
      "Accept rho: 0.0\n",
      "Step: 1073, Current Hamiltoninian: 72.70588823417813, Proposed Hamiltoninian: 72.62571807898908\n",
      "Accept rho: 0.0\n",
      "Step: 1074, Current Hamiltoninian: 47.69538705879975, Proposed Hamiltoninian: 47.80892623881303\n",
      "Accept rho: -0.11353918001327656\n"
     ]
    },
    {
     "name": "stdout",
     "output_type": "stream",
     "text": [
      "Step: 1075, Current Hamiltoninian: 64.92625370278, Proposed Hamiltoninian: 65.13277143477248\n",
      "Accept rho: -0.20651773199247714\n",
      "Step: 1076, Current Hamiltoninian: 77.08993273455809, Proposed Hamiltoninian: 76.87833124283085\n",
      "Accept rho: 0.0\n",
      "Step: 1077, Current Hamiltoninian: 56.305656423407676, Proposed Hamiltoninian: 56.54026158020526\n",
      "Accept rho: -0.23460515679758487\n",
      "Step: 1078, Current Hamiltoninian: 59.187241065557686, Proposed Hamiltoninian: 59.174379807733885\n",
      "Accept rho: 0.0\n",
      "Step: 1079, Current Hamiltoninian: 61.21388893461205, Proposed Hamiltoninian: 61.684326672761074\n",
      "REJECT\n",
      "Step: 1080, Current Hamiltoninian: 71.92632801761846, Proposed Hamiltoninian: 71.51445140976732\n",
      "Accept rho: 0.0\n",
      "Step: 1081, Current Hamiltoninian: 61.642767921944916, Proposed Hamiltoninian: 62.07629448256319\n",
      "Accept rho: -0.4335265606182759\n",
      "Step: 1082, Current Hamiltoninian: 59.502382371695234, Proposed Hamiltoninian: 59.090075061935735\n",
      "Accept rho: 0.0\n",
      "Step: 1083, Current Hamiltoninian: 53.36286180023386, Proposed Hamiltoninian: 53.89322690925682\n",
      "REJECT\n",
      "Step: 1084, Current Hamiltoninian: 65.74243397038894, Proposed Hamiltoninian: 65.51951148055818\n",
      "Accept rho: 0.0\n",
      "Step: 1085, Current Hamiltoninian: 70.79536323544896, Proposed Hamiltoninian: 70.73441039128049\n",
      "Accept rho: 0.0\n",
      "Step: 1086, Current Hamiltoninian: 64.14886135930175, Proposed Hamiltoninian: 64.05359962735355\n",
      "Accept rho: 0.0\n",
      "Step: 1087, Current Hamiltoninian: 66.05537811483167, Proposed Hamiltoninian: 66.55232034860946\n",
      "REJECT\n",
      "Step: 1088, Current Hamiltoninian: 63.74108745806912, Proposed Hamiltoninian: 64.357522206035\n",
      "REJECT\n",
      "Step: 1089, Current Hamiltoninian: 50.08043236375238, Proposed Hamiltoninian: 50.42996341426863\n",
      "Accept rho: -0.3495310505162479\n",
      "Step: 1090, Current Hamiltoninian: 51.40454987947879, Proposed Hamiltoninian: 51.53658085885229\n",
      "Accept rho: -0.1320309793734964\n",
      "Step: 1091, Current Hamiltoninian: 57.16573714457478, Proposed Hamiltoninian: 57.465676332670874\n",
      "REJECT\n",
      "Step: 1092, Current Hamiltoninian: 54.925770978322575, Proposed Hamiltoninian: 55.0038112149128\n",
      "Accept rho: -0.07804023659022619\n",
      "Step: 1093, Current Hamiltoninian: 72.58352021600284, Proposed Hamiltoninian: 73.3797970347071\n",
      "REJECT\n",
      "Step: 1094, Current Hamiltoninian: 57.75747218301588, Proposed Hamiltoninian: 57.049023625704876\n",
      "Accept rho: 0.0\n",
      "Step: 1095, Current Hamiltoninian: 77.61584438974472, Proposed Hamiltoninian: 77.38098238786102\n",
      "Accept rho: 0.0\n",
      "Step: 1096, Current Hamiltoninian: 63.30281390192399, Proposed Hamiltoninian: 63.56322245245016\n",
      "Accept rho: -0.2604085505261722\n",
      "Step: 1097, Current Hamiltoninian: 63.84411084679297, Proposed Hamiltoninian: 63.30713440041255\n",
      "Accept rho: 0.0\n",
      "Step: 1098, Current Hamiltoninian: 71.04425991699253, Proposed Hamiltoninian: 71.05688037683817\n",
      "REJECT\n",
      "Step: 1099, Current Hamiltoninian: 69.33544837162805, Proposed Hamiltoninian: 69.44069475511631\n",
      "Accept rho: -0.10524638348826443\n",
      "Step: 1100, Current Hamiltoninian: 64.32062476054054, Proposed Hamiltoninian: 63.75755134296161\n",
      "Accept rho: 0.0\n",
      "Step: 1101, Current Hamiltoninian: 60.327497546730996, Proposed Hamiltoninian: 60.42033429376444\n",
      "Accept rho: -0.09283674703344502\n",
      "Step: 1102, Current Hamiltoninian: 63.848401533164115, Proposed Hamiltoninian: 63.91067834924601\n",
      "Accept rho: -0.062276816081897834\n",
      "Step: 1103, Current Hamiltoninian: 72.45138734897299, Proposed Hamiltoninian: 72.50734675177408\n",
      "Accept rho: -0.05595940280109346\n",
      "Step: 1104, Current Hamiltoninian: 65.20440486485262, Proposed Hamiltoninian: 65.05808927350938\n",
      "Accept rho: 0.0\n",
      "Step: 1105, Current Hamiltoninian: 52.175950638077744, Proposed Hamiltoninian: 52.59653260653973\n",
      "Accept rho: -0.42058196846198825\n",
      "Step: 1106, Current Hamiltoninian: 65.34802267708599, Proposed Hamiltoninian: 64.94304002826105\n",
      "Accept rho: 0.0\n",
      "Step: 1107, Current Hamiltoninian: 62.02474435085209, Proposed Hamiltoninian: 61.95187068234776\n",
      "Accept rho: 0.0\n",
      "Step: 1108, Current Hamiltoninian: 68.5767284659989, Proposed Hamiltoninian: 69.1164874930997\n",
      "REJECT\n",
      "Step: 1109, Current Hamiltoninian: 65.44868299698672, Proposed Hamiltoninian: 65.60649148645683\n",
      "Accept rho: -0.1578084894701135\n",
      "Step: 1110, Current Hamiltoninian: 61.43675151884855, Proposed Hamiltoninian: 61.91864593073049\n",
      "REJECT\n",
      "Step: 1111, Current Hamiltoninian: 66.01558192751065, Proposed Hamiltoninian: 66.19935623465268\n",
      "Accept rho: -0.18377430714203058\n",
      "Step: 1112, Current Hamiltoninian: 57.89146326068715, Proposed Hamiltoninian: 57.149174432095506\n",
      "Accept rho: 0.0\n",
      "Step: 1113, Current Hamiltoninian: 60.9126450379314, Proposed Hamiltoninian: 61.60898663027665\n",
      "Accept rho: -0.6963415923452487\n",
      "Step: 1114, Current Hamiltoninian: 62.19344181896552, Proposed Hamiltoninian: 61.96443623693843\n",
      "Accept rho: 0.0\n",
      "Step: 1115, Current Hamiltoninian: 62.35572097608996, Proposed Hamiltoninian: 62.186845211046645\n",
      "Accept rho: 0.0\n",
      "Step: 1116, Current Hamiltoninian: 70.7405258248485, Proposed Hamiltoninian: 71.17389793256882\n",
      "REJECT\n",
      "Step: 1117, Current Hamiltoninian: 58.848358354251275, Proposed Hamiltoninian: 59.02022267443287\n",
      "Accept rho: -0.17186432018159792\n",
      "Step: 1118, Current Hamiltoninian: 57.37438033476056, Proposed Hamiltoninian: 57.81137323624293\n",
      "Accept rho: -0.4369929014823697\n",
      "Step: 1119, Current Hamiltoninian: 60.62483106272481, Proposed Hamiltoninian: 60.06979629101889\n",
      "Accept rho: 0.0\n",
      "Step: 1120, Current Hamiltoninian: 70.65230662900139, Proposed Hamiltoninian: 71.13155640043044\n",
      "Accept rho: -0.47924977142905334\n",
      "Step: 1121, Current Hamiltoninian: 58.52673260397775, Proposed Hamiltoninian: 59.204218316586434\n",
      "Accept rho: -0.6774857126086857\n",
      "Step: 1122, Current Hamiltoninian: 56.083063660331334, Proposed Hamiltoninian: 55.572024056754515\n",
      "Accept rho: 0.0\n",
      "Step: 1123, Current Hamiltoninian: 60.89405161395824, Proposed Hamiltoninian: 60.50886518311465\n",
      "Accept rho: 0.0\n",
      "Step: 1124, Current Hamiltoninian: 75.30131934189883, Proposed Hamiltoninian: 75.76088007881128\n",
      "REJECT\n",
      "Step: 1125, Current Hamiltoninian: 63.092664598259645, Proposed Hamiltoninian: 62.620825284208465\n",
      "Accept rho: 0.0\n",
      "Step: 1126, Current Hamiltoninian: 55.04840586588959, Proposed Hamiltoninian: 55.41717906661357\n",
      "REJECT\n",
      "Step: 1127, Current Hamiltoninian: 68.33021377332517, Proposed Hamiltoninian: 68.46584251034767\n",
      "REJECT\n",
      "Step: 1128, Current Hamiltoninian: 53.45147351774715, Proposed Hamiltoninian: 53.16114135746404\n",
      "Accept rho: 0.0\n",
      "Step: 1129, Current Hamiltoninian: 61.93338807048611, Proposed Hamiltoninian: 61.72269950637225\n",
      "Accept rho: 0.0\n",
      "Step: 1130, Current Hamiltoninian: 63.76308324494608, Proposed Hamiltoninian: 63.499876368948705\n",
      "Accept rho: 0.0\n",
      "Step: 1131, Current Hamiltoninian: 62.51808874206658, Proposed Hamiltoninian: 62.20128195636383\n",
      "Accept rho: 0.0\n",
      "Step: 1132, Current Hamiltoninian: 61.36715591405175, Proposed Hamiltoninian: 61.471133364956714\n",
      "REJECT\n",
      "Step: 1133, Current Hamiltoninian: 70.2322862972793, Proposed Hamiltoninian: 70.32668029121245\n",
      "Accept rho: -0.09439399393315284\n",
      "Step: 1134, Current Hamiltoninian: 68.8391319980622, Proposed Hamiltoninian: 69.08463526646406\n",
      "Accept rho: -0.24550326840186187\n",
      "Step: 1135, Current Hamiltoninian: 61.077177823526284, Proposed Hamiltoninian: 60.536699823893045\n",
      "Accept rho: 0.0\n",
      "Step: 1136, Current Hamiltoninian: 58.389433566607664, Proposed Hamiltoninian: 58.58147251860973\n",
      "Accept rho: -0.1920389520020649\n",
      "Step: 1137, Current Hamiltoninian: 61.90789151591166, Proposed Hamiltoninian: 61.79908217479684\n",
      "Accept rho: 0.0\n",
      "Step: 1138, Current Hamiltoninian: 61.04096800687857, Proposed Hamiltoninian: 61.24958814215273\n",
      "Accept rho: -0.20862013527415968\n",
      "Step: 1139, Current Hamiltoninian: 51.57772335193003, Proposed Hamiltoninian: 51.79870863558334\n",
      "REJECT\n",
      "Step: 1140, Current Hamiltoninian: 55.19140735445509, Proposed Hamiltoninian: 55.40373888213121\n",
      "Accept rho: -0.2123315276761204\n",
      "Step: 1141, Current Hamiltoninian: 58.78423310294488, Proposed Hamiltoninian: 58.66030252787806\n",
      "Accept rho: 0.0\n",
      "Step: 1142, Current Hamiltoninian: 58.0143116482218, Proposed Hamiltoninian: 58.48402407996183\n",
      "Accept rho: -0.4697124317400281\n",
      "Step: 1143, Current Hamiltoninian: 62.918124334569114, Proposed Hamiltoninian: 63.25840406289163\n",
      "REJECT\n",
      "Step: 1144, Current Hamiltoninian: 63.74320918794922, Proposed Hamiltoninian: 64.13564863052828\n",
      "REJECT\n",
      "Step: 1145, Current Hamiltoninian: 59.24744629129384, Proposed Hamiltoninian: 59.16060232811833\n",
      "Accept rho: 0.0\n"
     ]
    },
    {
     "name": "stdout",
     "output_type": "stream",
     "text": [
      "Step: 1146, Current Hamiltoninian: 67.79417222478153, Proposed Hamiltoninian: 66.8559210634831\n",
      "Accept rho: 0.0\n",
      "Step: 1147, Current Hamiltoninian: 69.44606225582041, Proposed Hamiltoninian: 69.54022529152446\n",
      "Accept rho: -0.0941630357040566\n",
      "Step: 1148, Current Hamiltoninian: 66.02492942298161, Proposed Hamiltoninian: 66.74876797048802\n",
      "REJECT\n",
      "Step: 1149, Current Hamiltoninian: 56.92558750727359, Proposed Hamiltoninian: 56.73402788722755\n",
      "Accept rho: 0.0\n",
      "Step: 1150, Current Hamiltoninian: 64.6522111139419, Proposed Hamiltoninian: 63.74393967581271\n",
      "Accept rho: 0.0\n",
      "Step: 1151, Current Hamiltoninian: 60.24041676630646, Proposed Hamiltoninian: 60.17932243443687\n",
      "Accept rho: 0.0\n",
      "Step: 1152, Current Hamiltoninian: 73.3663050353542, Proposed Hamiltoninian: 73.2659162362772\n",
      "Accept rho: 0.0\n",
      "Step: 1153, Current Hamiltoninian: 62.593641670747196, Proposed Hamiltoninian: 62.884311311776834\n",
      "REJECT\n",
      "Step: 1154, Current Hamiltoninian: 58.11041868921257, Proposed Hamiltoninian: 58.74849730688911\n",
      "Accept rho: -0.6380786176765341\n",
      "Step: 1155, Current Hamiltoninian: 61.80700948689434, Proposed Hamiltoninian: 60.5924610395014\n",
      "Accept rho: 0.0\n",
      "Step: 1156, Current Hamiltoninian: 55.622267358484194, Proposed Hamiltoninian: 55.08753798543691\n",
      "Accept rho: 0.0\n",
      "Step: 1157, Current Hamiltoninian: 57.48159093951157, Proposed Hamiltoninian: 57.607398955750995\n",
      "Accept rho: -0.12580801623942506\n",
      "Step: 1158, Current Hamiltoninian: 67.60375024623863, Proposed Hamiltoninian: 67.28734524081244\n",
      "Accept rho: 0.0\n",
      "Step: 1159, Current Hamiltoninian: 60.65028877238987, Proposed Hamiltoninian: 60.78458674032971\n",
      "Accept rho: -0.13429796793983684\n",
      "Step: 1160, Current Hamiltoninian: 53.879441055821985, Proposed Hamiltoninian: 53.47931167269193\n",
      "Accept rho: 0.0\n",
      "Step: 1161, Current Hamiltoninian: 61.283417452200986, Proposed Hamiltoninian: 61.482920507090455\n",
      "Accept rho: -0.19950305488946896\n",
      "Step: 1162, Current Hamiltoninian: 62.769707846883016, Proposed Hamiltoninian: 62.304443808962304\n",
      "Accept rho: 0.0\n",
      "Step: 1163, Current Hamiltoninian: 78.96926834671953, Proposed Hamiltoninian: 79.24656088671284\n",
      "REJECT\n",
      "Step: 1164, Current Hamiltoninian: 57.59517662361699, Proposed Hamiltoninian: 57.965045944514856\n",
      "REJECT\n",
      "Step: 1165, Current Hamiltoninian: 57.11989823358644, Proposed Hamiltoninian: 57.29877963497427\n",
      "Accept rho: -0.1788814013878266\n",
      "Step: 1166, Current Hamiltoninian: 66.29257734445756, Proposed Hamiltoninian: 67.49255733072518\n",
      "REJECT\n",
      "Step: 1167, Current Hamiltoninian: 56.31611107579127, Proposed Hamiltoninian: 55.77495317405072\n",
      "Accept rho: 0.0\n",
      "Step: 1168, Current Hamiltoninian: 53.05195761288809, Proposed Hamiltoninian: 53.151866021761144\n",
      "Accept rho: -0.09990840887305552\n",
      "Step: 1169, Current Hamiltoninian: 71.95651856621484, Proposed Hamiltoninian: 73.1330322293673\n",
      "REJECT\n",
      "Step: 1170, Current Hamiltoninian: 53.91002205308346, Proposed Hamiltoninian: 54.13419795998577\n",
      "Accept rho: -0.22417590690231037\n",
      "Step: 1171, Current Hamiltoninian: 65.93668958102967, Proposed Hamiltoninian: 65.97970300973671\n",
      "Accept rho: -0.04301342870704161\n",
      "Step: 1172, Current Hamiltoninian: 63.163603768993084, Proposed Hamiltoninian: 62.82917529451504\n",
      "Accept rho: 0.0\n",
      "Step: 1173, Current Hamiltoninian: 58.2634939897264, Proposed Hamiltoninian: 58.14602679015381\n",
      "Accept rho: 0.0\n",
      "Step: 1174, Current Hamiltoninian: 74.11504540790864, Proposed Hamiltoninian: 73.90339985198186\n",
      "Accept rho: 0.0\n",
      "Step: 1175, Current Hamiltoninian: 82.43422938340423, Proposed Hamiltoninian: 83.0268548897794\n",
      "Accept rho: -0.5926255063751711\n",
      "Step: 1176, Current Hamiltoninian: 54.71128685308929, Proposed Hamiltoninian: 54.80258602508599\n",
      "Accept rho: -0.09129917199670246\n",
      "Step: 1177, Current Hamiltoninian: 57.48201924377215, Proposed Hamiltoninian: 58.172680015814365\n",
      "Accept rho: -0.6906607720422144\n",
      "Step: 1178, Current Hamiltoninian: 70.8385568885426, Proposed Hamiltoninian: 70.11747326878518\n",
      "Accept rho: 0.0\n",
      "Step: 1179, Current Hamiltoninian: 59.36722011451263, Proposed Hamiltoninian: 59.076272332123224\n",
      "Accept rho: 0.0\n",
      "Step: 1180, Current Hamiltoninian: 57.637293347594174, Proposed Hamiltoninian: 58.38984657465427\n",
      "Accept rho: -0.7525532270600976\n",
      "Step: 1181, Current Hamiltoninian: 69.60018332676904, Proposed Hamiltoninian: 69.47843898680424\n",
      "Accept rho: 0.0\n",
      "Step: 1182, Current Hamiltoninian: 65.66246030563201, Proposed Hamiltoninian: 65.20201246339857\n",
      "Accept rho: 0.0\n",
      "Step: 1183, Current Hamiltoninian: 56.86492192085407, Proposed Hamiltoninian: 57.007128297255534\n",
      "Accept rho: -0.14220637640146094\n",
      "Step: 1184, Current Hamiltoninian: 71.24974300221595, Proposed Hamiltoninian: 71.01799973941836\n",
      "Accept rho: 0.0\n",
      "Step: 1185, Current Hamiltoninian: 59.89552454063151, Proposed Hamiltoninian: 60.04597415798802\n",
      "REJECT\n",
      "Step: 1186, Current Hamiltoninian: 62.79846358456965, Proposed Hamiltoninian: 62.58434234683565\n",
      "Accept rho: 0.0\n",
      "Step: 1187, Current Hamiltoninian: 53.747432566276245, Proposed Hamiltoninian: 54.01850260517287\n",
      "Accept rho: -0.2710700388966245\n",
      "Step: 1188, Current Hamiltoninian: 57.225240742880416, Proposed Hamiltoninian: 57.3058254883268\n",
      "Accept rho: -0.08058474544638727\n",
      "Step: 1189, Current Hamiltoninian: 61.15905316087937, Proposed Hamiltoninian: 61.08996253197046\n",
      "Accept rho: 0.0\n",
      "Step: 1190, Current Hamiltoninian: 67.26133321971997, Proposed Hamiltoninian: 67.74034316047154\n",
      "REJECT\n",
      "Step: 1191, Current Hamiltoninian: 66.99289434273349, Proposed Hamiltoninian: 66.60564955640379\n",
      "Accept rho: 0.0\n",
      "Step: 1192, Current Hamiltoninian: 42.489833637581945, Proposed Hamiltoninian: 42.83275805294787\n",
      "REJECT\n",
      "Step: 1193, Current Hamiltoninian: 68.4040337557348, Proposed Hamiltoninian: 68.16175813035719\n",
      "Accept rho: 0.0\n",
      "Step: 1194, Current Hamiltoninian: 61.23691904376631, Proposed Hamiltoninian: 61.304130168994135\n",
      "Accept rho: -0.06721112522782846\n",
      "Step: 1195, Current Hamiltoninian: 59.294283098881614, Proposed Hamiltoninian: 58.98154603925302\n",
      "Accept rho: 0.0\n",
      "Step: 1196, Current Hamiltoninian: 59.034816328447306, Proposed Hamiltoninian: 58.75856762014308\n",
      "Accept rho: 0.0\n",
      "Step: 1197, Current Hamiltoninian: 59.805861711380146, Proposed Hamiltoninian: 59.532060028231896\n",
      "Accept rho: 0.0\n",
      "Step: 1198, Current Hamiltoninian: 58.74761324104047, Proposed Hamiltoninian: 58.73438463028015\n",
      "Accept rho: 0.0\n",
      "Step: 1199, Current Hamiltoninian: 57.86053688578939, Proposed Hamiltoninian: 58.03573980274304\n",
      "Accept rho: -0.1752029169536513\n",
      "Step: 1200, Current Hamiltoninian: 60.48224681440281, Proposed Hamiltoninian: 60.2287488756249\n",
      "Accept rho: 0.0\n",
      "Step: 1201, Current Hamiltoninian: 55.13715854209611, Proposed Hamiltoninian: 54.80569687451947\n",
      "Accept rho: 0.0\n",
      "Step: 1202, Current Hamiltoninian: 62.6908921642473, Proposed Hamiltoninian: 62.508442898235025\n",
      "Accept rho: 0.0\n",
      "Step: 1203, Current Hamiltoninian: 70.08046069006068, Proposed Hamiltoninian: 70.04868818101423\n",
      "Accept rho: 0.0\n",
      "Step: 1204, Current Hamiltoninian: 69.24529274653553, Proposed Hamiltoninian: 68.96297933804847\n",
      "Accept rho: 0.0\n",
      "Step: 1205, Current Hamiltoninian: 63.825011480105545, Proposed Hamiltoninian: 64.0383350970292\n",
      "Accept rho: -0.21332361692365964\n",
      "Step: 1206, Current Hamiltoninian: 72.33888726543896, Proposed Hamiltoninian: 72.71057741566754\n",
      "REJECT\n",
      "Step: 1207, Current Hamiltoninian: 58.664919842951164, Proposed Hamiltoninian: 58.799923308628145\n",
      "Accept rho: -0.13500346567698074\n",
      "Step: 1208, Current Hamiltoninian: 63.204593451976024, Proposed Hamiltoninian: 62.74116431301653\n",
      "Accept rho: 0.0\n",
      "Step: 1209, Current Hamiltoninian: 54.87056632279675, Proposed Hamiltoninian: 55.126435239990926\n",
      "Accept rho: -0.2558689171941779\n",
      "Step: 1210, Current Hamiltoninian: 63.97906101947905, Proposed Hamiltoninian: 64.14651583266249\n",
      "REJECT\n",
      "Step: 1211, Current Hamiltoninian: 53.50999174117375, Proposed Hamiltoninian: 53.36303695250817\n",
      "Accept rho: 0.0\n",
      "Step: 1212, Current Hamiltoninian: 63.38080963393057, Proposed Hamiltoninian: 63.34130824144173\n",
      "Accept rho: 0.0\n",
      "Step: 1213, Current Hamiltoninian: 68.01684740881527, Proposed Hamiltoninian: 67.840285567871\n",
      "Accept rho: 0.0\n",
      "Step: 1214, Current Hamiltoninian: 58.31646723936548, Proposed Hamiltoninian: 58.21605764213179\n",
      "Accept rho: 0.0\n",
      "Step: 1215, Current Hamiltoninian: 59.082999581318134, Proposed Hamiltoninian: 58.50399304025973\n",
      "Accept rho: 0.0\n",
      "Step: 1216, Current Hamiltoninian: 52.25609589146352, Proposed Hamiltoninian: 52.44697558357155\n",
      "REJECT\n"
     ]
    },
    {
     "name": "stdout",
     "output_type": "stream",
     "text": [
      "Step: 1217, Current Hamiltoninian: 55.62495943728035, Proposed Hamiltoninian: 55.8998369324476\n",
      "Accept rho: -0.2748774951672459\n",
      "Step: 1218, Current Hamiltoninian: 61.01728461368353, Proposed Hamiltoninian: 60.66640350680061\n",
      "Accept rho: 0.0\n",
      "Step: 1219, Current Hamiltoninian: 72.46447500281054, Proposed Hamiltoninian: 72.31710510366267\n",
      "Accept rho: 0.0\n",
      "Step: 1220, Current Hamiltoninian: 57.21635303501618, Proposed Hamiltoninian: 57.82470836561172\n",
      "REJECT\n",
      "Step: 1221, Current Hamiltoninian: 50.19056090887719, Proposed Hamiltoninian: 50.335052103202216\n",
      "Accept rho: -0.14449119432502755\n",
      "Step: 1222, Current Hamiltoninian: 60.04127880365457, Proposed Hamiltoninian: 60.59106796946324\n",
      "Accept rho: -0.5497891658086687\n",
      "Step: 1223, Current Hamiltoninian: 54.43864022388213, Proposed Hamiltoninian: 54.874505075975534\n",
      "Accept rho: -0.43586485209340253\n",
      "Step: 1224, Current Hamiltoninian: 55.348141171112125, Proposed Hamiltoninian: 55.5920530267178\n",
      "Accept rho: -0.24391185560567408\n",
      "Step: 1225, Current Hamiltoninian: 58.78933285958422, Proposed Hamiltoninian: 59.04810658291083\n",
      "REJECT\n",
      "Step: 1226, Current Hamiltoninian: 54.943250512791835, Proposed Hamiltoninian: 55.1663185664686\n",
      "Accept rho: -0.2230680536767622\n",
      "Step: 1227, Current Hamiltoninian: 67.7160679776531, Proposed Hamiltoninian: 67.89070124982226\n",
      "Accept rho: -0.17463327216916014\n",
      "Step: 1228, Current Hamiltoninian: 64.02375019939072, Proposed Hamiltoninian: 64.23306765884944\n",
      "Accept rho: -0.20931745945871683\n",
      "Step: 1229, Current Hamiltoninian: 73.91262087046695, Proposed Hamiltoninian: 74.13942122374806\n",
      "Accept rho: -0.22680035328110648\n",
      "Step: 1230, Current Hamiltoninian: 60.22615169994235, Proposed Hamiltoninian: 60.12278970173943\n",
      "Accept rho: 0.0\n",
      "Step: 1231, Current Hamiltoninian: 65.3287506569323, Proposed Hamiltoninian: 65.10192534516204\n",
      "Accept rho: 0.0\n",
      "Step: 1232, Current Hamiltoninian: 59.031904584550446, Proposed Hamiltoninian: 58.97930031589516\n",
      "Accept rho: 0.0\n",
      "Step: 1233, Current Hamiltoninian: 55.04755986027979, Proposed Hamiltoninian: 54.95867957338321\n",
      "Accept rho: 0.0\n",
      "Step: 1234, Current Hamiltoninian: 53.19749195346401, Proposed Hamiltoninian: 53.45450662214987\n",
      "Accept rho: -0.2570146686858621\n",
      "Step: 1235, Current Hamiltoninian: 65.13873655287446, Proposed Hamiltoninian: 64.5419264441519\n",
      "Accept rho: 0.0\n",
      "Step: 1236, Current Hamiltoninian: 59.29133258925715, Proposed Hamiltoninian: 59.24653671710347\n",
      "Accept rho: 0.0\n",
      "Step: 1237, Current Hamiltoninian: 67.70949295929034, Proposed Hamiltoninian: 67.73412607384715\n",
      "Accept rho: -0.02463311455680639\n",
      "Step: 1238, Current Hamiltoninian: 71.238329445378, Proposed Hamiltoninian: 71.34741076591258\n",
      "Accept rho: -0.1090813205345853\n",
      "Step: 1239, Current Hamiltoninian: 53.32428600607691, Proposed Hamiltoninian: 53.29730985616831\n",
      "Accept rho: 0.0\n",
      "Step: 1240, Current Hamiltoninian: 59.56021450687969, Proposed Hamiltoninian: 59.45332846592973\n",
      "Accept rho: 0.0\n",
      "Step: 1241, Current Hamiltoninian: 59.41911019562585, Proposed Hamiltoninian: 59.378832075089306\n",
      "Accept rho: 0.0\n",
      "Step: 1242, Current Hamiltoninian: 60.39484420371522, Proposed Hamiltoninian: 60.64517665746136\n",
      "REJECT\n",
      "Step: 1243, Current Hamiltoninian: 66.40836557581605, Proposed Hamiltoninian: 66.31501748557892\n",
      "Accept rho: 0.0\n",
      "Step: 1244, Current Hamiltoninian: 69.27577590022014, Proposed Hamiltoninian: 69.20070492155415\n",
      "Accept rho: 0.0\n",
      "Step: 1245, Current Hamiltoninian: 64.9371617667483, Proposed Hamiltoninian: 64.69855193797052\n",
      "Accept rho: 0.0\n",
      "Step: 1246, Current Hamiltoninian: 65.90362580611607, Proposed Hamiltoninian: 66.6252499450899\n",
      "REJECT\n",
      "Step: 1247, Current Hamiltoninian: 63.225840365353875, Proposed Hamiltoninian: 63.487643321005486\n",
      "Accept rho: -0.2618029556516106\n",
      "Step: 1248, Current Hamiltoninian: 56.936097744258845, Proposed Hamiltoninian: 56.8028497904776\n",
      "Accept rho: 0.0\n",
      "Step: 1249, Current Hamiltoninian: 66.52479517342167, Proposed Hamiltoninian: 66.51705729442067\n",
      "Accept rho: 0.0\n",
      "Step: 1250, Current Hamiltoninian: 69.88242353060654, Proposed Hamiltoninian: 70.28876130964832\n",
      "REJECT\n",
      "Step: 1251, Current Hamiltoninian: 57.96788645667448, Proposed Hamiltoninian: 57.74388118241551\n",
      "Accept rho: 0.0\n",
      "Step: 1252, Current Hamiltoninian: 54.38489420569794, Proposed Hamiltoninian: 54.19592364484324\n",
      "Accept rho: 0.0\n",
      "Step: 1253, Current Hamiltoninian: 67.42906413558683, Proposed Hamiltoninian: 67.85569236958486\n",
      "Accept rho: -0.42662823399803074\n",
      "Step: 1254, Current Hamiltoninian: 54.59493674116397, Proposed Hamiltoninian: 55.05133954455275\n",
      "Accept rho: -0.4564028033887766\n",
      "Step: 1255, Current Hamiltoninian: 59.1256834970587, Proposed Hamiltoninian: 59.29699753453618\n",
      "Accept rho: -0.17131403747747953\n",
      "Step: 1256, Current Hamiltoninian: 56.12091436671263, Proposed Hamiltoninian: 55.96633933222692\n",
      "Accept rho: 0.0\n",
      "Step: 1257, Current Hamiltoninian: 61.40531277522686, Proposed Hamiltoninian: 61.54930372503208\n",
      "Accept rho: -0.14399094980522165\n",
      "Step: 1258, Current Hamiltoninian: 55.28990428145211, Proposed Hamiltoninian: 55.22484547037675\n",
      "Accept rho: 0.0\n",
      "Step: 1259, Current Hamiltoninian: 49.71239567759436, Proposed Hamiltoninian: 49.522571689788364\n",
      "Accept rho: 0.0\n",
      "Step: 1260, Current Hamiltoninian: 60.38534310148161, Proposed Hamiltoninian: 60.37268870099034\n",
      "Accept rho: 0.0\n",
      "Step: 1261, Current Hamiltoninian: 73.576633117528, Proposed Hamiltoninian: 73.8503233591331\n",
      "Accept rho: -0.27369024160509525\n",
      "Step: 1262, Current Hamiltoninian: 53.63981571696307, Proposed Hamiltoninian: 53.67038957931281\n",
      "REJECT\n",
      "Step: 1263, Current Hamiltoninian: 65.22334567246554, Proposed Hamiltoninian: 65.14462396017032\n",
      "Accept rho: 0.0\n",
      "Step: 1264, Current Hamiltoninian: 60.798727842818636, Proposed Hamiltoninian: 60.70496960861177\n",
      "Accept rho: 0.0\n",
      "Step: 1265, Current Hamiltoninian: 62.59365579154765, Proposed Hamiltoninian: 62.41756077712926\n",
      "Accept rho: 0.0\n",
      "Step: 1266, Current Hamiltoninian: 70.11174027973928, Proposed Hamiltoninian: 70.4697466268667\n",
      "Accept rho: -0.3580063471274144\n",
      "Step: 1267, Current Hamiltoninian: 60.059159704585966, Proposed Hamiltoninian: 60.06985619245084\n",
      "Accept rho: -0.010696487864876758\n",
      "Step: 1268, Current Hamiltoninian: 64.68491429793708, Proposed Hamiltoninian: 65.31391480053529\n",
      "REJECT\n",
      "Step: 1269, Current Hamiltoninian: 61.402522797463135, Proposed Hamiltoninian: 61.40699247622399\n",
      "Accept rho: -0.0044696787608558\n",
      "Step: 1270, Current Hamiltoninian: 57.85667620436759, Proposed Hamiltoninian: 57.96200049743991\n",
      "Accept rho: -0.1053242930723215\n",
      "Step: 1271, Current Hamiltoninian: 65.78821197979883, Proposed Hamiltoninian: 65.97507862765895\n",
      "Accept rho: -0.1868666478601142\n",
      "Step: 1272, Current Hamiltoninian: 68.64508741047456, Proposed Hamiltoninian: 68.59935533004946\n",
      "Accept rho: 0.0\n",
      "Step: 1273, Current Hamiltoninian: 61.19896063810141, Proposed Hamiltoninian: 61.03034889107377\n",
      "Accept rho: 0.0\n",
      "Step: 1274, Current Hamiltoninian: 56.46658772247515, Proposed Hamiltoninian: 56.26204986772571\n",
      "Accept rho: 0.0\n",
      "Step: 1275, Current Hamiltoninian: 56.87613015383259, Proposed Hamiltoninian: 56.62503995003843\n",
      "Accept rho: 0.0\n",
      "Step: 1276, Current Hamiltoninian: 65.36931345867501, Proposed Hamiltoninian: 65.53340594632013\n",
      "Accept rho: -0.16409248764512085\n",
      "Step: 1277, Current Hamiltoninian: 68.18910569522451, Proposed Hamiltoninian: 68.08338776628807\n",
      "Accept rho: 0.0\n",
      "Step: 1278, Current Hamiltoninian: 78.20544264767213, Proposed Hamiltoninian: 78.51219886598999\n",
      "Accept rho: -0.30675621831785804\n",
      "Step: 1279, Current Hamiltoninian: 52.45892366132726, Proposed Hamiltoninian: 52.76607758926467\n",
      "Accept rho: -0.3071539279374065\n",
      "0d:00:02:44 | 0d:00:00:00 | #################### | 1280/1280 | 7.77       \n",
      "Acceptance Rate 0.80\n"
     ]
    }
   ],
   "source": [
    "\n",
    "N = 1024\n",
    "burn = 256\n",
    "N_nuts = N + burn\n",
    "step_size = 1e-3\n",
    "L = 20\n",
    "\n",
    "samples = hamiltorch.sample(\n",
    "    log_prob, \n",
    "    params_init=params_init, \n",
    "    num_samples=N_nuts, \n",
    "    num_steps_per_sample=L, \n",
    "    step_size=step_size, \n",
    "    burn=burn, \n",
    "    desired_accept_rate=0.8,\n",
    "    sampler=hamiltorch.Sampler.HMC_NUTS,\n",
    "    debug=True)"
   ]
  },
  {
   "cell_type": "code",
   "execution_count": null,
   "id": "1328d7b2",
   "metadata": {},
   "outputs": [],
   "source": [
    "samples = torch.stack(samples)\n",
    "\n"
   ]
  },
  {
   "cell_type": "code",
   "execution_count": 24,
   "id": "1757bada",
   "metadata": {},
   "outputs": [],
   "source": [
    "axes_names = []\n",
    "axes = []\n",
    "\n",
    "for n, ax in dataset.grid.items():\n",
    "    axes_names.append(n)\n",
    "    axes.append(ax)\n",
    "\n",
    "d = dataset.dimensionality\n",
    "m1, m2, z, chi = np.stack(np.meshgrid(*axes, indexing=\"ij\")).reshape(d, -1)\n",
    "\n",
    "resolutions = [len(ax) for ax in axes]\n",
    "\n",
    "input = np.stack([m1, m2, z, chi], axis=-1)\n",
    "input = torch.from_numpy(input)"
   ]
  },
  {
   "cell_type": "code",
   "execution_count": 25,
   "id": "c918a95e",
   "metadata": {},
   "outputs": [],
   "source": [
    "input = input.to(model.device)"
   ]
  },
  {
   "cell_type": "code",
   "execution_count": 26,
   "id": "3e6efe82",
   "metadata": {},
   "outputs": [],
   "source": [
    "def functional_call(model, flat_params):\n",
    "    \n",
    "    params = unflatten_params(flat_params, indices, model)\n",
    "\n",
    "    out: torch.Tensor = _stateless.functional_call(model, {n: p for n, p in zip(names, params)}, input)    \n",
    "    return out"
   ]
  },
  {
   "cell_type": "code",
   "execution_count": 27,
   "id": "80317249",
   "metadata": {},
   "outputs": [
    {
     "data": {
      "text/plain": [
       "pyro.distributions.torch.Normal"
      ]
     },
     "execution_count": 27,
     "metadata": {},
     "output_type": "execute_result"
    }
   ],
   "source": [
    "model.base_dist"
   ]
  },
  {
   "cell_type": "code",
   "execution_count": 28,
   "id": "1a21f1af",
   "metadata": {},
   "outputs": [
    {
     "name": "stdout",
     "output_type": "stream",
     "text": [
      "Got 2D data, reshaping to 3D\n"
     ]
    }
   ],
   "source": [
    "with torch.no_grad():\n",
    "    logprob = functional_call(model, params_init.to(model.device))\n",
    "prob = logprob.exp().view(*resolutions)\n"
   ]
  },
  {
   "cell_type": "code",
   "execution_count": 29,
   "id": "4a37ebed",
   "metadata": {},
   "outputs": [
    {
     "data": {
      "text/plain": [
       "<matplotlib.legend.Legend at 0x7f50e32761f0>"
      ]
     },
     "execution_count": 29,
     "metadata": {},
     "output_type": "execute_result"
    },
    {
     "data": {
      "image/png": "[encoded data removed]",
      "text/plain": [
       "<Figure size 432x288 with 1 Axes>"
      ]
     },
     "metadata": {
      "needs_background": "light"
     },
     "output_type": "display_data"
    }
   ],
   "source": [
    "plt.plot(likelihoods, label='likelihood')\n",
    "plt.plot(priors, label='prior')\n",
    "plt.plot(total, label='sum')\n",
    "plt.legend()\n",
    "\n",
    "# plt.ylim(-20, -5)"
   ]
  },
  {
   "cell_type": "code",
   "execution_count": 30,
   "id": "8b5ad434",
   "metadata": {},
   "outputs": [
    {
     "data": {
      "text/plain": [
       "[<matplotlib.lines.Line2D at 0x7f50e3339ca0>]"
      ]
     },
     "execution_count": 30,
     "metadata": {},
     "output_type": "execute_result"
    },
    {
     "data": {
      "image/png": "[encoded data removed]",
      "text/plain": [
       "<Figure size 432x288 with 1 Axes>"
      ]
     },
     "metadata": {
      "needs_background": "light"
     },
     "output_type": "display_data"
    }
   ],
   "source": [
    "plt.plot(priors)\n"
   ]
  },
  {
   "cell_type": "code",
   "execution_count": 31,
   "id": "b4145a88",
   "metadata": {},
   "outputs": [],
   "source": [
    "pm1m2 = prob.sum((2, 3)).cpu()"
   ]
  },
  {
   "cell_type": "code",
   "execution_count": 32,
   "id": "27336dbc",
   "metadata": {},
   "outputs": [
    {
     "data": {
      "image/png": "[encoded data removed]",
      "text/plain": [
       "<Figure size 1152x1152 with 1 Axes>"
      ]
     },
     "metadata": {},
     "output_type": "display_data"
    }
   ],
   "source": [
    "fig = plt.figure(figsize=(16, 16), facecolor=\"white\")\n",
    "plt.imshow(\n",
    "    pm1m2,\n",
    "    cmap=\"jet\",\n",
    "    origin=\"lower\",\n",
    "    extent=(\n",
    "        axes[1][0],\n",
    "        axes[1][-1],\n",
    "        axes[0][0],\n",
    "        axes[0][-1],\n",
    "    ),  # origin='lower' changes the order\n",
    "    aspect=\"auto\",\n",
    ")\n",
    "\n",
    "plt.xlabel(axes_names[1])  # origin='lower' changes the order\n",
    "plt.ylabel(axes_names[0])\n",
    "plt.tight_layout()"
   ]
  },
  {
   "cell_type": "code",
   "execution_count": 33,
   "id": "2d2f5f67",
   "metadata": {},
   "outputs": [],
   "source": [
    "pm1= prob.sum((1, 2, 3)).cpu()"
   ]
  },
  {
   "cell_type": "code",
   "execution_count": 34,
   "id": "ce8d9d81",
   "metadata": {},
   "outputs": [
    {
     "data": {
      "text/plain": [
       "[<matplotlib.lines.Line2D at 0x7f50e1031040>]"
      ]
     },
     "execution_count": 34,
     "metadata": {},
     "output_type": "execute_result"
    },
    {
     "data": {
      "image/png": "[encoded data removed]",
      "text/plain": [
       "<Figure size 432x288 with 1 Axes>"
      ]
     },
     "metadata": {
      "needs_background": "light"
     },
     "output_type": "display_data"
    }
   ],
   "source": [
    "plt.plot(axes[0], pm1)\n",
    "# plt.yscale('log')"
   ]
  },
  {
   "cell_type": "code",
   "execution_count": 35,
   "id": "16d6515c",
   "metadata": {},
   "outputs": [],
   "source": [
    "import tqdm"
   ]
  },
  {
   "cell_type": "code",
   "execution_count": 36,
   "id": "de550e26",
   "metadata": {
    "scrolled": true
   },
   "outputs": [
    {
     "data": {
      "text/plain": [
       "torch.Size([1024, 90])"
      ]
     },
     "execution_count": 36,
     "metadata": {},
     "output_type": "execute_result"
    }
   ],
   "source": [
    "samples.shape"
   ]
  },
  {
   "cell_type": "code",
   "execution_count": 37,
   "id": "dbbee9a4",
   "metadata": {},
   "outputs": [],
   "source": [
    "samples = samples.cuda()"
   ]
  },
  {
   "cell_type": "code",
   "execution_count": 38,
   "id": "4ff34794",
   "metadata": {},
   "outputs": [],
   "source": [
    "model = model.cuda()"
   ]
  },
  {
   "cell_type": "code",
   "execution_count": 39,
   "id": "9d996525",
   "metadata": {},
   "outputs": [],
   "source": [
    "input = input.cuda()"
   ]
  },
  {
   "cell_type": "code",
   "execution_count": null,
   "id": "2f04ab5a",
   "metadata": {
    "scrolled": true
   },
   "outputs": [
    {
     "name": "stderr",
     "output_type": "stream",
     "text": [
      "  0%|                                          | 2/1024 [00:00<00:59, 17.16it/s]"
     ]
    },
    {
     "name": "stdout",
     "output_type": "stream",
     "text": [
      "Got 2D data, reshaping to 3D\n",
      "Got 2D data, reshaping to 3D\n",
      "Got 2D data, reshaping to 3D\n",
      "Got 2D data, reshaping to 3D\n"
     ]
    },
    {
     "name": "stderr",
     "output_type": "stream",
     "text": [
      "  1%|▏                                         | 6/1024 [00:00<00:57, 17.56it/s]"
     ]
    },
    {
     "name": "stdout",
     "output_type": "stream",
     "text": [
      "Got 2D data, reshaping to 3D\n",
      "Got 2D data, reshaping to 3D\n",
      "Got 2D data, reshaping to 3D\n",
      "Got 2D data, reshaping to 3D\n"
     ]
    },
    {
     "name": "stderr",
     "output_type": "stream",
     "text": [
      "  1%|▍                                        | 10/1024 [00:00<00:55, 18.23it/s]"
     ]
    },
    {
     "name": "stdout",
     "output_type": "stream",
     "text": [
      "Got 2D data, reshaping to 3D\n",
      "Got 2D data, reshaping to 3D\n",
      "Got 2D data, reshaping to 3D\n",
      "Got 2D data, reshaping to 3D\n"
     ]
    },
    {
     "name": "stderr",
     "output_type": "stream",
     "text": [
      "  1%|▌                                        | 14/1024 [00:00<00:54, 18.47it/s]"
     ]
    },
    {
     "name": "stdout",
     "output_type": "stream",
     "text": [
      "Got 2D data, reshaping to 3D\n",
      "Got 2D data, reshaping to 3D\n",
      "Got 2D data, reshaping to 3D\n",
      "Got 2D data, reshaping to 3D\n"
     ]
    },
    {
     "name": "stderr",
     "output_type": "stream",
     "text": [
      "  2%|▋                                        | 18/1024 [00:00<00:54, 18.59it/s]"
     ]
    },
    {
     "name": "stdout",
     "output_type": "stream",
     "text": [
      "Got 2D data, reshaping to 3D\n",
      "Got 2D data, reshaping to 3D\n",
      "Got 2D data, reshaping to 3D\n",
      "Got 2D data, reshaping to 3D\n"
     ]
    },
    {
     "name": "stderr",
     "output_type": "stream",
     "text": [
      "  2%|▉                                        | 22/1024 [00:01<00:53, 18.64it/s]"
     ]
    },
    {
     "name": "stdout",
     "output_type": "stream",
     "text": [
      "Got 2D data, reshaping to 3D\n",
      "Got 2D data, reshaping to 3D\n",
      "Got 2D data, reshaping to 3D\n",
      "Got 2D data, reshaping to 3D\n"
     ]
    },
    {
     "name": "stderr",
     "output_type": "stream",
     "text": [
      "  3%|█                                        | 26/1024 [00:01<00:53, 18.67it/s]"
     ]
    },
    {
     "name": "stdout",
     "output_type": "stream",
     "text": [
      "Got 2D data, reshaping to 3D\n",
      "Got 2D data, reshaping to 3D\n",
      "Got 2D data, reshaping to 3D\n",
      "Got 2D data, reshaping to 3D\n"
     ]
    },
    {
     "name": "stderr",
     "output_type": "stream",
     "text": [
      "  3%|█▏                                       | 30/1024 [00:01<00:53, 18.68it/s]"
     ]
    },
    {
     "name": "stdout",
     "output_type": "stream",
     "text": [
      "Got 2D data, reshaping to 3D\n",
      "Got 2D data, reshaping to 3D\n",
      "Got 2D data, reshaping to 3D\n",
      "Got 2D data, reshaping to 3D\n"
     ]
    },
    {
     "name": "stderr",
     "output_type": "stream",
     "text": [
      "  3%|█▎                                       | 34/1024 [00:01<00:52, 18.69it/s]"
     ]
    },
    {
     "name": "stdout",
     "output_type": "stream",
     "text": [
      "Got 2D data, reshaping to 3D\n",
      "Got 2D data, reshaping to 3D\n",
      "Got 2D data, reshaping to 3D\n",
      "Got 2D data, reshaping to 3D\n"
     ]
    },
    {
     "name": "stderr",
     "output_type": "stream",
     "text": [
      "  4%|█▌                                       | 38/1024 [00:02<00:52, 18.69it/s]"
     ]
    },
    {
     "name": "stdout",
     "output_type": "stream",
     "text": [
      "Got 2D data, reshaping to 3D\n",
      "Got 2D data, reshaping to 3D\n",
      "Got 2D data, reshaping to 3D\n",
      "Got 2D data, reshaping to 3D\n"
     ]
    },
    {
     "name": "stderr",
     "output_type": "stream",
     "text": [
      "  4%|█▋                                       | 42/1024 [00:02<00:52, 18.68it/s]"
     ]
    },
    {
     "name": "stdout",
     "output_type": "stream",
     "text": [
      "Got 2D data, reshaping to 3D\n",
      "Got 2D data, reshaping to 3D\n",
      "Got 2D data, reshaping to 3D\n",
      "Got 2D data, reshaping to 3D\n"
     ]
    },
    {
     "name": "stderr",
     "output_type": "stream",
     "text": [
      "  4%|█▊                                       | 46/1024 [00:02<00:52, 18.69it/s]"
     ]
    },
    {
     "name": "stdout",
     "output_type": "stream",
     "text": [
      "Got 2D data, reshaping to 3D\n",
      "Got 2D data, reshaping to 3D\n",
      "Got 2D data, reshaping to 3D\n",
      "Got 2D data, reshaping to 3D\n"
     ]
    },
    {
     "name": "stderr",
     "output_type": "stream",
     "text": [
      "  5%|██                                       | 50/1024 [00:02<00:52, 18.69it/s]"
     ]
    },
    {
     "name": "stdout",
     "output_type": "stream",
     "text": [
      "Got 2D data, reshaping to 3D\n",
      "Got 2D data, reshaping to 3D\n",
      "Got 2D data, reshaping to 3D\n",
      "Got 2D data, reshaping to 3D\n"
     ]
    },
    {
     "name": "stderr",
     "output_type": "stream",
     "text": [
      "  5%|██▏                                      | 54/1024 [00:02<00:51, 18.68it/s]"
     ]
    },
    {
     "name": "stdout",
     "output_type": "stream",
     "text": [
      "Got 2D data, reshaping to 3D\n",
      "Got 2D data, reshaping to 3D\n",
      "Got 2D data, reshaping to 3D\n",
      "Got 2D data, reshaping to 3D\n"
     ]
    },
    {
     "name": "stderr",
     "output_type": "stream",
     "text": [
      "  6%|██▎                                      | 58/1024 [00:03<00:51, 18.68it/s]"
     ]
    },
    {
     "name": "stdout",
     "output_type": "stream",
     "text": [
      "Got 2D data, reshaping to 3D\n",
      "Got 2D data, reshaping to 3D\n",
      "Got 2D data, reshaping to 3D\n",
      "Got 2D data, reshaping to 3D\n"
     ]
    },
    {
     "name": "stderr",
     "output_type": "stream",
     "text": [
      "  6%|██▍                                      | 62/1024 [00:03<00:51, 18.68it/s]"
     ]
    },
    {
     "name": "stdout",
     "output_type": "stream",
     "text": [
      "Got 2D data, reshaping to 3D\n",
      "Got 2D data, reshaping to 3D\n",
      "Got 2D data, reshaping to 3D\n",
      "Got 2D data, reshaping to 3D\n"
     ]
    },
    {
     "name": "stderr",
     "output_type": "stream",
     "text": [
      "  6%|██▋                                      | 66/1024 [00:03<00:51, 18.66it/s]"
     ]
    },
    {
     "name": "stdout",
     "output_type": "stream",
     "text": [
      "Got 2D data, reshaping to 3D\n",
      "Got 2D data, reshaping to 3D\n",
      "Got 2D data, reshaping to 3D\n",
      "Got 2D data, reshaping to 3D\n"
     ]
    },
    {
     "name": "stderr",
     "output_type": "stream",
     "text": [
      "  7%|██▊                                      | 70/1024 [00:03<00:51, 18.62it/s]"
     ]
    },
    {
     "name": "stdout",
     "output_type": "stream",
     "text": [
      "Got 2D data, reshaping to 3D\n",
      "Got 2D data, reshaping to 3D\n",
      "Got 2D data, reshaping to 3D\n",
      "Got 2D data, reshaping to 3D\n"
     ]
    },
    {
     "name": "stderr",
     "output_type": "stream",
     "text": [
      "  7%|██▉                                      | 74/1024 [00:03<00:50, 18.63it/s]"
     ]
    },
    {
     "name": "stdout",
     "output_type": "stream",
     "text": [
      "Got 2D data, reshaping to 3D\n",
      "Got 2D data, reshaping to 3D\n",
      "Got 2D data, reshaping to 3D\n",
      "Got 2D data, reshaping to 3D\n"
     ]
    },
    {
     "name": "stderr",
     "output_type": "stream",
     "text": [
      "  8%|███                                      | 78/1024 [00:04<00:50, 18.63it/s]"
     ]
    },
    {
     "name": "stdout",
     "output_type": "stream",
     "text": [
      "Got 2D data, reshaping to 3D\n",
      "Got 2D data, reshaping to 3D\n",
      "Got 2D data, reshaping to 3D\n",
      "Got 2D data, reshaping to 3D\n"
     ]
    },
    {
     "name": "stderr",
     "output_type": "stream",
     "text": [
      "  8%|███▎                                     | 82/1024 [00:04<00:50, 18.62it/s]"
     ]
    },
    {
     "name": "stdout",
     "output_type": "stream",
     "text": [
      "Got 2D data, reshaping to 3D\n",
      "Got 2D data, reshaping to 3D\n",
      "Got 2D data, reshaping to 3D\n",
      "Got 2D data, reshaping to 3D\n"
     ]
    },
    {
     "name": "stderr",
     "output_type": "stream",
     "text": [
      "  8%|███▍                                     | 86/1024 [00:04<00:50, 18.63it/s]"
     ]
    },
    {
     "name": "stdout",
     "output_type": "stream",
     "text": [
      "Got 2D data, reshaping to 3D\n",
      "Got 2D data, reshaping to 3D\n",
      "Got 2D data, reshaping to 3D\n",
      "Got 2D data, reshaping to 3D\n"
     ]
    },
    {
     "name": "stderr",
     "output_type": "stream",
     "text": [
      "  9%|███▌                                     | 90/1024 [00:04<00:50, 18.63it/s]"
     ]
    },
    {
     "name": "stdout",
     "output_type": "stream",
     "text": [
      "Got 2D data, reshaping to 3D\n",
      "Got 2D data, reshaping to 3D\n",
      "Got 2D data, reshaping to 3D\n",
      "Got 2D data, reshaping to 3D\n"
     ]
    },
    {
     "name": "stderr",
     "output_type": "stream",
     "text": [
      "  9%|███▊                                     | 94/1024 [00:05<00:49, 18.64it/s]"
     ]
    },
    {
     "name": "stdout",
     "output_type": "stream",
     "text": [
      "Got 2D data, reshaping to 3D\n",
      "Got 2D data, reshaping to 3D\n",
      "Got 2D data, reshaping to 3D\n",
      "Got 2D data, reshaping to 3D\n"
     ]
    },
    {
     "name": "stderr",
     "output_type": "stream",
     "text": [
      " 10%|███▉                                     | 98/1024 [00:05<00:49, 18.63it/s]"
     ]
    },
    {
     "name": "stdout",
     "output_type": "stream",
     "text": [
      "Got 2D data, reshaping to 3D\n",
      "Got 2D data, reshaping to 3D\n",
      "Got 2D data, reshaping to 3D\n",
      "Got 2D data, reshaping to 3D\n"
     ]
    },
    {
     "name": "stderr",
     "output_type": "stream",
     "text": [
      " 10%|███▉                                    | 102/1024 [00:05<00:49, 18.64it/s]"
     ]
    },
    {
     "name": "stdout",
     "output_type": "stream",
     "text": [
      "Got 2D data, reshaping to 3D\n",
      "Got 2D data, reshaping to 3D\n",
      "Got 2D data, reshaping to 3D\n",
      "Got 2D data, reshaping to 3D\n"
     ]
    },
    {
     "name": "stderr",
     "output_type": "stream",
     "text": [
      " 10%|████▏                                   | 106/1024 [00:05<00:49, 18.63it/s]"
     ]
    },
    {
     "name": "stdout",
     "output_type": "stream",
     "text": [
      "Got 2D data, reshaping to 3D\n",
      "Got 2D data, reshaping to 3D\n",
      "Got 2D data, reshaping to 3D\n",
      "Got 2D data, reshaping to 3D\n"
     ]
    },
    {
     "name": "stderr",
     "output_type": "stream",
     "text": [
      " 11%|████▎                                   | 110/1024 [00:05<00:49, 18.63it/s]"
     ]
    },
    {
     "name": "stdout",
     "output_type": "stream",
     "text": [
      "Got 2D data, reshaping to 3D\n",
      "Got 2D data, reshaping to 3D\n",
      "Got 2D data, reshaping to 3D\n",
      "Got 2D data, reshaping to 3D\n"
     ]
    },
    {
     "name": "stderr",
     "output_type": "stream",
     "text": [
      " 11%|████▍                                   | 114/1024 [00:06<00:48, 18.64it/s]"
     ]
    },
    {
     "name": "stdout",
     "output_type": "stream",
     "text": [
      "Got 2D data, reshaping to 3D\n",
      "Got 2D data, reshaping to 3D\n",
      "Got 2D data, reshaping to 3D\n",
      "Got 2D data, reshaping to 3D\n"
     ]
    },
    {
     "name": "stderr",
     "output_type": "stream",
     "text": [
      " 12%|████▌                                   | 118/1024 [00:06<00:48, 18.63it/s]"
     ]
    },
    {
     "name": "stdout",
     "output_type": "stream",
     "text": [
      "Got 2D data, reshaping to 3D\n",
      "Got 2D data, reshaping to 3D\n",
      "Got 2D data, reshaping to 3D\n",
      "Got 2D data, reshaping to 3D\n"
     ]
    },
    {
     "name": "stderr",
     "output_type": "stream",
     "text": [
      " 12%|████▊                                   | 122/1024 [00:06<00:48, 18.63it/s]"
     ]
    },
    {
     "name": "stdout",
     "output_type": "stream",
     "text": [
      "Got 2D data, reshaping to 3D\n",
      "Got 2D data, reshaping to 3D\n",
      "Got 2D data, reshaping to 3D\n",
      "Got 2D data, reshaping to 3D\n"
     ]
    },
    {
     "name": "stderr",
     "output_type": "stream",
     "text": [
      " 12%|████▉                                   | 126/1024 [00:06<00:48, 18.62it/s]"
     ]
    },
    {
     "name": "stdout",
     "output_type": "stream",
     "text": [
      "Got 2D data, reshaping to 3D\n",
      "Got 2D data, reshaping to 3D\n",
      "Got 2D data, reshaping to 3D\n",
      "Got 2D data, reshaping to 3D\n"
     ]
    },
    {
     "name": "stderr",
     "output_type": "stream",
     "text": [
      " 13%|█████                                   | 130/1024 [00:06<00:47, 18.63it/s]"
     ]
    },
    {
     "name": "stdout",
     "output_type": "stream",
     "text": [
      "Got 2D data, reshaping to 3D\n",
      "Got 2D data, reshaping to 3D\n",
      "Got 2D data, reshaping to 3D\n",
      "Got 2D data, reshaping to 3D\n"
     ]
    },
    {
     "name": "stderr",
     "output_type": "stream",
     "text": [
      " 13%|█████▏                                  | 134/1024 [00:07<00:47, 18.62it/s]"
     ]
    },
    {
     "name": "stdout",
     "output_type": "stream",
     "text": [
      "Got 2D data, reshaping to 3D\n",
      "Got 2D data, reshaping to 3D\n",
      "Got 2D data, reshaping to 3D\n",
      "Got 2D data, reshaping to 3D\n"
     ]
    },
    {
     "name": "stderr",
     "output_type": "stream",
     "text": [
      " 13%|█████▍                                  | 138/1024 [00:07<00:47, 18.62it/s]"
     ]
    },
    {
     "name": "stdout",
     "output_type": "stream",
     "text": [
      "Got 2D data, reshaping to 3D\n",
      "Got 2D data, reshaping to 3D\n",
      "Got 2D data, reshaping to 3D\n",
      "Got 2D data, reshaping to 3D\n"
     ]
    },
    {
     "name": "stderr",
     "output_type": "stream",
     "text": [
      " 14%|█████▌                                  | 142/1024 [00:07<00:47, 18.63it/s]"
     ]
    },
    {
     "name": "stdout",
     "output_type": "stream",
     "text": [
      "Got 2D data, reshaping to 3D\n",
      "Got 2D data, reshaping to 3D\n",
      "Got 2D data, reshaping to 3D\n",
      "Got 2D data, reshaping to 3D\n"
     ]
    },
    {
     "name": "stderr",
     "output_type": "stream",
     "text": [
      " 14%|█████▋                                  | 146/1024 [00:07<00:47, 18.63it/s]"
     ]
    },
    {
     "name": "stdout",
     "output_type": "stream",
     "text": [
      "Got 2D data, reshaping to 3D\n",
      "Got 2D data, reshaping to 3D\n",
      "Got 2D data, reshaping to 3D\n",
      "Got 2D data, reshaping to 3D\n"
     ]
    },
    {
     "name": "stderr",
     "output_type": "stream",
     "text": [
      " 15%|█████▊                                  | 150/1024 [00:08<00:46, 18.63it/s]"
     ]
    },
    {
     "name": "stdout",
     "output_type": "stream",
     "text": [
      "Got 2D data, reshaping to 3D\n",
      "Got 2D data, reshaping to 3D\n",
      "Got 2D data, reshaping to 3D\n",
      "Got 2D data, reshaping to 3D\n"
     ]
    },
    {
     "name": "stderr",
     "output_type": "stream",
     "text": [
      " 15%|██████                                  | 154/1024 [00:08<00:46, 18.64it/s]"
     ]
    },
    {
     "name": "stdout",
     "output_type": "stream",
     "text": [
      "Got 2D data, reshaping to 3D\n",
      "Got 2D data, reshaping to 3D\n",
      "Got 2D data, reshaping to 3D\n",
      "Got 2D data, reshaping to 3D\n"
     ]
    },
    {
     "name": "stderr",
     "output_type": "stream",
     "text": [
      " 15%|██████▏                                 | 158/1024 [00:08<00:46, 18.64it/s]"
     ]
    },
    {
     "name": "stdout",
     "output_type": "stream",
     "text": [
      "Got 2D data, reshaping to 3D\n",
      "Got 2D data, reshaping to 3D\n",
      "Got 2D data, reshaping to 3D\n",
      "Got 2D data, reshaping to 3D\n"
     ]
    },
    {
     "name": "stderr",
     "output_type": "stream",
     "text": [
      " 16%|██████▎                                 | 162/1024 [00:08<00:46, 18.64it/s]"
     ]
    },
    {
     "name": "stdout",
     "output_type": "stream",
     "text": [
      "Got 2D data, reshaping to 3D\n",
      "Got 2D data, reshaping to 3D\n",
      "Got 2D data, reshaping to 3D\n",
      "Got 2D data, reshaping to 3D\n"
     ]
    },
    {
     "name": "stderr",
     "output_type": "stream",
     "text": [
      " 16%|██████▍                                 | 166/1024 [00:08<00:46, 18.63it/s]"
     ]
    },
    {
     "name": "stdout",
     "output_type": "stream",
     "text": [
      "Got 2D data, reshaping to 3D\n",
      "Got 2D data, reshaping to 3D\n",
      "Got 2D data, reshaping to 3D\n",
      "Got 2D data, reshaping to 3D\n"
     ]
    },
    {
     "name": "stderr",
     "output_type": "stream",
     "text": [
      " 17%|██████▋                                 | 170/1024 [00:09<00:45, 18.63it/s]"
     ]
    },
    {
     "name": "stdout",
     "output_type": "stream",
     "text": [
      "Got 2D data, reshaping to 3D\n",
      "Got 2D data, reshaping to 3D\n",
      "Got 2D data, reshaping to 3D\n",
      "Got 2D data, reshaping to 3D\n"
     ]
    },
    {
     "name": "stderr",
     "output_type": "stream",
     "text": [
      " 17%|██████▊                                 | 174/1024 [00:09<00:45, 18.62it/s]"
     ]
    },
    {
     "name": "stdout",
     "output_type": "stream",
     "text": [
      "Got 2D data, reshaping to 3D\n",
      "Got 2D data, reshaping to 3D\n",
      "Got 2D data, reshaping to 3D\n",
      "Got 2D data, reshaping to 3D\n"
     ]
    },
    {
     "name": "stderr",
     "output_type": "stream",
     "text": [
      " 17%|██████▉                                 | 178/1024 [00:09<00:45, 18.64it/s]"
     ]
    },
    {
     "name": "stdout",
     "output_type": "stream",
     "text": [
      "Got 2D data, reshaping to 3D\n",
      "Got 2D data, reshaping to 3D\n",
      "Got 2D data, reshaping to 3D\n",
      "Got 2D data, reshaping to 3D\n"
     ]
    },
    {
     "name": "stderr",
     "output_type": "stream",
     "text": [
      " 18%|███████                                 | 182/1024 [00:09<00:45, 18.64it/s]"
     ]
    },
    {
     "name": "stdout",
     "output_type": "stream",
     "text": [
      "Got 2D data, reshaping to 3D\n",
      "Got 2D data, reshaping to 3D\n",
      "Got 2D data, reshaping to 3D\n",
      "Got 2D data, reshaping to 3D\n"
     ]
    },
    {
     "name": "stderr",
     "output_type": "stream",
     "text": [
      " 18%|███████▎                                | 186/1024 [00:09<00:44, 18.63it/s]"
     ]
    },
    {
     "name": "stdout",
     "output_type": "stream",
     "text": [
      "Got 2D data, reshaping to 3D\n",
      "Got 2D data, reshaping to 3D\n",
      "Got 2D data, reshaping to 3D\n",
      "Got 2D data, reshaping to 3D\n"
     ]
    },
    {
     "name": "stderr",
     "output_type": "stream",
     "text": [
      " 19%|███████▍                                | 190/1024 [00:10<00:44, 18.64it/s]"
     ]
    },
    {
     "name": "stdout",
     "output_type": "stream",
     "text": [
      "Got 2D data, reshaping to 3D\n",
      "Got 2D data, reshaping to 3D\n",
      "Got 2D data, reshaping to 3D\n",
      "Got 2D data, reshaping to 3D\n"
     ]
    },
    {
     "name": "stderr",
     "output_type": "stream",
     "text": [
      " 19%|███████▌                                | 194/1024 [00:10<00:44, 18.64it/s]"
     ]
    },
    {
     "name": "stdout",
     "output_type": "stream",
     "text": [
      "Got 2D data, reshaping to 3D\n",
      "Got 2D data, reshaping to 3D\n",
      "Got 2D data, reshaping to 3D\n",
      "Got 2D data, reshaping to 3D\n"
     ]
    },
    {
     "name": "stderr",
     "output_type": "stream",
     "text": [
      " 19%|███████▋                                | 198/1024 [00:10<00:44, 18.64it/s]"
     ]
    },
    {
     "name": "stdout",
     "output_type": "stream",
     "text": [
      "Got 2D data, reshaping to 3D\n",
      "Got 2D data, reshaping to 3D\n",
      "Got 2D data, reshaping to 3D\n",
      "Got 2D data, reshaping to 3D\n"
     ]
    },
    {
     "name": "stderr",
     "output_type": "stream",
     "text": [
      " 20%|███████▉                                | 202/1024 [00:10<00:44, 18.64it/s]"
     ]
    },
    {
     "name": "stdout",
     "output_type": "stream",
     "text": [
      "Got 2D data, reshaping to 3D\n",
      "Got 2D data, reshaping to 3D\n",
      "Got 2D data, reshaping to 3D\n",
      "Got 2D data, reshaping to 3D\n"
     ]
    },
    {
     "name": "stderr",
     "output_type": "stream",
     "text": [
      " 20%|████████                                | 206/1024 [00:11<00:43, 18.64it/s]"
     ]
    },
    {
     "name": "stdout",
     "output_type": "stream",
     "text": [
      "Got 2D data, reshaping to 3D\n",
      "Got 2D data, reshaping to 3D\n",
      "Got 2D data, reshaping to 3D\n",
      "Got 2D data, reshaping to 3D\n"
     ]
    },
    {
     "name": "stderr",
     "output_type": "stream",
     "text": [
      " 21%|████████▏                               | 210/1024 [00:11<00:43, 18.64it/s]"
     ]
    },
    {
     "name": "stdout",
     "output_type": "stream",
     "text": [
      "Got 2D data, reshaping to 3D\n",
      "Got 2D data, reshaping to 3D\n",
      "Got 2D data, reshaping to 3D\n",
      "Got 2D data, reshaping to 3D\n"
     ]
    },
    {
     "name": "stderr",
     "output_type": "stream",
     "text": [
      " 21%|████████▎                               | 214/1024 [00:11<00:43, 18.64it/s]"
     ]
    },
    {
     "name": "stdout",
     "output_type": "stream",
     "text": [
      "Got 2D data, reshaping to 3D\n",
      "Got 2D data, reshaping to 3D\n",
      "Got 2D data, reshaping to 3D\n",
      "Got 2D data, reshaping to 3D\n"
     ]
    },
    {
     "name": "stderr",
     "output_type": "stream",
     "text": [
      " 21%|████████▌                               | 218/1024 [00:11<00:43, 18.64it/s]"
     ]
    },
    {
     "name": "stdout",
     "output_type": "stream",
     "text": [
      "Got 2D data, reshaping to 3D\n",
      "Got 2D data, reshaping to 3D\n",
      "Got 2D data, reshaping to 3D\n",
      "Got 2D data, reshaping to 3D\n"
     ]
    },
    {
     "name": "stderr",
     "output_type": "stream",
     "text": [
      " 22%|████████▋                               | 222/1024 [00:11<00:43, 18.64it/s]"
     ]
    },
    {
     "name": "stdout",
     "output_type": "stream",
     "text": [
      "Got 2D data, reshaping to 3D\n",
      "Got 2D data, reshaping to 3D\n",
      "Got 2D data, reshaping to 3D\n",
      "Got 2D data, reshaping to 3D\n"
     ]
    },
    {
     "name": "stderr",
     "output_type": "stream",
     "text": [
      " 22%|████████▊                               | 226/1024 [00:12<00:42, 18.64it/s]"
     ]
    },
    {
     "name": "stdout",
     "output_type": "stream",
     "text": [
      "Got 2D data, reshaping to 3D\n",
      "Got 2D data, reshaping to 3D\n",
      "Got 2D data, reshaping to 3D\n",
      "Got 2D data, reshaping to 3D\n"
     ]
    },
    {
     "name": "stderr",
     "output_type": "stream",
     "text": [
      " 22%|████████▉                               | 230/1024 [00:12<00:42, 18.65it/s]"
     ]
    },
    {
     "name": "stdout",
     "output_type": "stream",
     "text": [
      "Got 2D data, reshaping to 3D\n",
      "Got 2D data, reshaping to 3D\n",
      "Got 2D data, reshaping to 3D\n",
      "Got 2D data, reshaping to 3D\n"
     ]
    },
    {
     "name": "stderr",
     "output_type": "stream",
     "text": [
      " 23%|█████████▏                              | 234/1024 [00:12<00:42, 18.62it/s]"
     ]
    },
    {
     "name": "stdout",
     "output_type": "stream",
     "text": [
      "Got 2D data, reshaping to 3D\n",
      "Got 2D data, reshaping to 3D\n",
      "Got 2D data, reshaping to 3D\n",
      "Got 2D data, reshaping to 3D\n"
     ]
    },
    {
     "name": "stderr",
     "output_type": "stream",
     "text": [
      " 23%|█████████▎                              | 238/1024 [00:12<00:42, 18.64it/s]"
     ]
    },
    {
     "name": "stdout",
     "output_type": "stream",
     "text": [
      "Got 2D data, reshaping to 3D\n",
      "Got 2D data, reshaping to 3D\n",
      "Got 2D data, reshaping to 3D\n",
      "Got 2D data, reshaping to 3D\n"
     ]
    },
    {
     "name": "stderr",
     "output_type": "stream",
     "text": [
      " 24%|█████████▍                              | 242/1024 [00:12<00:41, 18.64it/s]"
     ]
    },
    {
     "name": "stdout",
     "output_type": "stream",
     "text": [
      "Got 2D data, reshaping to 3D\n",
      "Got 2D data, reshaping to 3D\n",
      "Got 2D data, reshaping to 3D\n",
      "Got 2D data, reshaping to 3D\n"
     ]
    },
    {
     "name": "stderr",
     "output_type": "stream",
     "text": [
      " 24%|█████████▌                              | 246/1024 [00:13<00:41, 18.64it/s]"
     ]
    },
    {
     "name": "stdout",
     "output_type": "stream",
     "text": [
      "Got 2D data, reshaping to 3D\n",
      "Got 2D data, reshaping to 3D\n",
      "Got 2D data, reshaping to 3D\n",
      "Got 2D data, reshaping to 3D\n"
     ]
    },
    {
     "name": "stderr",
     "output_type": "stream",
     "text": [
      " 24%|█████████▊                              | 250/1024 [00:13<00:41, 18.63it/s]"
     ]
    },
    {
     "name": "stdout",
     "output_type": "stream",
     "text": [
      "Got 2D data, reshaping to 3D\n",
      "Got 2D data, reshaping to 3D\n",
      "Got 2D data, reshaping to 3D\n",
      "Got 2D data, reshaping to 3D\n"
     ]
    },
    {
     "name": "stderr",
     "output_type": "stream",
     "text": [
      " 25%|█████████▉                              | 254/1024 [00:13<00:41, 18.64it/s]"
     ]
    },
    {
     "name": "stdout",
     "output_type": "stream",
     "text": [
      "Got 2D data, reshaping to 3D\n",
      "Got 2D data, reshaping to 3D\n",
      "Got 2D data, reshaping to 3D\n",
      "Got 2D data, reshaping to 3D\n"
     ]
    },
    {
     "name": "stderr",
     "output_type": "stream",
     "text": [
      " 25%|██████████                              | 258/1024 [00:13<00:41, 18.64it/s]"
     ]
    },
    {
     "name": "stdout",
     "output_type": "stream",
     "text": [
      "Got 2D data, reshaping to 3D\n",
      "Got 2D data, reshaping to 3D\n",
      "Got 2D data, reshaping to 3D\n",
      "Got 2D data, reshaping to 3D\n"
     ]
    },
    {
     "name": "stderr",
     "output_type": "stream",
     "text": [
      " 26%|██████████▏                             | 262/1024 [00:14<00:40, 18.63it/s]"
     ]
    },
    {
     "name": "stdout",
     "output_type": "stream",
     "text": [
      "Got 2D data, reshaping to 3D\n",
      "Got 2D data, reshaping to 3D\n",
      "Got 2D data, reshaping to 3D\n",
      "Got 2D data, reshaping to 3D\n"
     ]
    },
    {
     "name": "stderr",
     "output_type": "stream",
     "text": [
      " 26%|██████████▍                             | 266/1024 [00:14<00:40, 18.63it/s]"
     ]
    },
    {
     "name": "stdout",
     "output_type": "stream",
     "text": [
      "Got 2D data, reshaping to 3D\n",
      "Got 2D data, reshaping to 3D\n",
      "Got 2D data, reshaping to 3D\n",
      "Got 2D data, reshaping to 3D\n"
     ]
    },
    {
     "name": "stderr",
     "output_type": "stream",
     "text": [
      " 26%|██████████▌                             | 270/1024 [00:14<00:40, 18.63it/s]"
     ]
    },
    {
     "name": "stdout",
     "output_type": "stream",
     "text": [
      "Got 2D data, reshaping to 3D\n",
      "Got 2D data, reshaping to 3D\n",
      "Got 2D data, reshaping to 3D\n",
      "Got 2D data, reshaping to 3D\n"
     ]
    },
    {
     "name": "stderr",
     "output_type": "stream",
     "text": [
      " 27%|██████████▋                             | 274/1024 [00:14<00:40, 18.63it/s]"
     ]
    },
    {
     "name": "stdout",
     "output_type": "stream",
     "text": [
      "Got 2D data, reshaping to 3D\n",
      "Got 2D data, reshaping to 3D\n",
      "Got 2D data, reshaping to 3D\n",
      "Got 2D data, reshaping to 3D\n"
     ]
    },
    {
     "name": "stderr",
     "output_type": "stream",
     "text": [
      " 27%|██████████▊                             | 278/1024 [00:14<00:40, 18.63it/s]"
     ]
    },
    {
     "name": "stdout",
     "output_type": "stream",
     "text": [
      "Got 2D data, reshaping to 3D\n",
      "Got 2D data, reshaping to 3D\n",
      "Got 2D data, reshaping to 3D\n",
      "Got 2D data, reshaping to 3D\n"
     ]
    },
    {
     "name": "stderr",
     "output_type": "stream",
     "text": [
      " 28%|███████████                             | 282/1024 [00:15<00:39, 18.64it/s]"
     ]
    },
    {
     "name": "stdout",
     "output_type": "stream",
     "text": [
      "Got 2D data, reshaping to 3D\n",
      "Got 2D data, reshaping to 3D\n",
      "Got 2D data, reshaping to 3D\n",
      "Got 2D data, reshaping to 3D\n"
     ]
    },
    {
     "name": "stderr",
     "output_type": "stream",
     "text": [
      " 28%|███████████▏                            | 286/1024 [00:15<00:39, 18.64it/s]"
     ]
    },
    {
     "name": "stdout",
     "output_type": "stream",
     "text": [
      "Got 2D data, reshaping to 3D\n",
      "Got 2D data, reshaping to 3D\n",
      "Got 2D data, reshaping to 3D\n",
      "Got 2D data, reshaping to 3D\n"
     ]
    },
    {
     "name": "stderr",
     "output_type": "stream",
     "text": [
      " 28%|███████████▎                            | 290/1024 [00:15<00:39, 18.64it/s]"
     ]
    },
    {
     "name": "stdout",
     "output_type": "stream",
     "text": [
      "Got 2D data, reshaping to 3D\n",
      "Got 2D data, reshaping to 3D\n",
      "Got 2D data, reshaping to 3D\n",
      "Got 2D data, reshaping to 3D\n"
     ]
    },
    {
     "name": "stderr",
     "output_type": "stream",
     "text": [
      " 29%|███████████▍                            | 294/1024 [00:15<00:39, 18.65it/s]"
     ]
    },
    {
     "name": "stdout",
     "output_type": "stream",
     "text": [
      "Got 2D data, reshaping to 3D\n",
      "Got 2D data, reshaping to 3D\n",
      "Got 2D data, reshaping to 3D\n",
      "Got 2D data, reshaping to 3D\n"
     ]
    },
    {
     "name": "stderr",
     "output_type": "stream",
     "text": [
      " 29%|███████████▋                            | 298/1024 [00:16<00:38, 18.63it/s]"
     ]
    },
    {
     "name": "stdout",
     "output_type": "stream",
     "text": [
      "Got 2D data, reshaping to 3D\n",
      "Got 2D data, reshaping to 3D\n",
      "Got 2D data, reshaping to 3D\n",
      "Got 2D data, reshaping to 3D\n"
     ]
    },
    {
     "name": "stderr",
     "output_type": "stream",
     "text": [
      " 29%|███████████▊                            | 302/1024 [00:16<00:38, 18.65it/s]"
     ]
    },
    {
     "name": "stdout",
     "output_type": "stream",
     "text": [
      "Got 2D data, reshaping to 3D\n",
      "Got 2D data, reshaping to 3D\n",
      "Got 2D data, reshaping to 3D\n",
      "Got 2D data, reshaping to 3D\n"
     ]
    },
    {
     "name": "stderr",
     "output_type": "stream",
     "text": [
      " 30%|███████████▉                            | 306/1024 [00:16<00:38, 18.63it/s]"
     ]
    },
    {
     "name": "stdout",
     "output_type": "stream",
     "text": [
      "Got 2D data, reshaping to 3D\n",
      "Got 2D data, reshaping to 3D\n",
      "Got 2D data, reshaping to 3D\n",
      "Got 2D data, reshaping to 3D\n"
     ]
    },
    {
     "name": "stderr",
     "output_type": "stream",
     "text": [
      " 30%|████████████                            | 310/1024 [00:16<00:38, 18.63it/s]"
     ]
    },
    {
     "name": "stdout",
     "output_type": "stream",
     "text": [
      "Got 2D data, reshaping to 3D\n",
      "Got 2D data, reshaping to 3D\n",
      "Got 2D data, reshaping to 3D\n",
      "Got 2D data, reshaping to 3D\n"
     ]
    },
    {
     "name": "stderr",
     "output_type": "stream",
     "text": [
      " 31%|████████████▎                           | 314/1024 [00:16<00:38, 18.63it/s]"
     ]
    },
    {
     "name": "stdout",
     "output_type": "stream",
     "text": [
      "Got 2D data, reshaping to 3D\n",
      "Got 2D data, reshaping to 3D\n",
      "Got 2D data, reshaping to 3D\n",
      "Got 2D data, reshaping to 3D\n"
     ]
    },
    {
     "name": "stderr",
     "output_type": "stream",
     "text": [
      " 31%|████████████▍                           | 318/1024 [00:17<00:37, 18.61it/s]"
     ]
    },
    {
     "name": "stdout",
     "output_type": "stream",
     "text": [
      "Got 2D data, reshaping to 3D\n",
      "Got 2D data, reshaping to 3D\n",
      "Got 2D data, reshaping to 3D\n",
      "Got 2D data, reshaping to 3D\n"
     ]
    },
    {
     "name": "stderr",
     "output_type": "stream",
     "text": [
      " 31%|████████████▌                           | 322/1024 [00:17<00:37, 18.63it/s]"
     ]
    },
    {
     "name": "stdout",
     "output_type": "stream",
     "text": [
      "Got 2D data, reshaping to 3D\n",
      "Got 2D data, reshaping to 3D\n",
      "Got 2D data, reshaping to 3D\n",
      "Got 2D data, reshaping to 3D\n"
     ]
    },
    {
     "name": "stderr",
     "output_type": "stream",
     "text": [
      " 32%|████████████▋                           | 326/1024 [00:17<00:37, 18.64it/s]"
     ]
    },
    {
     "name": "stdout",
     "output_type": "stream",
     "text": [
      "Got 2D data, reshaping to 3D\n",
      "Got 2D data, reshaping to 3D\n",
      "Got 2D data, reshaping to 3D\n",
      "Got 2D data, reshaping to 3D\n"
     ]
    },
    {
     "name": "stderr",
     "output_type": "stream",
     "text": [
      " 32%|████████████▉                           | 330/1024 [00:17<00:37, 18.64it/s]"
     ]
    },
    {
     "name": "stdout",
     "output_type": "stream",
     "text": [
      "Got 2D data, reshaping to 3D\n",
      "Got 2D data, reshaping to 3D\n",
      "Got 2D data, reshaping to 3D\n",
      "Got 2D data, reshaping to 3D\n"
     ]
    },
    {
     "name": "stderr",
     "output_type": "stream",
     "text": [
      " 33%|█████████████                           | 334/1024 [00:17<00:37, 18.64it/s]"
     ]
    },
    {
     "name": "stdout",
     "output_type": "stream",
     "text": [
      "Got 2D data, reshaping to 3D\n",
      "Got 2D data, reshaping to 3D\n",
      "Got 2D data, reshaping to 3D\n",
      "Got 2D data, reshaping to 3D\n"
     ]
    },
    {
     "name": "stderr",
     "output_type": "stream",
     "text": [
      " 33%|█████████████▏                          | 338/1024 [00:18<00:36, 18.63it/s]"
     ]
    },
    {
     "name": "stdout",
     "output_type": "stream",
     "text": [
      "Got 2D data, reshaping to 3D\n",
      "Got 2D data, reshaping to 3D\n",
      "Got 2D data, reshaping to 3D\n",
      "Got 2D data, reshaping to 3D\n"
     ]
    },
    {
     "name": "stderr",
     "output_type": "stream",
     "text": [
      " 33%|█████████████▎                          | 342/1024 [00:18<00:36, 18.64it/s]"
     ]
    },
    {
     "name": "stdout",
     "output_type": "stream",
     "text": [
      "Got 2D data, reshaping to 3D\n",
      "Got 2D data, reshaping to 3D\n",
      "Got 2D data, reshaping to 3D\n",
      "Got 2D data, reshaping to 3D\n"
     ]
    },
    {
     "name": "stderr",
     "output_type": "stream",
     "text": [
      " 34%|█████████████▌                          | 346/1024 [00:18<00:36, 18.64it/s]"
     ]
    },
    {
     "name": "stdout",
     "output_type": "stream",
     "text": [
      "Got 2D data, reshaping to 3D\n",
      "Got 2D data, reshaping to 3D\n",
      "Got 2D data, reshaping to 3D\n",
      "Got 2D data, reshaping to 3D\n"
     ]
    },
    {
     "name": "stderr",
     "output_type": "stream",
     "text": [
      " 34%|█████████████▋                          | 350/1024 [00:18<00:36, 18.65it/s]"
     ]
    },
    {
     "name": "stdout",
     "output_type": "stream",
     "text": [
      "Got 2D data, reshaping to 3D\n",
      "Got 2D data, reshaping to 3D\n",
      "Got 2D data, reshaping to 3D\n",
      "Got 2D data, reshaping to 3D\n"
     ]
    },
    {
     "name": "stderr",
     "output_type": "stream",
     "text": [
      " 35%|█████████████▊                          | 354/1024 [00:19<00:35, 18.62it/s]"
     ]
    },
    {
     "name": "stdout",
     "output_type": "stream",
     "text": [
      "Got 2D data, reshaping to 3D\n",
      "Got 2D data, reshaping to 3D\n",
      "Got 2D data, reshaping to 3D\n",
      "Got 2D data, reshaping to 3D\n"
     ]
    },
    {
     "name": "stderr",
     "output_type": "stream",
     "text": [
      " 35%|█████████████▉                          | 358/1024 [00:19<00:35, 18.64it/s]"
     ]
    },
    {
     "name": "stdout",
     "output_type": "stream",
     "text": [
      "Got 2D data, reshaping to 3D\n",
      "Got 2D data, reshaping to 3D\n",
      "Got 2D data, reshaping to 3D\n",
      "Got 2D data, reshaping to 3D\n"
     ]
    },
    {
     "name": "stderr",
     "output_type": "stream",
     "text": [
      " 35%|██████████████▏                         | 362/1024 [00:19<00:35, 18.63it/s]"
     ]
    },
    {
     "name": "stdout",
     "output_type": "stream",
     "text": [
      "Got 2D data, reshaping to 3D\n",
      "Got 2D data, reshaping to 3D\n",
      "Got 2D data, reshaping to 3D\n",
      "Got 2D data, reshaping to 3D\n"
     ]
    },
    {
     "name": "stderr",
     "output_type": "stream",
     "text": [
      " 36%|██████████████▎                         | 366/1024 [00:19<00:35, 18.64it/s]"
     ]
    },
    {
     "name": "stdout",
     "output_type": "stream",
     "text": [
      "Got 2D data, reshaping to 3D\n",
      "Got 2D data, reshaping to 3D\n",
      "Got 2D data, reshaping to 3D\n",
      "Got 2D data, reshaping to 3D\n"
     ]
    },
    {
     "name": "stderr",
     "output_type": "stream",
     "text": [
      " 36%|██████████████▍                         | 370/1024 [00:19<00:35, 18.65it/s]"
     ]
    },
    {
     "name": "stdout",
     "output_type": "stream",
     "text": [
      "Got 2D data, reshaping to 3D\n",
      "Got 2D data, reshaping to 3D\n",
      "Got 2D data, reshaping to 3D\n",
      "Got 2D data, reshaping to 3D\n"
     ]
    },
    {
     "name": "stderr",
     "output_type": "stream",
     "text": [
      " 37%|██████████████▌                         | 374/1024 [00:20<00:34, 18.64it/s]"
     ]
    },
    {
     "name": "stdout",
     "output_type": "stream",
     "text": [
      "Got 2D data, reshaping to 3D\n",
      "Got 2D data, reshaping to 3D\n",
      "Got 2D data, reshaping to 3D\n",
      "Got 2D data, reshaping to 3D\n"
     ]
    },
    {
     "name": "stderr",
     "output_type": "stream",
     "text": [
      " 37%|██████████████▊                         | 378/1024 [00:20<00:34, 18.64it/s]"
     ]
    },
    {
     "name": "stdout",
     "output_type": "stream",
     "text": [
      "Got 2D data, reshaping to 3D\n",
      "Got 2D data, reshaping to 3D\n",
      "Got 2D data, reshaping to 3D\n",
      "Got 2D data, reshaping to 3D\n"
     ]
    },
    {
     "name": "stderr",
     "output_type": "stream",
     "text": [
      " 37%|██████████████▉                         | 382/1024 [00:20<00:34, 18.64it/s]"
     ]
    },
    {
     "name": "stdout",
     "output_type": "stream",
     "text": [
      "Got 2D data, reshaping to 3D\n",
      "Got 2D data, reshaping to 3D\n",
      "Got 2D data, reshaping to 3D\n",
      "Got 2D data, reshaping to 3D\n"
     ]
    },
    {
     "name": "stderr",
     "output_type": "stream",
     "text": [
      " 38%|███████████████                         | 386/1024 [00:20<00:34, 18.64it/s]"
     ]
    },
    {
     "name": "stdout",
     "output_type": "stream",
     "text": [
      "Got 2D data, reshaping to 3D\n",
      "Got 2D data, reshaping to 3D\n",
      "Got 2D data, reshaping to 3D\n",
      "Got 2D data, reshaping to 3D\n"
     ]
    },
    {
     "name": "stderr",
     "output_type": "stream",
     "text": [
      " 38%|███████████████▏                        | 390/1024 [00:20<00:34, 18.64it/s]"
     ]
    },
    {
     "name": "stdout",
     "output_type": "stream",
     "text": [
      "Got 2D data, reshaping to 3D\n",
      "Got 2D data, reshaping to 3D\n",
      "Got 2D data, reshaping to 3D\n",
      "Got 2D data, reshaping to 3D\n"
     ]
    },
    {
     "name": "stderr",
     "output_type": "stream",
     "text": [
      " 38%|███████████████▍                        | 394/1024 [00:21<00:33, 18.63it/s]"
     ]
    },
    {
     "name": "stdout",
     "output_type": "stream",
     "text": [
      "Got 2D data, reshaping to 3D\n",
      "Got 2D data, reshaping to 3D\n",
      "Got 2D data, reshaping to 3D\n",
      "Got 2D data, reshaping to 3D\n"
     ]
    },
    {
     "name": "stderr",
     "output_type": "stream",
     "text": [
      " 39%|███████████████▌                        | 398/1024 [00:21<00:33, 18.64it/s]"
     ]
    },
    {
     "name": "stdout",
     "output_type": "stream",
     "text": [
      "Got 2D data, reshaping to 3D\n",
      "Got 2D data, reshaping to 3D\n",
      "Got 2D data, reshaping to 3D\n",
      "Got 2D data, reshaping to 3D\n"
     ]
    },
    {
     "name": "stderr",
     "output_type": "stream",
     "text": [
      " 39%|███████████████▋                        | 402/1024 [00:21<00:33, 18.62it/s]"
     ]
    },
    {
     "name": "stdout",
     "output_type": "stream",
     "text": [
      "Got 2D data, reshaping to 3D\n",
      "Got 2D data, reshaping to 3D\n",
      "Got 2D data, reshaping to 3D\n",
      "Got 2D data, reshaping to 3D\n"
     ]
    },
    {
     "name": "stderr",
     "output_type": "stream",
     "text": [
      " 40%|███████████████▊                        | 406/1024 [00:21<00:33, 18.64it/s]"
     ]
    },
    {
     "name": "stdout",
     "output_type": "stream",
     "text": [
      "Got 2D data, reshaping to 3D\n",
      "Got 2D data, reshaping to 3D\n",
      "Got 2D data, reshaping to 3D\n",
      "Got 2D data, reshaping to 3D\n"
     ]
    },
    {
     "name": "stderr",
     "output_type": "stream",
     "text": [
      " 40%|████████████████                        | 410/1024 [00:22<00:32, 18.64it/s]"
     ]
    },
    {
     "name": "stdout",
     "output_type": "stream",
     "text": [
      "Got 2D data, reshaping to 3D\n",
      "Got 2D data, reshaping to 3D\n",
      "Got 2D data, reshaping to 3D\n",
      "Got 2D data, reshaping to 3D\n"
     ]
    },
    {
     "name": "stderr",
     "output_type": "stream",
     "text": [
      " 40%|████████████████▏                       | 414/1024 [00:22<00:32, 18.65it/s]"
     ]
    },
    {
     "name": "stdout",
     "output_type": "stream",
     "text": [
      "Got 2D data, reshaping to 3D\n",
      "Got 2D data, reshaping to 3D\n",
      "Got 2D data, reshaping to 3D\n",
      "Got 2D data, reshaping to 3D\n"
     ]
    },
    {
     "name": "stderr",
     "output_type": "stream",
     "text": [
      " 41%|████████████████▎                       | 418/1024 [00:22<00:32, 18.65it/s]"
     ]
    },
    {
     "name": "stdout",
     "output_type": "stream",
     "text": [
      "Got 2D data, reshaping to 3D\n",
      "Got 2D data, reshaping to 3D\n",
      "Got 2D data, reshaping to 3D\n",
      "Got 2D data, reshaping to 3D\n"
     ]
    },
    {
     "name": "stderr",
     "output_type": "stream",
     "text": [
      " 41%|████████████████▍                       | 422/1024 [00:22<00:32, 18.64it/s]"
     ]
    },
    {
     "name": "stdout",
     "output_type": "stream",
     "text": [
      "Got 2D data, reshaping to 3D\n",
      "Got 2D data, reshaping to 3D\n",
      "Got 2D data, reshaping to 3D\n",
      "Got 2D data, reshaping to 3D\n"
     ]
    },
    {
     "name": "stderr",
     "output_type": "stream",
     "text": [
      " 42%|████████████████▋                       | 426/1024 [00:22<00:32, 18.64it/s]"
     ]
    },
    {
     "name": "stdout",
     "output_type": "stream",
     "text": [
      "Got 2D data, reshaping to 3D\n",
      "Got 2D data, reshaping to 3D\n",
      "Got 2D data, reshaping to 3D\n",
      "Got 2D data, reshaping to 3D\n"
     ]
    },
    {
     "name": "stderr",
     "output_type": "stream",
     "text": [
      " 42%|████████████████▊                       | 430/1024 [00:23<00:31, 18.64it/s]"
     ]
    },
    {
     "name": "stdout",
     "output_type": "stream",
     "text": [
      "Got 2D data, reshaping to 3D\n",
      "Got 2D data, reshaping to 3D\n",
      "Got 2D data, reshaping to 3D\n",
      "Got 2D data, reshaping to 3D\n"
     ]
    },
    {
     "name": "stderr",
     "output_type": "stream",
     "text": [
      " 42%|████████████████▉                       | 434/1024 [00:23<00:31, 18.65it/s]"
     ]
    },
    {
     "name": "stdout",
     "output_type": "stream",
     "text": [
      "Got 2D data, reshaping to 3D\n",
      "Got 2D data, reshaping to 3D\n",
      "Got 2D data, reshaping to 3D\n",
      "Got 2D data, reshaping to 3D\n"
     ]
    },
    {
     "name": "stderr",
     "output_type": "stream",
     "text": [
      " 43%|█████████████████                       | 438/1024 [00:23<00:31, 18.64it/s]"
     ]
    },
    {
     "name": "stdout",
     "output_type": "stream",
     "text": [
      "Got 2D data, reshaping to 3D\n",
      "Got 2D data, reshaping to 3D\n",
      "Got 2D data, reshaping to 3D\n",
      "Got 2D data, reshaping to 3D\n"
     ]
    },
    {
     "name": "stderr",
     "output_type": "stream",
     "text": [
      " 43%|█████████████████▎                      | 442/1024 [00:23<00:31, 18.63it/s]"
     ]
    },
    {
     "name": "stdout",
     "output_type": "stream",
     "text": [
      "Got 2D data, reshaping to 3D\n",
      "Got 2D data, reshaping to 3D\n",
      "Got 2D data, reshaping to 3D\n",
      "Got 2D data, reshaping to 3D\n"
     ]
    },
    {
     "name": "stderr",
     "output_type": "stream",
     "text": [
      " 44%|█████████████████▍                      | 446/1024 [00:23<00:31, 18.64it/s]"
     ]
    },
    {
     "name": "stdout",
     "output_type": "stream",
     "text": [
      "Got 2D data, reshaping to 3D\n",
      "Got 2D data, reshaping to 3D\n",
      "Got 2D data, reshaping to 3D\n",
      "Got 2D data, reshaping to 3D\n"
     ]
    },
    {
     "name": "stderr",
     "output_type": "stream",
     "text": [
      " 44%|█████████████████▌                      | 450/1024 [00:24<00:30, 18.64it/s]"
     ]
    },
    {
     "name": "stdout",
     "output_type": "stream",
     "text": [
      "Got 2D data, reshaping to 3D\n",
      "Got 2D data, reshaping to 3D\n",
      "Got 2D data, reshaping to 3D\n",
      "Got 2D data, reshaping to 3D\n"
     ]
    },
    {
     "name": "stderr",
     "output_type": "stream",
     "text": [
      " 44%|█████████████████▋                      | 454/1024 [00:24<00:30, 18.65it/s]"
     ]
    },
    {
     "name": "stdout",
     "output_type": "stream",
     "text": [
      "Got 2D data, reshaping to 3D\n",
      "Got 2D data, reshaping to 3D\n",
      "Got 2D data, reshaping to 3D\n",
      "Got 2D data, reshaping to 3D\n"
     ]
    },
    {
     "name": "stderr",
     "output_type": "stream",
     "text": [
      " 45%|█████████████████▉                      | 458/1024 [00:24<00:30, 18.64it/s]"
     ]
    },
    {
     "name": "stdout",
     "output_type": "stream",
     "text": [
      "Got 2D data, reshaping to 3D\n",
      "Got 2D data, reshaping to 3D\n",
      "Got 2D data, reshaping to 3D\n",
      "Got 2D data, reshaping to 3D\n"
     ]
    },
    {
     "name": "stderr",
     "output_type": "stream",
     "text": [
      " 45%|██████████████████                      | 462/1024 [00:24<00:30, 18.64it/s]"
     ]
    },
    {
     "name": "stdout",
     "output_type": "stream",
     "text": [
      "Got 2D data, reshaping to 3D\n",
      "Got 2D data, reshaping to 3D\n",
      "Got 2D data, reshaping to 3D\n",
      "Got 2D data, reshaping to 3D\n"
     ]
    },
    {
     "name": "stderr",
     "output_type": "stream",
     "text": [
      " 46%|██████████████████▏                     | 466/1024 [00:25<00:29, 18.64it/s]"
     ]
    },
    {
     "name": "stdout",
     "output_type": "stream",
     "text": [
      "Got 2D data, reshaping to 3D\n",
      "Got 2D data, reshaping to 3D\n",
      "Got 2D data, reshaping to 3D\n",
      "Got 2D data, reshaping to 3D\n"
     ]
    },
    {
     "name": "stderr",
     "output_type": "stream",
     "text": [
      " 46%|██████████████████▎                     | 470/1024 [00:25<00:29, 18.65it/s]"
     ]
    },
    {
     "name": "stdout",
     "output_type": "stream",
     "text": [
      "Got 2D data, reshaping to 3D\n",
      "Got 2D data, reshaping to 3D\n",
      "Got 2D data, reshaping to 3D\n",
      "Got 2D data, reshaping to 3D\n"
     ]
    },
    {
     "name": "stderr",
     "output_type": "stream",
     "text": [
      " 46%|██████████████████▌                     | 474/1024 [00:25<00:29, 18.64it/s]"
     ]
    },
    {
     "name": "stdout",
     "output_type": "stream",
     "text": [
      "Got 2D data, reshaping to 3D\n",
      "Got 2D data, reshaping to 3D\n",
      "Got 2D data, reshaping to 3D\n",
      "Got 2D data, reshaping to 3D\n"
     ]
    },
    {
     "name": "stderr",
     "output_type": "stream",
     "text": [
      " 47%|██████████████████▋                     | 478/1024 [00:25<00:29, 18.64it/s]"
     ]
    },
    {
     "name": "stdout",
     "output_type": "stream",
     "text": [
      "Got 2D data, reshaping to 3D\n",
      "Got 2D data, reshaping to 3D\n",
      "Got 2D data, reshaping to 3D\n",
      "Got 2D data, reshaping to 3D\n"
     ]
    },
    {
     "name": "stderr",
     "output_type": "stream",
     "text": [
      " 47%|██████████████████▊                     | 482/1024 [00:25<00:29, 18.65it/s]"
     ]
    },
    {
     "name": "stdout",
     "output_type": "stream",
     "text": [
      "Got 2D data, reshaping to 3D\n",
      "Got 2D data, reshaping to 3D\n",
      "Got 2D data, reshaping to 3D\n",
      "Got 2D data, reshaping to 3D\n"
     ]
    },
    {
     "name": "stderr",
     "output_type": "stream",
     "text": [
      " 47%|██████████████████▉                     | 486/1024 [00:26<00:28, 18.63it/s]"
     ]
    },
    {
     "name": "stdout",
     "output_type": "stream",
     "text": [
      "Got 2D data, reshaping to 3D\n",
      "Got 2D data, reshaping to 3D\n",
      "Got 2D data, reshaping to 3D\n",
      "Got 2D data, reshaping to 3D\n"
     ]
    },
    {
     "name": "stderr",
     "output_type": "stream",
     "text": [
      " 48%|███████████████████▏                    | 490/1024 [00:26<00:28, 18.64it/s]"
     ]
    },
    {
     "name": "stdout",
     "output_type": "stream",
     "text": [
      "Got 2D data, reshaping to 3D\n",
      "Got 2D data, reshaping to 3D\n",
      "Got 2D data, reshaping to 3D\n",
      "Got 2D data, reshaping to 3D\n"
     ]
    },
    {
     "name": "stderr",
     "output_type": "stream",
     "text": [
      " 48%|███████████████████▎                    | 494/1024 [00:26<00:28, 18.65it/s]"
     ]
    },
    {
     "name": "stdout",
     "output_type": "stream",
     "text": [
      "Got 2D data, reshaping to 3D\n",
      "Got 2D data, reshaping to 3D\n",
      "Got 2D data, reshaping to 3D\n",
      "Got 2D data, reshaping to 3D\n"
     ]
    },
    {
     "name": "stderr",
     "output_type": "stream",
     "text": [
      " 49%|███████████████████▍                    | 498/1024 [00:26<00:28, 18.65it/s]"
     ]
    },
    {
     "name": "stdout",
     "output_type": "stream",
     "text": [
      "Got 2D data, reshaping to 3D\n",
      "Got 2D data, reshaping to 3D\n",
      "Got 2D data, reshaping to 3D\n",
      "Got 2D data, reshaping to 3D\n"
     ]
    },
    {
     "name": "stderr",
     "output_type": "stream",
     "text": [
      " 49%|███████████████████▌                    | 502/1024 [00:26<00:27, 18.65it/s]"
     ]
    },
    {
     "name": "stdout",
     "output_type": "stream",
     "text": [
      "Got 2D data, reshaping to 3D\n",
      "Got 2D data, reshaping to 3D\n",
      "Got 2D data, reshaping to 3D\n",
      "Got 2D data, reshaping to 3D\n"
     ]
    },
    {
     "name": "stderr",
     "output_type": "stream",
     "text": [
      " 49%|███████████████████▊                    | 506/1024 [00:27<00:27, 18.63it/s]"
     ]
    },
    {
     "name": "stdout",
     "output_type": "stream",
     "text": [
      "Got 2D data, reshaping to 3D\n",
      "Got 2D data, reshaping to 3D\n",
      "Got 2D data, reshaping to 3D\n",
      "Got 2D data, reshaping to 3D\n"
     ]
    },
    {
     "name": "stderr",
     "output_type": "stream",
     "text": [
      " 50%|███████████████████▉                    | 510/1024 [00:27<00:27, 18.64it/s]"
     ]
    },
    {
     "name": "stdout",
     "output_type": "stream",
     "text": [
      "Got 2D data, reshaping to 3D\n",
      "Got 2D data, reshaping to 3D\n",
      "Got 2D data, reshaping to 3D\n",
      "Got 2D data, reshaping to 3D\n"
     ]
    },
    {
     "name": "stderr",
     "output_type": "stream",
     "text": [
      " 50%|████████████████████                    | 514/1024 [00:27<00:27, 18.64it/s]"
     ]
    },
    {
     "name": "stdout",
     "output_type": "stream",
     "text": [
      "Got 2D data, reshaping to 3D\n",
      "Got 2D data, reshaping to 3D\n",
      "Got 2D data, reshaping to 3D\n",
      "Got 2D data, reshaping to 3D\n"
     ]
    },
    {
     "name": "stderr",
     "output_type": "stream",
     "text": [
      " 51%|████████████████████▏                   | 518/1024 [00:27<00:27, 18.64it/s]"
     ]
    },
    {
     "name": "stdout",
     "output_type": "stream",
     "text": [
      "Got 2D data, reshaping to 3D\n",
      "Got 2D data, reshaping to 3D\n",
      "Got 2D data, reshaping to 3D\n",
      "Got 2D data, reshaping to 3D\n"
     ]
    },
    {
     "name": "stderr",
     "output_type": "stream",
     "text": [
      " 51%|████████████████████▍                   | 522/1024 [00:28<00:26, 18.64it/s]"
     ]
    },
    {
     "name": "stdout",
     "output_type": "stream",
     "text": [
      "Got 2D data, reshaping to 3D\n",
      "Got 2D data, reshaping to 3D\n",
      "Got 2D data, reshaping to 3D\n",
      "Got 2D data, reshaping to 3D\n"
     ]
    },
    {
     "name": "stderr",
     "output_type": "stream",
     "text": [
      " 51%|████████████████████▌                   | 526/1024 [00:28<00:26, 18.65it/s]"
     ]
    },
    {
     "name": "stdout",
     "output_type": "stream",
     "text": [
      "Got 2D data, reshaping to 3D\n",
      "Got 2D data, reshaping to 3D\n",
      "Got 2D data, reshaping to 3D\n",
      "Got 2D data, reshaping to 3D\n"
     ]
    },
    {
     "name": "stderr",
     "output_type": "stream",
     "text": [
      " 52%|████████████████████▋                   | 530/1024 [00:28<00:26, 18.64it/s]"
     ]
    },
    {
     "name": "stdout",
     "output_type": "stream",
     "text": [
      "Got 2D data, reshaping to 3D\n",
      "Got 2D data, reshaping to 3D\n",
      "Got 2D data, reshaping to 3D\n",
      "Got 2D data, reshaping to 3D\n"
     ]
    },
    {
     "name": "stderr",
     "output_type": "stream",
     "text": [
      " 52%|████████████████████▊                   | 534/1024 [00:28<00:26, 18.64it/s]"
     ]
    },
    {
     "name": "stdout",
     "output_type": "stream",
     "text": [
      "Got 2D data, reshaping to 3D\n",
      "Got 2D data, reshaping to 3D\n",
      "Got 2D data, reshaping to 3D\n",
      "Got 2D data, reshaping to 3D\n"
     ]
    },
    {
     "name": "stderr",
     "output_type": "stream",
     "text": [
      " 53%|█████████████████████                   | 538/1024 [00:28<00:26, 18.65it/s]"
     ]
    },
    {
     "name": "stdout",
     "output_type": "stream",
     "text": [
      "Got 2D data, reshaping to 3D\n",
      "Got 2D data, reshaping to 3D\n",
      "Got 2D data, reshaping to 3D\n",
      "Got 2D data, reshaping to 3D\n"
     ]
    },
    {
     "name": "stderr",
     "output_type": "stream",
     "text": [
      " 53%|█████████████████████▏                  | 542/1024 [00:29<00:25, 18.64it/s]"
     ]
    },
    {
     "name": "stdout",
     "output_type": "stream",
     "text": [
      "Got 2D data, reshaping to 3D\n",
      "Got 2D data, reshaping to 3D\n",
      "Got 2D data, reshaping to 3D\n",
      "Got 2D data, reshaping to 3D\n"
     ]
    },
    {
     "name": "stderr",
     "output_type": "stream",
     "text": [
      " 53%|█████████████████████▎                  | 546/1024 [00:29<00:25, 18.65it/s]"
     ]
    },
    {
     "name": "stdout",
     "output_type": "stream",
     "text": [
      "Got 2D data, reshaping to 3D\n",
      "Got 2D data, reshaping to 3D\n",
      "Got 2D data, reshaping to 3D\n",
      "Got 2D data, reshaping to 3D\n"
     ]
    },
    {
     "name": "stderr",
     "output_type": "stream",
     "text": [
      " 54%|█████████████████████▍                  | 550/1024 [00:29<00:25, 18.65it/s]"
     ]
    },
    {
     "name": "stdout",
     "output_type": "stream",
     "text": [
      "Got 2D data, reshaping to 3D\n",
      "Got 2D data, reshaping to 3D\n",
      "Got 2D data, reshaping to 3D\n",
      "Got 2D data, reshaping to 3D\n"
     ]
    },
    {
     "name": "stderr",
     "output_type": "stream",
     "text": [
      " 54%|█████████████████████▋                  | 554/1024 [00:29<00:25, 18.64it/s]"
     ]
    },
    {
     "name": "stdout",
     "output_type": "stream",
     "text": [
      "Got 2D data, reshaping to 3D\n",
      "Got 2D data, reshaping to 3D\n",
      "Got 2D data, reshaping to 3D\n",
      "Got 2D data, reshaping to 3D\n"
     ]
    },
    {
     "name": "stderr",
     "output_type": "stream",
     "text": [
      " 54%|█████████████████████▊                  | 558/1024 [00:29<00:24, 18.65it/s]"
     ]
    },
    {
     "name": "stdout",
     "output_type": "stream",
     "text": [
      "Got 2D data, reshaping to 3D\n",
      "Got 2D data, reshaping to 3D\n",
      "Got 2D data, reshaping to 3D\n",
      "Got 2D data, reshaping to 3D\n"
     ]
    },
    {
     "name": "stderr",
     "output_type": "stream",
     "text": [
      " 55%|█████████████████████▉                  | 562/1024 [00:30<00:24, 18.64it/s]"
     ]
    },
    {
     "name": "stdout",
     "output_type": "stream",
     "text": [
      "Got 2D data, reshaping to 3D\n",
      "Got 2D data, reshaping to 3D\n",
      "Got 2D data, reshaping to 3D\n",
      "Got 2D data, reshaping to 3D\n"
     ]
    },
    {
     "name": "stderr",
     "output_type": "stream",
     "text": [
      " 55%|██████████████████████                  | 566/1024 [00:30<00:24, 18.65it/s]"
     ]
    },
    {
     "name": "stdout",
     "output_type": "stream",
     "text": [
      "Got 2D data, reshaping to 3D\n",
      "Got 2D data, reshaping to 3D\n",
      "Got 2D data, reshaping to 3D\n",
      "Got 2D data, reshaping to 3D\n"
     ]
    },
    {
     "name": "stderr",
     "output_type": "stream",
     "text": [
      " 56%|██████████████████████▎                 | 570/1024 [00:30<00:24, 18.62it/s]"
     ]
    },
    {
     "name": "stdout",
     "output_type": "stream",
     "text": [
      "Got 2D data, reshaping to 3D\n",
      "Got 2D data, reshaping to 3D\n",
      "Got 2D data, reshaping to 3D\n",
      "Got 2D data, reshaping to 3D\n"
     ]
    },
    {
     "name": "stderr",
     "output_type": "stream",
     "text": [
      " 56%|██████████████████████▍                 | 574/1024 [00:30<00:24, 18.62it/s]"
     ]
    },
    {
     "name": "stdout",
     "output_type": "stream",
     "text": [
      "Got 2D data, reshaping to 3D\n",
      "Got 2D data, reshaping to 3D\n",
      "Got 2D data, reshaping to 3D\n",
      "Got 2D data, reshaping to 3D\n"
     ]
    },
    {
     "name": "stderr",
     "output_type": "stream",
     "text": [
      " 56%|██████████████████████▌                 | 578/1024 [00:31<00:23, 18.61it/s]"
     ]
    },
    {
     "name": "stdout",
     "output_type": "stream",
     "text": [
      "Got 2D data, reshaping to 3D\n",
      "Got 2D data, reshaping to 3D\n",
      "Got 2D data, reshaping to 3D\n",
      "Got 2D data, reshaping to 3D\n"
     ]
    },
    {
     "name": "stderr",
     "output_type": "stream",
     "text": [
      " 57%|██████████████████████▋                 | 582/1024 [00:31<00:23, 18.61it/s]"
     ]
    },
    {
     "name": "stdout",
     "output_type": "stream",
     "text": [
      "Got 2D data, reshaping to 3D\n",
      "Got 2D data, reshaping to 3D\n",
      "Got 2D data, reshaping to 3D\n",
      "Got 2D data, reshaping to 3D\n"
     ]
    },
    {
     "name": "stderr",
     "output_type": "stream",
     "text": [
      " 57%|██████████████████████▉                 | 586/1024 [00:31<00:23, 18.60it/s]"
     ]
    },
    {
     "name": "stdout",
     "output_type": "stream",
     "text": [
      "Got 2D data, reshaping to 3D\n",
      "Got 2D data, reshaping to 3D\n",
      "Got 2D data, reshaping to 3D\n",
      "Got 2D data, reshaping to 3D\n"
     ]
    },
    {
     "name": "stderr",
     "output_type": "stream",
     "text": [
      " 58%|███████████████████████                 | 590/1024 [00:31<00:23, 18.59it/s]"
     ]
    },
    {
     "name": "stdout",
     "output_type": "stream",
     "text": [
      "Got 2D data, reshaping to 3D\n",
      "Got 2D data, reshaping to 3D\n",
      "Got 2D data, reshaping to 3D\n",
      "Got 2D data, reshaping to 3D\n"
     ]
    },
    {
     "name": "stderr",
     "output_type": "stream",
     "text": [
      " 58%|███████████████████████▏                | 594/1024 [00:31<00:23, 18.59it/s]"
     ]
    },
    {
     "name": "stdout",
     "output_type": "stream",
     "text": [
      "Got 2D data, reshaping to 3D\n",
      "Got 2D data, reshaping to 3D\n",
      "Got 2D data, reshaping to 3D\n",
      "Got 2D data, reshaping to 3D\n"
     ]
    },
    {
     "name": "stderr",
     "output_type": "stream",
     "text": [
      " 58%|███████████████████████▎                | 598/1024 [00:32<00:22, 18.59it/s]"
     ]
    },
    {
     "name": "stdout",
     "output_type": "stream",
     "text": [
      "Got 2D data, reshaping to 3D\n",
      "Got 2D data, reshaping to 3D\n",
      "Got 2D data, reshaping to 3D\n",
      "Got 2D data, reshaping to 3D\n"
     ]
    },
    {
     "name": "stderr",
     "output_type": "stream",
     "text": [
      " 59%|███████████████████████▌                | 602/1024 [00:32<00:22, 18.59it/s]"
     ]
    },
    {
     "name": "stdout",
     "output_type": "stream",
     "text": [
      "Got 2D data, reshaping to 3D\n",
      "Got 2D data, reshaping to 3D\n",
      "Got 2D data, reshaping to 3D\n",
      "Got 2D data, reshaping to 3D\n"
     ]
    },
    {
     "name": "stderr",
     "output_type": "stream",
     "text": [
      " 59%|███████████████████████▋                | 606/1024 [00:32<00:22, 18.59it/s]"
     ]
    },
    {
     "name": "stdout",
     "output_type": "stream",
     "text": [
      "Got 2D data, reshaping to 3D\n",
      "Got 2D data, reshaping to 3D\n",
      "Got 2D data, reshaping to 3D\n",
      "Got 2D data, reshaping to 3D\n"
     ]
    },
    {
     "name": "stderr",
     "output_type": "stream",
     "text": [
      " 60%|███████████████████████▊                | 610/1024 [00:32<00:22, 18.59it/s]"
     ]
    },
    {
     "name": "stdout",
     "output_type": "stream",
     "text": [
      "Got 2D data, reshaping to 3D\n",
      "Got 2D data, reshaping to 3D\n",
      "Got 2D data, reshaping to 3D\n",
      "Got 2D data, reshaping to 3D\n"
     ]
    },
    {
     "name": "stderr",
     "output_type": "stream",
     "text": [
      " 60%|███████████████████████▉                | 614/1024 [00:32<00:22, 18.59it/s]"
     ]
    },
    {
     "name": "stdout",
     "output_type": "stream",
     "text": [
      "Got 2D data, reshaping to 3D\n",
      "Got 2D data, reshaping to 3D\n",
      "Got 2D data, reshaping to 3D\n",
      "Got 2D data, reshaping to 3D\n"
     ]
    },
    {
     "name": "stderr",
     "output_type": "stream",
     "text": [
      " 60%|████████████████████████▏               | 618/1024 [00:33<00:21, 18.58it/s]"
     ]
    },
    {
     "name": "stdout",
     "output_type": "stream",
     "text": [
      "Got 2D data, reshaping to 3D\n",
      "Got 2D data, reshaping to 3D\n",
      "Got 2D data, reshaping to 3D\n",
      "Got 2D data, reshaping to 3D\n"
     ]
    },
    {
     "name": "stderr",
     "output_type": "stream",
     "text": [
      " 61%|████████████████████████▎               | 622/1024 [00:33<00:21, 18.59it/s]"
     ]
    },
    {
     "name": "stdout",
     "output_type": "stream",
     "text": [
      "Got 2D data, reshaping to 3D\n",
      "Got 2D data, reshaping to 3D\n",
      "Got 2D data, reshaping to 3D\n",
      "Got 2D data, reshaping to 3D\n"
     ]
    },
    {
     "name": "stderr",
     "output_type": "stream",
     "text": [
      " 61%|████████████████████████▍               | 626/1024 [00:33<00:21, 18.59it/s]"
     ]
    },
    {
     "name": "stdout",
     "output_type": "stream",
     "text": [
      "Got 2D data, reshaping to 3D\n",
      "Got 2D data, reshaping to 3D\n",
      "Got 2D data, reshaping to 3D\n",
      "Got 2D data, reshaping to 3D\n"
     ]
    },
    {
     "name": "stderr",
     "output_type": "stream",
     "text": [
      " 62%|████████████████████████▌               | 630/1024 [00:33<00:21, 18.60it/s]"
     ]
    },
    {
     "name": "stdout",
     "output_type": "stream",
     "text": [
      "Got 2D data, reshaping to 3D\n",
      "Got 2D data, reshaping to 3D\n",
      "Got 2D data, reshaping to 3D\n",
      "Got 2D data, reshaping to 3D\n"
     ]
    },
    {
     "name": "stderr",
     "output_type": "stream",
     "text": [
      " 62%|████████████████████████▊               | 634/1024 [00:34<00:20, 18.60it/s]"
     ]
    },
    {
     "name": "stdout",
     "output_type": "stream",
     "text": [
      "Got 2D data, reshaping to 3D\n",
      "Got 2D data, reshaping to 3D\n",
      "Got 2D data, reshaping to 3D\n",
      "Got 2D data, reshaping to 3D\n"
     ]
    },
    {
     "name": "stderr",
     "output_type": "stream",
     "text": [
      " 62%|████████████████████████▉               | 638/1024 [00:34<00:20, 18.60it/s]"
     ]
    },
    {
     "name": "stdout",
     "output_type": "stream",
     "text": [
      "Got 2D data, reshaping to 3D\n",
      "Got 2D data, reshaping to 3D\n",
      "Got 2D data, reshaping to 3D\n",
      "Got 2D data, reshaping to 3D\n"
     ]
    },
    {
     "name": "stderr",
     "output_type": "stream",
     "text": [
      " 63%|█████████████████████████               | 642/1024 [00:34<00:20, 18.59it/s]"
     ]
    }
   ],
   "source": [
    "probs = []\n",
    "for sample in tqdm.tqdm(samples):\n",
    "    with torch.no_grad():\n",
    "        logprob = functional_call(model, sample)\n",
    "    prob = logprob.exp().view(*resolutions).cpu()\n",
    "    probs.append(prob)"
   ]
  },
  {
   "cell_type": "code",
   "execution_count": null,
   "id": "1db7359d",
   "metadata": {},
   "outputs": [],
   "source": [
    "probs = torch.stack(probs)"
   ]
  },
  {
   "cell_type": "code",
   "execution_count": null,
   "id": "bc7567c4",
   "metadata": {},
   "outputs": [],
   "source": [
    "probs.shape"
   ]
  },
  {
   "cell_type": "code",
   "execution_count": null,
   "id": "1ccf4190",
   "metadata": {},
   "outputs": [],
   "source": [
    "m1 = probs.sum((2, 3, 4)).cpu().numpy()"
   ]
  },
  {
   "cell_type": "code",
   "execution_count": null,
   "id": "a11c3f88",
   "metadata": {},
   "outputs": [],
   "source": [
    "m1_med = np.median(m1, axis=0)"
   ]
  },
  {
   "cell_type": "code",
   "execution_count": null,
   "id": "222bcec7",
   "metadata": {},
   "outputs": [],
   "source": [
    "m1_005 = np.percentile(m1, 5, axis=0)\n",
    "m1_095 = np.percentile(m1, 95, axis=0)"
   ]
  },
  {
   "cell_type": "code",
   "execution_count": null,
   "id": "f811b161",
   "metadata": {
    "scrolled": true
   },
   "outputs": [],
   "source": [
    "plt.plot(axes[0], m1_med)\n",
    "plt.fill_between(axes[0], m1_005, m1_095, alpha=0.1)\n",
    "plt.yscale('log')\n",
    "plt.ylim((1e-5, 3))"
   ]
  },
  {
   "cell_type": "code",
   "execution_count": null,
   "id": "bc608977",
   "metadata": {},
   "outputs": [],
   "source": [
    "plt.plot(axes[0], pm1)\n",
    "plt.fill_between(axes[0], m1_005, m1_095, alpha=0.1)\n",
    "plt.yscale('log')\n",
    "plt.ylim((1e-5, 3))"
   ]
  },
  {
   "cell_type": "code",
   "execution_count": null,
   "id": "ab8f267e",
   "metadata": {},
   "outputs": [],
   "source": []
  }
 ],
 "metadata": {
  "kernelspec": {
   "display_name": "Python 3 (ipykernel)",
   "language": "python",
   "name": "python3"
  },
  "language_info": {
   "codemirror_mode": {
    "name": "ipython",
    "version": 3
   },
   "file_extension": ".py",
   "mimetype": "text/x-python",
   "name": "python",
   "nbconvert_exporter": "python",
   "pygments_lexer": "ipython3",
   "version": "3.9.13"
  }
 },
 "nbformat": 4,
 "nbformat_minor": 5
}
