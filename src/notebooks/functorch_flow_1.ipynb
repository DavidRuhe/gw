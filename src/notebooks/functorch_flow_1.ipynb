{
 "cells": [
  {
   "cell_type": "code",
   "execution_count": 209,
   "id": "2e9cfacc",
   "metadata": {},
   "outputs": [],
   "source": [
    "import torch\n",
    "from torch import nn\n",
    "import torch.nn.functional as F\n",
    "from torch.optim import Adam\n",
    "import pyro.distributions.transforms as T"
   ]
  },
  {
   "cell_type": "code",
   "execution_count": 210,
   "id": "557465da",
   "metadata": {},
   "outputs": [],
   "source": [
    "data = torch.randn(1024, 2) + 3"
   ]
  },
  {
   "cell_type": "code",
   "execution_count": 211,
   "id": "9012f05d",
   "metadata": {},
   "outputs": [],
   "source": [
    "class PlanarFlow(nn.Module):\n",
    "    \"\"\"\n",
    "    A single planar flow, computes T(x) and log(det(jac_T)))\n",
    "    \"\"\"\n",
    "    def __init__(self, D):\n",
    "        super(PlanarFlow, self).__init__()\n",
    "        self.u = nn.Parameter(torch.Tensor(1, D), requires_grad=True)\n",
    "        self.w = nn.Parameter(torch.Tensor(1, D), requires_grad=True)\n",
    "        self.b = nn.Parameter(torch.Tensor(1), requires_grad=True)\n",
    "        self.h = torch.tanh\n",
    "        self.init_params()\n",
    "\n",
    "    def init_params(self):\n",
    "        self.w.data.uniform_(-0.01, 0.01)\n",
    "        self.b.data.uniform_(-0.01, 0.01)\n",
    "        self.u.data.uniform_(-0.01, 0.01)\n",
    "\n",
    "    def forward(self, input):\n",
    "        z, ljd = input\n",
    "        ljd = ljd + self.log_det(z)\n",
    "        linear_term = torch.mm(z, self.w.T) + self.b\n",
    "        z_ = z + self.u * self.h(linear_term)\n",
    "        return z_, ljd\n",
    "\n",
    "    def h_prime(self, x):\n",
    "        \"\"\"\n",
    "        Derivative of tanh\n",
    "        \"\"\"\n",
    "        return (1 - self.h(x) ** 2)\n",
    "\n",
    "    def psi(self, z):\n",
    "        inner = torch.mm(z, self.w.T) + self.b\n",
    "        return self.h_prime(inner) * self.w\n",
    "\n",
    "    def log_det(self, z):\n",
    "        inner = 1 + torch.mm(self.psi(z), self.u.T)\n",
    "        return torch.log(torch.abs(inner))\n"
   ]
  },
  {
   "cell_type": "code",
   "execution_count": 216,
   "id": "4cf53898",
   "metadata": {},
   "outputs": [],
   "source": [
    "#     def gaussian_nll(self, z, loc, scale):\n",
    "#         return F.gaussian_nll_loss(loc, z, scale, full=True, reduction='none')\n",
    "\n",
    "\n",
    "#  self.gaussian_nll(z, self.base_loc, self.base_logscale.exp()).sum(-1)"
   ]
  },
  {
   "cell_type": "code",
   "execution_count": 217,
   "id": "7173f82a",
   "metadata": {},
   "outputs": [],
   "source": [
    "class NormalizingFlow(nn.Module):\n",
    "    def __init__(self):\n",
    "        super().__init__()\n",
    "#         self.transforms = transforms\n",
    "        self.d = 2\n",
    "#         self.d = self.transforms[0].input_dim\n",
    "        self.base_dist = torch.distributions.Normal\n",
    "        self.base_loc = nn.Parameter(torch.zeros(self.d))\n",
    "        self.base_logvar = nn.Parameter(torch.zeros(self.d))\n",
    "#         self.trainable_transforms = nn.ModuleList(\n",
    "#             [t for t in self.transforms if isinstance(t, nn.Module)]\n",
    "#         )\n",
    "        self.transforms = nn.Sequential(*[PlanarFlow(2) for _ in range(8)])\n",
    "    \n",
    "    \n",
    "    def forward(self, x, ljd=0):\n",
    "        z, ljd = self.transforms((x, ljd))\n",
    "        return ljd + self.base_dist(self.base_loc, self.base_logvar.exp(), validate_args=False).log_prob(z)\n",
    "    \n"
   ]
  },
  {
   "cell_type": "code",
   "execution_count": 218,
   "id": "74a85d31",
   "metadata": {},
   "outputs": [],
   "source": [
    "model = NormalizingFlow()"
   ]
  },
  {
   "cell_type": "code",
   "execution_count": 219,
   "id": "822dfe2f",
   "metadata": {},
   "outputs": [
    {
     "data": {
      "text/plain": [
       "tensor([[ -3.3160,  -4.5388],\n",
       "        [ -6.7580,  -6.1622],\n",
       "        [ -4.2667,  -4.0290],\n",
       "        ...,\n",
       "        [ -2.5713, -11.9000],\n",
       "        [ -5.2188,  -9.0025],\n",
       "        [-13.5862,  -5.7302]], grad_fn=<AddBackward0>)"
      ]
     },
     "execution_count": 219,
     "metadata": {},
     "output_type": "execute_result"
    }
   ],
   "source": [
    "model(data)"
   ]
  },
  {
   "cell_type": "code",
   "execution_count": 220,
   "id": "841dc1b7",
   "metadata": {},
   "outputs": [],
   "source": [
    "adam = Adam(model.parameters())"
   ]
  },
  {
   "cell_type": "code",
   "execution_count": 221,
   "id": "c0712e78",
   "metadata": {},
   "outputs": [
    {
     "name": "stdout",
     "output_type": "stream",
     "text": [
      "5.9264\n",
      "5.3818\n",
      "4.5442\n",
      "3.7203\n",
      "3.1018\n",
      "2.6769\n",
      "2.3901\n",
      "2.1963\n",
      "2.0645\n",
      "1.9735\n",
      "1.9093\n",
      "1.8624\n",
      "1.8264\n",
      "1.7975\n",
      "1.7730\n",
      "1.7514\n",
      "1.7319\n",
      "1.7139\n",
      "1.6971\n",
      "1.6813\n",
      "1.6664\n",
      "1.6523\n",
      "1.6389\n",
      "1.6262\n",
      "1.6142\n",
      "1.6027\n",
      "1.5917\n",
      "1.5812\n",
      "1.5711\n",
      "1.5614\n",
      "1.5520\n",
      "1.5427\n",
      "1.5336\n",
      "1.5244\n",
      "1.5149\n",
      "1.5049\n",
      "1.4939\n",
      "1.4814\n",
      "1.4666\n",
      "1.4492\n",
      "1.4297\n",
      "1.4097\n",
      "1.3910\n",
      "1.3747\n",
      "1.3610\n",
      "1.3497\n",
      "1.3404\n",
      "1.3325\n",
      "1.3258\n",
      "1.3200\n",
      "1.3148\n",
      "1.3102\n",
      "1.3058\n",
      "1.3018\n",
      "1.2980\n",
      "1.2944\n",
      "1.2909\n",
      "1.2876\n",
      "1.2843\n",
      "1.2812\n",
      "1.2781\n",
      "1.2752\n",
      "1.2723\n",
      "1.2695\n"
     ]
    }
   ],
   "source": [
    "for i in range(2048):\n",
    "    ll = model(data)\n",
    "    loss = -ll.mean()\n",
    "    adam.zero_grad()\n",
    "    loss.backward()\n",
    "    adam.step()\n",
    "    \n",
    "    if i % 32 == 0:\n",
    "        print(f\"{loss.item():.4f}\")\n",
    "    "
   ]
  },
  {
   "cell_type": "code",
   "execution_count": 222,
   "id": "fb7cbba4",
   "metadata": {},
   "outputs": [],
   "source": [
    "with torch.no_grad():\n",
    "    z, _ = model.transforms((data, 0))"
   ]
  },
  {
   "cell_type": "code",
   "execution_count": 223,
   "id": "ace08a33",
   "metadata": {},
   "outputs": [],
   "source": [
    "import seaborn as sns"
   ]
  },
  {
   "cell_type": "code",
   "execution_count": 224,
   "id": "bab7d7ee",
   "metadata": {},
   "outputs": [
    {
     "data": {
      "text/plain": [
       "<AxesSubplot:>"
      ]
     },
     "execution_count": 224,
     "metadata": {},
     "output_type": "execute_result"
    },
    {
     "data": {
      "image/png": "[encoded data removed]",
      "text/plain": [
       "<Figure size 432x288 with 1 Axes>"
      ]
     },
     "metadata": {
      "needs_background": "light"
     },
     "output_type": "display_data"
    }
   ],
   "source": [
    "sns.kdeplot(x=z[:, 0], y=z[:, 1])"
   ]
  },
  {
   "cell_type": "code",
   "execution_count": 225,
   "id": "21e9e7ea",
   "metadata": {},
   "outputs": [],
   "source": [
    "import functorch as ft\n"
   ]
  },
  {
   "cell_type": "code",
   "execution_count": 226,
   "id": "318e82ad",
   "metadata": {},
   "outputs": [],
   "source": [
    "fmodel, params = ft.make_functional(model)\n"
   ]
  },
  {
   "cell_type": "code",
   "execution_count": 227,
   "id": "b008184a",
   "metadata": {},
   "outputs": [],
   "source": [
    "def flatten(params):\n",
    "    return torch.cat([p.flatten() for p in params])\n",
    "\n",
    "params_flat = flatten(params)"
   ]
  },
  {
   "cell_type": "code",
   "execution_count": 228,
   "id": "250bff01",
   "metadata": {},
   "outputs": [],
   "source": [
    "def unflatten(model, flattened_params):\n",
    "    if flattened_params.dim() != 1:\n",
    "        raise ValueError('Expecting a 1d flattened_params')\n",
    "    params_list = []\n",
    "    i = 0\n",
    "    for val in list(model.parameters()):\n",
    "        length = val.nelement()\n",
    "        param = flattened_params[i:i+length].view_as(val)\n",
    "        params_list.append(nn.Parameter(param))\n",
    "        i += length\n",
    "\n",
    "    return tuple(params_list)"
   ]
  },
  {
   "cell_type": "code",
   "execution_count": 229,
   "id": "469b4402",
   "metadata": {},
   "outputs": [],
   "source": [
    "def unflatten_batch(model, flattened_params):\n",
    "    assert flattened_params.dim() == 2, \"Expecting a [batch, params] tensor.\"\n",
    "    i = 0\n",
    "    params_list = []\n",
    "    for val in list(model.parameters()):\n",
    "        length = val.nelement()\n",
    "        param = flattened_params[:, i:i+length].view(len(flattened_params), *val.shape)\n",
    "        params_list.append(param)\n",
    "        i += length\n",
    "\n",
    "    return tuple(params_list)"
   ]
  },
  {
   "cell_type": "code",
   "execution_count": 230,
   "id": "dc7daffc",
   "metadata": {},
   "outputs": [],
   "source": [
    "batch_params = unflatten_batch(model, params_flat[None])"
   ]
  },
  {
   "cell_type": "code",
   "execution_count": 231,
   "id": "98cf94ef",
   "metadata": {},
   "outputs": [],
   "source": [
    "out = ft.vmap(fmodel, in_dims=(0, None))(batch_params, data)\n"
   ]
  },
  {
   "cell_type": "code",
   "execution_count": 232,
   "id": "8377d6ac",
   "metadata": {},
   "outputs": [
    {
     "data": {
      "text/plain": [
       "tensor([[[-1.1618, -0.9018],\n",
       "         [-0.7085, -0.5521],\n",
       "         [-0.8462, -0.9497],\n",
       "         ...,\n",
       "         [-0.7925, -1.7825],\n",
       "         [-0.6030, -1.1857],\n",
       "         [-3.4935, -0.9063]]], grad_fn=<AddBackward0>)"
      ]
     },
     "execution_count": 232,
     "metadata": {},
     "output_type": "execute_result"
    }
   ],
   "source": [
    "out"
   ]
  },
  {
   "cell_type": "code",
   "execution_count": null,
   "id": "c493d992",
   "metadata": {},
   "outputs": [],
   "source": []
  }
 ],
 "metadata": {
  "kernelspec": {
   "display_name": "Python 3 (ipykernel)",
   "language": "python",
   "name": "python3"
  },
  "language_info": {
   "codemirror_mode": {
    "name": "ipython",
    "version": 3
   },
   "file_extension": ".py",
   "mimetype": "text/x-python",
   "name": "python",
   "nbconvert_exporter": "python",
   "pygments_lexer": "ipython3",
   "version": "3.9.13"
  }
 },
 "nbformat": 4,
 "nbformat_minor": 5
}
