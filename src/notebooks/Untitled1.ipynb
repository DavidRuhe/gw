{
 "cells": [
  {
   "cell_type": "code",
   "execution_count": 16,
   "id": "ca3e33e4",
   "metadata": {},
   "outputs": [],
   "source": [
    "import numpy as np\n",
    "import torch\n",
    "from pyro.distributions import TransformModule\n",
    "from pyro.distributions import transforms as T\n",
    "from torch.distributions import constraints, TransformedDistribution\n",
    "\n",
    "from torch import nn\n",
    "\n",
    "\n",
    "\n",
    "class PartialTransform(TransformModule):\n",
    "    domain = constraints.real_vector\n",
    "    codomain = constraints.real_vector\n",
    "\n",
    "    def __init__(self, transform, dims_to_transform):\n",
    "        super().__init__(cache_size=1)\n",
    "        self.transform = transform\n",
    "        self.dims_to_transform = dims_to_transform\n",
    "\n",
    "    def _call(self, x):\n",
    "        x_left, x_right = torch.split(x, [\n",
    "            self.dims_to_transform,\n",
    "            x.shape[1]-self.dims_to_transform\n",
    "        ], -1)\n",
    "\n",
    "        x = x_left\n",
    "        y = self.transform(x)\n",
    "        log_abs_det_jacobian = self.transform.log_abs_det_jacobian(x, y)\n",
    "\n",
    "        self._cached_log_abs_det_jacobian = log_abs_det_jacobian\n",
    "\n",
    "        return torch.cat([y, x_right], -1)\n",
    "\n",
    "    def _inverse(self, y):\n",
    "        y_left, y_right = torch.split(y, [\n",
    "            self.dims_to_transform,\n",
    "            y.shape[1] - self.dims_to_transform\n",
    "        ], -1)\n",
    "\n",
    "        y = y_left\n",
    "        x = self.transform.inv(y)\n",
    "        log_abs_det_jacobian = -transform.log_abs_det_jacobian(x, y)\n",
    "        self._cached_log_abs_det_jacobian = log_abs_det_jacobian\n",
    "        return torch.cat([x, y_right], -1)\n",
    "\n",
    "    def clear_cache(self):\n",
    "        self._cached_log_abs_det_jacobian = None\n",
    "\n",
    "    def log_abs_det_jacobian(self, x, y):\n",
    "        x_old, y_old = self._cached_x_y\n",
    "        if not(x is x_old and y is y_old):\n",
    "            raise NotImplementedError()\n",
    "\n",
    "        if self._cached_log_abs_det_jacobian is None:\n",
    "            raise NotImplementedError()\n",
    "\n",
    "        log_abs_det_jacobian = self._cached_log_abs_det_jacobian\n",
    "        self.clear_cache()\n",
    "        return log_abs_det_jacobian"
   ]
  },
  {
   "cell_type": "code",
   "execution_count": 28,
   "id": "106465dc",
   "metadata": {},
   "outputs": [],
   "source": [
    "t = PartialTransform(T.SoftplusTransform().inv, 3)"
   ]
  },
  {
   "cell_type": "code",
   "execution_count": 29,
   "id": "fae5ed58",
   "metadata": {},
   "outputs": [],
   "source": [
    "x = torch.randn(6, 5).exp()"
   ]
  },
  {
   "cell_type": "code",
   "execution_count": 30,
   "id": "a069c077",
   "metadata": {},
   "outputs": [],
   "source": [
    "y = t(x)"
   ]
  },
  {
   "cell_type": "code",
   "execution_count": 31,
   "id": "ea078494",
   "metadata": {},
   "outputs": [
    {
     "data": {
      "text/plain": [
       "tensor([[-1.6787e+00,  4.0210e+00,  8.6261e+00,  2.4198e+00,  1.2607e+01],\n",
       "        [ 9.1735e-01, -1.0803e+00,  4.5691e+00,  7.5617e-01,  9.8101e-01],\n",
       "        [-2.2943e-01,  7.2165e-01,  5.3149e+00,  6.7265e+00,  1.0125e+01],\n",
       "        [ 6.1891e-03, -4.6604e-01,  6.6302e-01,  7.6511e-01,  1.7297e+00],\n",
       "        [ 2.3935e-01,  2.8913e-01,  2.1755e+00,  3.9033e+00,  2.2716e+00],\n",
       "        [-4.9702e-01,  1.2060e+00, -1.2108e+00,  2.6857e-01,  4.3742e-01]])"
      ]
     },
     "execution_count": 31,
     "metadata": {},
     "output_type": "execute_result"
    }
   ],
   "source": [
    "y"
   ]
  },
  {
   "cell_type": "code",
   "execution_count": 32,
   "id": "06622f6a",
   "metadata": {},
   "outputs": [
    {
     "data": {
      "text/plain": [
       "tensor([[0., 0., 0., 0., 0.],\n",
       "        [0., 0., 0., 0., 0.],\n",
       "        [0., 0., 0., 0., 0.],\n",
       "        [0., 0., 0., 0., 0.],\n",
       "        [0., 0., 0., 0., 0.],\n",
       "        [0., 0., 0., 0., 0.]])"
      ]
     },
     "execution_count": 32,
     "metadata": {},
     "output_type": "execute_result"
    }
   ],
   "source": [
    "t.inv(y) - x"
   ]
  },
  {
   "cell_type": "code",
   "execution_count": 34,
   "id": "9d898cbb",
   "metadata": {},
   "outputs": [
    {
     "data": {
      "text/plain": [
       "tensor(0.2686)"
      ]
     },
     "execution_count": 34,
     "metadata": {},
     "output_type": "execute_result"
    }
   ],
   "source": [
    "x[:, 3:].min()"
   ]
  },
  {
   "cell_type": "code",
   "execution_count": null,
   "id": "c1457df1",
   "metadata": {},
   "outputs": [],
   "source": []
  }
 ],
 "metadata": {
  "kernelspec": {
   "display_name": "Python 3 (ipykernel)",
   "language": "python",
   "name": "python3"
  },
  "language_info": {
   "codemirror_mode": {
    "name": "ipython",
    "version": 3
   },
   "file_extension": ".py",
   "mimetype": "text/x-python",
   "name": "python",
   "nbconvert_exporter": "python",
   "pygments_lexer": "ipython3",
   "version": "3.9.13"
  }
 },
 "nbformat": 4,
 "nbformat_minor": 5
}
