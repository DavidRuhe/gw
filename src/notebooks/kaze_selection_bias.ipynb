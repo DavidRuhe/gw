{
 "cells": [
  {
   "cell_type": "code",
   "execution_count": 41,
   "id": "416accdd",
   "metadata": {},
   "outputs": [],
   "source": [
    "import numpy as np\n",
    "from scipy.interpolate import interp1d\n",
    "from astropy.cosmology import Planck18 as cosmo\n",
    "import emcee"
   ]
  },
  {
   "cell_type": "code",
   "execution_count": 42,
   "id": "c2e2d4d7",
   "metadata": {},
   "outputs": [],
   "source": [
    "catalog_data = np.load('../../datasets/sampleDict_FAR_1_in_1_yr.pickle', allow_pickle=True)\n",
    "selection_data = np.load('../../datasets/injectionDict_FAR_1_in_1.pickle', allow_pickle=True)"
   ]
  },
  {
   "cell_type": "code",
   "execution_count": 43,
   "id": "c6e50b61",
   "metadata": {},
   "outputs": [],
   "source": [
    "z_axis = np.linspace(0,10,100000)\n",
    "dVdz = cosmo.differential_comoving_volume(z_axis).value/1e9*4*np.pi # Astropy dVcdz is per stradian\n",
    "dVdz_interp = interp1d(z_axis,dVdz)\n",
    "def z_distribution_unnormalized(z):\n",
    "    return dVdz_interp(z)*(1+z)**1.7\n",
    "\n",
    "z_normalization = np.trapz(z_distribution_unnormalized(z_axis),z_axis)\n",
    "\n",
    "def z_distribution(z):\n",
    "    return dVdz_interp(z)*(1+z)**1.7/z_normalization"
   ]
  },
  {
   "cell_type": "code",
   "execution_count": 44,
   "id": "81e9db16",
   "metadata": {},
   "outputs": [],
   "source": [
    "def truncated_powerlaw(m1,index,mmin=5,mmax=50):\n",
    "    try:\n",
    "        output = m1.copy()**index\n",
    "        index_in = np.where((m1>=mmin)*(m1<=mmax))[0]\n",
    "        index_out = np.where((m1<mmin)+(m1>mmax))[0]\n",
    "        normalization = ((mmax)**(1+index)-mmin**(1+index))/(1+index)\n",
    "        output[index_out] = 1e-30\n",
    "        output[index_in] = m1[index_in]**index/normalization\n",
    "    except ZeroDivisionError:\n",
    "        output = m1.copy()**index\n",
    "        index_in = np.where((m1>=mmin)*(m1<=mmax))[0]\n",
    "        index_out = np.where((m1<mmin)+(m1>mmax))[0]\n",
    "        normalization = np.log(mmax)-np.log(mmin)\n",
    "        output[index_out] = 1e-30\n",
    "        output[index_in] = m1[index_in]**index/normalization\n",
    "    return output\n",
    "\n",
    "m1_axis = np.linspace(0.01,100,10000)\n",
    "\n",
    "def M2_distribution(m2,m1,mmin):\n",
    "    return 3*m2**2/(m1**3-mmin**3)"
   ]
  },
  {
   "cell_type": "code",
   "execution_count": 45,
   "id": "bd837d44",
   "metadata": {},
   "outputs": [],
   "source": [
    "def likelihood(x,params):\n",
    "    p_m1 = truncated_powerlaw(x[:,0],params[0],params[1],params[2])\n",
    "    p_m2 = M2_distribution(x[:,1],x[:,0],mmin=0)\n",
    "    p_z = z_distribution(x[:,2])\n",
    "    return p_m1*p_m2*p_z\n",
    "\n",
    "\n",
    "def selection_bias(likelihood,params):\n",
    "    m1 = selection_data['m1']\n",
    "    m2 = selection_data['m2']\n",
    "    z = selection_data['z']\n",
    "    p_m1m2z = likelihood(np.array([m1,m2,z]).T,params)\n",
    "    likelihood_samples = p_m1m2z/selection_data['p_draw_m1m2z']\n",
    "    return np.sum(likelihood_samples/selection_data['nTrials'])\n",
    "\n",
    "\n",
    "events_posterior = []\n",
    "events_prior = []\n",
    "for event in catalog_data:\n",
    "    event_data = catalog_data[event]\n",
    "    if np.median(event_data['m2'])>3:\n",
    "        posterior = np.stack([event_data['m1'],event_data['m2'],event_data['z']],axis=1)\n",
    "        prior = event_data['z_prior']/1e9\n",
    "        events_posterior.append(posterior)\n",
    "        events_prior.append(prior)\n",
    "\n",
    "def log_population_likelihood(params):\n",
    "    selection_bias_ = selection_bias(likelihood,params)\n",
    "    log_likelihood = 0\n",
    "    for i in range(len(events_posterior)):\n",
    "        log_likelihood += np.log(np.mean(likelihood(events_posterior[i],params)/events_prior[i]/selection_bias_))\n",
    "    \n",
    "    return log_likelihood\n",
    "\n",
    "def posterior(params):\n",
    "    if ((params[0]>1) or (params[0]<0)):\n",
    "        return -np.inf\n",
    "    elif (params[1]>1) or (params[1]<0):\n",
    "        return -np.inf\n",
    "    elif (params[2]>1) or (params[2]<0):\n",
    "        return -np.inf\n",
    "    else:\n",
    "        params[0] = params[0]*5-10\n",
    "        params[1] = params[1]*4+3\n",
    "        params[2] = params[2]*40+60\n",
    "        output = log_population_likelihood(params)\n",
    "        if np.isnan(output):\n",
    "            return -np.inf\n",
    "        else:\n",
    "            return output\n",
    "\n",
    "ndim, nwalkers = 3, 10\n",
    "ivar = 1. / np.random.rand(ndim)\n",
    "p0 = np.random.uniform(size=(nwalkers, ndim))\n",
    "\n",
    "\n",
    "sampler = emcee.EnsembleSampler(nwalkers, ndim, posterior)\n",
    "result = sampler.run_mcmc(p0, 32768)"
   ]
  },
  {
   "cell_type": "code",
   "execution_count": 46,
   "id": "770102cd",
   "metadata": {},
   "outputs": [],
   "source": [
    "chain = sampler.chain"
   ]
  },
  {
   "cell_type": "code",
   "execution_count": 47,
   "id": "a5993b3c",
   "metadata": {},
   "outputs": [],
   "source": [
    "chain = chain[:, 1024:]"
   ]
  },
  {
   "cell_type": "code",
   "execution_count": 48,
   "id": "51b09ff2",
   "metadata": {},
   "outputs": [
    {
     "data": {
      "text/plain": [
       "(10, 31744, 3)"
      ]
     },
     "execution_count": 48,
     "metadata": {},
     "output_type": "execute_result"
    }
   ],
   "source": [
    "chain.shape"
   ]
  },
  {
   "cell_type": "code",
   "execution_count": 49,
   "id": "d2423ff8",
   "metadata": {},
   "outputs": [
    {
     "data": {
      "text/plain": [
       "-inf"
      ]
     },
     "execution_count": 49,
     "metadata": {},
     "output_type": "execute_result"
    }
   ],
   "source": [
    "posterior(chain[-1, -1])"
   ]
  },
  {
   "cell_type": "code",
   "execution_count": 33,
   "id": "f80b8efb",
   "metadata": {},
   "outputs": [],
   "source": [
    "chain = np.reshape(chain, (-1, 3))"
   ]
  },
  {
   "cell_type": "code",
   "execution_count": 34,
   "id": "843eabb4",
   "metadata": {},
   "outputs": [
    {
     "data": {
      "text/plain": [
       "(317440, 3)"
      ]
     },
     "execution_count": 34,
     "metadata": {},
     "output_type": "execute_result"
    }
   ],
   "source": [
    "chain.shape"
   ]
  },
  {
   "cell_type": "code",
   "execution_count": 36,
   "id": "e51b16b4",
   "metadata": {},
   "outputs": [],
   "source": [
    "posteriors = [posterior(sample) for sample in chain]\n",
    "\n",
    "posteriors = np.stack(posteriors)"
   ]
  },
  {
   "cell_type": "code",
   "execution_count": 40,
   "id": "8192bc63",
   "metadata": {},
   "outputs": [
    {
     "data": {
      "text/plain": [
       "0"
      ]
     },
     "execution_count": 40,
     "metadata": {},
     "output_type": "execute_result"
    }
   ],
   "source": [
    "posteriors.argmax()"
   ]
  },
  {
   "cell_type": "code",
   "execution_count": null,
   "id": "6b71a177",
   "metadata": {},
   "outputs": [],
   "source": [
    "posterior(chain)"
   ]
  }
 ],
 "metadata": {
  "kernelspec": {
   "display_name": "Python 3 (ipykernel)",
   "language": "python",
   "name": "python3"
  },
  "language_info": {
   "codemirror_mode": {
    "name": "ipython",
    "version": 3
   },
   "file_extension": ".py",
   "mimetype": "text/x-python",
   "name": "python",
   "nbconvert_exporter": "python",
   "pygments_lexer": "ipython3",
   "version": "3.9.13"
  }
 },
 "nbformat": 4,
 "nbformat_minor": 5
}
