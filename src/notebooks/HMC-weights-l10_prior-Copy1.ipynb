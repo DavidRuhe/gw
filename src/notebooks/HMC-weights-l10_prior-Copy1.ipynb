{
 "cells": [
  {
   "cell_type": "code",
   "execution_count": 1,
   "id": "9f613e05",
   "metadata": {},
   "outputs": [],
   "source": [
    "%load_ext autoreload\n",
    "%autoreload 2"
   ]
  },
  {
   "cell_type": "code",
   "execution_count": 2,
   "id": "faa32b5d",
   "metadata": {},
   "outputs": [],
   "source": [
    "import wandb\n",
    "import tempfile\n",
    "import os\n",
    "from models.normalizing_flow import HierarchicalNormalizingFlowSB\n",
    "import numpy as np\n",
    "import torch\n",
    "import matplotlib.pyplot as plt\n",
    "from torch import nn\n"
   ]
  },
  {
   "cell_type": "code",
   "execution_count": 3,
   "id": "c6fd31fd",
   "metadata": {},
   "outputs": [],
   "source": [
    "from train_flow_sb import unflatten, object_from_config"
   ]
  },
  {
   "cell_type": "code",
   "execution_count": 4,
   "id": "442ebcdb",
   "metadata": {},
   "outputs": [],
   "source": [
    "api = wandb.Api()"
   ]
  },
  {
   "cell_type": "code",
   "execution_count": 5,
   "id": "b5421c39",
   "metadata": {},
   "outputs": [],
   "source": [
    "# run = api.run('druhe/gw-src/ntnb1v04')\n",
    "run = api.run('druhe/gw-src/1l9zbsnf')\n",
    "\n"
   ]
  },
  {
   "cell_type": "code",
   "execution_count": 6,
   "id": "57cfc620",
   "metadata": {},
   "outputs": [],
   "source": [
    "config = unflatten(run.config)"
   ]
  },
  {
   "cell_type": "code",
   "execution_count": 7,
   "id": "dafb2f6b",
   "metadata": {
    "scrolled": true
   },
   "outputs": [
    {
     "data": {
      "text/plain": [
       "1"
      ]
     },
     "execution_count": 7,
     "metadata": {},
     "output_type": "execute_result"
    }
   ],
   "source": [
    "config['model']['sb_weight']\n",
    "config['model']['prior_weight']"
   ]
  },
  {
   "cell_type": "code",
   "execution_count": 8,
   "id": "b81b5eab",
   "metadata": {},
   "outputs": [],
   "source": [
    "dataset = object_from_config(config, key='dataset')\n",
    "dataset = dataset(**config['dataset'])"
   ]
  },
  {
   "cell_type": "code",
   "execution_count": 9,
   "id": "302b7395",
   "metadata": {},
   "outputs": [],
   "source": [
    "flows = object_from_config(config, key='flow')(**config['flow'])"
   ]
  },
  {
   "cell_type": "code",
   "execution_count": 10,
   "id": "9e84b135",
   "metadata": {},
   "outputs": [],
   "source": [
    "tempdir = tempfile.TemporaryDirectory()"
   ]
  },
  {
   "cell_type": "code",
   "execution_count": 11,
   "id": "292ddfda",
   "metadata": {},
   "outputs": [
    {
     "data": {
      "text/plain": [
       "<_io.TextIOWrapper name='/tmp/tmpcpw8rwzm/epoch_500_step_513525_val_loss=8.3308.pt' mode='r' encoding='UTF-8'>"
      ]
     },
     "execution_count": 11,
     "metadata": {},
     "output_type": "execute_result"
    }
   ],
   "source": [
    "checkpoints = [f for f in run.files() if f.name.endswith('.pt')]\n",
    "\n",
    "ckpt = checkpoints[-1]\n",
    "\n",
    "ckpt_path = ckpt.download(root=tempdir.name, replace=True)\n",
    "\n",
    "ckpt_path"
   ]
  },
  {
   "cell_type": "code",
   "execution_count": 12,
   "id": "5120b9de",
   "metadata": {},
   "outputs": [],
   "source": [
    "model = object_from_config(config, key='model')(flows=flows, dataset=dataset, prior_weight=1, sb_weight=0)"
   ]
  },
  {
   "cell_type": "code",
   "execution_count": 13,
   "id": "d0a1f6db",
   "metadata": {},
   "outputs": [
    {
     "data": {
      "text/plain": [
       "HierarchicalNormalizingFlowSB(\n",
       "  (trainable_flows): ModuleList(\n",
       "    (0): Planar()\n",
       "    (1): Planar()\n",
       "    (2): Planar()\n",
       "    (3): Planar()\n",
       "    (4): Planar()\n",
       "    (5): Planar()\n",
       "    (6): Planar()\n",
       "    (7): Planar()\n",
       "    (8): Planar()\n",
       "    (9): Planar()\n",
       "  )\n",
       ")"
      ]
     },
     "execution_count": 13,
     "metadata": {},
     "output_type": "execute_result"
    }
   ],
   "source": [
    "model.load_state_dict(torch.load(ckpt_path.name), strict=False)\n",
    "\n",
    "model.eval()"
   ]
  },
  {
   "cell_type": "code",
   "execution_count": 14,
   "id": "b5305323",
   "metadata": {},
   "outputs": [
    {
     "data": {
      "text/plain": [
       "HierarchicalNormalizingFlowSB(\n",
       "  (trainable_flows): ModuleList(\n",
       "    (0): Planar()\n",
       "    (1): Planar()\n",
       "    (2): Planar()\n",
       "    (3): Planar()\n",
       "    (4): Planar()\n",
       "    (5): Planar()\n",
       "    (6): Planar()\n",
       "    (7): Planar()\n",
       "    (8): Planar()\n",
       "    (9): Planar()\n",
       "  )\n",
       ")"
      ]
     },
     "execution_count": 14,
     "metadata": {},
     "output_type": "execute_result"
    }
   ],
   "source": [
    "model.to('cuda')"
   ]
  },
  {
   "cell_type": "code",
   "execution_count": 15,
   "id": "63b5c243",
   "metadata": {},
   "outputs": [],
   "source": [
    "import hamiltorch\n",
    "\n",
    "from torch.nn.utils import _stateless\n"
   ]
  },
  {
   "cell_type": "code",
   "execution_count": 16,
   "id": "6b1c7ad9",
   "metadata": {},
   "outputs": [],
   "source": [
    "def flatten_params(parameters):\n",
    "    \"\"\"\n",
    "    flattens all parameters into a single column vector. Returns the dictionary to recover them\n",
    "    :param: parameters: a generator or list of all the parameters\n",
    "    :return: a dictionary: {\"params\": [#params, 1],\n",
    "    \"indices\": [(start index, end index) for each param] **Note end index in uninclusive**\n",
    "\n",
    "    \"\"\"\n",
    "    l = [torch.flatten(p) for p in parameters]\n",
    "    indices = []\n",
    "    s = 0\n",
    "    for p in l:\n",
    "        size = p.shape[0]\n",
    "        indices.append((s, s+size))\n",
    "        s += size\n",
    "    flat = torch.cat(l).view(-1, 1)\n",
    "    return flat, indices\n",
    "\n",
    "\n",
    "def unflatten_params(flat_params, indices, model):\n",
    "    \"\"\"\n",
    "    Gives a list of recovered parameters from their flattened form\n",
    "    :param flat_params: [#params, 1]\n",
    "    :param indices: a list detaling the start and end index of each param [(start, end) for param]\n",
    "    :param model: the model that gives the params with correct shapes\n",
    "    :return: the params, reshaped to the ones in the model, with the same order as those in the model\n",
    "    \"\"\"\n",
    "    l = [flat_params[s:e] for (s, e) in indices]\n",
    "    for i, p in enumerate(model.parameters()):\n",
    "        l[i] = l[i].view(*p.shape)\n",
    "    return tuple(nn.Parameter(p) for p in l)\n"
   ]
  },
  {
   "cell_type": "code",
   "execution_count": 17,
   "id": "99a59acc",
   "metadata": {},
   "outputs": [],
   "source": [
    "params_flat, indices = flatten_params(model.parameters())\n",
    "names = list(n for n, _ in model.named_parameters())\n"
   ]
  },
  {
   "cell_type": "code",
   "execution_count": 18,
   "id": "edb96c13",
   "metadata": {},
   "outputs": [],
   "source": [
    "model = model.double()\n",
    "\n",
    "params_init = hamiltorch.util.flatten(model).clone().double()\n"
   ]
  },
  {
   "cell_type": "code",
   "execution_count": 19,
   "id": "50ff8a25",
   "metadata": {},
   "outputs": [],
   "source": [
    "events = np.load('../../datasets/sampleDict_FAR_1_in_1_yr.pickle', allow_pickle=True)\n",
    "sample_numbers = []\n",
    "for event in events:\n",
    "    sample_numbers.append(len(events[event]['m1']))"
   ]
  },
  {
   "cell_type": "code",
   "execution_count": 20,
   "id": "ff50c7b3",
   "metadata": {},
   "outputs": [
    {
     "data": {
      "text/plain": [
       "268806"
      ]
     },
     "execution_count": 20,
     "metadata": {},
     "output_type": "execute_result"
    }
   ],
   "source": [
    "max(sample_numbers)"
   ]
  },
  {
   "cell_type": "code",
   "execution_count": 21,
   "id": "3dcea4b0",
   "metadata": {},
   "outputs": [
    {
     "data": {
      "text/plain": [
       "3194"
      ]
     },
     "execution_count": 21,
     "metadata": {},
     "output_type": "execute_result"
    }
   ],
   "source": [
    "min(sample_numbers)"
   ]
  },
  {
   "cell_type": "code",
   "execution_count": 22,
   "id": "dd27d7b9",
   "metadata": {},
   "outputs": [],
   "source": [
    "loader = dataset.val_dataloader()"
   ]
  },
  {
   "cell_type": "code",
   "execution_count": 23,
   "id": "74b5ca5c",
   "metadata": {},
   "outputs": [],
   "source": [
    "iterable = iter(loader)"
   ]
  },
  {
   "cell_type": "code",
   "execution_count": 24,
   "id": "09107c75",
   "metadata": {},
   "outputs": [],
   "source": [
    "likelihoods = []\n",
    "priors = []\n",
    "total = []\n",
    "i = 0\n",
    "def log_prob(params, y=None):\n",
    "    global iterable\n",
    "    global likelihoods\n",
    "    global priors\n",
    "    global total\n",
    "    global i \n",
    "    try:\n",
    "        batch = next(iterable)\n",
    "    except StopIteration:\n",
    "        iterable = iter(loader)\n",
    "        batch = next(iterable)\n",
    "    \n",
    "    gw_batch = batch[0].double().to(model.device)\n",
    "    \n",
    "    params = params.to(model.device)\n",
    "    prior = torch.distributions.Normal(params_init.to(model.device), 0.01).log_prob(params)\n",
    "\n",
    "    params = unflatten_params(params, indices, model)\n",
    "    out: torch.Tensor = _stateless.functional_call(model, {n: p for n, p in zip(names, params)}, gw_batch)    \n",
    "    ll = prior.sum() + out.mean()\n",
    "    \n",
    "    if i % 20 == 0:\n",
    "        likelihoods.append(out.mean().item())\n",
    "        priors.append(prior.sum().item())\n",
    "        total.append(likelihoods[-1] + priors[-1])\n",
    "    i += 1\n",
    "    return ll\n",
    "\n",
    "\n"
   ]
  },
  {
   "cell_type": "code",
   "execution_count": 25,
   "id": "3c415211",
   "metadata": {
    "scrolled": true
   },
   "outputs": [],
   "source": [
    "\n",
    "# N = int(1e4)\n",
    "# burn = 512\n",
    "# N_nuts = N + burn\n",
    "# step_size = 2e-4\n",
    "# L = 20\n",
    "\n",
    "# samples = hamiltorch.sample(\n",
    "#     log_prob, \n",
    "#     params_init=params_init, \n",
    "#     num_samples=N_nuts, \n",
    "#     num_steps_per_sample=L, \n",
    "#     step_size=step_size, \n",
    "#     burn=burn, \n",
    "# #     desired_accept_rate=0.8,\n",
    "# #     sampler=hamiltorch.Sampler.HMC_NUTS,\n",
    "#     debug=False)"
   ]
  },
  {
   "cell_type": "code",
   "execution_count": 26,
   "id": "1328d7b2",
   "metadata": {},
   "outputs": [],
   "source": [
    "# samples = torch.stack(samples)\n",
    "\n"
   ]
  },
  {
   "cell_type": "code",
   "execution_count": 26,
   "id": "488c8396",
   "metadata": {},
   "outputs": [],
   "source": [
    "# torch.save(samples, 'mcmc_samples.pth')"
   ]
  },
  {
   "cell_type": "code",
   "execution_count": 27,
   "id": "d4362698",
   "metadata": {},
   "outputs": [],
   "source": [
    "samples = torch.load('mcmc_samples.pth')"
   ]
  },
  {
   "cell_type": "code",
   "execution_count": 29,
   "id": "1757bada",
   "metadata": {},
   "outputs": [],
   "source": [
    "axes_names = []\n",
    "axes = []\n",
    "\n",
    "for n, ax in dataset.grid.items():\n",
    "    axes_names.append(n)\n",
    "    axes.append(ax)\n",
    "\n",
    "d = dataset.dimensionality\n",
    "m1, m2, z, chi = np.stack(np.meshgrid(*axes, indexing=\"ij\")).reshape(d, -1)\n",
    "\n",
    "resolutions = [len(ax) for ax in axes]\n",
    "\n",
    "input = np.stack([m1, m2, z, chi], axis=-1)\n",
    "input = torch.from_numpy(input)"
   ]
  },
  {
   "cell_type": "code",
   "execution_count": 226,
   "id": "889a7104",
   "metadata": {},
   "outputs": [],
   "source": [
    "input = input.to(model.device)"
   ]
  },
  {
   "cell_type": "code",
   "execution_count": 227,
   "id": "3e6efe82",
   "metadata": {},
   "outputs": [],
   "source": [
    "def functional_call(model, flat_params):\n",
    "    \n",
    "    params = unflatten_params(flat_params, indices, model)\n",
    "\n",
    "    out: torch.Tensor = _stateless.functional_call(model, {n: p for n, p in zip(names, params)}, input)    \n",
    "    return out"
   ]
  },
  {
   "cell_type": "code",
   "execution_count": 228,
   "id": "1a21f1af",
   "metadata": {},
   "outputs": [],
   "source": [
    "with torch.no_grad():\n",
    "    logprob = functional_call(model, params_init.to(model.device))\n",
    "prob = logprob.exp().view(*resolutions)\n"
   ]
  },
  {
   "cell_type": "code",
   "execution_count": 229,
   "id": "a23582a9",
   "metadata": {},
   "outputs": [
    {
     "data": {
      "text/plain": [
       "tensor(0.6721, device='cuda:0', dtype=torch.float64)"
      ]
     },
     "execution_count": 229,
     "metadata": {},
     "output_type": "execute_result"
    }
   ],
   "source": [
    "prob.max()"
   ]
  },
  {
   "cell_type": "code",
   "execution_count": 33,
   "id": "4a37ebed",
   "metadata": {},
   "outputs": [
    {
     "data": {
      "text/plain": [
       "<matplotlib.legend.Legend at 0x7fb6c189a880>"
      ]
     },
     "execution_count": 33,
     "metadata": {},
     "output_type": "execute_result"
    },
    {
     "data": {
      "image/png": "[encoded data removed]",
      "text/plain": [
       "<Figure size 432x288 with 1 Axes>"
      ]
     },
     "metadata": {
      "needs_background": "light"
     },
     "output_type": "display_data"
    }
   ],
   "source": [
    "plt.plot(likelihoods, label='likelihood')\n",
    "plt.plot(priors, label='prior')\n",
    "plt.plot(total, label='sum')\n",
    "plt.legend()\n",
    "\n",
    "# plt.ylim(-20, -5)"
   ]
  },
  {
   "cell_type": "code",
   "execution_count": 34,
   "id": "7eec8167",
   "metadata": {},
   "outputs": [
    {
     "data": {
      "text/plain": [
       "[<matplotlib.lines.Line2D at 0x7fb6c18bd220>]"
      ]
     },
     "execution_count": 34,
     "metadata": {},
     "output_type": "execute_result"
    },
    {
     "data": {
      "image/png": "[encoded data removed]",
      "text/plain": [
       "<Figure size 432x288 with 1 Axes>"
      ]
     },
     "metadata": {
      "needs_background": "light"
     },
     "output_type": "display_data"
    }
   ],
   "source": [
    "plt.plot(likelihoods)"
   ]
  },
  {
   "cell_type": "code",
   "execution_count": 35,
   "id": "8b5ad434",
   "metadata": {},
   "outputs": [
    {
     "data": {
      "text/plain": [
       "[<matplotlib.lines.Line2D at 0x7fb894785880>]"
      ]
     },
     "execution_count": 35,
     "metadata": {},
     "output_type": "execute_result"
    },
    {
     "data": {
      "image/png": "[encoded data removed]",
      "text/plain": [
       "<Figure size 432x288 with 1 Axes>"
      ]
     },
     "metadata": {
      "needs_background": "light"
     },
     "output_type": "display_data"
    }
   ],
   "source": [
    "plt.plot(priors)\n"
   ]
  },
  {
   "cell_type": "code",
   "execution_count": 36,
   "id": "b4145a88",
   "metadata": {},
   "outputs": [],
   "source": [
    "pm1m2 = prob.sum((2, 3)).cpu()"
   ]
  },
  {
   "cell_type": "code",
   "execution_count": 37,
   "id": "27336dbc",
   "metadata": {},
   "outputs": [
    {
     "data": {
      "image/png": "[encoded data removed]",
      "text/plain": [
       "<Figure size 1152x1152 with 1 Axes>"
      ]
     },
     "metadata": {},
     "output_type": "display_data"
    }
   ],
   "source": [
    "fig = plt.figure(figsize=(16, 16), facecolor=\"white\")\n",
    "plt.imshow(\n",
    "    pm1m2,\n",
    "    cmap=\"jet\",\n",
    "    origin=\"lower\",\n",
    "    extent=(\n",
    "        axes[1][0],\n",
    "        axes[1][-1],\n",
    "        axes[0][0],\n",
    "        axes[0][-1],\n",
    "    ),  # origin='lower' changes the order\n",
    "    aspect=\"auto\",\n",
    ")\n",
    "\n",
    "plt.xlabel(axes_names[1])  # origin='lower' changes the order\n",
    "plt.ylabel(axes_names[0])\n",
    "plt.tight_layout()"
   ]
  },
  {
   "cell_type": "code",
   "execution_count": 38,
   "id": "2d2f5f67",
   "metadata": {},
   "outputs": [],
   "source": [
    "pm1= prob.sum((1, 2, 3)).cpu()"
   ]
  },
  {
   "cell_type": "code",
   "execution_count": 39,
   "id": "ce8d9d81",
   "metadata": {},
   "outputs": [
    {
     "data": {
      "text/plain": [
       "[<matplotlib.lines.Line2D at 0x7fb6b8508f40>]"
      ]
     },
     "execution_count": 39,
     "metadata": {},
     "output_type": "execute_result"
    },
    {
     "data": {
      "image/png": "[encoded data removed]",
      "text/plain": [
       "<Figure size 432x288 with 1 Axes>"
      ]
     },
     "metadata": {
      "needs_background": "light"
     },
     "output_type": "display_data"
    }
   ],
   "source": [
    "plt.plot(axes[0], pm1)\n",
    "# plt.yscale('log')"
   ]
  },
  {
   "cell_type": "code",
   "execution_count": 40,
   "id": "2512624a",
   "metadata": {},
   "outputs": [],
   "source": [
    "from scipy.interpolate import interp1d"
   ]
  },
  {
   "cell_type": "code",
   "execution_count": 41,
   "id": "24541e37",
   "metadata": {},
   "outputs": [],
   "source": [
    "i = interp1d(axes[0], pm1, kind='cubic')"
   ]
  },
  {
   "cell_type": "code",
   "execution_count": 42,
   "id": "2d447a45",
   "metadata": {},
   "outputs": [
    {
     "data": {
      "text/plain": [
       "array([  0.2       ,   3.41935484,   6.63870968,   9.85806452,\n",
       "        13.07741935,  16.29677419,  19.51612903,  22.73548387,\n",
       "        25.95483871,  29.17419355,  32.39354839,  35.61290323,\n",
       "        38.83225806,  42.0516129 ,  45.27096774,  48.49032258,\n",
       "        51.70967742,  54.92903226,  58.1483871 ,  61.36774194,\n",
       "        64.58709677,  67.80645161,  71.02580645,  74.24516129,\n",
       "        77.46451613,  80.68387097,  83.90322581,  87.12258065,\n",
       "        90.34193548,  93.56129032,  96.78064516, 100.        ])"
      ]
     },
     "execution_count": 42,
     "metadata": {},
     "output_type": "execute_result"
    }
   ],
   "source": [
    "axes[0]"
   ]
  },
  {
   "cell_type": "code",
   "execution_count": 43,
   "id": "48972ef6",
   "metadata": {},
   "outputs": [
    {
     "data": {
      "image/png": "[encoded data removed]",
      "text/plain": [
       "<Figure size 432x288 with 1 Axes>"
      ]
     },
     "metadata": {
      "needs_background": "light"
     },
     "output_type": "display_data"
    }
   ],
   "source": [
    "plt.plot(i(np.linspace(0.2, 100, 32768)))\n",
    "plt.yscale('log')"
   ]
  },
  {
   "cell_type": "code",
   "execution_count": 44,
   "id": "16d6515c",
   "metadata": {},
   "outputs": [],
   "source": [
    "import tqdm"
   ]
  },
  {
   "cell_type": "code",
   "execution_count": 45,
   "id": "1bf61fbd",
   "metadata": {},
   "outputs": [],
   "source": [
    "samples = samples.cuda()"
   ]
  },
  {
   "cell_type": "code",
   "execution_count": 46,
   "id": "162546c6",
   "metadata": {},
   "outputs": [],
   "source": [
    "model = model.cuda()"
   ]
  },
  {
   "cell_type": "code",
   "execution_count": 47,
   "id": "ed2de2db",
   "metadata": {},
   "outputs": [],
   "source": [
    "input = input.cuda()"
   ]
  },
  {
   "cell_type": "code",
   "execution_count": 48,
   "id": "0ce026ea",
   "metadata": {},
   "outputs": [],
   "source": [
    "from numpy.lib.format import open_memmap"
   ]
  },
  {
   "cell_type": "code",
   "execution_count": 49,
   "id": "3158a869",
   "metadata": {},
   "outputs": [
    {
     "data": {
      "text/plain": [
       "torch.Size([32, 32, 32, 32])"
      ]
     },
     "execution_count": 49,
     "metadata": {},
     "output_type": "execute_result"
    }
   ],
   "source": [
    "prob.shape"
   ]
  },
  {
   "cell_type": "code",
   "execution_count": 50,
   "id": "52cc8390",
   "metadata": {},
   "outputs": [],
   "source": [
    "shape = [len(samples)] + list(prob.shape)"
   ]
  },
  {
   "cell_type": "code",
   "execution_count": 87,
   "id": "1d3aac0b",
   "metadata": {},
   "outputs": [],
   "source": [
    "probs = open_memmap('probs.npy', mode='r', shape=tuple(shape), dtype=np.float32)"
   ]
  },
  {
   "cell_type": "code",
   "execution_count": 52,
   "id": "2f04ab5a",
   "metadata": {
    "scrolled": true
   },
   "outputs": [
    {
     "name": "stderr",
     "output_type": "stream",
     "text": [
      "100%|█████████████████████████████████████| 10000/10000 [09:06<00:00, 18.29it/s]\n"
     ]
    }
   ],
   "source": [
    "# for i, sample in enumerate(tqdm.tqdm(samples)):\n",
    "#     with torch.no_grad():\n",
    "#         logprob = functional_call(model, sample)\n",
    "#     prob = logprob.exp().view(*resolutions).cpu().numpy()\n",
    "#     probs[i] = prob"
   ]
  },
  {
   "cell_type": "code",
   "execution_count": 88,
   "id": "1db7359d",
   "metadata": {},
   "outputs": [
    {
     "name": "stderr",
     "output_type": "stream",
     "text": [
      "/tmp/ipykernel_1352476/2126704153.py:1: UserWarning: The given NumPy array is not writable, and PyTorch does not support non-writable tensors. This means writing to this tensor will result in undefined behavior. You may want to copy the array to protect its data or make it writable before converting it to a tensor. This type of warning will be suppressed for the rest of this program. (Triggered internally at  ../torch/csrc/utils/tensor_numpy.cpp:178.)\n",
      "  probs = torch.from_numpy(probs)\n"
     ]
    }
   ],
   "source": [
    "probs = torch.from_numpy(probs)"
   ]
  },
  {
   "cell_type": "code",
   "execution_count": 89,
   "id": "1ccf4190",
   "metadata": {},
   "outputs": [],
   "source": [
    "m1 = probs.sum((2, 3, 4)).cpu().numpy()"
   ]
  },
  {
   "cell_type": "code",
   "execution_count": 90,
   "id": "a11c3f88",
   "metadata": {},
   "outputs": [],
   "source": [
    "m1_med = np.median(m1, axis=0)"
   ]
  },
  {
   "cell_type": "code",
   "execution_count": 91,
   "id": "222bcec7",
   "metadata": {},
   "outputs": [],
   "source": [
    "m1_005 = np.percentile(m1, 5, axis=0)\n",
    "m1_095 = np.percentile(m1, 95, axis=0)"
   ]
  },
  {
   "cell_type": "code",
   "execution_count": 92,
   "id": "f811b161",
   "metadata": {
    "scrolled": true
   },
   "outputs": [
    {
     "data": {
      "text/plain": [
       "(1e-05, 3)"
      ]
     },
     "execution_count": 92,
     "metadata": {},
     "output_type": "execute_result"
    },
    {
     "data": {
      "image/png": "[encoded data removed]",
      "text/plain": [
       "<Figure size 432x288 with 1 Axes>"
      ]
     },
     "metadata": {
      "needs_background": "light"
     },
     "output_type": "display_data"
    }
   ],
   "source": [
    "plt.plot(axes[0], m1_med)\n",
    "plt.fill_between(axes[0], m1_005, m1_095, alpha=0.1)\n",
    "plt.yscale('log')\n",
    "plt.ylim((1e-5, 3))"
   ]
  },
  {
   "cell_type": "code",
   "execution_count": 94,
   "id": "bc608977",
   "metadata": {},
   "outputs": [],
   "source": [
    "# plt.plot(axes[0], pm1)\n",
    "# plt.fill_between(axes[0], m1_005, m1_095, alpha=0.1)\n",
    "# plt.yscale('log')\n",
    "# plt.ylim((1e-5, 3))"
   ]
  },
  {
   "cell_type": "code",
   "execution_count": 203,
   "id": "c473b69d",
   "metadata": {},
   "outputs": [],
   "source": [
    "import numpy as np"
   ]
  },
  {
   "cell_type": "code",
   "execution_count": 210,
   "id": "aa3dfdf2",
   "metadata": {},
   "outputs": [],
   "source": [
    "m1_ = m1.copy()\n",
    "m1_[:, 0] *= 1e-4"
   ]
  },
  {
   "cell_type": "code",
   "execution_count": 211,
   "id": "d0eaa82e",
   "metadata": {},
   "outputs": [],
   "source": [
    "m1__med = np.median(m1_, axis=0)\n",
    "m1__005 = np.percentile(m1_, 5, axis=0)\n",
    "m1__095 = np.percentile(m1_, 95, axis=0)\n"
   ]
  },
  {
   "cell_type": "code",
   "execution_count": 212,
   "id": "d6d0f024",
   "metadata": {},
   "outputs": [],
   "source": [
    "axis_upsampled = np.linspace(0.2, 100, 16384)\n",
    "\n",
    "i = interp1d(axes[0], m1__med, kind='quadratic')\n",
    "m1__med = i(axis_upsampled)\n",
    "\n",
    "\n",
    "i = interp1d(axes[0], m1__005, kind='quadratic')\n",
    "m1__005 = i(axis_upsampled)\n",
    "\n",
    "i = interp1d(axes[0], m1__095, kind='quadratic')\n",
    "m1__095 = i(axis_upsampled)\n"
   ]
  },
  {
   "cell_type": "code",
   "execution_count": 213,
   "id": "144eff45",
   "metadata": {},
   "outputs": [],
   "source": [
    "norm = m1__med.sum()"
   ]
  },
  {
   "cell_type": "code",
   "execution_count": 214,
   "id": "282ce721",
   "metadata": {},
   "outputs": [],
   "source": [
    "# m1__med = m1__med / norm\n",
    "# m1__005 = m1__005 / norm\n",
    "# m1__095 = m1__095 / norm"
   ]
  },
  {
   "cell_type": "code",
   "execution_count": 223,
   "id": "90443224",
   "metadata": {},
   "outputs": [
    {
     "data": {
      "image/png": "[encoded data removed]",
      "text/plain": [
       "<Figure size 1152x432 with 1 Axes>"
      ]
     },
     "metadata": {},
     "output_type": "display_data"
    }
   ],
   "source": [
    "\n",
    "plt.figure(figsize=(16, 6), facecolor='white')\n",
    "plt.plot(axis_upsampled, m1__med, c='black')\n",
    "plt.fill_between(axis_upsampled, m1__005, m1__095, alpha=0.1, color='black')\n",
    "plt.yscale('log')\n",
    "plt.ylabel(r'$p(m_1)$', fontsize=22)\n",
    "plt.xlabel(r'$m_1 \\, [M_{\\odot}]$', fontsize=22)\n",
    "plt.ylim((1e-3, 10))\n",
    "plt.tight_layout()\n",
    "plt.yticks(fontsize=16)\n",
    "plt.xticks(fontsize=16)\n",
    "plt.savefig('pm1.pdf', bbox_inches='tight')"
   ]
  },
  {
   "cell_type": "code",
   "execution_count": null,
   "id": "76eca1d0",
   "metadata": {},
   "outputs": [],
   "source": []
  },
  {
   "cell_type": "code",
   "execution_count": null,
   "id": "6d9d86cc",
   "metadata": {},
   "outputs": [],
   "source": []
  }
 ],
 "metadata": {
  "kernelspec": {
   "display_name": "Python 3 (ipykernel)",
   "language": "python",
   "name": "python3"
  },
  "language_info": {
   "codemirror_mode": {
    "name": "ipython",
    "version": 3
   },
   "file_extension": ".py",
   "mimetype": "text/x-python",
   "name": "python",
   "nbconvert_exporter": "python",
   "pygments_lexer": "ipython3",
   "version": "3.9.13"
  }
 },
 "nbformat": 4,
 "nbformat_minor": 5
}
