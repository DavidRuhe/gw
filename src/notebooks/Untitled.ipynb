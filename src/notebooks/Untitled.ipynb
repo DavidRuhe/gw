{
 "cells": [
  {
   "cell_type": "code",
   "execution_count": 10,
   "id": "44d3d36f",
   "metadata": {},
   "outputs": [],
   "source": [
    "import torch\n",
    "from torch.utils.data import Dataset, TensorDataset\n",
    "import numpy as np"
   ]
  },
  {
   "cell_type": "code",
   "execution_count": 11,
   "id": "c910c0f9",
   "metadata": {},
   "outputs": [],
   "source": [
    "m1m2_2 = torch.from_numpy(np.random.randn(2378, 2))\n",
    "m1m2_1 = torch.from_numpy(np.random.randn(3472, 2))"
   ]
  },
  {
   "cell_type": "code",
   "execution_count": 12,
   "id": "fb087666",
   "metadata": {},
   "outputs": [],
   "source": [
    "ds_1 = TensorDataset(m1m2_1)"
   ]
  },
  {
   "cell_type": "code",
   "execution_count": 13,
   "id": "3634e377",
   "metadata": {},
   "outputs": [],
   "source": [
    "ds_2 = TensorDataset(m1m2_2)"
   ]
  },
  {
   "cell_type": "code",
   "execution_count": 94,
   "id": "97e40e21",
   "metadata": {},
   "outputs": [],
   "source": [
    "class ConcatDataset(Dataset):\n",
    "    def __init__(self, *datasets):\n",
    "        self.datasets = datasets\n",
    "        self.len = max(len(d) for d in self.datasets)\n",
    "        super().__init__()\n",
    "        \n",
    "    def __getitem__(self, index):\n",
    "        assert index < self.len\n",
    "        return torch.cat([torch.stack(d[index % len(d)]) for d in self.datasets])\n",
    "    \n",
    "    def __len__(self):\n",
    "        return self.len"
   ]
  },
  {
   "cell_type": "code",
   "execution_count": 95,
   "id": "b97a7034",
   "metadata": {},
   "outputs": [],
   "source": [
    "d = ConcatDataset(ds_1, ds_2)"
   ]
  },
  {
   "cell_type": "code",
   "execution_count": 96,
   "id": "4fa31b5b",
   "metadata": {},
   "outputs": [
    {
     "data": {
      "text/plain": [
       "tensor([[2.5195, 0.3756],\n",
       "        [0.4008, 1.8526]], dtype=torch.float64)"
      ]
     },
     "execution_count": 96,
     "metadata": {},
     "output_type": "execute_result"
    }
   ],
   "source": [
    "d[0]"
   ]
  },
  {
   "cell_type": "code",
   "execution_count": 97,
   "id": "cca50b09",
   "metadata": {},
   "outputs": [],
   "source": [
    "length = 32"
   ]
  },
  {
   "cell_type": "code",
   "execution_count": 98,
   "id": "17eddd5b",
   "metadata": {},
   "outputs": [
    {
     "data": {
      "text/plain": [
       "16"
      ]
     },
     "execution_count": 98,
     "metadata": {},
     "output_type": "execute_result"
    }
   ],
   "source": [
    "index % length\n"
   ]
  },
  {
   "cell_type": "code",
   "execution_count": 99,
   "id": "e1096fc3",
   "metadata": {},
   "outputs": [],
   "source": [
    "index = 16 "
   ]
  },
  {
   "cell_type": "code",
   "execution_count": 100,
   "id": "a8117d55",
   "metadata": {},
   "outputs": [],
   "source": [
    "events = np.load('../datasets/sampleDict_FAR_1_in_1_yr.pickle', allow_pickle=True)"
   ]
  },
  {
   "cell_type": "code",
   "execution_count": 101,
   "id": "7a344e6d",
   "metadata": {},
   "outputs": [],
   "source": [
    "datasets = []\n",
    "for n, event in events.items():\n",
    "    m1 = torch.from_numpy(event['m1'])\n",
    "    m2 = torch.from_numpy(event['m2'])\n",
    "    z_prior = torch.from_numpy(event['z_prior'])\n",
    "    x = torch.stack([m1, m2, z_prior], dim=-1)\n",
    "    datasets.append(TensorDataset(x))"
   ]
  },
  {
   "cell_type": "code",
   "execution_count": 102,
   "id": "e289add6",
   "metadata": {
    "scrolled": false
   },
   "outputs": [
    {
     "data": {
      "text/plain": [
       "3194"
      ]
     },
     "execution_count": 102,
     "metadata": {},
     "output_type": "execute_result"
    }
   ],
   "source": [
    "min(len(d) for d in datasets)"
   ]
  },
  {
   "cell_type": "code",
   "execution_count": 103,
   "id": "c3de5051",
   "metadata": {},
   "outputs": [
    {
     "data": {
      "text/plain": [
       "268806"
      ]
     },
     "execution_count": 103,
     "metadata": {},
     "output_type": "execute_result"
    }
   ],
   "source": [
    "max(len(d) for d in datasets)"
   ]
  },
  {
   "cell_type": "code",
   "execution_count": 104,
   "id": "ba696b86",
   "metadata": {},
   "outputs": [],
   "source": [
    "dataset = ConcatDataset(*datasets)"
   ]
  },
  {
   "cell_type": "code",
   "execution_count": 105,
   "id": "1cdc5e0a",
   "metadata": {},
   "outputs": [
    {
     "data": {
      "text/plain": [
       "268806"
      ]
     },
     "execution_count": 105,
     "metadata": {},
     "output_type": "execute_result"
    }
   ],
   "source": [
    "len(dataset)"
   ]
  },
  {
   "cell_type": "code",
   "execution_count": 107,
   "id": "584517bf",
   "metadata": {},
   "outputs": [
    {
     "data": {
      "text/plain": [
       "torch.Size([76, 3])"
      ]
     },
     "execution_count": 107,
     "metadata": {},
     "output_type": "execute_result"
    }
   ],
   "source": [
    "dataset[268805].shape"
   ]
  },
  {
   "cell_type": "code",
   "execution_count": 118,
   "id": "eb132597",
   "metadata": {},
   "outputs": [],
   "source": [
    "data = torch.stack([dataset[i] for i in range(2048)])"
   ]
  },
  {
   "cell_type": "code",
   "execution_count": 119,
   "id": "329171f6",
   "metadata": {},
   "outputs": [],
   "source": [
    "import seaborn as sns"
   ]
  },
  {
   "cell_type": "code",
   "execution_count": 121,
   "id": "78492cba",
   "metadata": {},
   "outputs": [
    {
     "data": {
      "text/plain": [
       "<AxesSubplot:ylabel='Density'>"
      ]
     },
     "execution_count": 121,
     "metadata": {},
     "output_type": "execute_result"
    },
    {
     "data": {
      "image/png": "[encoded data removed]",
      "text/plain": [
       "<Figure size 432x288 with 1 Axes>"
      ]
     },
     "metadata": {
      "needs_background": "light"
     },
     "output_type": "display_data"
    }
   ],
   "source": [
    "sns.kdeplot(data.mean(0)[:, 0])"
   ]
  },
  {
   "cell_type": "code",
   "execution_count": null,
   "id": "fe8fbe1f",
   "metadata": {},
   "outputs": [],
   "source": []
  }
 ],
 "metadata": {
  "kernelspec": {
   "display_name": "Python 3 (ipykernel)",
   "language": "python",
   "name": "python3"
  },
  "language_info": {
   "codemirror_mode": {
    "name": "ipython",
    "version": 3
   },
   "file_extension": ".py",
   "mimetype": "text/x-python",
   "name": "python",
   "nbconvert_exporter": "python",
   "pygments_lexer": "ipython3",
   "version": "3.9.13"
  }
 },
 "nbformat": 4,
 "nbformat_minor": 5
}
