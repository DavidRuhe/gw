{
 "cells": [
  {
   "cell_type": "code",
   "execution_count": 54,
   "id": "0c2675c6",
   "metadata": {},
   "outputs": [],
   "source": [
    "import torch\n",
    "import matplotlib.pyplot as plt"
   ]
  },
  {
   "cell_type": "markdown",
   "id": "b9eb7be9",
   "metadata": {},
   "source": [
    "# Inner Product"
   ]
  },
  {
   "cell_type": "code",
   "execution_count": 2,
   "id": "44a9cc31",
   "metadata": {},
   "outputs": [],
   "source": [
    "x = torch.randn(2)"
   ]
  },
  {
   "cell_type": "code",
   "execution_count": 3,
   "id": "b7966efa",
   "metadata": {},
   "outputs": [
    {
     "data": {
      "text/plain": [
       "tensor(0.1985)"
      ]
     },
     "execution_count": 3,
     "metadata": {},
     "output_type": "execute_result"
    }
   ],
   "source": [
    "torch.inner(x, x)"
   ]
  },
  {
   "cell_type": "markdown",
   "id": "009d62d0",
   "metadata": {},
   "source": [
    "Read: multiply-sum over the $i$ index of the first and second vector."
   ]
  },
  {
   "cell_type": "code",
   "execution_count": 4,
   "id": "1e8944ab",
   "metadata": {
    "scrolled": true
   },
   "outputs": [
    {
     "data": {
      "text/plain": [
       "tensor(0.1985)"
      ]
     },
     "execution_count": 4,
     "metadata": {},
     "output_type": "execute_result"
    }
   ],
   "source": [
    "torch.einsum('i, i', x, x)"
   ]
  },
  {
   "cell_type": "markdown",
   "id": "25f05100",
   "metadata": {},
   "source": [
    "# Batch Inner Product"
   ]
  },
  {
   "cell_type": "code",
   "execution_count": 5,
   "id": "a1285651",
   "metadata": {},
   "outputs": [
    {
     "data": {
      "text/plain": [
       "tensor([0.4572, 3.5712])"
      ]
     },
     "execution_count": 5,
     "metadata": {},
     "output_type": "execute_result"
    }
   ],
   "source": [
    "x = torch.randn(2, 2)\n",
    "\n",
    "res = []\n",
    "for i in range(len(x)):\n",
    "    res.append(torch.inner(x[i], x[i]))\n",
    "torch.stack(res)"
   ]
  },
  {
   "cell_type": "code",
   "execution_count": 6,
   "id": "7f22f0c9",
   "metadata": {},
   "outputs": [
    {
     "data": {
      "text/plain": [
       "tensor([0.4572, 3.5712])"
      ]
     },
     "execution_count": 6,
     "metadata": {},
     "output_type": "execute_result"
    }
   ],
   "source": [
    "torch.einsum('bi, bi -> b', x, x)"
   ]
  },
  {
   "cell_type": "markdown",
   "id": "df05ac00",
   "metadata": {},
   "source": [
    "Read: keep the batch dimension, multiply-sum over the $i$ dimension in both."
   ]
  },
  {
   "cell_type": "markdown",
   "id": "581d9d2e",
   "metadata": {},
   "source": [
    "# Outer Product"
   ]
  },
  {
   "cell_type": "code",
   "execution_count": 7,
   "id": "3e4f33e0",
   "metadata": {},
   "outputs": [],
   "source": [
    "x = torch.randn(2)"
   ]
  },
  {
   "cell_type": "code",
   "execution_count": 8,
   "id": "bfcc4cb1",
   "metadata": {},
   "outputs": [
    {
     "data": {
      "text/plain": [
       "tensor([[0.0998, 0.0699],\n",
       "        [0.0699, 0.0489]])"
      ]
     },
     "execution_count": 8,
     "metadata": {},
     "output_type": "execute_result"
    }
   ],
   "source": [
    "torch.outer(x, x)"
   ]
  },
  {
   "cell_type": "code",
   "execution_count": 9,
   "id": "30c0272a",
   "metadata": {},
   "outputs": [
    {
     "data": {
      "text/plain": [
       "tensor([[0.0998, 0.0699],\n",
       "        [0.0699, 0.0489]])"
      ]
     },
     "execution_count": 9,
     "metadata": {},
     "output_type": "execute_result"
    }
   ],
   "source": [
    "torch.einsum('i, j -> ij', x, x)"
   ]
  },
  {
   "cell_type": "markdown",
   "id": "83d20914",
   "metadata": {},
   "source": [
    "Read: go over the $i$ dimension in the first, go over the $j$ dimension in the second (same) and multiply sum them both (for each $i$ and $j$)."
   ]
  },
  {
   "cell_type": "markdown",
   "id": "247eb621",
   "metadata": {},
   "source": [
    "# Batch Outer Product"
   ]
  },
  {
   "cell_type": "code",
   "execution_count": 10,
   "id": "c2b77ee1",
   "metadata": {},
   "outputs": [
    {
     "data": {
      "text/plain": [
       "tensor([[[ 0.4404, -0.1832],\n",
       "         [-0.1832,  0.0762]],\n",
       "\n",
       "        [[ 0.0939,  0.1658],\n",
       "         [ 0.1658,  0.2931]]])"
      ]
     },
     "execution_count": 10,
     "metadata": {},
     "output_type": "execute_result"
    }
   ],
   "source": [
    "x = torch.randn(2, 2)\n",
    "\n",
    "res = []\n",
    "for i in range(len(x)):\n",
    "    res.append(torch.outer(x[i], x[i]))\n",
    "torch.stack(res)"
   ]
  },
  {
   "cell_type": "code",
   "execution_count": 11,
   "id": "4282df52",
   "metadata": {},
   "outputs": [
    {
     "data": {
      "text/plain": [
       "tensor([[[ 0.4404, -0.1832],\n",
       "         [-0.1832,  0.0762]],\n",
       "\n",
       "        [[ 0.0939,  0.1658],\n",
       "         [ 0.1658,  0.2931]]])"
      ]
     },
     "execution_count": 11,
     "metadata": {},
     "output_type": "execute_result"
    }
   ],
   "source": [
    "torch.einsum('bi, bj -> bij', x, x)"
   ]
  },
  {
   "cell_type": "markdown",
   "id": "6c90f7c2",
   "metadata": {},
   "source": [
    "# Matrix Multiplication"
   ]
  },
  {
   "cell_type": "code",
   "execution_count": 12,
   "id": "1c318628",
   "metadata": {},
   "outputs": [],
   "source": [
    "x = torch.randn(2, 2)"
   ]
  },
  {
   "cell_type": "code",
   "execution_count": 13,
   "id": "345cb780",
   "metadata": {},
   "outputs": [
    {
     "data": {
      "text/plain": [
       "tensor([[ 0.0209, -0.0326],\n",
       "        [ 0.3890,  0.3148]])"
      ]
     },
     "execution_count": 13,
     "metadata": {},
     "output_type": "execute_result"
    }
   ],
   "source": [
    "torch.matmul(x, x)"
   ]
  },
  {
   "cell_type": "code",
   "execution_count": 14,
   "id": "68daa8f9",
   "metadata": {},
   "outputs": [
    {
     "data": {
      "text/plain": [
       "tensor([[ 0.0209, -0.0326],\n",
       "        [ 0.3890,  0.3148]])"
      ]
     },
     "execution_count": 14,
     "metadata": {},
     "output_type": "execute_result"
    }
   ],
   "source": [
    "torch.einsum('ij, jk -> ik', x, x)"
   ]
  },
  {
   "cell_type": "markdown",
   "id": "24b0d741",
   "metadata": {},
   "source": [
    "# Batch Matrix Multiplication"
   ]
  },
  {
   "cell_type": "code",
   "execution_count": 15,
   "id": "039bd6b7",
   "metadata": {},
   "outputs": [],
   "source": [
    "x = torch.randn(3, 2, 2)"
   ]
  },
  {
   "cell_type": "code",
   "execution_count": 16,
   "id": "1f408c19",
   "metadata": {},
   "outputs": [
    {
     "data": {
      "text/plain": [
       "tensor([[[ 3.4295,  0.1025],\n",
       "         [ 0.2982,  2.9269]],\n",
       "\n",
       "        [[ 1.8096, -1.2166],\n",
       "         [-0.7201,  0.6364]],\n",
       "\n",
       "        [[ 0.1067,  0.3200],\n",
       "         [ 0.0209,  0.1166]]])"
      ]
     },
     "execution_count": 16,
     "metadata": {},
     "output_type": "execute_result"
    }
   ],
   "source": [
    "res = []\n",
    "for i in range(len(x)):\n",
    "    res.append(torch.matmul(x[i], x[i]))\n",
    "torch.stack(res)"
   ]
  },
  {
   "cell_type": "code",
   "execution_count": 17,
   "id": "c39de1e2",
   "metadata": {},
   "outputs": [
    {
     "data": {
      "text/plain": [
       "tensor([[[ 3.4295,  0.1025],\n",
       "         [ 0.2982,  2.9269]],\n",
       "\n",
       "        [[ 1.8096, -1.2166],\n",
       "         [-0.7201,  0.6364]],\n",
       "\n",
       "        [[ 0.1067,  0.3200],\n",
       "         [ 0.0209,  0.1166]]])"
      ]
     },
     "execution_count": 17,
     "metadata": {},
     "output_type": "execute_result"
    }
   ],
   "source": [
    "torch.einsum('bij, bjk -> bik', x, x)"
   ]
  },
  {
   "cell_type": "markdown",
   "id": "b8ab797d",
   "metadata": {},
   "source": [
    "# Transpose"
   ]
  },
  {
   "cell_type": "code",
   "execution_count": 18,
   "id": "125b60e6",
   "metadata": {},
   "outputs": [],
   "source": [
    "x = torch.randn(2, 2)"
   ]
  },
  {
   "cell_type": "code",
   "execution_count": 19,
   "id": "0af2b427",
   "metadata": {},
   "outputs": [
    {
     "data": {
      "text/plain": [
       "tensor([[ 0.6683, -0.9210],\n",
       "        [-2.5787,  0.4541]])"
      ]
     },
     "execution_count": 19,
     "metadata": {},
     "output_type": "execute_result"
    }
   ],
   "source": [
    "x.T"
   ]
  },
  {
   "cell_type": "code",
   "execution_count": 20,
   "id": "c7b9dab7",
   "metadata": {},
   "outputs": [
    {
     "data": {
      "text/plain": [
       "tensor([[ 0.6683, -0.9210],\n",
       "        [-2.5787,  0.4541]])"
      ]
     },
     "execution_count": 20,
     "metadata": {},
     "output_type": "execute_result"
    }
   ],
   "source": [
    "torch.einsum('ij -> ji', x)"
   ]
  },
  {
   "cell_type": "markdown",
   "id": "126d6aca",
   "metadata": {},
   "source": [
    "# Batch Transpose"
   ]
  },
  {
   "cell_type": "code",
   "execution_count": 21,
   "id": "6d718616",
   "metadata": {},
   "outputs": [],
   "source": [
    "x = torch.randn(3, 2, 2)"
   ]
  },
  {
   "cell_type": "code",
   "execution_count": 22,
   "id": "5915c960",
   "metadata": {},
   "outputs": [
    {
     "data": {
      "text/plain": [
       "tensor([[[ 1.1203, -0.1880],\n",
       "         [-0.1369, -1.5195]],\n",
       "\n",
       "        [[ 0.8562, -0.3889],\n",
       "         [ 0.4840,  0.6303]],\n",
       "\n",
       "        [[ 0.3615, -0.2740],\n",
       "         [ 0.1358, -0.1682]]])"
      ]
     },
     "execution_count": 22,
     "metadata": {},
     "output_type": "execute_result"
    }
   ],
   "source": [
    "x.permute(0, -1, -2)"
   ]
  },
  {
   "cell_type": "code",
   "execution_count": 23,
   "id": "5c14cca8",
   "metadata": {},
   "outputs": [
    {
     "data": {
      "text/plain": [
       "tensor([[[ 1.1203, -0.1880],\n",
       "         [-0.1369, -1.5195]],\n",
       "\n",
       "        [[ 0.8562, -0.3889],\n",
       "         [ 0.4840,  0.6303]],\n",
       "\n",
       "        [[ 0.3615, -0.2740],\n",
       "         [ 0.1358, -0.1682]]])"
      ]
     },
     "execution_count": 23,
     "metadata": {},
     "output_type": "execute_result"
    }
   ],
   "source": [
    "torch.einsum('bij -> bji', x)"
   ]
  },
  {
   "cell_type": "markdown",
   "id": "ad31f2db",
   "metadata": {},
   "source": [
    "# Tensor Product"
   ]
  },
  {
   "cell_type": "code",
   "execution_count": 24,
   "id": "717713c8",
   "metadata": {},
   "outputs": [],
   "source": [
    "x = torch.randn(2, 2, 2)"
   ]
  },
  {
   "cell_type": "code",
   "execution_count": 25,
   "id": "e7030866",
   "metadata": {},
   "outputs": [
    {
     "data": {
      "text/plain": [
       "tensor([[ 0.0733,  0.3096],\n",
       "        [-0.2833,  2.9506]])"
      ]
     },
     "execution_count": 25,
     "metadata": {},
     "output_type": "execute_result"
    }
   ],
   "source": [
    "torch.tensordot(x, x)"
   ]
  },
  {
   "cell_type": "markdown",
   "id": "83d4c6ab",
   "metadata": {},
   "source": [
    "# Element-Wise "
   ]
  },
  {
   "cell_type": "code",
   "execution_count": 26,
   "id": "1a961042",
   "metadata": {},
   "outputs": [],
   "source": [
    "x = torch.randn(2, 2)"
   ]
  },
  {
   "cell_type": "code",
   "execution_count": 27,
   "id": "63f0141d",
   "metadata": {},
   "outputs": [
    {
     "data": {
      "text/plain": [
       "tensor([[0.0035, 0.8287],\n",
       "        [0.1912, 2.0805]])"
      ]
     },
     "execution_count": 27,
     "metadata": {},
     "output_type": "execute_result"
    }
   ],
   "source": [
    "x * x"
   ]
  },
  {
   "cell_type": "code",
   "execution_count": 28,
   "id": "c81b756d",
   "metadata": {},
   "outputs": [
    {
     "data": {
      "text/plain": [
       "tensor([[0.0035, 0.8287],\n",
       "        [0.1912, 2.0805]])"
      ]
     },
     "execution_count": 28,
     "metadata": {},
     "output_type": "execute_result"
    }
   ],
   "source": [
    "torch.einsum('ij, ij -> ij', x, x)"
   ]
  },
  {
   "cell_type": "markdown",
   "id": "65b4eec8",
   "metadata": {},
   "source": [
    "Multiply over all these, and sum over the ones that are left out."
   ]
  },
  {
   "cell_type": "markdown",
   "id": "8afda1c8",
   "metadata": {},
   "source": [
    "# Batch Element-Wise"
   ]
  },
  {
   "cell_type": "code",
   "execution_count": 29,
   "id": "e4a883c1",
   "metadata": {},
   "outputs": [],
   "source": [
    "x = torch.randn(2, 2, 2)"
   ]
  },
  {
   "cell_type": "code",
   "execution_count": 30,
   "id": "9f86a74f",
   "metadata": {},
   "outputs": [
    {
     "data": {
      "text/plain": [
       "tensor([[[1.6724, 1.9191],\n",
       "         [0.1529, 3.0415]],\n",
       "\n",
       "        [[0.4018, 0.0397],\n",
       "         [1.7389, 8.5126]]])"
      ]
     },
     "execution_count": 30,
     "metadata": {},
     "output_type": "execute_result"
    }
   ],
   "source": [
    "torch.einsum('bij, bij -> bij', x, x)"
   ]
  },
  {
   "cell_type": "code",
   "execution_count": 31,
   "id": "d7d194f9",
   "metadata": {},
   "outputs": [
    {
     "data": {
      "text/plain": [
       "tensor([[[1.6724, 1.9191],\n",
       "         [0.1529, 3.0415]],\n",
       "\n",
       "        [[0.4018, 0.0397],\n",
       "         [1.7389, 8.5126]]])"
      ]
     },
     "execution_count": 31,
     "metadata": {},
     "output_type": "execute_result"
    }
   ],
   "source": [
    "x * x"
   ]
  },
  {
   "cell_type": "markdown",
   "id": "86d16431",
   "metadata": {},
   "source": [
    "# Element-Wise with Broadcasting"
   ]
  },
  {
   "cell_type": "code",
   "execution_count": 32,
   "id": "7c59c66d",
   "metadata": {},
   "outputs": [],
   "source": [
    "x = torch.randn(2, 2)\n",
    "y = torch.randn(2, 2, 1)"
   ]
  },
  {
   "cell_type": "code",
   "execution_count": 33,
   "id": "19d2bac6",
   "metadata": {},
   "outputs": [],
   "source": [
    "z = x * y"
   ]
  },
  {
   "cell_type": "code",
   "execution_count": 34,
   "id": "21ed334e",
   "metadata": {},
   "outputs": [
    {
     "data": {
      "text/plain": [
       "torch.Size([2, 2, 2])"
      ]
     },
     "execution_count": 34,
     "metadata": {},
     "output_type": "execute_result"
    }
   ],
   "source": [
    "z.shape"
   ]
  },
  {
   "cell_type": "code",
   "execution_count": 35,
   "id": "1b2640c5",
   "metadata": {},
   "outputs": [
    {
     "data": {
      "text/plain": [
       "tensor([[[ 0.2491,  2.0490],\n",
       "         [ 0.1035,  0.0257]],\n",
       "\n",
       "        [[-0.1061, -0.8727],\n",
       "         [ 2.0519,  0.5089]]])"
      ]
     },
     "execution_count": 35,
     "metadata": {},
     "output_type": "execute_result"
    }
   ],
   "source": [
    "z"
   ]
  },
  {
   "cell_type": "code",
   "execution_count": 36,
   "id": "e944c28b",
   "metadata": {},
   "outputs": [
    {
     "data": {
      "text/plain": [
       "tensor([[[ 0.2491,  2.0490],\n",
       "         [ 0.1035,  0.0257]],\n",
       "\n",
       "        [[-0.1061, -0.8727],\n",
       "         [ 2.0519,  0.5089]]])"
      ]
     },
     "execution_count": 36,
     "metadata": {},
     "output_type": "execute_result"
    }
   ],
   "source": [
    "torch.einsum('ij, kij -> kij', x, y)"
   ]
  },
  {
   "cell_type": "markdown",
   "id": "0f481d91",
   "metadata": {},
   "source": [
    "Note that we're broadcasting $y$ over the final dimension. Then we are performing the element-wise product."
   ]
  },
  {
   "cell_type": "code",
   "execution_count": 37,
   "id": "38881e5b",
   "metadata": {},
   "outputs": [],
   "source": [
    "y = torch.randn(2, 2, 2)"
   ]
  },
  {
   "cell_type": "code",
   "execution_count": 38,
   "id": "b792309b",
   "metadata": {},
   "outputs": [],
   "source": [
    "x = torch.randn(2, 2)"
   ]
  },
  {
   "cell_type": "code",
   "execution_count": 39,
   "id": "e6cae209",
   "metadata": {},
   "outputs": [
    {
     "data": {
      "text/plain": [
       "tensor([[[-0.1545, -0.3232],\n",
       "         [-0.0143, -0.2030]],\n",
       "\n",
       "        [[ 0.2096, -1.8457],\n",
       "         [ 0.3654,  0.1658]]])"
      ]
     },
     "execution_count": 39,
     "metadata": {},
     "output_type": "execute_result"
    }
   ],
   "source": [
    "x * y"
   ]
  },
  {
   "cell_type": "markdown",
   "id": "2e80ac9e",
   "metadata": {},
   "source": [
    "By the same convention:"
   ]
  },
  {
   "cell_type": "code",
   "execution_count": 40,
   "id": "54356f35",
   "metadata": {},
   "outputs": [
    {
     "data": {
      "text/plain": [
       "tensor([[[-0.1545, -0.3232],\n",
       "         [-0.0143, -0.2030]],\n",
       "\n",
       "        [[ 0.2096, -1.8457],\n",
       "         [ 0.3654,  0.1658]]])"
      ]
     },
     "execution_count": 40,
     "metadata": {},
     "output_type": "execute_result"
    }
   ],
   "source": [
    "torch.einsum('ij, kij -> kij', x, y)"
   ]
  },
  {
   "cell_type": "markdown",
   "id": "edfcbb0b",
   "metadata": {},
   "source": [
    "# Element-wise and Transpose"
   ]
  },
  {
   "cell_type": "code",
   "execution_count": 41,
   "id": "051c8ff4",
   "metadata": {},
   "outputs": [
    {
     "data": {
      "text/plain": [
       "tensor([[[-0.1545, -0.0143],\n",
       "         [-0.3232, -0.2030]],\n",
       "\n",
       "        [[ 0.2096,  0.3654],\n",
       "         [-1.8457,  0.1658]]])"
      ]
     },
     "execution_count": 41,
     "metadata": {},
     "output_type": "execute_result"
    }
   ],
   "source": [
    "torch.einsum('ij, kij -> kij', x, y).permute(0, -1, -2)"
   ]
  },
  {
   "cell_type": "code",
   "execution_count": 42,
   "id": "418e1547",
   "metadata": {},
   "outputs": [
    {
     "data": {
      "text/plain": [
       "tensor([[[-0.1545, -0.0143],\n",
       "         [-0.3232, -0.2030]],\n",
       "\n",
       "        [[ 0.2096,  0.3654],\n",
       "         [-1.8457,  0.1658]]])"
      ]
     },
     "execution_count": 42,
     "metadata": {},
     "output_type": "execute_result"
    }
   ],
   "source": [
    "torch.einsum('ij, kij -> kji', x, y)"
   ]
  },
  {
   "cell_type": "markdown",
   "id": "a6699136",
   "metadata": {},
   "source": [
    "But we can change the default behavior (over the last dimensions) by changing the indexing:"
   ]
  },
  {
   "cell_type": "code",
   "execution_count": 43,
   "id": "77f67bec",
   "metadata": {},
   "outputs": [
    {
     "data": {
      "text/plain": [
       "tensor([[[-0.1545, -0.0592],\n",
       "         [-0.0566,  1.1289]],\n",
       "\n",
       "        [[ 0.2881, -0.4648],\n",
       "         [-0.2609,  0.1658]]])"
      ]
     },
     "execution_count": 43,
     "metadata": {},
     "output_type": "execute_result"
    }
   ],
   "source": [
    "torch.einsum('ij, ijk -> ijk', x, y)"
   ]
  },
  {
   "cell_type": "markdown",
   "id": "2cb0c9e8",
   "metadata": {},
   "source": [
    "x = torch.randn(20, 8)"
   ]
  },
  {
   "cell_type": "code",
   "execution_count": 44,
   "id": "1952d2f4",
   "metadata": {},
   "outputs": [],
   "source": [
    "x = torch.randn(20, 2)\n",
    "y = torch.randn(8)"
   ]
  },
  {
   "cell_type": "code",
   "execution_count": 45,
   "id": "184646f9",
   "metadata": {
    "scrolled": true
   },
   "outputs": [],
   "source": [
    "op = x[..., None].matmul(y[None, None])"
   ]
  },
  {
   "cell_type": "code",
   "execution_count": 46,
   "id": "c0a60c08",
   "metadata": {},
   "outputs": [],
   "source": [
    "el = x[..., None] * y[None, None]"
   ]
  },
  {
   "cell_type": "code",
   "execution_count": 47,
   "id": "773b87af",
   "metadata": {},
   "outputs": [
    {
     "data": {
      "text/plain": [
       "True"
      ]
     },
     "execution_count": 47,
     "metadata": {},
     "output_type": "execute_result"
    }
   ],
   "source": [
    "torch.allclose(op, el)"
   ]
  },
  {
   "cell_type": "markdown",
   "id": "306d1925",
   "metadata": {},
   "source": [
    "# Gaussians"
   ]
  },
  {
   "cell_type": "code",
   "execution_count": 56,
   "id": "1234a542",
   "metadata": {},
   "outputs": [],
   "source": [
    "x = torch.linspace(-3, 3, 128)"
   ]
  },
  {
   "cell_type": "code",
   "execution_count": 57,
   "id": "aa708cd2",
   "metadata": {},
   "outputs": [],
   "source": [
    "x = torch.exp(-(x ** 2))"
   ]
  },
  {
   "cell_type": "code",
   "execution_count": 58,
   "id": "7a969edf",
   "metadata": {},
   "outputs": [
    {
     "data": {
      "text/plain": [
       "[<matplotlib.lines.Line2D at 0x7fe88cff94e0>]"
      ]
     },
     "execution_count": 58,
     "metadata": {},
     "output_type": "execute_result"
    },
    {
     "data": {
      "image/png": "[encoded data removed]",
      "text/plain": [
       "<Figure size 432x288 with 1 Axes>"
      ]
     },
     "metadata": {
      "needs_background": "light"
     },
     "output_type": "display_data"
    }
   ],
   "source": [
    "plt.plot(x)"
   ]
  },
  {
   "cell_type": "code",
   "execution_count": 60,
   "id": "9fdbb03e",
   "metadata": {},
   "outputs": [
    {
     "data": {
      "text/plain": [
       "<matplotlib.image.AxesImage at 0x7fe88ce710c0>"
      ]
     },
     "execution_count": 60,
     "metadata": {},
     "output_type": "execute_result"
    },
    {
     "data": {
      "image/png": "[encoded data removed]",
      "text/plain": [
       "<Figure size 432x288 with 1 Axes>"
      ]
     },
     "metadata": {
      "needs_background": "light"
     },
     "output_type": "display_data"
    }
   ],
   "source": [
    "plt.imshow(x[None, :] * x[:, None])"
   ]
  },
  {
   "cell_type": "markdown",
   "id": "f5adec12",
   "metadata": {},
   "source": [
    "# Diagonal"
   ]
  },
  {
   "cell_type": "code",
   "execution_count": 62,
   "id": "88a5c31a",
   "metadata": {},
   "outputs": [],
   "source": [
    "X = torch.randn(3, 3)"
   ]
  },
  {
   "cell_type": "code",
   "execution_count": 68,
   "id": "833b9147",
   "metadata": {},
   "outputs": [
    {
     "data": {
      "text/plain": [
       "tensor([ 0.5959, -0.1834, -1.2500])"
      ]
     },
     "execution_count": 68,
     "metadata": {},
     "output_type": "execute_result"
    }
   ],
   "source": [
    "torch.einsum('ii, ii -> i', X, torch.ones_like(X))"
   ]
  },
  {
   "cell_type": "code",
   "execution_count": 71,
   "id": "33ac36c6",
   "metadata": {},
   "outputs": [
    {
     "data": {
      "text/plain": [
       "tensor([ 0.5959, -0.1834, -1.2500])"
      ]
     },
     "execution_count": 71,
     "metadata": {},
     "output_type": "execute_result"
    }
   ],
   "source": [
    "torch.einsum('ii -> i', X)"
   ]
  },
  {
   "cell_type": "code",
   "execution_count": null,
   "id": "4e07acc4",
   "metadata": {},
   "outputs": [],
   "source": []
  }
 ],
 "metadata": {
  "kernelspec": {
   "display_name": "Python 3 (ipykernel)",
   "language": "python",
   "name": "python3"
  },
  "language_info": {
   "codemirror_mode": {
    "name": "ipython",
    "version": 3
   },
   "file_extension": ".py",
   "mimetype": "text/x-python",
   "name": "python",
   "nbconvert_exporter": "python",
   "pygments_lexer": "ipython3",
   "version": "3.10.4"
  }
 },
 "nbformat": 4,
 "nbformat_minor": 5
}
