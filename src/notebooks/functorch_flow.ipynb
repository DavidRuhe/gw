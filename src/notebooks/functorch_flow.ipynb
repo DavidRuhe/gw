{
 "cells": [
  {
   "cell_type": "code",
   "execution_count": 35,
   "id": "a740ac22",
   "metadata": {},
   "outputs": [],
   "source": [
    "# %load_ext autoreload\n",
    "# %autoreload 2"
   ]
  },
  {
   "cell_type": "code",
   "execution_count": 36,
   "id": "e1324fee",
   "metadata": {},
   "outputs": [],
   "source": [
    "import torch\n",
    "import functorch as ft\n",
    "from torch import nn"
   ]
  },
  {
   "cell_type": "code",
   "execution_count": 37,
   "id": "dc2b0b6a",
   "metadata": {},
   "outputs": [],
   "source": [
    "from sklearn.datasets import make_moons\n",
    "from models.normalizing_flow import NormalizingFlow\n",
    "from models.planar import planar\n"
   ]
  },
  {
   "cell_type": "code",
   "execution_count": 38,
   "id": "688c9c77",
   "metadata": {},
   "outputs": [],
   "source": [
    "X, _ = make_moons()"
   ]
  },
  {
   "cell_type": "code",
   "execution_count": 39,
   "id": "fa126c7d",
   "metadata": {},
   "outputs": [],
   "source": [
    "flows = planar(num_layers=16, input_dim=2)"
   ]
  },
  {
   "cell_type": "code",
   "execution_count": 40,
   "id": "ba555557",
   "metadata": {},
   "outputs": [],
   "source": [
    "model = NormalizingFlow(None, flows)"
   ]
  },
  {
   "cell_type": "code",
   "execution_count": 41,
   "id": "9851bed0",
   "metadata": {},
   "outputs": [],
   "source": [
    "# model(torch.randn(2, 2))"
   ]
  },
  {
   "cell_type": "code",
   "execution_count": 42,
   "id": "cebf364c",
   "metadata": {},
   "outputs": [],
   "source": [
    "fnmodel, params, buffers = ft.make_functional_with_buffers(model)"
   ]
  },
  {
   "cell_type": "code",
   "execution_count": 43,
   "id": "a93e81a6",
   "metadata": {
    "scrolled": true
   },
   "outputs": [
    {
     "data": {
      "text/plain": [
       "tensor([-6.4393, -6.6047], grad_fn=<AddBackward0>)"
      ]
     },
     "execution_count": 43,
     "metadata": {},
     "output_type": "execute_result"
    }
   ],
   "source": [
    "fnmodel(params, buffers, torch.randn(2, 2))"
   ]
  },
  {
   "cell_type": "code",
   "execution_count": 44,
   "id": "7fda2598",
   "metadata": {},
   "outputs": [],
   "source": [
    "def flatten(params):\n",
    "    return torch.cat([p.flatten() for p in params])\n",
    "\n",
    "\n",
    "def unflatten(model, flattened_params):\n",
    "    if flattened_params.dim() != 1:\n",
    "        raise ValueError('Expecting a 1d flattened_params')\n",
    "    params_list = []\n",
    "    i = 0\n",
    "    for val in list(model.parameters()):\n",
    "        length = val.nelement()\n",
    "        param = flattened_params[i:i+length].view_as(val)\n",
    "        params_list.append(nn.Parameter(param))\n",
    "        i += length\n",
    "\n",
    "    return tuple(params_list)"
   ]
  },
  {
   "cell_type": "code",
   "execution_count": 45,
   "id": "f6b815d2",
   "metadata": {},
   "outputs": [],
   "source": [
    "params_flat = flatten(params)"
   ]
  },
  {
   "cell_type": "code",
   "execution_count": 46,
   "id": "02459d17",
   "metadata": {
    "scrolled": true
   },
   "outputs": [
    {
     "data": {
      "text/plain": [
       "(Parameter containing:\n",
       " tensor([0.], requires_grad=True),\n",
       " Parameter containing:\n",
       " tensor([ 0.1254, -0.6576], requires_grad=True),\n",
       " Parameter containing:\n",
       " tensor([-0.3445, -0.4199], requires_grad=True),\n",
       " Parameter containing:\n",
       " tensor([0.], requires_grad=True),\n",
       " Parameter containing:\n",
       " tensor([-0.3433,  0.0818], requires_grad=True),\n",
       " Parameter containing:\n",
       " tensor([-0.1573,  0.2040], requires_grad=True),\n",
       " Parameter containing:\n",
       " tensor([0.], requires_grad=True),\n",
       " Parameter containing:\n",
       " tensor([-0.0260,  0.5057], requires_grad=True),\n",
       " Parameter containing:\n",
       " tensor([0.2500, 0.5793], requires_grad=True),\n",
       " Parameter containing:\n",
       " tensor([0.], requires_grad=True),\n",
       " Parameter containing:\n",
       " tensor([-0.2948,  0.5515], requires_grad=True),\n",
       " Parameter containing:\n",
       " tensor([ 0.3554, -0.2715], requires_grad=True),\n",
       " Parameter containing:\n",
       " tensor([0.], requires_grad=True),\n",
       " Parameter containing:\n",
       " tensor([-0.5571, -0.0545], requires_grad=True),\n",
       " Parameter containing:\n",
       " tensor([-0.4175, -0.2673], requires_grad=True),\n",
       " Parameter containing:\n",
       " tensor([0.], requires_grad=True),\n",
       " Parameter containing:\n",
       " tensor([-0.6424, -0.1386], requires_grad=True),\n",
       " Parameter containing:\n",
       " tensor([-0.5853,  0.1370], requires_grad=True),\n",
       " Parameter containing:\n",
       " tensor([0.], requires_grad=True),\n",
       " Parameter containing:\n",
       " tensor([-0.0884, -0.4767], requires_grad=True),\n",
       " Parameter containing:\n",
       " tensor([-0.5288, -0.5313], requires_grad=True),\n",
       " Parameter containing:\n",
       " tensor([0.], requires_grad=True),\n",
       " Parameter containing:\n",
       " tensor([-0.0869,  0.0717], requires_grad=True),\n",
       " Parameter containing:\n",
       " tensor([-0.0831, -0.1597], requires_grad=True),\n",
       " Parameter containing:\n",
       " tensor([0.], requires_grad=True),\n",
       " Parameter containing:\n",
       " tensor([-0.4851, -0.2544], requires_grad=True),\n",
       " Parameter containing:\n",
       " tensor([-0.0718, -0.2193], requires_grad=True),\n",
       " Parameter containing:\n",
       " tensor([0.], requires_grad=True),\n",
       " Parameter containing:\n",
       " tensor([ 0.7041, -0.5737], requires_grad=True),\n",
       " Parameter containing:\n",
       " tensor([0.0347, 0.2045], requires_grad=True),\n",
       " Parameter containing:\n",
       " tensor([0.], requires_grad=True),\n",
       " Parameter containing:\n",
       " tensor([0.2823, 0.2047], requires_grad=True),\n",
       " Parameter containing:\n",
       " tensor([-0.1404, -0.2082], requires_grad=True),\n",
       " Parameter containing:\n",
       " tensor([0.], requires_grad=True),\n",
       " Parameter containing:\n",
       " tensor([0.4341, 0.4968], requires_grad=True),\n",
       " Parameter containing:\n",
       " tensor([ 0.3802, -0.3408], requires_grad=True),\n",
       " Parameter containing:\n",
       " tensor([0.], requires_grad=True),\n",
       " Parameter containing:\n",
       " tensor([-0.1061, -0.2422], requires_grad=True),\n",
       " Parameter containing:\n",
       " tensor([ 0.2524, -0.5629], requires_grad=True),\n",
       " Parameter containing:\n",
       " tensor([0.], requires_grad=True),\n",
       " Parameter containing:\n",
       " tensor([0.4277, 0.1377], requires_grad=True),\n",
       " Parameter containing:\n",
       " tensor([ 0.5024, -0.6602], requires_grad=True),\n",
       " Parameter containing:\n",
       " tensor([0.], requires_grad=True),\n",
       " Parameter containing:\n",
       " tensor([-0.2276,  0.6808], requires_grad=True),\n",
       " Parameter containing:\n",
       " tensor([0.5135, 0.6970], requires_grad=True),\n",
       " Parameter containing:\n",
       " tensor([0.], requires_grad=True),\n",
       " Parameter containing:\n",
       " tensor([0.6760, 0.1050], requires_grad=True),\n",
       " Parameter containing:\n",
       " tensor([-0.2839,  0.0782], requires_grad=True))"
      ]
     },
     "execution_count": 46,
     "metadata": {},
     "output_type": "execute_result"
    }
   ],
   "source": [
    "unflatten(model, params_flat)"
   ]
  },
  {
   "cell_type": "code",
   "execution_count": 47,
   "id": "834aa4e8",
   "metadata": {},
   "outputs": [],
   "source": [
    "X = torch.from_numpy(X).float()\n",
    "# y = torch.from_numpy(y).long()"
   ]
  },
  {
   "cell_type": "code",
   "execution_count": 48,
   "id": "f779c331",
   "metadata": {},
   "outputs": [],
   "source": [
    "# y = torch.nn.functional.one_hot(y, 2)"
   ]
  },
  {
   "cell_type": "code",
   "execution_count": 49,
   "id": "9a9733f3",
   "metadata": {},
   "outputs": [],
   "source": [
    "prior = torch.distributions.Normal(torch.zeros(len(params_flat)), 32 * torch.ones(len(params_flat)))\n",
    "\n",
    "\n"
   ]
  },
  {
   "cell_type": "code",
   "execution_count": 50,
   "id": "9ffd39c8",
   "metadata": {},
   "outputs": [],
   "source": [
    "def log_prob(params_flat):\n",
    "    params = unflatten(model, params_flat)\n",
    "    log_prob = fnmodel(params, buffers, X)\n",
    "    \n",
    "    \n",
    "    ll = log_prob.mean()\n",
    "    pl = prior.log_prob(params_flat).sum() / len(X)\n",
    "    \n",
    "    return ll + pl\n",
    "    \n",
    "    \n",
    "    \n",
    "    \n",
    "    "
   ]
  },
  {
   "cell_type": "code",
   "execution_count": 51,
   "id": "c6c8d74f",
   "metadata": {},
   "outputs": [],
   "source": [
    "import hamiltorch"
   ]
  },
  {
   "cell_type": "code",
   "execution_count": 52,
   "id": "c1c0b7d0",
   "metadata": {},
   "outputs": [
    {
     "name": "stdout",
     "output_type": "stream",
     "text": [
      "Sampling (Sampler.HMC; Integrator.IMPLICIT)\n",
      "Time spent  | Time remain.| Progress             | Samples   | Samples/sec\n",
      "Final Adapted Step Size:  0.0007170465542003512- |  510/8704 | 9.02        \n",
      "0d:00:17:13 | 0d:00:00:00 | #################### | 8704/8704 | 8.42       \n",
      "Acceptance Rate 0.92\n"
     ]
    }
   ],
   "source": [
    "\n",
    "N = 8192\n",
    "burn = 512\n",
    "N_nuts = N + burn\n",
    "step_size = 2e-4\n",
    "L = 20\n",
    "\n",
    "samples = hamiltorch.sample(\n",
    "    log_prob, \n",
    "    params_init=params_flat, \n",
    "    num_samples=N_nuts, \n",
    "    num_steps_per_sample=L, \n",
    "    step_size=step_size, \n",
    "    burn=burn, \n",
    "    desired_accept_rate=0.8,\n",
    "    sampler=hamiltorch.Sampler.HMC_NUTS,\n",
    "    debug=False)"
   ]
  },
  {
   "cell_type": "code",
   "execution_count": 53,
   "id": "46a74ff1",
   "metadata": {},
   "outputs": [],
   "source": [
    "samples = torch.stack(samples)"
   ]
  },
  {
   "cell_type": "code",
   "execution_count": 54,
   "id": "f469904e",
   "metadata": {},
   "outputs": [],
   "source": [
    "linspace = torch.linspace(-5, 5, 128)"
   ]
  },
  {
   "cell_type": "code",
   "execution_count": 55,
   "id": "12c0f91a",
   "metadata": {},
   "outputs": [],
   "source": [
    "grid = torch.meshgrid(linspace, linspace, indexing='ij')\n",
    "\n",
    "grid = torch.stack(grid).view(2, -1).T"
   ]
  },
  {
   "cell_type": "code",
   "execution_count": 76,
   "id": "0373293a",
   "metadata": {},
   "outputs": [
    {
     "data": {
      "text/plain": [
       "torch.Size([8192, 80])"
      ]
     },
     "execution_count": 76,
     "metadata": {},
     "output_type": "execute_result"
    }
   ],
   "source": [
    "samples.shape"
   ]
  },
  {
   "cell_type": "code",
   "execution_count": 83,
   "id": "0f1306f0",
   "metadata": {},
   "outputs": [],
   "source": [
    "params = tuple(p.data for p in params)"
   ]
  },
  {
   "cell_type": "code",
   "execution_count": 85,
   "id": "69fd76aa",
   "metadata": {},
   "outputs": [
    {
     "data": {
      "text/plain": [
       "tensor([-6.0591, -6.1959])"
      ]
     },
     "execution_count": 85,
     "metadata": {},
     "output_type": "execute_result"
    }
   ],
   "source": [
    "fnmodel(params, buffers, torch.randn(2, 2))"
   ]
  },
  {
   "cell_type": "code",
   "execution_count": 88,
   "id": "856d5c47",
   "metadata": {},
   "outputs": [
    {
     "data": {
      "text/plain": [
       "48"
      ]
     },
     "execution_count": 88,
     "metadata": {},
     "output_type": "execute_result"
    }
   ],
   "source": [
    "len(unflatten(model, samples[0]))"
   ]
  },
  {
   "cell_type": "code",
   "execution_count": 99,
   "id": "2166521b",
   "metadata": {},
   "outputs": [],
   "source": [
    "stacked_params = [list() for _ in range(48)]\n",
    "\n",
    "\n",
    "for param in samples:\n",
    "    params_unflat = unflatten(model, param)\n",
    "    for i, p in enumerate(params_unflat):\n",
    "        stacked_params[i].append(p.data)"
   ]
  },
  {
   "cell_type": "code",
   "execution_count": 101,
   "id": "9fde3b24",
   "metadata": {},
   "outputs": [],
   "source": [
    "stacked_params = tuple(torch.stack(p) for p in stacked_params)"
   ]
  },
  {
   "cell_type": "code",
   "execution_count": 107,
   "id": "f4acc97e",
   "metadata": {},
   "outputs": [],
   "source": [
    "def log_prob(params):\n",
    "    log_prob = fnmodel(params, buffers, X)\n",
    "    \n",
    "    \n",
    "#     ll = log_prob.mean()\n",
    "#     pl = prior.log_prob(params_flat).sum() / len(X)\n",
    "    \n",
    "    return log_prob # + pl\n",
    "    \n",
    "    \n",
    "    \n",
    "    \n",
    "    "
   ]
  },
  {
   "cell_type": "code",
   "execution_count": 73,
   "id": "1e39a158",
   "metadata": {},
   "outputs": [
    {
     "data": {
      "text/plain": [
       "torch.Size([8192, 80])"
      ]
     },
     "execution_count": 73,
     "metadata": {},
     "output_type": "execute_result"
    }
   ],
   "source": [
    "samples.shape"
   ]
  },
  {
   "cell_type": "code",
   "execution_count": 74,
   "id": "d6757396",
   "metadata": {},
   "outputs": [
    {
     "ename": "ValueError",
     "evalue": "vmap(log_prob, in_dims=(0, None), ...)(<inputs>): in_dims is not compatible with the structure of `inputs`. in_dims has structure TreeSpec(tuple, None, [*, *]) but inputs has structure TreeSpec(tuple, None, [*]).",
     "output_type": "error",
     "traceback": [
      "\u001b[0;31m---------------------------------------------------------------------------\u001b[0m",
      "\u001b[0;31mValueError\u001b[0m                                Traceback (most recent call last)",
      "Input \u001b[0;32mIn [74]\u001b[0m, in \u001b[0;36m<cell line: 1>\u001b[0;34m()\u001b[0m\n\u001b[0;32m----> 1\u001b[0m \u001b[43mfn_model_vmap\u001b[49m\u001b[43m(\u001b[49m\u001b[43msamples\u001b[49m\u001b[43m)\u001b[49m\n",
      "File \u001b[0;32m~/projects/gw/.venv/lib/python3.9/site-packages/functorch/_src/vmap.py:361\u001b[0m, in \u001b[0;36mvmap.<locals>.wrapped\u001b[0;34m(*args, **kwargs)\u001b[0m\n\u001b[1;32m    358\u001b[0m \u001b[38;5;129m@functools\u001b[39m\u001b[38;5;241m.\u001b[39mwraps(func)\n\u001b[1;32m    359\u001b[0m \u001b[38;5;28;01mdef\u001b[39;00m \u001b[38;5;21mwrapped\u001b[39m(\u001b[38;5;241m*\u001b[39margs, \u001b[38;5;241m*\u001b[39m\u001b[38;5;241m*\u001b[39mkwargs):\n\u001b[1;32m    360\u001b[0m     _check_out_dims_is_int_or_int_pytree(out_dims, func)\n\u001b[0;32m--> 361\u001b[0m     batch_size, flat_in_dims, flat_args, args_spec \u001b[38;5;241m=\u001b[39m \u001b[43m_process_batched_inputs\u001b[49m\u001b[43m(\u001b[49m\u001b[43min_dims\u001b[49m\u001b[43m,\u001b[49m\u001b[43m \u001b[49m\u001b[43margs\u001b[49m\u001b[43m,\u001b[49m\u001b[43m \u001b[49m\u001b[43mfunc\u001b[49m\u001b[43m)\u001b[49m\n\u001b[1;32m    362\u001b[0m     vmap_level \u001b[38;5;241m=\u001b[39m _vmap_increment_nesting(batch_size, randomness)\n\u001b[1;32m    363\u001b[0m     \u001b[38;5;28;01mtry\u001b[39;00m:\n",
      "File \u001b[0;32m~/projects/gw/.venv/lib/python3.9/site-packages/functorch/_src/vmap.py:87\u001b[0m, in \u001b[0;36m_process_batched_inputs\u001b[0;34m(in_dims, args, func)\u001b[0m\n\u001b[1;32m     85\u001b[0m flat_in_dims \u001b[38;5;241m=\u001b[39m _broadcast_to_and_flatten(in_dims, args_spec)\n\u001b[1;32m     86\u001b[0m \u001b[38;5;28;01mif\u001b[39;00m flat_in_dims \u001b[38;5;129;01mis\u001b[39;00m \u001b[38;5;28;01mNone\u001b[39;00m:\n\u001b[0;32m---> 87\u001b[0m     \u001b[38;5;28;01mraise\u001b[39;00m \u001b[38;5;167;01mValueError\u001b[39;00m(\n\u001b[1;32m     88\u001b[0m         \u001b[38;5;124mf\u001b[39m\u001b[38;5;124m'\u001b[39m\u001b[38;5;124mvmap(\u001b[39m\u001b[38;5;132;01m{\u001b[39;00m_get_name(func)\u001b[38;5;132;01m}\u001b[39;00m\u001b[38;5;124m, in_dims=\u001b[39m\u001b[38;5;132;01m{\u001b[39;00min_dims\u001b[38;5;132;01m}\u001b[39;00m\u001b[38;5;124m, ...)(<inputs>): \u001b[39m\u001b[38;5;124m'\u001b[39m\n\u001b[1;32m     89\u001b[0m         \u001b[38;5;124mf\u001b[39m\u001b[38;5;124m'\u001b[39m\u001b[38;5;124min_dims is not compatible with the structure of `inputs`. \u001b[39m\u001b[38;5;124m'\u001b[39m\n\u001b[1;32m     90\u001b[0m         \u001b[38;5;124mf\u001b[39m\u001b[38;5;124m'\u001b[39m\u001b[38;5;124min_dims has structure \u001b[39m\u001b[38;5;132;01m{\u001b[39;00mtree_flatten(in_dims)[\u001b[38;5;241m1\u001b[39m]\u001b[38;5;132;01m}\u001b[39;00m\u001b[38;5;124m but inputs \u001b[39m\u001b[38;5;124m'\u001b[39m\n\u001b[1;32m     91\u001b[0m         \u001b[38;5;124mf\u001b[39m\u001b[38;5;124m'\u001b[39m\u001b[38;5;124mhas structure \u001b[39m\u001b[38;5;132;01m{\u001b[39;00margs_spec\u001b[38;5;132;01m}\u001b[39;00m\u001b[38;5;124m.\u001b[39m\u001b[38;5;124m'\u001b[39m)\n\u001b[1;32m     93\u001b[0m \u001b[38;5;28;01mfor\u001b[39;00m i, (arg, in_dim) \u001b[38;5;129;01min\u001b[39;00m \u001b[38;5;28menumerate\u001b[39m(\u001b[38;5;28mzip\u001b[39m(flat_args, flat_in_dims)):\n\u001b[1;32m     94\u001b[0m     \u001b[38;5;28;01mif\u001b[39;00m \u001b[38;5;129;01mnot\u001b[39;00m \u001b[38;5;28misinstance\u001b[39m(in_dim, \u001b[38;5;28mint\u001b[39m) \u001b[38;5;129;01mand\u001b[39;00m in_dim \u001b[38;5;129;01mis\u001b[39;00m \u001b[38;5;129;01mnot\u001b[39;00m \u001b[38;5;28;01mNone\u001b[39;00m:\n",
      "\u001b[0;31mValueError\u001b[0m: vmap(log_prob, in_dims=(0, None), ...)(<inputs>): in_dims is not compatible with the structure of `inputs`. in_dims has structure TreeSpec(tuple, None, [*, *]) but inputs has structure TreeSpec(tuple, None, [*])."
     ]
    }
   ],
   "source": [
    "fn_model_vmap(samples)"
   ]
  },
  {
   "cell_type": "code",
   "execution_count": 22,
   "id": "de5dd155",
   "metadata": {},
   "outputs": [],
   "source": [
    "with torch.no_grad():\n",
    "    logprobs = fnmodel(unflatten(model, samples.mean(0)), buffers, grid)"
   ]
  },
  {
   "cell_type": "code",
   "execution_count": 23,
   "id": "9eb15fd7",
   "metadata": {},
   "outputs": [],
   "source": [
    "probs = logprobs.exp()\n"
   ]
  },
  {
   "cell_type": "code",
   "execution_count": 24,
   "id": "bd07d9a6",
   "metadata": {},
   "outputs": [],
   "source": [
    "probs = probs.view(128, 128)"
   ]
  },
  {
   "cell_type": "code",
   "execution_count": 25,
   "id": "e31d5a0b",
   "metadata": {},
   "outputs": [],
   "source": [
    "import matplotlib.pyplot as plt"
   ]
  },
  {
   "cell_type": "code",
   "execution_count": 26,
   "id": "dfa0da07",
   "metadata": {},
   "outputs": [
    {
     "data": {
      "text/plain": [
       "<matplotlib.image.AxesImage at 0x7f6d1a0b22b0>"
      ]
     },
     "execution_count": 26,
     "metadata": {},
     "output_type": "execute_result"
    },
    {
     "data": {
      "image/png": "[encoded data removed]",
      "text/plain": [
       "<Figure size 432x288 with 1 Axes>"
      ]
     },
     "metadata": {
      "needs_background": "light"
     },
     "output_type": "display_data"
    }
   ],
   "source": [
    "\n",
    "plt.imshow(probs)"
   ]
  },
  {
   "cell_type": "code",
   "execution_count": 110,
   "id": "b91d7801",
   "metadata": {},
   "outputs": [],
   "source": [
    "models = [NormalizingFlow(None, planar(num_layers=16, input_dim=2)) for _ in range(2)]"
   ]
  },
  {
   "cell_type": "code",
   "execution_count": 111,
   "id": "05316917",
   "metadata": {},
   "outputs": [],
   "source": [
    "fmodel, params, buffers = ft.combine_state_for_ensemble(models)\n"
   ]
  },
  {
   "cell_type": "code",
   "execution_count": 114,
   "id": "086a1444",
   "metadata": {},
   "outputs": [
    {
     "data": {
      "text/plain": [
       "torch.Size([100, 2])"
      ]
     },
     "execution_count": 114,
     "metadata": {},
     "output_type": "execute_result"
    }
   ],
   "source": [
    "X.shape"
   ]
  },
  {
   "cell_type": "code",
   "execution_count": 115,
   "id": "3238be5f",
   "metadata": {},
   "outputs": [
    {
     "name": "stderr",
     "output_type": "stream",
     "text": [
      "/home/druhe/projects/gw/.venv/lib/python3.9/site-packages/torch/distributions/distribution.py:54: UserWarning: There is a performance drop because we have not yet implemented the batching rule for aten::all. Please file us an issue on GitHub so that we can prioritize its implementation. (Triggered internally at  /__w/functorch/functorch/functorch/csrc/BatchedFallback.cpp:83.)\n",
      "  if not valid.all():\n"
     ]
    },
    {
     "ename": "RuntimeError",
     "evalue": "vmap: It looks like you're attempting to use a Tensor in some data-dependent control flow. We don't support that yet, please shout over at https://github.com/pytorch/functorch/issues/257 .",
     "output_type": "error",
     "traceback": [
      "\u001b[0;31m---------------------------------------------------------------------------\u001b[0m",
      "\u001b[0;31mRuntimeError\u001b[0m                              Traceback (most recent call last)",
      "Input \u001b[0;32mIn [115]\u001b[0m, in \u001b[0;36m<cell line: 1>\u001b[0;34m()\u001b[0m\n\u001b[0;32m----> 1\u001b[0m predictions1_vmap \u001b[38;5;241m=\u001b[39m \u001b[43mft\u001b[49m\u001b[38;5;241;43m.\u001b[39;49m\u001b[43mvmap\u001b[49m\u001b[43m(\u001b[49m\u001b[43mfmodel\u001b[49m\u001b[43m,\u001b[49m\u001b[43m \u001b[49m\u001b[43min_dims\u001b[49m\u001b[38;5;241;43m=\u001b[39;49m\u001b[43m(\u001b[49m\u001b[38;5;241;43m0\u001b[39;49m\u001b[43m,\u001b[49m\u001b[43m \u001b[49m\u001b[38;5;241;43m0\u001b[39;49m\u001b[43m,\u001b[49m\u001b[43m \u001b[49m\u001b[38;5;28;43;01mNone\u001b[39;49;00m\u001b[43m)\u001b[49m\u001b[43m)\u001b[49m\u001b[43m(\u001b[49m\u001b[43mparams\u001b[49m\u001b[43m,\u001b[49m\u001b[43m \u001b[49m\u001b[43mbuffers\u001b[49m\u001b[43m,\u001b[49m\u001b[43m \u001b[49m\u001b[43mX\u001b[49m\u001b[43m)\u001b[49m\n",
      "File \u001b[0;32m~/projects/gw/.venv/lib/python3.9/site-packages/functorch/_src/vmap.py:365\u001b[0m, in \u001b[0;36mvmap.<locals>.wrapped\u001b[0;34m(*args, **kwargs)\u001b[0m\n\u001b[1;32m    363\u001b[0m \u001b[38;5;28;01mtry\u001b[39;00m:\n\u001b[1;32m    364\u001b[0m     batched_inputs \u001b[38;5;241m=\u001b[39m _create_batched_inputs(flat_in_dims, flat_args, vmap_level, args_spec)\n\u001b[0;32m--> 365\u001b[0m     batched_outputs \u001b[38;5;241m=\u001b[39m \u001b[43mfunc\u001b[49m\u001b[43m(\u001b[49m\u001b[38;5;241;43m*\u001b[39;49m\u001b[43mbatched_inputs\u001b[49m\u001b[43m,\u001b[49m\u001b[43m \u001b[49m\u001b[38;5;241;43m*\u001b[39;49m\u001b[38;5;241;43m*\u001b[39;49m\u001b[43mkwargs\u001b[49m\u001b[43m)\u001b[49m\n\u001b[1;32m    366\u001b[0m     \u001b[38;5;28;01mreturn\u001b[39;00m _unwrap_batched(batched_outputs, out_dims, vmap_level, batch_size, func)\n\u001b[1;32m    367\u001b[0m \u001b[38;5;28;01mfinally\u001b[39;00m:\n",
      "File \u001b[0;32m~/projects/gw/.venv/lib/python3.9/site-packages/torch/nn/modules/module.py:1130\u001b[0m, in \u001b[0;36mModule._call_impl\u001b[0;34m(self, *input, **kwargs)\u001b[0m\n\u001b[1;32m   1126\u001b[0m \u001b[38;5;66;03m# If we don't have any hooks, we want to skip the rest of the logic in\u001b[39;00m\n\u001b[1;32m   1127\u001b[0m \u001b[38;5;66;03m# this function, and just call forward.\u001b[39;00m\n\u001b[1;32m   1128\u001b[0m \u001b[38;5;28;01mif\u001b[39;00m \u001b[38;5;129;01mnot\u001b[39;00m (\u001b[38;5;28mself\u001b[39m\u001b[38;5;241m.\u001b[39m_backward_hooks \u001b[38;5;129;01mor\u001b[39;00m \u001b[38;5;28mself\u001b[39m\u001b[38;5;241m.\u001b[39m_forward_hooks \u001b[38;5;129;01mor\u001b[39;00m \u001b[38;5;28mself\u001b[39m\u001b[38;5;241m.\u001b[39m_forward_pre_hooks \u001b[38;5;129;01mor\u001b[39;00m _global_backward_hooks\n\u001b[1;32m   1129\u001b[0m         \u001b[38;5;129;01mor\u001b[39;00m _global_forward_hooks \u001b[38;5;129;01mor\u001b[39;00m _global_forward_pre_hooks):\n\u001b[0;32m-> 1130\u001b[0m     \u001b[38;5;28;01mreturn\u001b[39;00m \u001b[43mforward_call\u001b[49m\u001b[43m(\u001b[49m\u001b[38;5;241;43m*\u001b[39;49m\u001b[38;5;28;43minput\u001b[39;49m\u001b[43m,\u001b[49m\u001b[43m \u001b[49m\u001b[38;5;241;43m*\u001b[39;49m\u001b[38;5;241;43m*\u001b[39;49m\u001b[43mkwargs\u001b[49m\u001b[43m)\u001b[49m\n\u001b[1;32m   1131\u001b[0m \u001b[38;5;66;03m# Do not call functions when jit is used\u001b[39;00m\n\u001b[1;32m   1132\u001b[0m full_backward_hooks, non_full_backward_hooks \u001b[38;5;241m=\u001b[39m [], []\n",
      "File \u001b[0;32m~/projects/gw/.venv/lib/python3.9/site-packages/functorch/_src/make_functional.py:282\u001b[0m, in \u001b[0;36mFunctionalModuleWithBuffers.forward\u001b[0;34m(self, params, buffers, *args, **kwargs)\u001b[0m\n\u001b[1;32m    277\u001b[0m old_state \u001b[38;5;241m=\u001b[39m _swap_state(\n\u001b[1;32m    278\u001b[0m     \u001b[38;5;28mself\u001b[39m\u001b[38;5;241m.\u001b[39mstateless_model,\n\u001b[1;32m    279\u001b[0m     \u001b[38;5;28mself\u001b[39m\u001b[38;5;241m.\u001b[39mall_names_map,\n\u001b[1;32m    280\u001b[0m     \u001b[38;5;28mlist\u001b[39m(params) \u001b[38;5;241m+\u001b[39m \u001b[38;5;28mlist\u001b[39m(buffers))\n\u001b[1;32m    281\u001b[0m \u001b[38;5;28;01mtry\u001b[39;00m:\n\u001b[0;32m--> 282\u001b[0m     \u001b[38;5;28;01mreturn\u001b[39;00m \u001b[38;5;28;43mself\u001b[39;49m\u001b[38;5;241;43m.\u001b[39;49m\u001b[43mstateless_model\u001b[49m\u001b[43m(\u001b[49m\u001b[38;5;241;43m*\u001b[39;49m\u001b[43margs\u001b[49m\u001b[43m,\u001b[49m\u001b[43m \u001b[49m\u001b[38;5;241;43m*\u001b[39;49m\u001b[38;5;241;43m*\u001b[39;49m\u001b[43mkwargs\u001b[49m\u001b[43m)\u001b[49m\n\u001b[1;32m    283\u001b[0m \u001b[38;5;28;01mfinally\u001b[39;00m:\n\u001b[1;32m    284\u001b[0m     \u001b[38;5;66;03m# Remove the loaded state on self.stateless_model\u001b[39;00m\n\u001b[1;32m    285\u001b[0m     _swap_state(\u001b[38;5;28mself\u001b[39m\u001b[38;5;241m.\u001b[39mstateless_model, \u001b[38;5;28mself\u001b[39m\u001b[38;5;241m.\u001b[39mall_names_map, old_state)\n",
      "File \u001b[0;32m~/projects/gw/.venv/lib/python3.9/site-packages/torch/nn/modules/module.py:1130\u001b[0m, in \u001b[0;36mModule._call_impl\u001b[0;34m(self, *input, **kwargs)\u001b[0m\n\u001b[1;32m   1126\u001b[0m \u001b[38;5;66;03m# If we don't have any hooks, we want to skip the rest of the logic in\u001b[39;00m\n\u001b[1;32m   1127\u001b[0m \u001b[38;5;66;03m# this function, and just call forward.\u001b[39;00m\n\u001b[1;32m   1128\u001b[0m \u001b[38;5;28;01mif\u001b[39;00m \u001b[38;5;129;01mnot\u001b[39;00m (\u001b[38;5;28mself\u001b[39m\u001b[38;5;241m.\u001b[39m_backward_hooks \u001b[38;5;129;01mor\u001b[39;00m \u001b[38;5;28mself\u001b[39m\u001b[38;5;241m.\u001b[39m_forward_hooks \u001b[38;5;129;01mor\u001b[39;00m \u001b[38;5;28mself\u001b[39m\u001b[38;5;241m.\u001b[39m_forward_pre_hooks \u001b[38;5;129;01mor\u001b[39;00m _global_backward_hooks\n\u001b[1;32m   1129\u001b[0m         \u001b[38;5;129;01mor\u001b[39;00m _global_forward_hooks \u001b[38;5;129;01mor\u001b[39;00m _global_forward_pre_hooks):\n\u001b[0;32m-> 1130\u001b[0m     \u001b[38;5;28;01mreturn\u001b[39;00m \u001b[43mforward_call\u001b[49m\u001b[43m(\u001b[49m\u001b[38;5;241;43m*\u001b[39;49m\u001b[38;5;28;43minput\u001b[39;49m\u001b[43m,\u001b[49m\u001b[43m \u001b[49m\u001b[38;5;241;43m*\u001b[39;49m\u001b[38;5;241;43m*\u001b[39;49m\u001b[43mkwargs\u001b[49m\u001b[43m)\u001b[49m\n\u001b[1;32m   1131\u001b[0m \u001b[38;5;66;03m# Do not call functions when jit is used\u001b[39;00m\n\u001b[1;32m   1132\u001b[0m full_backward_hooks, non_full_backward_hooks \u001b[38;5;241m=\u001b[39m [], []\n",
      "File \u001b[0;32m~/projects/gw/src/models/normalizing_flow.py:146\u001b[0m, in \u001b[0;36mforward\u001b[0;34m(self, x)\u001b[0m\n\u001b[1;32m    142\u001b[0m \u001b[38;5;28;01mif\u001b[39;00m \u001b[38;5;28mtype\u001b[39m(x) \u001b[38;5;129;01min\u001b[39;00m (\u001b[38;5;28mlist\u001b[39m, \u001b[38;5;28mtuple\u001b[39m):\n\u001b[1;32m    143\u001b[0m     (x,) \u001b[38;5;241m=\u001b[39m x\n\u001b[1;32m    144\u001b[0m lp, _ \u001b[38;5;241m=\u001b[39m log_prob(\n\u001b[1;32m    145\u001b[0m     x, \u001b[38;5;28mself\u001b[39m\u001b[38;5;241m.\u001b[39mflows, \u001b[38;5;28mself\u001b[39m\u001b[38;5;241m.\u001b[39mbase_dist, \u001b[38;5;28mself\u001b[39m\u001b[38;5;241m.\u001b[39mbase_loc, \u001b[38;5;28mself\u001b[39m\u001b[38;5;241m.\u001b[39mbase_logscale\u001b[38;5;241m.\u001b[39mexp()\n\u001b[0;32m--> 146\u001b[0m )\n\u001b[1;32m    147\u001b[0m \u001b[38;5;28;01mreturn\u001b[39;00m lp\n",
      "File \u001b[0;32m~/projects/gw/src/models/normalizing_flow.py:140\u001b[0m, in \u001b[0;36mlog_prob\u001b[0;34m(self, x)\u001b[0m\n\u001b[1;32m    137\u001b[0m     \u001b[38;5;28;01melse\u001b[39;00m:\n\u001b[1;32m    138\u001b[0m         \u001b[38;5;28mself\u001b[39m\u001b[38;5;241m.\u001b[39mtrainable_flows \u001b[38;5;241m=\u001b[39m flows\n\u001b[0;32m--> 140\u001b[0m \u001b[38;5;28;01mdef\u001b[39;00m \u001b[38;5;21mlog_prob\u001b[39m(\u001b[38;5;28mself\u001b[39m, x):\n\u001b[1;32m    142\u001b[0m     \u001b[38;5;28;01mif\u001b[39;00m \u001b[38;5;28mtype\u001b[39m(x) \u001b[38;5;129;01min\u001b[39;00m (\u001b[38;5;28mlist\u001b[39m, \u001b[38;5;28mtuple\u001b[39m):\n\u001b[1;32m    143\u001b[0m         (x,) \u001b[38;5;241m=\u001b[39m x\n",
      "File \u001b[0;32m~/projects/gw/src/models/normalizing_flow.py:44\u001b[0m, in \u001b[0;36mlog_prob\u001b[0;34m(x, transforms, base_dist, base_loc, base_scale)\u001b[0m\n\u001b[1;32m     41\u001b[0m     J \u001b[38;5;241m=\u001b[39m J \u001b[38;5;241m+\u001b[39m J_\n\u001b[1;32m     42\u001b[0m     x \u001b[38;5;241m=\u001b[39m y\n\u001b[0;32m---> 44\u001b[0m log_prob \u001b[38;5;241m=\u001b[39m \u001b[43mbase_dist\u001b[49m\u001b[43m(\u001b[49m\u001b[43mbase_loc\u001b[49m\u001b[43m,\u001b[49m\u001b[43m \u001b[49m\u001b[43mbase_scale\u001b[49m\u001b[43m)\u001b[49m\u001b[38;5;241m.\u001b[39mlog_prob(x)\u001b[38;5;241m.\u001b[39msum(\u001b[38;5;241m-\u001b[39m\u001b[38;5;241m1\u001b[39m) \u001b[38;5;241m+\u001b[39m J\n\u001b[1;32m     45\u001b[0m \u001b[38;5;28;01mreturn\u001b[39;00m log_prob, y\n",
      "File \u001b[0;32m~/projects/gw/.venv/lib/python3.9/site-packages/pyro/distributions/distribution.py:18\u001b[0m, in \u001b[0;36mDistributionMeta.__call__\u001b[0;34m(cls, *args, **kwargs)\u001b[0m\n\u001b[1;32m     16\u001b[0m     \u001b[38;5;28;01mif\u001b[39;00m result \u001b[38;5;129;01mis\u001b[39;00m \u001b[38;5;129;01mnot\u001b[39;00m \u001b[38;5;28;01mNone\u001b[39;00m:\n\u001b[1;32m     17\u001b[0m         \u001b[38;5;28;01mreturn\u001b[39;00m result\n\u001b[0;32m---> 18\u001b[0m \u001b[38;5;28;01mreturn\u001b[39;00m \u001b[38;5;28;43msuper\u001b[39;49m\u001b[43m(\u001b[49m\u001b[43m)\u001b[49m\u001b[38;5;241;43m.\u001b[39;49m\u001b[38;5;21;43m__call__\u001b[39;49m\u001b[43m(\u001b[49m\u001b[38;5;241;43m*\u001b[39;49m\u001b[43margs\u001b[49m\u001b[43m,\u001b[49m\u001b[43m \u001b[49m\u001b[38;5;241;43m*\u001b[39;49m\u001b[38;5;241;43m*\u001b[39;49m\u001b[43mkwargs\u001b[49m\u001b[43m)\u001b[49m\n",
      "File \u001b[0;32m~/projects/gw/.venv/lib/python3.9/site-packages/torch/distributions/normal.py:54\u001b[0m, in \u001b[0;36mNormal.__init__\u001b[0;34m(self, loc, scale, validate_args)\u001b[0m\n\u001b[1;32m     52\u001b[0m \u001b[38;5;28;01melse\u001b[39;00m:\n\u001b[1;32m     53\u001b[0m     batch_shape \u001b[38;5;241m=\u001b[39m \u001b[38;5;28mself\u001b[39m\u001b[38;5;241m.\u001b[39mloc\u001b[38;5;241m.\u001b[39msize()\n\u001b[0;32m---> 54\u001b[0m \u001b[38;5;28;43msuper\u001b[39;49m\u001b[43m(\u001b[49m\u001b[43mNormal\u001b[49m\u001b[43m,\u001b[49m\u001b[43m \u001b[49m\u001b[38;5;28;43mself\u001b[39;49m\u001b[43m)\u001b[49m\u001b[38;5;241;43m.\u001b[39;49m\u001b[38;5;21;43m__init__\u001b[39;49m\u001b[43m(\u001b[49m\u001b[43mbatch_shape\u001b[49m\u001b[43m,\u001b[49m\u001b[43m \u001b[49m\u001b[43mvalidate_args\u001b[49m\u001b[38;5;241;43m=\u001b[39;49m\u001b[43mvalidate_args\u001b[49m\u001b[43m)\u001b[49m\n",
      "File \u001b[0;32m~/projects/gw/.venv/lib/python3.9/site-packages/torch/distributions/distribution.py:54\u001b[0m, in \u001b[0;36mDistribution.__init__\u001b[0;34m(self, batch_shape, event_shape, validate_args)\u001b[0m\n\u001b[1;32m     52\u001b[0m         value \u001b[38;5;241m=\u001b[39m \u001b[38;5;28mgetattr\u001b[39m(\u001b[38;5;28mself\u001b[39m, param)\n\u001b[1;32m     53\u001b[0m         valid \u001b[38;5;241m=\u001b[39m constraint\u001b[38;5;241m.\u001b[39mcheck(value)\n\u001b[0;32m---> 54\u001b[0m         \u001b[38;5;28;01mif\u001b[39;00m \u001b[38;5;129;01mnot\u001b[39;00m valid\u001b[38;5;241m.\u001b[39mall():\n\u001b[1;32m     55\u001b[0m             \u001b[38;5;28;01mraise\u001b[39;00m \u001b[38;5;167;01mValueError\u001b[39;00m(\n\u001b[1;32m     56\u001b[0m                 \u001b[38;5;124mf\u001b[39m\u001b[38;5;124m\"\u001b[39m\u001b[38;5;124mExpected parameter \u001b[39m\u001b[38;5;132;01m{\u001b[39;00mparam\u001b[38;5;132;01m}\u001b[39;00m\u001b[38;5;124m \u001b[39m\u001b[38;5;124m\"\u001b[39m\n\u001b[1;32m     57\u001b[0m                 \u001b[38;5;124mf\u001b[39m\u001b[38;5;124m\"\u001b[39m\u001b[38;5;124m(\u001b[39m\u001b[38;5;132;01m{\u001b[39;00m\u001b[38;5;28mtype\u001b[39m(value)\u001b[38;5;241m.\u001b[39m\u001b[38;5;18m__name__\u001b[39m\u001b[38;5;132;01m}\u001b[39;00m\u001b[38;5;124m of shape \u001b[39m\u001b[38;5;132;01m{\u001b[39;00m\u001b[38;5;28mtuple\u001b[39m(value\u001b[38;5;241m.\u001b[39mshape)\u001b[38;5;132;01m}\u001b[39;00m\u001b[38;5;124m) \u001b[39m\u001b[38;5;124m\"\u001b[39m\n\u001b[0;32m   (...)\u001b[0m\n\u001b[1;32m     60\u001b[0m                 \u001b[38;5;124mf\u001b[39m\u001b[38;5;124m\"\u001b[39m\u001b[38;5;124mbut found invalid values:\u001b[39m\u001b[38;5;130;01m\\n\u001b[39;00m\u001b[38;5;132;01m{\u001b[39;00mvalue\u001b[38;5;132;01m}\u001b[39;00m\u001b[38;5;124m\"\u001b[39m\n\u001b[1;32m     61\u001b[0m             )\n\u001b[1;32m     62\u001b[0m \u001b[38;5;28msuper\u001b[39m(Distribution, \u001b[38;5;28mself\u001b[39m)\u001b[38;5;241m.\u001b[39m\u001b[38;5;21m__init__\u001b[39m()\n",
      "\u001b[0;31mRuntimeError\u001b[0m: vmap: It looks like you're attempting to use a Tensor in some data-dependent control flow. We don't support that yet, please shout over at https://github.com/pytorch/functorch/issues/257 ."
     ]
    }
   ],
   "source": [
    "predictions1_vmap = ft.vmap(fmodel, in_dims=(0, 0, None))(params, buffers, X)\n"
   ]
  },
  {
   "cell_type": "code",
   "execution_count": null,
   "id": "92ec6d32",
   "metadata": {},
   "outputs": [],
   "source": []
  }
 ],
 "metadata": {
  "kernelspec": {
   "display_name": "Python 3 (ipykernel)",
   "language": "python",
   "name": "python3"
  },
  "language_info": {
   "codemirror_mode": {
    "name": "ipython",
    "version": 3
   },
   "file_extension": ".py",
   "mimetype": "text/x-python",
   "name": "python",
   "nbconvert_exporter": "python",
   "pygments_lexer": "ipython3",
   "version": "3.9.13"
  }
 },
 "nbformat": 4,
 "nbformat_minor": 5
}
