{
 "cells": [
  {
   "cell_type": "code",
   "execution_count": 1,
   "id": "9f613e05",
   "metadata": {},
   "outputs": [],
   "source": [
    "%load_ext autoreload\n",
    "%autoreload 2"
   ]
  },
  {
   "cell_type": "code",
   "execution_count": 2,
   "id": "faa32b5d",
   "metadata": {},
   "outputs": [],
   "source": [
    "import wandb\n",
    "import tempfile\n",
    "import os\n",
    "from models.normalizing_flow import HierarchicalNormalizingFlowSB\n",
    "import numpy as np\n",
    "import torch\n",
    "import matplotlib.pyplot as plt\n",
    "from torch import nn\n"
   ]
  },
  {
   "cell_type": "code",
   "execution_count": 3,
   "id": "c6fd31fd",
   "metadata": {},
   "outputs": [],
   "source": [
    "from train_flow_sb import unflatten, object_from_config"
   ]
  },
  {
   "cell_type": "code",
   "execution_count": 4,
   "id": "442ebcdb",
   "metadata": {},
   "outputs": [],
   "source": [
    "api = wandb.Api()"
   ]
  },
  {
   "cell_type": "code",
   "execution_count": 5,
   "id": "b5421c39",
   "metadata": {},
   "outputs": [],
   "source": [
    "run = api.run('druhe/gw-src/16pgb80c')"
   ]
  },
  {
   "cell_type": "code",
   "execution_count": 6,
   "id": "57cfc620",
   "metadata": {},
   "outputs": [],
   "source": [
    "config = unflatten(run.config)"
   ]
  },
  {
   "cell_type": "code",
   "execution_count": 7,
   "id": "b81b5eab",
   "metadata": {},
   "outputs": [],
   "source": [
    "dataset = object_from_config(config, key='dataset')(**config['dataset'])"
   ]
  },
  {
   "cell_type": "code",
   "execution_count": 8,
   "id": "44842d3a",
   "metadata": {},
   "outputs": [],
   "source": [
    "sb_weight = config['model']['sb_weight']"
   ]
  },
  {
   "cell_type": "code",
   "execution_count": 9,
   "id": "302b7395",
   "metadata": {},
   "outputs": [],
   "source": [
    "flows = object_from_config(config, key='flow')(**config['flow'])"
   ]
  },
  {
   "cell_type": "code",
   "execution_count": 10,
   "id": "292ddfda",
   "metadata": {},
   "outputs": [],
   "source": [
    "checkpoints = [f for f in run.files() if f.name.endswith('.ckpt')]"
   ]
  },
  {
   "cell_type": "code",
   "execution_count": 11,
   "id": "5334d261",
   "metadata": {},
   "outputs": [],
   "source": [
    "tempdir = tempfile.TemporaryDirectory()"
   ]
  },
  {
   "cell_type": "code",
   "execution_count": 12,
   "id": "475358c2",
   "metadata": {},
   "outputs": [],
   "source": [
    "ckpt = checkpoints[0]"
   ]
  },
  {
   "cell_type": "code",
   "execution_count": 13,
   "id": "2e70c7b5",
   "metadata": {},
   "outputs": [],
   "source": [
    "ckpt_path = ckpt.download(root=tempdir.name, replace=True)"
   ]
  },
  {
   "cell_type": "code",
   "execution_count": 14,
   "id": "d839593e",
   "metadata": {},
   "outputs": [
    {
     "name": "stderr",
     "output_type": "stream",
     "text": [
      "INFO:torch.distributed.nn.jit.instantiator:Created a temporary directory at /var/folders/d3/x840qlg17x1f92cnsrkq62fw0000gn/T/tmpl3iu7v9m\n",
      "INFO:torch.distributed.nn.jit.instantiator:Writing /var/folders/d3/x840qlg17x1f92cnsrkq62fw0000gn/T/tmpl3iu7v9m/_remote_module_non_sriptable.py\n"
     ]
    }
   ],
   "source": [
    "model = HierarchicalNormalizingFlowSB.load_from_checkpoint(ckpt_path.name, dataset=dataset, sb_weight=sb_weight, flows=flows)"
   ]
  },
  {
   "cell_type": "code",
   "execution_count": 15,
   "id": "1e1537b1",
   "metadata": {
    "scrolled": true
   },
   "outputs": [
    {
     "data": {
      "image/png": "[encoded data removed]",
      "text/plain": [
       "<Figure size 1152x1152 with 1 Axes>"
      ]
     },
     "metadata": {},
     "output_type": "display_data"
    }
   ],
   "source": [
    "with torch.no_grad():\n",
    "    axes_names = []\n",
    "    axes = []\n",
    "\n",
    "    for n, ax in dataset.grid.items():\n",
    "        axes_names.append(n)\n",
    "        axes.append(ax)\n",
    "\n",
    "    m1, m2, z = np.stack(np.meshgrid(*axes, indexing=\"xy\")).reshape(3, -1)\n",
    "\n",
    "    if dataset.has_normalization:\n",
    "        raise NotImplementedError\n",
    "        x, y = dataset.normalize_forward(x, y)\n",
    "\n",
    "    resolutions = [len(ax) for ax in axes]\n",
    "\n",
    "    input = np.stack([m1, m2, z], axis=-1)\n",
    "    input = torch.from_numpy(input).float()\n",
    "    prob = model.log_prob(input).exp().view(*resolutions)\n",
    "\n",
    "    pm1m2 = prob.sum(-1)\n",
    "\n",
    "    fig = plt.figure(figsize=(16, 16), facecolor=\"white\")\n",
    "    plt.imshow(\n",
    "        pm1m2,\n",
    "        cmap=\"jet\",\n",
    "        origin=\"lower\",\n",
    "        extent=(\n",
    "            axes[0][0],\n",
    "            axes[0][-1],\n",
    "            axes[1][0],\n",
    "            axes[1][-1],\n",
    "        ),  # origin='lower' changes the order\n",
    "        aspect=\"auto\",\n",
    "    )\n",
    "\n",
    "    plt.xlabel(axes_names[0])  # origin='lower' changes the order\n",
    "    plt.ylabel(axes_names[1])\n",
    "    plt.tight_layout()\n",
    "\n"
   ]
  },
  {
   "cell_type": "code",
   "execution_count": 16,
   "id": "a15510ba",
   "metadata": {},
   "outputs": [],
   "source": [
    "dataset.gw_train_batch_size = 1024\n",
    "dataset.sel_train_batch_size = 1024"
   ]
  },
  {
   "cell_type": "code",
   "execution_count": 17,
   "id": "ea0b3aef",
   "metadata": {},
   "outputs": [],
   "source": [
    "gw_loader, sel_loader  = dataset.train_dataloader()"
   ]
  },
  {
   "cell_type": "code",
   "execution_count": 18,
   "id": "4e1a9b27",
   "metadata": {},
   "outputs": [],
   "source": [
    "gw_batch = next(iter(gw_loader))\n",
    "\n",
    "sel_batch = next(iter(sel_loader))"
   ]
  },
  {
   "cell_type": "code",
   "execution_count": 19,
   "id": "233e7ceb",
   "metadata": {
    "scrolled": true
   },
   "outputs": [
    {
     "data": {
      "text/plain": [
       "tensor(4.9680, dtype=torch.float64, grad_fn=<NegBackward0>)"
      ]
     },
     "execution_count": 19,
     "metadata": {},
     "output_type": "execute_result"
    }
   ],
   "source": [
    "model.step((gw_batch, sel_batch), 0)"
   ]
  },
  {
   "cell_type": "code",
   "execution_count": 20,
   "id": "5139fafa",
   "metadata": {},
   "outputs": [],
   "source": [
    "import math"
   ]
  },
  {
   "cell_type": "code",
   "execution_count": 21,
   "id": "74678040",
   "metadata": {},
   "outputs": [],
   "source": [
    "\n",
    "import torch\n",
    "from torch.autograd.functional import hessian\n",
    "from torch.nn.utils import _stateless\n",
    "\n",
    "mod = torch.nn.Linear(2, 2)\n",
    "inp = torch.rand(1, 2)\n",
    "\n",
    "def flatten_params(parameters):\n",
    "    \"\"\"\n",
    "    flattens all parameters into a single column vector. Returns the dictionary to recover them\n",
    "    :param: parameters: a generator or list of all the parameters\n",
    "    :return: a dictionary: {\"params\": [#params, 1],\n",
    "    \"indices\": [(start index, end index) for each param] **Note end index in uninclusive**\n",
    "\n",
    "    \"\"\"\n",
    "    l = [torch.flatten(p) for p in parameters]\n",
    "    indices = []\n",
    "    s = 0\n",
    "    for p in l:\n",
    "        size = p.shape[0]\n",
    "        indices.append((s, s+size))\n",
    "        s += size\n",
    "    flat = torch.cat(l).view(-1, 1)\n",
    "    return flat, indices\n",
    "\n",
    "\n",
    "def unflatten_params(flat_params, indices, model):\n",
    "    \"\"\"\n",
    "    Gives a list of recovered parameters from their flattened form\n",
    "    :param flat_params: [#params, 1]\n",
    "    :param indices: a list detaling the start and end index of each param [(start, end) for param]\n",
    "    :param model: the model that gives the params with correct shapes\n",
    "    :return: the params, reshaped to the ones in the model, with the same order as those in the model\n",
    "    \"\"\"\n",
    "    l = [flat_params[s:e] for (s, e) in indices]\n",
    "    for i, p in enumerate(model.parameters()):\n",
    "        l[i] = l[i].view(*p.shape)\n",
    "    return tuple(nn.Parameter(p) for p in l)\n",
    "\n"
   ]
  },
  {
   "cell_type": "code",
   "execution_count": 309,
   "id": "7d6cc572",
   "metadata": {},
   "outputs": [],
   "source": [
    "names = list(n for n, _ in mod.named_parameters())\n",
    "\n",
    "def loss(*params):\n",
    "    out: torch.Tensor = _stateless.functional_call(mod, {n: p for n, p in zip(names, params)}, inp)\n",
    "    return out.square().sum()\n",
    "\n",
    "\n",
    "H = hessian(loss, tuple(p for n, p in mod.named_parameters() if 'weight' in n))\n"
   ]
  },
  {
   "cell_type": "code",
   "execution_count": 491,
   "id": "2317eca4",
   "metadata": {},
   "outputs": [],
   "source": [
    "names = list(n for n, _ in mod.named_parameters())\n",
    "\n",
    "def loss(*params):\n",
    "    params = list(params)\n",
    "    for i in range(len(params)):\n",
    "        if 'weight' in names[i]:\n",
    "            d = int(math.sqrt(len(params[i])))\n",
    "            params[i] = params[i].view(d, d)\n",
    "    out: torch.Tensor = _stateless.functional_call(mod, {n: p for n, p in zip(names, params)}, inp)\n",
    "    return out.square().sum()\n",
    "\n",
    "\n",
    "H = hessian(loss, tuple(p.flatten() for n, p in mod.named_parameters()))\n"
   ]
  },
  {
   "cell_type": "code",
   "execution_count": 492,
   "id": "d9bbe9e4",
   "metadata": {},
   "outputs": [],
   "source": [
    "hessian = torch.cat([torch.cat(H[r], dim=1) for r in range(len(H))])"
   ]
  },
  {
   "cell_type": "code",
   "execution_count": 746,
   "id": "08c86d10",
   "metadata": {
    "scrolled": false
   },
   "outputs": [],
   "source": [
    "from torch.autograd.functional import hessian, jacobian\n",
    "\n",
    "# inp = (gw_batch, sel_batch), 0\n",
    "\n",
    "\n",
    "def loss(*params):\n",
    "    params = list(params)\n",
    "    for i in range(len(params)):\n",
    "        if 'weight' in names[i]:\n",
    "            d = int(math.sqrt(len(params[i])))\n",
    "            params[i] = params[i].view(d, d)\n",
    "            \n",
    "    out: torch.Tensor = _stateless.functional_call(model, {n: p for n, p in zip(names, params)}, input)\n",
    "    return -out.mean()\n",
    "\n",
    "\n",
    "names = list(n for n, _ in model.named_parameters())\n",
    "H = hessian(loss, tuple(p.flatten() for n, p in model.named_parameters()))\n",
    "J = jacobian(loss, tuple(p.flatten() for n, p in model.named_parameters()))\n"
   ]
  },
  {
   "cell_type": "code",
   "execution_count": 747,
   "id": "71be24a5",
   "metadata": {},
   "outputs": [],
   "source": [
    "N = len(input)"
   ]
  },
  {
   "cell_type": "code",
   "execution_count": 748,
   "id": "cdb4a7a6",
   "metadata": {},
   "outputs": [],
   "source": [
    "H = torch.cat([torch.cat(H[r], dim=1) for r in range(len(H))]).double()"
   ]
  },
  {
   "cell_type": "code",
   "execution_count": 749,
   "id": "1fc683e4",
   "metadata": {},
   "outputs": [],
   "source": [
    "I = -H / N"
   ]
  },
  {
   "cell_type": "code",
   "execution_count": 750,
   "id": "05a6b2b1",
   "metadata": {},
   "outputs": [],
   "source": [
    "L, V = torch.linalg.eig(H)\n"
   ]
  },
  {
   "cell_type": "code",
   "execution_count": 751,
   "id": "c7a16ef7",
   "metadata": {},
   "outputs": [],
   "source": [
    "L.real = L.real.clamp(min=1e-8, max=0.00001)"
   ]
  },
  {
   "cell_type": "code",
   "execution_count": 752,
   "id": "58c11e1f",
   "metadata": {},
   "outputs": [],
   "source": [
    "Q = V @ torch.diag(L) @ torch.linalg.inv(V)"
   ]
  },
  {
   "cell_type": "code",
   "execution_count": 753,
   "id": "ff755257",
   "metadata": {},
   "outputs": [],
   "source": [
    "Q = Q.real"
   ]
  },
  {
   "cell_type": "code",
   "execution_count": 754,
   "id": "9bf95f64",
   "metadata": {},
   "outputs": [],
   "source": [
    "Q = (Q + Q.T) / 2"
   ]
  },
  {
   "cell_type": "code",
   "execution_count": 755,
   "id": "9d4bd544",
   "metadata": {},
   "outputs": [],
   "source": [
    "L = torch.cholesky(Q)"
   ]
  },
  {
   "cell_type": "code",
   "execution_count": 756,
   "id": "b401df8a",
   "metadata": {},
   "outputs": [
    {
     "data": {
      "text/plain": [
       "tensor(0.0031, dtype=torch.float64)"
      ]
     },
     "execution_count": 756,
     "metadata": {},
     "output_type": "execute_result"
    }
   ],
   "source": [
    "L.max()"
   ]
  },
  {
   "cell_type": "code",
   "execution_count": 757,
   "id": "fba35e56",
   "metadata": {},
   "outputs": [],
   "source": [
    "p, i = flatten_params(model.parameters())"
   ]
  },
  {
   "cell_type": "code",
   "execution_count": 758,
   "id": "806becb8",
   "metadata": {},
   "outputs": [],
   "source": [
    "mvn = torch.distributions.MultivariateNormal(p.squeeze(), scale_tril=L.float())"
   ]
  },
  {
   "cell_type": "code",
   "execution_count": 764,
   "id": "bb3c9ee1",
   "metadata": {
    "scrolled": true
   },
   "outputs": [],
   "source": [
    "p_ = mvn.sample()"
   ]
  },
  {
   "cell_type": "code",
   "execution_count": 765,
   "id": "b64ce9a5",
   "metadata": {},
   "outputs": [],
   "source": [
    "# p_ = p + torch.randn_like(p) * 1e-9"
   ]
  },
  {
   "cell_type": "code",
   "execution_count": 766,
   "id": "4c9e5a7d",
   "metadata": {},
   "outputs": [],
   "source": [
    "params_ = unflatten_params(p_, i, model)"
   ]
  },
  {
   "cell_type": "code",
   "execution_count": 767,
   "id": "a399a2f9",
   "metadata": {},
   "outputs": [],
   "source": [
    "def loss(*params):\n",
    "    params = list(params)\n",
    "    for i in range(len(params)):\n",
    "        if 'weight' in names[i]:\n",
    "            d = int(math.sqrt(len(params[i])))\n",
    "            params[i] = params[i].view(d, d)\n",
    "            \n",
    "    out: torch.Tensor = _stateless.functional_call(model, {n: p for n, p in zip(names, params)}, input)\n",
    "    return out\n"
   ]
  },
  {
   "cell_type": "code",
   "execution_count": 768,
   "id": "ff2b9d65",
   "metadata": {},
   "outputs": [
    {
     "data": {
      "image/png": "[encoded data removed]",
      "text/plain": [
       "<Figure size 432x288 with 1 Axes>"
      ]
     },
     "metadata": {
      "needs_background": "light"
     },
     "output_type": "display_data"
    }
   ],
   "source": [
    "with torch.no_grad():\n",
    "    prob = loss(*params_).exp().view(*resolutions)\n",
    "\n",
    "    pm1m2 = prob.sum(-1)\n",
    "\n",
    "    fig = plt.figure(figsize=(16, 16), facecolor=\"white\")\n",
    "    plt.imshow(\n",
    "        pm1m2,\n",
    "        cmap=\"jet\",\n",
    "        origin=\"lower\",\n",
    "        extent=(\n",
    "            axes[0][0],\n",
    "            axes[0][-1],\n",
    "            axes[1][0],\n",
    "            axes[1][-1],\n",
    "        ),  # origin='lower' changes the order\n",
    "        aspect=\"auto\",\n",
    "    )\n",
    "\n",
    "    plt.xlabel(axes_names[0])  # origin='lower' changes the order\n",
    "    plt.ylabel(axes_names[1])\n",
    "    plt.tight_layout()\n",
    "    plt.close()\n",
    "    plt.plot(pm1m2.sum(0))\n",
    "    plt.show()\n",
    "\n"
   ]
  },
  {
   "cell_type": "code",
   "execution_count": null,
   "id": "08ed7230",
   "metadata": {},
   "outputs": [],
   "source": []
  },
  {
   "cell_type": "code",
   "execution_count": null,
   "id": "743a4384",
   "metadata": {},
   "outputs": [],
   "source": []
  }
 ],
 "metadata": {
  "kernelspec": {
   "display_name": "Python 3 (ipykernel)",
   "language": "python",
   "name": "python3"
  },
  "language_info": {
   "codemirror_mode": {
    "name": "ipython",
    "version": 3
   },
   "file_extension": ".py",
   "mimetype": "text/x-python",
   "name": "python",
   "nbconvert_exporter": "python",
   "pygments_lexer": "ipython3",
   "version": "3.9.13"
  }
 },
 "nbformat": 4,
 "nbformat_minor": 5
}
